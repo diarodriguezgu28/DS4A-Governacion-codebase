{
 "cells": [
  {
   "cell_type": "markdown",
   "metadata": {},
   "source": [
    "<h1><center>EDA</center></h1>"
   ]
  },
  {
   "cell_type": "code",
   "execution_count": 5,
   "metadata": {},
   "outputs": [],
   "source": [
    "#Cargamos Librerias\n",
    "import pandas as pd\n",
    "#import missingno as msno\n",
    "#Revisaremos todas las tablas a fin de buscar similitudes entre ellas que permitan agruparlas\n",
    "#We will review all the tables in order to look for similarities between them that allow to group them"
   ]
  },
  {
   "cell_type": "markdown",
   "metadata": {},
   "source": [
    "<h2>1. Municipio Buenaventura</h2>\n",
    "<h3>1.1 Distribución de Valores Faltantes</h3>"
   ]
  },
  {
   "cell_type": "markdown",
   "metadata": {},
   "source": [
    "<h2>1. Municipality of Buenaventura</h2>\n",
    "<h3>1.1 Distribution of Missing Values</h3>"
   ]
  },
  {
   "cell_type": "code",
   "execution_count": 39,
   "metadata": {},
   "outputs": [],
   "source": [
    "#data set reading\n",
    "df_c_c_btura_A_M = pd.read_excel(r\"c.c. btura A M.xls\")\n",
    "#msno.matrix(df_c_c_btura_A_M)"
   ]
  },
  {
   "cell_type": "markdown",
   "metadata": {},
   "source": [
    "<h3>1.2 Eliminación de Datos NAN</h3>"
   ]
  },
  {
   "cell_type": "markdown",
   "metadata": {},
   "source": [
    "<h3>1.2 Removal of NAN Data</h3>"
   ]
  },
  {
   "cell_type": "code",
   "execution_count": null,
   "metadata": {},
   "outputs": [],
   "source": [
    "df_Buenaventura = df_c_c_btura_A_M.dropna(how=\"all\",axis=1)\n",
    "\n",
    "print(df_BuenaVentura.columns, len(df_Buenaventura.columns))\n"
   ]
  },
  {
   "cell_type": "markdown",
   "metadata": {},
   "source": [
    "<h3>1.3 DataFrame Columns</h3>"
   ]
  },
  {
   "cell_type": "code",
   "execution_count": null,
   "metadata": {},
   "outputs": [],
   "source": [
    "\n",
    "#Filter and rename common attributes between municipality tables\n",
    "df_Buenaventura = df_Buenaventura.\\\n",
    "    rename(columns={'ULT-ANO_REN': 'ULT-REN', 'DIR-COMERCIAL': 'DIRECCION',  'BARRIO-COMERCIAL': 'BARRIO'})"
   ]
  },
  {
   "cell_type": "code",
   "execution_count": 57,
   "metadata": {
    "scrolled": false
   },
   "outputs": [
    {
     "data": {
      "text/html": [
       "<div>\n",
       "<style scoped>\n",
       "    .dataframe tbody tr th:only-of-type {\n",
       "        vertical-align: middle;\n",
       "    }\n",
       "\n",
       "    .dataframe tbody tr th {\n",
       "        vertical-align: top;\n",
       "    }\n",
       "\n",
       "    .dataframe thead th {\n",
       "        text-align: right;\n",
       "    }\n",
       "</style>\n",
       "<table border=\"1\" class=\"dataframe\">\n",
       "  <thead>\n",
       "    <tr style=\"text-align: right;\">\n",
       "      <th></th>\n",
       "      <th>ULT-REN</th>\n",
       "      <th>MATRICULA</th>\n",
       "      <th>NIT</th>\n",
       "      <th>CIIU-1</th>\n",
       "      <th>DIRECCION</th>\n",
       "      <th>BARRIO</th>\n",
       "      <th>VLR-ESTABLEC.</th>\n",
       "    </tr>\n",
       "  </thead>\n",
       "  <tbody>\n",
       "    <tr>\n",
       "      <th>0</th>\n",
       "      <td>2019</td>\n",
       "      <td>S0000369</td>\n",
       "      <td>3b(tt1b&amp;(1</td>\n",
       "      <td>I5612 ** Expendio por autoservicio de comidas preparadas</td>\n",
       "      <td>CLL 6 NO. 66 B-26</td>\n",
       "      <td>00176 - BARRIO BOLIVAR</td>\n",
       "      <td>0</td>\n",
       "    </tr>\n",
       "    <tr>\n",
       "      <th>1</th>\n",
       "      <td>1985</td>\n",
       "      <td>9428</td>\n",
       "      <td></td>\n",
       "      <td>I5619 ** Otros tipos de expendio de comidas preparadas n.c.p.</td>\n",
       "      <td>CRA 19 # 3A-22</td>\n",
       "      <td>NaN</td>\n",
       "      <td>1500000</td>\n",
       "    </tr>\n",
       "    <tr>\n",
       "      <th>2</th>\n",
       "      <td>2015</td>\n",
       "      <td>9303</td>\n",
       "      <td>1:&amp;r#e3&amp;(</td>\n",
       "      <td>G4711 ** Comercio al por menor en establecimientos no especializados con surtido compuesto principalmente por alimentos  bebidas o tabaco</td>\n",
       "      <td>CR 56 A   4  43  BRR GRANCOLOMBIANA</td>\n",
       "      <td>00053 - CALLE LOS BALSOS</td>\n",
       "      <td>0</td>\n",
       "    </tr>\n",
       "    <tr>\n",
       "      <th>3</th>\n",
       "      <td>1985</td>\n",
       "      <td>9239</td>\n",
       "      <td>t</td>\n",
       "      <td>G4632 ** Comercio al por mayor de bebidas y tabaco</td>\n",
       "      <td>CARRET.S.B/VAR. K 12 VIA CALI</td>\n",
       "      <td>00174 - NO CODIFICADA</td>\n",
       "      <td>200000</td>\n",
       "    </tr>\n",
       "    <tr>\n",
       "      <th>4</th>\n",
       "      <td>1985</td>\n",
       "      <td>9237</td>\n",
       "      <td>t</td>\n",
       "      <td>G4632 ** Comercio al por mayor de bebidas y tabaco</td>\n",
       "      <td>CARRETERA SIM.BOLIVAR KM.12</td>\n",
       "      <td>00173 - BARRIO LA CAMPIÑA</td>\n",
       "      <td>260000</td>\n",
       "    </tr>\n",
       "  </tbody>\n",
       "</table>\n",
       "</div>"
      ],
      "text/plain": [
       "   ULT-REN MATRICULA         NIT  \\\n",
       "0     2019  S0000369  3b(tt1b&(1   \n",
       "1     1985      9428               \n",
       "2     2015      9303   1:&r#e3&(   \n",
       "3     1985      9239           t   \n",
       "4     1985      9237           t   \n",
       "\n",
       "                                                                                                                                      CIIU-1  \\\n",
       "0                                                                                   I5612 ** Expendio por autoservicio de comidas preparadas   \n",
       "1                                                                              I5619 ** Otros tipos de expendio de comidas preparadas n.c.p.   \n",
       "2  G4711 ** Comercio al por menor en establecimientos no especializados con surtido compuesto principalmente por alimentos  bebidas o tabaco   \n",
       "3                                                                                         G4632 ** Comercio al por mayor de bebidas y tabaco   \n",
       "4                                                                                         G4632 ** Comercio al por mayor de bebidas y tabaco   \n",
       "\n",
       "                             DIRECCION                     BARRIO  \\\n",
       "0                    CLL 6 NO. 66 B-26     00176 - BARRIO BOLIVAR   \n",
       "1                       CRA 19 # 3A-22                        NaN   \n",
       "2  CR 56 A   4  43  BRR GRANCOLOMBIANA   00053 - CALLE LOS BALSOS   \n",
       "3        CARRET.S.B/VAR. K 12 VIA CALI      00174 - NO CODIFICADA   \n",
       "4          CARRETERA SIM.BOLIVAR KM.12  00173 - BARRIO LA CAMPIÑA   \n",
       "\n",
       "   VLR-ESTABLEC.  \n",
       "0              0  \n",
       "1        1500000  \n",
       "2              0  \n",
       "3         200000  \n",
       "4         260000  "
      ]
     },
     "execution_count": 57,
     "metadata": {},
     "output_type": "execute_result"
    }
   ],
   "source": [
    "df_Buenaventura[['ULT-REN', 'MATRICULA', 'NIT', 'CIIU-1', 'DIRECCION', 'BARRIO', 'VLR-ESTABLEC.']].head()"
   ]
  },
  {
   "cell_type": "markdown",
   "metadata": {},
   "source": [
    "<h2>2. Municipio Cartago</h2>\n",
    "<h3>2.1 Distribución de Valores Faltantes</h3>"
   ]
  },
  {
   "cell_type": "markdown",
   "metadata": {},
   "source": [
    "<h2>2. Municipality of Cartago</h2>\n",
    "<h3>2.1 Distribution of Missing Values</h3>"
   ]
  },
  {
   "cell_type": "code",
   "execution_count": 45,
   "metadata": {},
   "outputs": [],
   "source": [
    "#data set reading\n",
    "df_CARTAGOAM = pd.read_excel(r\"CARTAGO A M.xlsx\")\n",
    "#msno.matrix(df_CARTAGOAM)"
   ]
  },
  {
   "cell_type": "markdown",
   "metadata": {},
   "source": [
    "<h3>2.2 Eminación de Datos NAN</h3>"
   ]
  },
  {
   "cell_type": "markdown",
   "metadata": {},
   "source": [
    "<h3>2.2 Removal of NAN Data</h3>"
   ]
  },
  {
   "cell_type": "code",
   "execution_count": 46,
   "metadata": {
    "scrolled": true
   },
   "outputs": [],
   "source": [
    "df_Cartago = df_CARTAGOAM.dropna(how=\"all\",axis=1)\n",
    "#msno.matrix(df_CARTAGO)\n"
   ]
  },
  {
   "cell_type": "markdown",
   "metadata": {},
   "source": [
    "<h3>2.3 Columnas del DataFrame</h3>"
   ]
  },
  {
   "cell_type": "markdown",
   "metadata": {},
   "source": [
    "<h3>2.3 DataFrame Columns</h3>"
   ]
  },
  {
   "cell_type": "code",
   "execution_count": null,
   "metadata": {},
   "outputs": [],
   "source": [
    "print(df_Cartago .columns)\n",
    "print(\"Columnas:\",len(df_Cartago .columns))\n",
    "df_Cartago .head()\n",
    "\n",
    "#Filter and rename common attributes between municipality tables\n",
    "df_Cartago [['ULT-ANO_REN', 'MATRICULA', 'NIT-PROP.', 'CIIU-1', 'DIR-COMERCIAL', 'BARRIO-COMERCIAL']].head()\n",
    "\n",
    "df_Cartago  = df_Cartago .\\\n",
    "    rename(columns={'ULT-ANO_REN': 'ULT-REN','NIT-PROP.':'NIT', 'DIR-COMERCIAL': 'DIRECCION',  'BARRIO-COMERCIAL': 'BARRIO'})\n",
    "\n",
    "df_Cartago['MUNICIPIO'] = 'Cartago'"
   ]
  },
  {
   "cell_type": "code",
   "execution_count": 56,
   "metadata": {},
   "outputs": [
    {
     "data": {
      "text/html": [
       "<div>\n",
       "<style scoped>\n",
       "    .dataframe tbody tr th:only-of-type {\n",
       "        vertical-align: middle;\n",
       "    }\n",
       "\n",
       "    .dataframe tbody tr th {\n",
       "        vertical-align: top;\n",
       "    }\n",
       "\n",
       "    .dataframe thead th {\n",
       "        text-align: right;\n",
       "    }\n",
       "</style>\n",
       "<table border=\"1\" class=\"dataframe\">\n",
       "  <thead>\n",
       "    <tr style=\"text-align: right;\">\n",
       "      <th></th>\n",
       "      <th>ULT-REN</th>\n",
       "      <th>MATRICULA</th>\n",
       "      <th>NIT</th>\n",
       "      <th>CIIU-1</th>\n",
       "      <th>DIRECCION</th>\n",
       "      <th>BARRIO</th>\n",
       "      <th>VLR-ESTABLEC.</th>\n",
       "    </tr>\n",
       "  </thead>\n",
       "  <tbody>\n",
       "    <tr>\n",
       "      <th>0</th>\n",
       "      <td>2020</td>\n",
       "      <td>99057</td>\n",
       "      <td>hhh#r3r(tt:</td>\n",
       "      <td>G4724 ** Comercio al por menor de bebidas y productos del tabaco  en establecimientos especializados</td>\n",
       "      <td>CR 2 NRO 39-20</td>\n",
       "      <td>00057 - BARRIO  EL JAZMIN\\t\\t\\t</td>\n",
       "      <td>4000000</td>\n",
       "    </tr>\n",
       "    <tr>\n",
       "      <th>1</th>\n",
       "      <td>2020</td>\n",
       "      <td>99003</td>\n",
       "      <td>:rtbt&amp;b:</td>\n",
       "      <td>I5630 ** Expendio de bebidas alcoholicas para el consumo dentro del establecimiento</td>\n",
       "      <td>CR 7 NRO 14-05</td>\n",
       "      <td>00048 - BARRIO  EL CARMEN\\t\\t\\t</td>\n",
       "      <td>4000000</td>\n",
       "    </tr>\n",
       "    <tr>\n",
       "      <th>2</th>\n",
       "      <td>2020</td>\n",
       "      <td>98999</td>\n",
       "      <td>e&amp;#:#(rhh</td>\n",
       "      <td>I5630 ** Expendio de bebidas alcoholicas para el consumo dentro del establecimiento</td>\n",
       "      <td>CORR LA MARIA</td>\n",
       "      <td>NaN</td>\n",
       "      <td>1000000</td>\n",
       "    </tr>\n",
       "    <tr>\n",
       "      <th>3</th>\n",
       "      <td>2020</td>\n",
       "      <td>98980</td>\n",
       "      <td>hhh#re#e(3(</td>\n",
       "      <td>I5630 ** Expendio de bebidas alcoholicas para el consumo dentro del establecimiento</td>\n",
       "      <td>CR 4 NRO 8-159</td>\n",
       "      <td>00026 - BARRIO  CAMELLON DEL QUINDIO\\t\\t</td>\n",
       "      <td>4000000</td>\n",
       "    </tr>\n",
       "    <tr>\n",
       "      <th>4</th>\n",
       "      <td>2020</td>\n",
       "      <td>98975</td>\n",
       "      <td>::r(#3bb(</td>\n",
       "      <td>I5630 ** Expendio de bebidas alcoholicas para el consumo dentro del establecimiento</td>\n",
       "      <td>CL 16 NRO 3-101</td>\n",
       "      <td>00003 - BARRIO  LAS LAJAS\\t\\t\\t</td>\n",
       "      <td>4000000</td>\n",
       "    </tr>\n",
       "  </tbody>\n",
       "</table>\n",
       "</div>"
      ],
      "text/plain": [
       "   ULT-REN  MATRICULA          NIT  \\\n",
       "0     2020      99057  hhh#r3r(tt:   \n",
       "1     2020      99003     :rtbt&b:   \n",
       "2     2020      98999    e&#:#(rhh   \n",
       "3     2020      98980  hhh#re#e(3(   \n",
       "4     2020      98975    ::r(#3bb(   \n",
       "\n",
       "                                                                                                 CIIU-1  \\\n",
       "0  G4724 ** Comercio al por menor de bebidas y productos del tabaco  en establecimientos especializados   \n",
       "1                   I5630 ** Expendio de bebidas alcoholicas para el consumo dentro del establecimiento   \n",
       "2                   I5630 ** Expendio de bebidas alcoholicas para el consumo dentro del establecimiento   \n",
       "3                   I5630 ** Expendio de bebidas alcoholicas para el consumo dentro del establecimiento   \n",
       "4                   I5630 ** Expendio de bebidas alcoholicas para el consumo dentro del establecimiento   \n",
       "\n",
       "         DIRECCION                                    BARRIO  VLR-ESTABLEC.  \n",
       "0   CR 2 NRO 39-20           00057 - BARRIO  EL JAZMIN\\t\\t\\t        4000000  \n",
       "1   CR 7 NRO 14-05           00048 - BARRIO  EL CARMEN\\t\\t\\t        4000000  \n",
       "2    CORR LA MARIA                                       NaN        1000000  \n",
       "3   CR 4 NRO 8-159  00026 - BARRIO  CAMELLON DEL QUINDIO\\t\\t        4000000  \n",
       "4  CL 16 NRO 3-101           00003 - BARRIO  LAS LAJAS\\t\\t\\t        4000000  "
      ]
     },
     "execution_count": 56,
     "metadata": {},
     "output_type": "execute_result"
    }
   ],
   "source": [
    "df_Cartago[['ULT-REN', 'MATRICULA', 'NIT', 'CIIU-1', 'DIRECCION', 'BARRIO', 'VLR-ESTABLEC.']].head()"
   ]
  },
  {
   "cell_type": "markdown",
   "metadata": {},
   "source": [
    "<h2>3. Municipio Buga</h2>\n",
    "<h3>3.1 Distribución de Valores Faltantes</h3>"
   ]
  },
  {
   "cell_type": "markdown",
   "metadata": {},
   "source": [
    "<h2>3. Municipality of Buga</h2>\n",
    "<h3>3.1 Distribution of Missing Values</h3>"
   ]
  },
  {
   "cell_type": "code",
   "execution_count": 52,
   "metadata": {},
   "outputs": [],
   "source": [
    "#data set reading\n",
    "df_CCBUGAAM = pd.read_excel(r\"CC BUGA A M.xlsx\")\n",
    "#msno.matrix(df_CCBUGAAM)"
   ]
  },
  {
   "cell_type": "markdown",
   "metadata": {},
   "source": [
    "<h3>3.2 Eminación de Datos NAN</h3>"
   ]
  },
  {
   "cell_type": "markdown",
   "metadata": {},
   "source": [
    "<h3>3.2 Removal of NAN Data</h3>"
   ]
  },
  {
   "cell_type": "code",
   "execution_count": 53,
   "metadata": {},
   "outputs": [],
   "source": [
    "df_Buga = df_CCBUGAAM.dropna(how=\"all\",axis=1)\n",
    "#msno.matrix(df_BUGA)"
   ]
  },
  {
   "cell_type": "markdown",
   "metadata": {},
   "source": [
    "<h3>3.3 DataFrame Columns</h3>"
   ]
  },
  {
   "cell_type": "code",
   "execution_count": null,
   "metadata": {},
   "outputs": [],
   "source": [
    "print(df_Buga.columns)\n",
    "print(\"Columnas:\",len(df_Buga.columns))\n",
    "#df_BUGA.head()\n",
    "\n",
    "#Filter and rename common attributes between municipality tables\n",
    "df_Buga[['ULT-ANO_REN', 'MATRICULA', 'NIT', 'CIIU-1', 'DIR-COMERCIAL']].head()\n",
    "\n",
    "df_Buga  = df_Buga .\\\n",
    "    rename(columns={'ULT-ANO_REN': 'ULT-REN','NIT-PROP.':'NIT', 'DIR-COMERCIAL': 'DIRECCION'})\n",
    "df_Buga['MUNICIPIO'] = 'Buga'"
   ]
  },
  {
   "cell_type": "code",
   "execution_count": 58,
   "metadata": {},
   "outputs": [
    {
     "data": {
      "text/html": [
       "<div>\n",
       "<style scoped>\n",
       "    .dataframe tbody tr th:only-of-type {\n",
       "        vertical-align: middle;\n",
       "    }\n",
       "\n",
       "    .dataframe tbody tr th {\n",
       "        vertical-align: top;\n",
       "    }\n",
       "\n",
       "    .dataframe thead th {\n",
       "        text-align: right;\n",
       "    }\n",
       "</style>\n",
       "<table border=\"1\" class=\"dataframe\">\n",
       "  <thead>\n",
       "    <tr style=\"text-align: right;\">\n",
       "      <th></th>\n",
       "      <th>ULT-REN</th>\n",
       "      <th>MATRICULA</th>\n",
       "      <th>NIT</th>\n",
       "      <th>CIIU-1</th>\n",
       "      <th>DIRECCION</th>\n",
       "      <th>ACTIVO-TOTAL</th>\n",
       "      <th>PATRIMONIO</th>\n",
       "    </tr>\n",
       "  </thead>\n",
       "  <tbody>\n",
       "    <tr>\n",
       "      <th>0</th>\n",
       "      <td>2019</td>\n",
       "      <td>11691</td>\n",
       "      <td>#e&amp;bhe(#h</td>\n",
       "      <td>G4724 ** Comercio al por menor de bebidas y productos del tabaco  en establecimientos especializados</td>\n",
       "      <td>CL. 11  NRO  6  -  60</td>\n",
       "      <td>6600000</td>\n",
       "      <td>6600000</td>\n",
       "    </tr>\n",
       "    <tr>\n",
       "      <th>1</th>\n",
       "      <td>2019</td>\n",
       "      <td>12325</td>\n",
       "      <td>h&amp;33eb(:b</td>\n",
       "      <td>I5630 ** Expendio de bebidas alcoholicas para el consumo dentro del establecimiento</td>\n",
       "      <td>CL.13A  NRO.9-30</td>\n",
       "      <td>1350000</td>\n",
       "      <td>1350000</td>\n",
       "    </tr>\n",
       "    <tr>\n",
       "      <th>2</th>\n",
       "      <td>2020</td>\n",
       "      <td>12457</td>\n",
       "      <td>#e#rr:&amp;#b</td>\n",
       "      <td>G4719 ** Comercio al por menor en establecimientos no especializados  con surtido compuesto principalmente por productos diferentes de alimentos (viveres en general)  bebidas y tabaco</td>\n",
       "      <td>CRA   10        22A      31</td>\n",
       "      <td>1600000</td>\n",
       "      <td>1600000</td>\n",
       "    </tr>\n",
       "    <tr>\n",
       "      <th>3</th>\n",
       "      <td>2019</td>\n",
       "      <td>12652</td>\n",
       "      <td>b33(3t#:#</td>\n",
       "      <td>I5630 ** Expendio de bebidas alcoholicas para el consumo dentro del establecimiento</td>\n",
       "      <td>CRA 11 NRO 7  52</td>\n",
       "      <td>1250000</td>\n",
       "      <td>1250000</td>\n",
       "    </tr>\n",
       "    <tr>\n",
       "      <th>4</th>\n",
       "      <td>2020</td>\n",
       "      <td>12675</td>\n",
       "      <td>h&amp;3r(&amp;trh</td>\n",
       "      <td>I5630 ** Expendio de bebidas alcoholicas para el consumo dentro del establecimiento</td>\n",
       "      <td>CRA.   16 NRO.  15    119</td>\n",
       "      <td>1500000</td>\n",
       "      <td>1500000</td>\n",
       "    </tr>\n",
       "  </tbody>\n",
       "</table>\n",
       "</div>"
      ],
      "text/plain": [
       "   ULT-REN  MATRICULA        NIT  \\\n",
       "0     2019      11691  #e&bhe(#h   \n",
       "1     2019      12325  h&33eb(:b   \n",
       "2     2020      12457  #e#rr:&#b   \n",
       "3     2019      12652  b33(3t#:#   \n",
       "4     2020      12675  h&3r(&trh   \n",
       "\n",
       "                                                                                                                                                                                    CIIU-1  \\\n",
       "0                                                                                     G4724 ** Comercio al por menor de bebidas y productos del tabaco  en establecimientos especializados   \n",
       "1                                                                                                      I5630 ** Expendio de bebidas alcoholicas para el consumo dentro del establecimiento   \n",
       "2  G4719 ** Comercio al por menor en establecimientos no especializados  con surtido compuesto principalmente por productos diferentes de alimentos (viveres en general)  bebidas y tabaco   \n",
       "3                                                                                                      I5630 ** Expendio de bebidas alcoholicas para el consumo dentro del establecimiento   \n",
       "4                                                                                                      I5630 ** Expendio de bebidas alcoholicas para el consumo dentro del establecimiento   \n",
       "\n",
       "                     DIRECCION  ACTIVO-TOTAL  PATRIMONIO  \n",
       "0        CL. 11  NRO  6  -  60       6600000     6600000  \n",
       "1             CL.13A  NRO.9-30       1350000     1350000  \n",
       "2  CRA   10        22A      31       1600000     1600000  \n",
       "3             CRA 11 NRO 7  52       1250000     1250000  \n",
       "4    CRA.   16 NRO.  15    119       1500000     1500000  "
      ]
     },
     "execution_count": 58,
     "metadata": {},
     "output_type": "execute_result"
    }
   ],
   "source": [
    "df_Buga[['ULT-REN', 'MATRICULA', 'NIT', 'CIIU-1', 'DIRECCION', 'ACTIVO-TOTAL', 'PATRIMONIO']].head()"
   ]
  },
  {
   "cell_type": "markdown",
   "metadata": {},
   "source": [
    "<h2>4 Municipio Cali</h2>\n",
    "<h3>41 Distribución de Valores Faltantes</h3>"
   ]
  },
  {
   "cell_type": "markdown",
   "metadata": {},
   "source": [
    "<h2>4. Municipality of Cali</h2>\n",
    "<h3>4.1 Distribution of Missing Values</h3>"
   ]
  },
  {
   "cell_type": "code",
   "execution_count": 60,
   "metadata": {
    "scrolled": true
   },
   "outputs": [],
   "source": [
    "#data set reading\n",
    "df_ccCaliAM = pd.read_excel(r\"cc Cali AM.xlsx\")\n",
    "#msno.matrix(df_ccCaliAM)"
   ]
  },
  {
   "cell_type": "markdown",
   "metadata": {},
   "source": [
    "<h3>4.2 Eminación de Datos NAN</h3>"
   ]
  },
  {
   "cell_type": "markdown",
   "metadata": {},
   "source": [
    "<h3>4.2 Removal of NAN Data</h3>"
   ]
  },
  {
   "cell_type": "code",
   "execution_count": 61,
   "metadata": {
    "scrolled": true
   },
   "outputs": [],
   "source": [
    "df_Cali = df_ccCaliAM.dropna(how=\"all\",axis=1)\n",
    "#msno.matrix(df_Cali)"
   ]
  },
  {
   "cell_type": "markdown",
   "metadata": {},
   "source": [
    "<h3>4.3 DataFrame Columns</h3>"
   ]
  },
  {
   "cell_type": "code",
   "execution_count": 62,
   "metadata": {},
   "outputs": [
    {
     "name": "stdout",
     "output_type": "stream",
     "text": [
      "Index(['COD_CAMARA', 'NUM_CONSECUTIVO', 'NUM_INSCRITO', 'CODIGO_CIIU',\n",
      "       'SECUENCIA', 'DESC_CIIU', 'SECTOR', 'DESC_SECTOR', 'TIPO_REGISTRO',\n",
      "       'COD_TIPO_REGISTRO', 'CATEGORIA', 'NATURALEZA', 'COD_ESTADO', 'ESTADO',\n",
      "       'FECHA_REN_2016', 'FECHA_REN_2017', 'FECHA_REN_2018', 'FECHA_REN_2019',\n",
      "       'FECHA_REN_2020', 'NUM_ID', 'DIRECCION_COMERCIAL', 'BARRIO', 'CIUDAD',\n",
      "       'DEPARTAMENTO', 'DIRECCION_JURIDICO', 'ANO INFO FIN', 'FECHA_REGISTRO',\n",
      "       'GRUPONIIF', 'ACTIVO_CORRIENTE', 'ACTIVO_NO_CORRIENTE', 'ACTIVOS_FIJOS',\n",
      "       'ACTIVOS_FIJOS_NETOS', 'OTROS_ACTIVOS', 'VALORIZACIONES', 'TOT_ACTIVOS',\n",
      "       'PASIVO_CORRIENTE', 'PASIVO_LARGO_PLAZO', 'TOT_PASIVO', 'PATRIMONIO',\n",
      "       'TOT_PASIVO_PATRIMONIO', 'INGRESOS_OPERACIONALES', 'COSTO_VENTA',\n",
      "       'UTILILIDAD_BRUTA', 'GTOS_OPERERACION', 'GTOS_OPER_ADMIN',\n",
      "       'DEPRECNS_AMORTIZACIONES', 'UTILILIDAD_PERDIDA',\n",
      "       'INGRESOS_NO_OPERACIONALES', 'GASTOS_IMPUESTOS', 'PERSONAL_OCUPADO',\n",
      "       'PORCENT_EXTRANJERO', 'PORCENT_NAL', 'PORCENT_PAR_MUJERKT',\n",
      "       'PORCENT_PRIVEXT', 'PORCENT_PRIVNAL', 'PORCENT_PUBEXT',\n",
      "       'PORCENT_PUBNAL', 'NUMMUJERES', 'NUMTOTALMUJER_CD', 'NUMTOTALMUJERES',\n",
      "       'ESTBLCOMERCIALES', 'IND_ENVMSJCEL', 'IND_ENVMSJEMAIL',\n",
      "       'IND_BENEFICIO1780', 'IND_BENEFICIO1780MAT', 'IND_RENUNCIABEN1780',\n",
      "       'ESTADO_AFILIADO', 'FECHA_AFILIACION', 'FECHA_FIN_AFILIACION',\n",
      "       'VAL_ULT_CUOTA'],\n",
      "      dtype='object')\n",
      "Columnas: 70\n"
     ]
    }
   ],
   "source": [
    "#Filter and rename common attributes between municipality tables\n",
    "\n",
    "print(df_Cali.columns)\n",
    "print(\"Columnas:\",len(df_Cali.columns))\n",
    "\n",
    "df_Cali = df_Cali.rename(columns={'NUM_ID': 'NIT', 'CODIGO_CIIU': 'CIIU-1', 'DIRECCION_COMERCIAL': 'DIRECCION'})"
   ]
  },
  {
   "cell_type": "code",
   "execution_count": 65,
   "metadata": {},
   "outputs": [
    {
     "data": {
      "text/html": [
       "<div>\n",
       "<style scoped>\n",
       "    .dataframe tbody tr th:only-of-type {\n",
       "        vertical-align: middle;\n",
       "    }\n",
       "\n",
       "    .dataframe tbody tr th {\n",
       "        vertical-align: top;\n",
       "    }\n",
       "\n",
       "    .dataframe thead th {\n",
       "        text-align: right;\n",
       "    }\n",
       "</style>\n",
       "<table border=\"1\" class=\"dataframe\">\n",
       "  <thead>\n",
       "    <tr style=\"text-align: right;\">\n",
       "      <th></th>\n",
       "      <th>NIT</th>\n",
       "      <th>CIIU-1</th>\n",
       "      <th>DIRECCION</th>\n",
       "      <th>BARRIO</th>\n",
       "      <th>TOT_ACTIVOS</th>\n",
       "      <th>PATRIMONIO</th>\n",
       "      <th>VAL_ULT_CUOTA</th>\n",
       "    </tr>\n",
       "  </thead>\n",
       "  <tbody>\n",
       "    <tr>\n",
       "      <th>0</th>\n",
       "      <td>3etbt:&amp;3h</td>\n",
       "      <td>4731</td>\n",
       "      <td>CL. 10      No.  52      50</td>\n",
       "      <td>Camino Real Los Fundadores</td>\n",
       "      <td>2.924567e+09</td>\n",
       "      <td>2.588190e+09</td>\n",
       "      <td>135000.0</td>\n",
       "    </tr>\n",
       "    <tr>\n",
       "      <th>1</th>\n",
       "      <td>3etbt#e33</td>\n",
       "      <td>4731</td>\n",
       "      <td>CL 30 NORTE # 2 B  - 42 LC 656 Y 657</td>\n",
       "      <td>Prados Del Norte (N Sn Vic.)</td>\n",
       "      <td>1.471171e+10</td>\n",
       "      <td>9.967156e+09</td>\n",
       "      <td>324000.0</td>\n",
       "    </tr>\n",
       "    <tr>\n",
       "      <th>2</th>\n",
       "      <td>3etbt#e33</td>\n",
       "      <td>4530</td>\n",
       "      <td>CL 30 NORTE # 2 B  - 42 LC 656 Y 657</td>\n",
       "      <td>Prados Del Norte (N Sn Vic.)</td>\n",
       "      <td>1.471171e+10</td>\n",
       "      <td>9.967156e+09</td>\n",
       "      <td>324000.0</td>\n",
       "    </tr>\n",
       "    <tr>\n",
       "      <th>3</th>\n",
       "      <td>3etbt#e33</td>\n",
       "      <td>7120</td>\n",
       "      <td>CL 30 NORTE # 2 B  - 42 LC 656 Y 657</td>\n",
       "      <td>Prados Del Norte (N Sn Vic.)</td>\n",
       "      <td>1.471171e+10</td>\n",
       "      <td>9.967156e+09</td>\n",
       "      <td>324000.0</td>\n",
       "    </tr>\n",
       "    <tr>\n",
       "      <th>4</th>\n",
       "      <td>3etbt#e33</td>\n",
       "      <td>4520</td>\n",
       "      <td>CL 30 NORTE # 2 B  - 42 LC 656 Y 657</td>\n",
       "      <td>Prados Del Norte (N Sn Vic.)</td>\n",
       "      <td>1.471171e+10</td>\n",
       "      <td>9.967156e+09</td>\n",
       "      <td>324000.0</td>\n",
       "    </tr>\n",
       "    <tr>\n",
       "      <th>5</th>\n",
       "      <td>3etbt&amp;(b:</td>\n",
       "      <td>4520</td>\n",
       "      <td>C 44         1D      51</td>\n",
       "      <td>Manzanares</td>\n",
       "      <td>1.106866e+08</td>\n",
       "      <td>7.405000e+07</td>\n",
       "      <td>135000.0</td>\n",
       "    </tr>\n",
       "    <tr>\n",
       "      <th>6</th>\n",
       "      <td>3etbt&amp;(b:</td>\n",
       "      <td>4530</td>\n",
       "      <td>C 44         1D      51</td>\n",
       "      <td>Manzanares</td>\n",
       "      <td>1.106866e+08</td>\n",
       "      <td>7.405000e+07</td>\n",
       "      <td>135000.0</td>\n",
       "    </tr>\n",
       "    <tr>\n",
       "      <th>7</th>\n",
       "      <td>3etbt&amp;(b:</td>\n",
       "      <td>4731</td>\n",
       "      <td>C 44         1D      51</td>\n",
       "      <td>Manzanares</td>\n",
       "      <td>1.106866e+08</td>\n",
       "      <td>7.405000e+07</td>\n",
       "      <td>135000.0</td>\n",
       "    </tr>\n",
       "    <tr>\n",
       "      <th>8</th>\n",
       "      <td>3etbt&amp;hbt</td>\n",
       "      <td>1011</td>\n",
       "      <td>KR 40 # 12 A  - 13</td>\n",
       "      <td>NaN</td>\n",
       "      <td>2.170520e+12</td>\n",
       "      <td>9.052439e+11</td>\n",
       "      <td>NaN</td>\n",
       "    </tr>\n",
       "    <tr>\n",
       "      <th>9</th>\n",
       "      <td>3etbt&amp;hbt</td>\n",
       "      <td>4631</td>\n",
       "      <td>KR 40 # 12 A  - 13</td>\n",
       "      <td>NaN</td>\n",
       "      <td>2.170520e+12</td>\n",
       "      <td>9.052439e+11</td>\n",
       "      <td>NaN</td>\n",
       "    </tr>\n",
       "  </tbody>\n",
       "</table>\n",
       "</div>"
      ],
      "text/plain": [
       "         NIT  CIIU-1                             DIRECCION  \\\n",
       "0  3etbt:&3h    4731           CL. 10      No.  52      50   \n",
       "1  3etbt#e33    4731  CL 30 NORTE # 2 B  - 42 LC 656 Y 657   \n",
       "2  3etbt#e33    4530  CL 30 NORTE # 2 B  - 42 LC 656 Y 657   \n",
       "3  3etbt#e33    7120  CL 30 NORTE # 2 B  - 42 LC 656 Y 657   \n",
       "4  3etbt#e33    4520  CL 30 NORTE # 2 B  - 42 LC 656 Y 657   \n",
       "5  3etbt&(b:    4520               C 44         1D      51   \n",
       "6  3etbt&(b:    4530               C 44         1D      51   \n",
       "7  3etbt&(b:    4731               C 44         1D      51   \n",
       "8  3etbt&hbt    1011                    KR 40 # 12 A  - 13   \n",
       "9  3etbt&hbt    4631                    KR 40 # 12 A  - 13   \n",
       "\n",
       "                         BARRIO   TOT_ACTIVOS    PATRIMONIO  VAL_ULT_CUOTA  \n",
       "0    Camino Real Los Fundadores  2.924567e+09  2.588190e+09       135000.0  \n",
       "1  Prados Del Norte (N Sn Vic.)  1.471171e+10  9.967156e+09       324000.0  \n",
       "2  Prados Del Norte (N Sn Vic.)  1.471171e+10  9.967156e+09       324000.0  \n",
       "3  Prados Del Norte (N Sn Vic.)  1.471171e+10  9.967156e+09       324000.0  \n",
       "4  Prados Del Norte (N Sn Vic.)  1.471171e+10  9.967156e+09       324000.0  \n",
       "5                    Manzanares  1.106866e+08  7.405000e+07       135000.0  \n",
       "6                    Manzanares  1.106866e+08  7.405000e+07       135000.0  \n",
       "7                    Manzanares  1.106866e+08  7.405000e+07       135000.0  \n",
       "8                           NaN  2.170520e+12  9.052439e+11            NaN  \n",
       "9                           NaN  2.170520e+12  9.052439e+11            NaN  "
      ]
     },
     "execution_count": 65,
     "metadata": {},
     "output_type": "execute_result"
    }
   ],
   "source": [
    "df_Cali[['NIT', 'CIIU-1', 'DIRECCION', 'BARRIO', 'TOT_ACTIVOS', 'PATRIMONIO', 'VAL_ULT_CUOTA']].head(10)"
   ]
  },
  {
   "cell_type": "markdown",
   "metadata": {},
   "source": [
    "<h2>5. Municipio Cartago PYG</h2>\n",
    "<h3>5.1 Distribución de Valores Faltantes</h3>"
   ]
  },
  {
   "cell_type": "markdown",
   "metadata": {},
   "source": [
    "<h2>5. Municipality of Cartago PYG</h2>\n",
    "<h3>5.1 Distribution of Missing Values</h3>"
   ]
  },
  {
   "cell_type": "code",
   "execution_count": 66,
   "metadata": {},
   "outputs": [],
   "source": [
    "#data set reading\n",
    "df_CCCARTAGOCONPYGAM = pd.read_excel(r\"CC CARTAGO CON PYG A M.xlsx\")\n",
    "#msno.matrix(df_CCCARTAGOCONPYGAM)"
   ]
  },
  {
   "cell_type": "markdown",
   "metadata": {},
   "source": [
    "<h3>5.2 Eminación de Datos NAN</h3>"
   ]
  },
  {
   "cell_type": "markdown",
   "metadata": {},
   "source": [
    "<h3>5.2 Removal of NAN Data</h3>"
   ]
  },
  {
   "cell_type": "code",
   "execution_count": 67,
   "metadata": {},
   "outputs": [],
   "source": [
    "df_Cartago_pyg = df_CCCARTAGOCONPYGAM.dropna(how=\"all\",axis=1)\n",
    "#msno.matrix(df_CARTAGOCONPYG)"
   ]
  },
  {
   "cell_type": "markdown",
   "metadata": {},
   "source": [
    "<h3>5.3 DataFrame Columns</h3>"
   ]
  },
  {
   "cell_type": "code",
   "execution_count": 70,
   "metadata": {},
   "outputs": [
    {
     "name": "stdout",
     "output_type": "stream",
     "text": [
      "Index(['MATRICULA', 'EST-MATRICULA', 'CLASE-ID', 'IDENTIFICACION', 'NIT',\n",
      "       'FEC-MATRICULA', 'FEC-RENOVACION', 'ULT-ANO_REN', 'DIR-COMERCIAL',\n",
      "       'BARRIO-COMERCIAL', 'MUN-COMERCIAL', 'DIR-NOTIFICACION',\n",
      "       'MUN-NOTIFICACION', 'CIIU-1', 'CIIU-2', 'CIIU-3', 'CIIU-4', 'ACTIVIDAD',\n",
      "       'PERSONAL', 'ACTIVO-TOTAL', 'ING-OPERACIONES', 'ING-NO-OPERACIONALES',\n",
      "       'GAS-OPERACIONALES', 'GAS-NO-OPERAC.', 'COS-VEN.', 'GAS-IMP.',\n",
      "       'UTIL-OPERACIONAL', 'UTIL-NETA', 'AUT-ENV'],\n",
      "      dtype='object') 29\n"
     ]
    }
   ],
   "source": [
    "#Filter and rename common attributes between municipality tables\n",
    "print(df_Cartago_pyg .columns, len(df_Cartago_pyg .columns))\n",
    "df_Cartago_pyg .head()\n",
    "df_Cartago_pyg = df_Cartago_pyg.\\\n",
    "    rename(columns={'ULT-ANO_REN': 'ULT-REN', 'DIR-COMERCIAL': 'DIRECCION',  'BARRIO-COMERCIAL': 'BARRIO'})"
   ]
  },
  {
   "cell_type": "code",
   "execution_count": 71,
   "metadata": {},
   "outputs": [
    {
     "data": {
      "text/html": [
       "<div>\n",
       "<style scoped>\n",
       "    .dataframe tbody tr th:only-of-type {\n",
       "        vertical-align: middle;\n",
       "    }\n",
       "\n",
       "    .dataframe tbody tr th {\n",
       "        vertical-align: top;\n",
       "    }\n",
       "\n",
       "    .dataframe thead th {\n",
       "        text-align: right;\n",
       "    }\n",
       "</style>\n",
       "<table border=\"1\" class=\"dataframe\">\n",
       "  <thead>\n",
       "    <tr style=\"text-align: right;\">\n",
       "      <th></th>\n",
       "      <th>ULT-REN</th>\n",
       "      <th>MATRICULA</th>\n",
       "      <th>CIIU-1</th>\n",
       "      <th>DIRECCION</th>\n",
       "      <th>BARRIO</th>\n",
       "    </tr>\n",
       "  </thead>\n",
       "  <tbody>\n",
       "    <tr>\n",
       "      <th>0</th>\n",
       "      <td>2020</td>\n",
       "      <td>99696</td>\n",
       "      <td>H5310 ** Actividades postales nacionales</td>\n",
       "      <td>CR 4 NRO 12-04</td>\n",
       "      <td>00050 - BARRIO  EL CENTRO\\t\\t\\t</td>\n",
       "    </tr>\n",
       "    <tr>\n",
       "      <th>1</th>\n",
       "      <td>2020</td>\n",
       "      <td>99350</td>\n",
       "      <td>G4731 ** Comercio al por menor de combustible para automotores</td>\n",
       "      <td>CR 4  NRO 2 E - 129</td>\n",
       "      <td>00099 - URBANIZACION  LA ESPERANZA\\t\\t</td>\n",
       "    </tr>\n",
       "    <tr>\n",
       "      <th>2</th>\n",
       "      <td>2020</td>\n",
       "      <td>98986</td>\n",
       "      <td>I5530 ** Servicio por horas</td>\n",
       "      <td>CR 2 NRO 7-50</td>\n",
       "      <td>NaN</td>\n",
       "    </tr>\n",
       "    <tr>\n",
       "      <th>3</th>\n",
       "      <td>2020</td>\n",
       "      <td>98937</td>\n",
       "      <td>R9200 ** Actividades de juegos de azar y apuestas</td>\n",
       "      <td>CR 3 NRO 9A-19</td>\n",
       "      <td>NaN</td>\n",
       "    </tr>\n",
       "    <tr>\n",
       "      <th>4</th>\n",
       "      <td>2020</td>\n",
       "      <td>98900</td>\n",
       "      <td>I5630 ** Expendio de bebidas alcoholicas para el consumo dentro del establecimiento</td>\n",
       "      <td>CR 3 NRO. 4-02 CRR MIRAVALLES</td>\n",
       "      <td>NaN</td>\n",
       "    </tr>\n",
       "  </tbody>\n",
       "</table>\n",
       "</div>"
      ],
      "text/plain": [
       "   ULT-REN  MATRICULA  \\\n",
       "0     2020      99696   \n",
       "1     2020      99350   \n",
       "2     2020      98986   \n",
       "3     2020      98937   \n",
       "4     2020      98900   \n",
       "\n",
       "                                                                                CIIU-1  \\\n",
       "0                                             H5310 ** Actividades postales nacionales   \n",
       "1                       G4731 ** Comercio al por menor de combustible para automotores   \n",
       "2                                                          I5530 ** Servicio por horas   \n",
       "3                                    R9200 ** Actividades de juegos de azar y apuestas   \n",
       "4  I5630 ** Expendio de bebidas alcoholicas para el consumo dentro del establecimiento   \n",
       "\n",
       "                       DIRECCION                                  BARRIO  \n",
       "0                 CR 4 NRO 12-04         00050 - BARRIO  EL CENTRO\\t\\t\\t  \n",
       "1            CR 4  NRO 2 E - 129  00099 - URBANIZACION  LA ESPERANZA\\t\\t  \n",
       "2                  CR 2 NRO 7-50                                     NaN  \n",
       "3                 CR 3 NRO 9A-19                                     NaN  \n",
       "4  CR 3 NRO. 4-02 CRR MIRAVALLES                                     NaN  "
      ]
     },
     "execution_count": 71,
     "metadata": {},
     "output_type": "execute_result"
    }
   ],
   "source": [
    "df_Cartago_pyg [['ULT-REN', 'MATRICULA', 'CIIU-1', 'DIRECCION', 'BARRIO']].head()"
   ]
  },
  {
   "cell_type": "markdown",
   "metadata": {},
   "source": [
    "<h2>6. Municipio Palmira</h2>\n",
    "<h3>6.1 Distribución de Valores Faltantes</h3>"
   ]
  },
  {
   "cell_type": "markdown",
   "metadata": {},
   "source": [
    "<h2>6. Municipality of Palmira</h2>\n",
    "<h3>6.1 Distribution of Missing Values</h3>"
   ]
  },
  {
   "cell_type": "code",
   "execution_count": 72,
   "metadata": {},
   "outputs": [],
   "source": [
    "#data set reading\n",
    "df_ccpalmiraAM = pd.read_excel(r\"cc palmira A M.xlsx\", skiprows=1)\n",
    "#msno.matrix(df_ccpalmiraAM)"
   ]
  },
  {
   "cell_type": "markdown",
   "metadata": {},
   "source": [
    "<h3>6.2 Eminación de Datos NAN</h3>"
   ]
  },
  {
   "cell_type": "markdown",
   "metadata": {},
   "source": [
    "<h3>6.2 Removal of NAN Data</h3>"
   ]
  },
  {
   "cell_type": "code",
   "execution_count": 83,
   "metadata": {},
   "outputs": [],
   "source": [
    "df_Palmira = df_ccpalmiraAM.dropna(how=\"all\",axis=1)\n",
    "#msno.matrix(df_palmira)"
   ]
  },
  {
   "cell_type": "markdown",
   "metadata": {},
   "source": [
    "<h3>6.3 DataFrame Columns</h3>"
   ]
  },
  {
   "cell_type": "code",
   "execution_count": 84,
   "metadata": {},
   "outputs": [],
   "source": [
    "#Filter and rename common attributes between municipality tables\n",
    "df_Palmira = df_Palmira.\\\n",
    "    rename(columns={'ULT-ANO_REN': 'ULT_REN', 'DIR-COMERCIAL': 'DIRECCION',  'BARRIO-COMERCIAL': 'BARRIO', 'NIT-PROP.':'NIT', 'CIIU':'CIIU-1'})"
   ]
  },
  {
   "cell_type": "code",
   "execution_count": 85,
   "metadata": {},
   "outputs": [
    {
     "data": {
      "text/html": [
       "<div>\n",
       "<style scoped>\n",
       "    .dataframe tbody tr th:only-of-type {\n",
       "        vertical-align: middle;\n",
       "    }\n",
       "\n",
       "    .dataframe tbody tr th {\n",
       "        vertical-align: top;\n",
       "    }\n",
       "\n",
       "    .dataframe thead th {\n",
       "        text-align: right;\n",
       "    }\n",
       "</style>\n",
       "<table border=\"1\" class=\"dataframe\">\n",
       "  <thead>\n",
       "    <tr style=\"text-align: right;\">\n",
       "      <th></th>\n",
       "      <th>ULT_REN</th>\n",
       "      <th>MATRICULA</th>\n",
       "      <th>NIT</th>\n",
       "      <th>CIIU-1</th>\n",
       "      <th>DIRECCION</th>\n",
       "      <th>VLR-ESTABLEC.</th>\n",
       "    </tr>\n",
       "  </thead>\n",
       "  <tbody>\n",
       "    <tr>\n",
       "      <th>0</th>\n",
       "      <td>2020</td>\n",
       "      <td>99871</td>\n",
       "      <td>hhhb:#&amp;3:(b</td>\n",
       "      <td>1200</td>\n",
       "      <td>CL 38 N° 13-15</td>\n",
       "      <td>5050000.0</td>\n",
       "    </tr>\n",
       "    <tr>\n",
       "      <th>1</th>\n",
       "      <td>2020</td>\n",
       "      <td>96006</td>\n",
       "      <td>h:#:tt3&amp;h</td>\n",
       "      <td>4631</td>\n",
       "      <td>CL 21 NO. 1-12</td>\n",
       "      <td>52226183.0</td>\n",
       "    </tr>\n",
       "    <tr>\n",
       "      <th>2</th>\n",
       "      <td>2020</td>\n",
       "      <td>87254</td>\n",
       "      <td>#e:3#3:#b</td>\n",
       "      <td>4631</td>\n",
       "      <td>COND. LA NUBIA BOD. 106  KM 1.5 VIA CAVASA</td>\n",
       "      <td>239768189.0</td>\n",
       "    </tr>\n",
       "    <tr>\n",
       "      <th>3</th>\n",
       "      <td>2020</td>\n",
       "      <td>823</td>\n",
       "      <td>h:#(3tb&amp;r</td>\n",
       "      <td>4631</td>\n",
       "      <td>CR 26 NO. 27-73</td>\n",
       "      <td>3800000.0</td>\n",
       "    </tr>\n",
       "    <tr>\n",
       "      <th>4</th>\n",
       "      <td>2020</td>\n",
       "      <td>49226</td>\n",
       "      <td>bhhb3t3(#</td>\n",
       "      <td>4631</td>\n",
       "      <td>CLL   29 NRO. 22-04</td>\n",
       "      <td>136505607.0</td>\n",
       "    </tr>\n",
       "  </tbody>\n",
       "</table>\n",
       "</div>"
      ],
      "text/plain": [
       "   ULT_REN  MATRICULA          NIT  CIIU-1  \\\n",
       "0     2020      99871  hhhb:#&3:(b    1200   \n",
       "1     2020      96006    h:#:tt3&h    4631   \n",
       "2     2020      87254    #e:3#3:#b    4631   \n",
       "3     2020        823    h:#(3tb&r    4631   \n",
       "4     2020      49226    bhhb3t3(#    4631   \n",
       "\n",
       "                                    DIRECCION  VLR-ESTABLEC.  \n",
       "0                              CL 38 N° 13-15      5050000.0  \n",
       "1                              CL 21 NO. 1-12     52226183.0  \n",
       "2  COND. LA NUBIA BOD. 106  KM 1.5 VIA CAVASA    239768189.0  \n",
       "3                             CR 26 NO. 27-73      3800000.0  \n",
       "4                         CLL   29 NRO. 22-04    136505607.0  "
      ]
     },
     "execution_count": 85,
     "metadata": {},
     "output_type": "execute_result"
    }
   ],
   "source": [
    "df_Palmira[['ULT_REN', 'MATRICULA', 'NIT', 'CIIU-1', 'DIRECCION', 'VLR-ESTABLEC.']].head()"
   ]
  },
  {
   "cell_type": "code",
   "execution_count": 79,
   "metadata": {},
   "outputs": [
    {
     "name": "stdout",
     "output_type": "stream",
     "text": [
      "Index(['MATRICULA', 'ORGANIZACION', 'CATEGORIA', 'FEC-MATRICULA',\n",
      "       'FEC-RENOVACION', 'ULT_REN', 'DIRECCION', 'MUN-COMERCIAL',\n",
      "       'DIR-NOTIFICACION', 'MUN-NOTIFICACION', 'SECTOR', 'CIIU1', 'ACTIVIDAD',\n",
      "       'VLR-ESTABLEC.', 'MAT-PROP.', 'IDE-PROP.', 'NIT', 'CAM-PROP.',\n",
      "       'DIR-PROP'],\n",
      "      dtype='object')\n",
      "Columnas: 19\n"
     ]
    }
   ],
   "source": [
    "print(df_Palmira.columns)\n",
    "print(\"Columnas:\",len(df_Palmira.columns))"
   ]
  },
  {
   "cell_type": "markdown",
   "metadata": {},
   "source": [
    "<h2>7. Municipio Sevilla</h2>"
   ]
  },
  {
   "cell_type": "markdown",
   "metadata": {},
   "source": [
    "<h2>7. Municipality of Sevilla</h2>\n",
    "<h3>7.1 Distribution of Missing Values</h3>"
   ]
  },
  {
   "cell_type": "code",
   "execution_count": 94,
   "metadata": {},
   "outputs": [],
   "source": [
    "#data set reading\n",
    "df_CCSEVILLAAM = pd.read_excel(r\"CC SEVILLA A M.xlsx\")\n",
    "#msno.matrix(df_CCSEVILLAAM)"
   ]
  },
  {
   "cell_type": "markdown",
   "metadata": {},
   "source": [
    "<h3>7.2 Eminación de Datos NAN</h3>"
   ]
  },
  {
   "cell_type": "markdown",
   "metadata": {},
   "source": [
    "<h3>7.2 Removal of NAN Data</h3>"
   ]
  },
  {
   "cell_type": "code",
   "execution_count": 95,
   "metadata": {},
   "outputs": [],
   "source": [
    "df_Sevilla = df_CCSEVILLAAM.dropna(how=\"all\",axis=1)\n",
    "#msno.matrix(df_SEVILLA)"
   ]
  },
  {
   "cell_type": "markdown",
   "metadata": {},
   "source": [
    "<h3>7.3 DataFrame Columns</h3>"
   ]
  },
  {
   "cell_type": "code",
   "execution_count": 96,
   "metadata": {
    "scrolled": true
   },
   "outputs": [
    {
     "name": "stdout",
     "output_type": "stream",
     "text": [
      "Index(['MATRICULA', 'ORGANIZACION', 'EST-MATRICULA', 'FEC-MATRICULA',\n",
      "       'FEC-RENOVACION', 'ULT-ANO_REN', 'DIR-COMERCIAL', 'MUN-COMERCIAL',\n",
      "       'CIIU-1', 'CIIU-2', 'CIIU-3', 'CIIU-4', 'ACTIVIDAD', 'MAT-PROP.',\n",
      "       'IDE-PROP.', 'NIT-PROP.', 'CAM-PROP.', 'DIR-PROP', 'MUN-PROP'],\n",
      "      dtype='object')\n",
      "Columnas: 19\n"
     ]
    }
   ],
   "source": [
    "print(df_Sevilla.columns)\n",
    "print(\"Columnas:\",len(df_Sevilla.columns))"
   ]
  },
  {
   "cell_type": "code",
   "execution_count": 98,
   "metadata": {},
   "outputs": [],
   "source": [
    "#Filter and rename common attributes between municipality tables\n",
    "Sevilla = df_Sevilla.\\\n",
    "    rename(columns={'ULT-ANO_REN': 'ULT_REN', 'NIT-PROP.': 'NIT', 'DIR-COMERCIAL': 'DIRECCION'})\n",
    "Sevilla['MUNICIPIO'] = 'Sevilla'"
   ]
  },
  {
   "cell_type": "code",
   "execution_count": 99,
   "metadata": {},
   "outputs": [
    {
     "data": {
      "text/html": [
       "<div>\n",
       "<style scoped>\n",
       "    .dataframe tbody tr th:only-of-type {\n",
       "        vertical-align: middle;\n",
       "    }\n",
       "\n",
       "    .dataframe tbody tr th {\n",
       "        vertical-align: top;\n",
       "    }\n",
       "\n",
       "    .dataframe thead th {\n",
       "        text-align: right;\n",
       "    }\n",
       "</style>\n",
       "<table border=\"1\" class=\"dataframe\">\n",
       "  <thead>\n",
       "    <tr style=\"text-align: right;\">\n",
       "      <th></th>\n",
       "      <th>ULT_REN</th>\n",
       "      <th>MATRICULA</th>\n",
       "      <th>NIT</th>\n",
       "      <th>CIIU-1</th>\n",
       "      <th>DIRECCION</th>\n",
       "      <th>MUNICIPIO</th>\n",
       "    </tr>\n",
       "  </thead>\n",
       "  <tbody>\n",
       "    <tr>\n",
       "      <th>0</th>\n",
       "      <td>2017.0</td>\n",
       "      <td>8965</td>\n",
       "      <td>:&amp;:&amp;3&amp;3h</td>\n",
       "      <td>G4724 ** Comercio al por menor de bebidas y productos del tabaco  en establecimientos especializados</td>\n",
       "      <td>CR  49  51  22</td>\n",
       "      <td>Sevilla</td>\n",
       "    </tr>\n",
       "    <tr>\n",
       "      <th>1</th>\n",
       "      <td>2017.0</td>\n",
       "      <td>15236</td>\n",
       "      <td>#e3te:3&amp;r</td>\n",
       "      <td>G4724 ** Comercio al por menor de bebidas y productos del tabaco  en establecimientos especializados</td>\n",
       "      <td>CR  50  49  58</td>\n",
       "      <td>Sevilla</td>\n",
       "    </tr>\n",
       "    <tr>\n",
       "      <th>2</th>\n",
       "      <td>2018.0</td>\n",
       "      <td>16463</td>\n",
       "      <td>e&amp;&amp;:be:h-h</td>\n",
       "      <td>R9200 ** Actividades de juegos de azar y apuestas</td>\n",
       "      <td>CL  7  15  37</td>\n",
       "      <td>Sevilla</td>\n",
       "    </tr>\n",
       "    <tr>\n",
       "      <th>3</th>\n",
       "      <td>2018.0</td>\n",
       "      <td>16446</td>\n",
       "      <td>#e3h3(r:3</td>\n",
       "      <td>G4724 ** Comercio al por menor de bebidas y productos del tabaco  en establecimientos especializados</td>\n",
       "      <td>CR  52  59  09</td>\n",
       "      <td>Sevilla</td>\n",
       "    </tr>\n",
       "    <tr>\n",
       "      <th>4</th>\n",
       "      <td>2019.0</td>\n",
       "      <td>8366</td>\n",
       "      <td>e&amp;#(tt3&amp;#</td>\n",
       "      <td>G4711 ** Comercio al por menor en establecimientos no especializados con surtido compuesto principalmente por alimentos  bebidas o tabaco</td>\n",
       "      <td>CR  16  11  02</td>\n",
       "      <td>Sevilla</td>\n",
       "    </tr>\n",
       "  </tbody>\n",
       "</table>\n",
       "</div>"
      ],
      "text/plain": [
       "   ULT_REN MATRICULA         NIT  \\\n",
       "0   2017.0      8965    :&:&3&3h   \n",
       "1   2017.0     15236   #e3te:3&r   \n",
       "2   2018.0     16463  e&&:be:h-h   \n",
       "3   2018.0     16446   #e3h3(r:3   \n",
       "4   2019.0      8366   e&#(tt3&#   \n",
       "\n",
       "                                                                                                                                      CIIU-1  \\\n",
       "0                                       G4724 ** Comercio al por menor de bebidas y productos del tabaco  en establecimientos especializados   \n",
       "1                                       G4724 ** Comercio al por menor de bebidas y productos del tabaco  en establecimientos especializados   \n",
       "2                                                                                          R9200 ** Actividades de juegos de azar y apuestas   \n",
       "3                                       G4724 ** Comercio al por menor de bebidas y productos del tabaco  en establecimientos especializados   \n",
       "4  G4711 ** Comercio al por menor en establecimientos no especializados con surtido compuesto principalmente por alimentos  bebidas o tabaco   \n",
       "\n",
       "        DIRECCION MUNICIPIO  \n",
       "0  CR  49  51  22   Sevilla  \n",
       "1  CR  50  49  58   Sevilla  \n",
       "2   CL  7  15  37   Sevilla  \n",
       "3  CR  52  59  09   Sevilla  \n",
       "4  CR  16  11  02   Sevilla  "
      ]
     },
     "execution_count": 99,
     "metadata": {},
     "output_type": "execute_result"
    }
   ],
   "source": [
    "Sevilla[['ULT_REN', 'MATRICULA', 'NIT', 'CIIU-1', 'DIRECCION', 'MUNICIPIO']].head()"
   ]
  },
  {
   "cell_type": "markdown",
   "metadata": {},
   "source": [
    "<h2>8. Municipio Tulua</h2>\n",
    "<h3>8.1 Distribución de Valores Faltantes</h3>"
   ]
  },
  {
   "cell_type": "markdown",
   "metadata": {},
   "source": [
    "<h2>8. Municipality of Tulua</h2>\n",
    "<h3>8.1 Distribution of Missing Values</h3>"
   ]
  },
  {
   "cell_type": "code",
   "execution_count": 100,
   "metadata": {},
   "outputs": [],
   "source": [
    "#data set reading\n",
    "df_cctuluaAM = pd.read_excel(r\"cc tulua A M.xlsx\")\n",
    "#msno.matrix(df_cctuluaAM)"
   ]
  },
  {
   "cell_type": "markdown",
   "metadata": {},
   "source": [
    "<h3>8.2 Eminación de Datos NAN</h3>"
   ]
  },
  {
   "cell_type": "markdown",
   "metadata": {},
   "source": [
    "<h3>8.2 Removal of NAN Data</h3>"
   ]
  },
  {
   "cell_type": "code",
   "execution_count": 101,
   "metadata": {},
   "outputs": [],
   "source": [
    "df_Tulua = df_cctuluaAM.dropna(how=\"all\",axis=1)\n",
    "#msno.matrix(df_tulua)"
   ]
  },
  {
   "cell_type": "markdown",
   "metadata": {},
   "source": [
    "<h3>8.3 DataFrame Columns</h3>"
   ]
  },
  {
   "cell_type": "code",
   "execution_count": 103,
   "metadata": {
    "scrolled": true
   },
   "outputs": [
    {
     "name": "stdout",
     "output_type": "stream",
     "text": [
      "Index(['MATRICULA', 'ORGANIZACION', 'CATEGORIA', 'EST-MATRICULA', 'EST_DATOS',\n",
      "       'FECHA-NAC', 'CLASE-ID', 'IDENTIFICACION', 'GENERO', 'NIT',\n",
      "       ...\n",
      "       'ACTI 2020', 'NUMALCALDIA', 'TIENELIBROS', 'NUM-SOCIOS', 'REP-LEGAL',\n",
      "       'NOM-REP-LEGAL', 'NUM-IDE-SUPLENTE', 'NOMBRE-SUPLENTE', 'REVISORES',\n",
      "       'AUT-ENV'],\n",
      "      dtype='object', length=123)\n",
      "Columnas: 123\n"
     ]
    }
   ],
   "source": [
    "print(df_Tulua.columns)\n",
    "print(\"Columnas:\",len(df_Tulua.columns))"
   ]
  },
  {
   "cell_type": "code",
   "execution_count": null,
   "metadata": {},
   "outputs": [],
   "source": [
    "#Filter and rename common attributes between municipality tables\n",
    "Tulua = df_Tulua.\\\n",
    "    rename(columns={'ULT-ANO_REN': 'ULT_REN', 'DIR-COMERCIAL': 'DIRECCION',  'BARRIO-COMERCIAL': 'BARRIO'})\n",
    "Tulua['MUNICIPIO'] = 'Tulua'"
   ]
  },
  {
   "cell_type": "code",
   "execution_count": 105,
   "metadata": {},
   "outputs": [
    {
     "data": {
      "text/html": [
       "<div>\n",
       "<style scoped>\n",
       "    .dataframe tbody tr th:only-of-type {\n",
       "        vertical-align: middle;\n",
       "    }\n",
       "\n",
       "    .dataframe tbody tr th {\n",
       "        vertical-align: top;\n",
       "    }\n",
       "\n",
       "    .dataframe thead th {\n",
       "        text-align: right;\n",
       "    }\n",
       "</style>\n",
       "<table border=\"1\" class=\"dataframe\">\n",
       "  <thead>\n",
       "    <tr style=\"text-align: right;\">\n",
       "      <th></th>\n",
       "      <th>ULT_REN</th>\n",
       "      <th>MATRICULA</th>\n",
       "      <th>NIT</th>\n",
       "      <th>CIIU-1</th>\n",
       "      <th>DIRECCION</th>\n",
       "      <th>BARRIO</th>\n",
       "      <th>MUNICIPIO</th>\n",
       "      <th>VLR-ESTABLEC.</th>\n",
       "      <th>ACTIVO-TOTAL</th>\n",
       "      <th>PATRIMONIO</th>\n",
       "    </tr>\n",
       "  </thead>\n",
       "  <tbody>\n",
       "    <tr>\n",
       "      <th>0</th>\n",
       "      <td>2020</td>\n",
       "      <td>99992</td>\n",
       "      <td>hte&amp;e#r3e#(</td>\n",
       "      <td>G4729 ** Comercio al por menor de otros productos alimenticios n.c.p.  en establecimientos especializados</td>\n",
       "      <td>KM 11 VIA LA PAILA ARMENIA - Q/NUEVA</td>\n",
       "      <td>NaN</td>\n",
       "      <td>Tulua</td>\n",
       "      <td>0</td>\n",
       "      <td>1200000</td>\n",
       "      <td>1200000</td>\n",
       "    </tr>\n",
       "    <tr>\n",
       "      <th>1</th>\n",
       "      <td>2020</td>\n",
       "      <td>99977</td>\n",
       "      <td>hhh#:#:(rer</td>\n",
       "      <td>G4724 ** Comercio al por menor de bebidas y productos del tabaco  en establecimientos especializados</td>\n",
       "      <td>CRA 3 NRO 11-22 CORRG LA PAILA</td>\n",
       "      <td>NaN</td>\n",
       "      <td>Tulua</td>\n",
       "      <td>0</td>\n",
       "      <td>3000000</td>\n",
       "      <td>3000000</td>\n",
       "    </tr>\n",
       "    <tr>\n",
       "      <th>2</th>\n",
       "      <td>2020</td>\n",
       "      <td>99874</td>\n",
       "      <td>#&amp;(&amp;:3t:t</td>\n",
       "      <td>G4724 ** Comercio al por menor de bebidas y productos del tabaco  en establecimientos especializados</td>\n",
       "      <td>CR 34 33 71</td>\n",
       "      <td>00448 - VICTORIA</td>\n",
       "      <td>Tulua</td>\n",
       "      <td>0</td>\n",
       "      <td>3000000</td>\n",
       "      <td>3000000</td>\n",
       "    </tr>\n",
       "    <tr>\n",
       "      <th>3</th>\n",
       "      <td>2020</td>\n",
       "      <td>99846</td>\n",
       "      <td>hh#&amp;3(b(te3</td>\n",
       "      <td>G4724 ** Comercio al por menor de bebidas y productos del tabaco  en establecimientos especializados</td>\n",
       "      <td>CR 2 OE NO 26C 7 20</td>\n",
       "      <td>00496 - ASOAGRIN FARFAN</td>\n",
       "      <td>Tulua</td>\n",
       "      <td>0</td>\n",
       "      <td>1000000</td>\n",
       "      <td>1000000</td>\n",
       "    </tr>\n",
       "    <tr>\n",
       "      <th>4</th>\n",
       "      <td>2020</td>\n",
       "      <td>99804</td>\n",
       "      <td>:hh&amp;:&amp;b3</td>\n",
       "      <td>G4724 ** Comercio al por menor de bebidas y productos del tabaco  en establecimientos especializados</td>\n",
       "      <td>CR 9 21 47</td>\n",
       "      <td>NaN</td>\n",
       "      <td>Tulua</td>\n",
       "      <td>0</td>\n",
       "      <td>2500000</td>\n",
       "      <td>2500000</td>\n",
       "    </tr>\n",
       "  </tbody>\n",
       "</table>\n",
       "</div>"
      ],
      "text/plain": [
       "   ULT_REN  MATRICULA          NIT  \\\n",
       "0     2020      99992  hte&e#r3e#(   \n",
       "1     2020      99977  hhh#:#:(rer   \n",
       "2     2020      99874    #&(&:3t:t   \n",
       "3     2020      99846  hh#&3(b(te3   \n",
       "4     2020      99804     :hh&:&b3   \n",
       "\n",
       "                                                                                                      CIIU-1  \\\n",
       "0  G4729 ** Comercio al por menor de otros productos alimenticios n.c.p.  en establecimientos especializados   \n",
       "1       G4724 ** Comercio al por menor de bebidas y productos del tabaco  en establecimientos especializados   \n",
       "2       G4724 ** Comercio al por menor de bebidas y productos del tabaco  en establecimientos especializados   \n",
       "3       G4724 ** Comercio al por menor de bebidas y productos del tabaco  en establecimientos especializados   \n",
       "4       G4724 ** Comercio al por menor de bebidas y productos del tabaco  en establecimientos especializados   \n",
       "\n",
       "                              DIRECCION                   BARRIO MUNICIPIO  \\\n",
       "0  KM 11 VIA LA PAILA ARMENIA - Q/NUEVA                      NaN     Tulua   \n",
       "1        CRA 3 NRO 11-22 CORRG LA PAILA                      NaN     Tulua   \n",
       "2                           CR 34 33 71         00448 - VICTORIA     Tulua   \n",
       "3                   CR 2 OE NO 26C 7 20  00496 - ASOAGRIN FARFAN     Tulua   \n",
       "4                            CR 9 21 47                      NaN     Tulua   \n",
       "\n",
       "   VLR-ESTABLEC.  ACTIVO-TOTAL  PATRIMONIO  \n",
       "0              0       1200000     1200000  \n",
       "1              0       3000000     3000000  \n",
       "2              0       3000000     3000000  \n",
       "3              0       1000000     1000000  \n",
       "4              0       2500000     2500000  "
      ]
     },
     "execution_count": 105,
     "metadata": {},
     "output_type": "execute_result"
    }
   ],
   "source": [
    "Tulua[['ULT_REN', 'MATRICULA', 'NIT', 'CIIU-1', 'DIRECCION', 'BARRIO', 'MUNICIPIO', 'VLR-ESTABLEC.', 'ACTIVO-TOTAL', 'PATRIMONIO']].head()"
   ]
  },
  {
   "cell_type": "markdown",
   "metadata": {},
   "source": [
    "<h2>9. Municipio de Sevilla PYG</h2>\n",
    "<h3>9.1 Distribución de Valores Faltantes</h3>"
   ]
  },
  {
   "cell_type": "markdown",
   "metadata": {},
   "source": [
    "<h2>9. Municipality of Sevilla</h2>\n",
    "<h3>9.1 Distribution of Missing Values</h3>"
   ]
  },
  {
   "cell_type": "code",
   "execution_count": 106,
   "metadata": {},
   "outputs": [],
   "source": [
    "#data set reading\n",
    "df_sevillaconAMconpyg = pd.read_excel(r\"sevilla con A M  con pyg.xlsx\")\n",
    "#msno.matrix(df_sevillaconAMconpyg)"
   ]
  },
  {
   "cell_type": "markdown",
   "metadata": {},
   "source": [
    "<h3>9.2 Eminación de Datos NAN</h3>"
   ]
  },
  {
   "cell_type": "markdown",
   "metadata": {},
   "source": [
    "<h3>9.2 Removal of NAN Data</h3>"
   ]
  },
  {
   "cell_type": "code",
   "execution_count": 107,
   "metadata": {},
   "outputs": [],
   "source": [
    "df_Sevilla_pyg = df_sevillaconAMconpyg.dropna(how=\"all\",axis=1)\n",
    "#msno.matrix(df_sevillaconAMconpyg)#"
   ]
  },
  {
   "cell_type": "markdown",
   "metadata": {},
   "source": [
    "<h3>9.3 DataFrame Columns</h3>"
   ]
  },
  {
   "cell_type": "code",
   "execution_count": 108,
   "metadata": {
    "scrolled": true
   },
   "outputs": [
    {
     "name": "stdout",
     "output_type": "stream",
     "text": [
      "Index(['MATRICULA', 'ORGANIZACION', 'EST-MATRICULA', 'FEC-MATRICULA',\n",
      "       'FEC-RENOVACION', 'ULT-ANO_REN', 'DIR-COMERCIAL', 'MUN-COMERCIAL',\n",
      "       'TEL-COM-3', 'DIR-NOTIFICACION', 'MUN-NOTIFICACION', 'TEL-NOTF-1',\n",
      "       'TEL-NOTF-2', 'CIIU-1', 'CIIU-2', 'CIIU-3', 'CIIU-4', 'ACTIVIDAD',\n",
      "       'TIPO-PROPIEDAD', 'PERSONAL', 'ACTIVO-CORRIENTE', 'ACTIVO-NO-CORRIENTE',\n",
      "       'ACTIVO-FIJO', 'ACTIVO-VALORIZ', 'ACTIVO-OTROS', 'ACTIVO-TOTAL',\n",
      "       'PASIVO-CORRIENTE', 'PASIVO-LRG-PLAZO', 'PASIVO-TOTAL', 'PATRIMONIO',\n",
      "       'PASIVO+PATRIM', 'ING-OPERACIONES', 'ING-NO-OPERACIONALES',\n",
      "       'GAS-OPERACIONALES', 'GAS-NO-OPERAC.', 'COS-VEN.', 'GAS-IMP.',\n",
      "       'UTIL-OPERACIONAL', 'UTIL-NETA', 'ANIO-DATOS', 'FECHA-DATOS',\n",
      "       'VLR-ESTABLEC.', 'MAT-PROP.', 'IDE-PROP.', 'NIT-PROP.', 'CAM-PROP.',\n",
      "       'DIR-PROP', 'MUN-PROP'],\n",
      "      dtype='object')\n",
      "Columnas: 48\n"
     ]
    }
   ],
   "source": [
    "print(df_Sevilla_pyg.columns)\n",
    "print(\"Columnas:\",len(df_Sevilla_pyg.columns))"
   ]
  },
  {
   "cell_type": "code",
   "execution_count": 109,
   "metadata": {},
   "outputs": [],
   "source": [
    "#Filter and rename common attributes between municipality tables\n",
    "Sevilla_pyg = df_Sevilla_pyg.\\\n",
    "    rename(columns={'ULT-ANO_REN': 'ULT_REN', 'DIR-COMERCIAL': 'DIRECCION', 'NIT-PROP.':'NIT'})\n",
    "Sevilla_pyg['MUNICIPIO'] = 'Sevilla'"
   ]
  },
  {
   "cell_type": "code",
   "execution_count": 110,
   "metadata": {},
   "outputs": [
    {
     "data": {
      "text/html": [
       "<div>\n",
       "<style scoped>\n",
       "    .dataframe tbody tr th:only-of-type {\n",
       "        vertical-align: middle;\n",
       "    }\n",
       "\n",
       "    .dataframe tbody tr th {\n",
       "        vertical-align: top;\n",
       "    }\n",
       "\n",
       "    .dataframe thead th {\n",
       "        text-align: right;\n",
       "    }\n",
       "</style>\n",
       "<table border=\"1\" class=\"dataframe\">\n",
       "  <thead>\n",
       "    <tr style=\"text-align: right;\">\n",
       "      <th></th>\n",
       "      <th>ULT_REN</th>\n",
       "      <th>MATRICULA</th>\n",
       "      <th>NIT</th>\n",
       "      <th>CIIU-1</th>\n",
       "      <th>DIRECCION</th>\n",
       "      <th>VLR-ESTABLEC.</th>\n",
       "      <th>MUNICIPIO</th>\n",
       "      <th>ACTIVO-TOTAL</th>\n",
       "      <th>PATRIMONIO</th>\n",
       "    </tr>\n",
       "  </thead>\n",
       "  <tbody>\n",
       "    <tr>\n",
       "      <th>0</th>\n",
       "      <td>2020</td>\n",
       "      <td>9970</td>\n",
       "      <td>NaN</td>\n",
       "      <td>R9200 ** Actividades de juegos de azar y apuestas</td>\n",
       "      <td>CR  51  52  34</td>\n",
       "      <td>6000000</td>\n",
       "      <td>Sevilla</td>\n",
       "      <td>0</td>\n",
       "      <td>0</td>\n",
       "    </tr>\n",
       "    <tr>\n",
       "      <th>1</th>\n",
       "      <td>2020</td>\n",
       "      <td>16350</td>\n",
       "      <td>NaN</td>\n",
       "      <td>G4773 ** Comercio al por menor de productos farmaceuticos y medicinales  cosmeticos y articulos de tocador en establecimientos especializados</td>\n",
       "      <td>CR  51  50  17</td>\n",
       "      <td>21000000</td>\n",
       "      <td>Sevilla</td>\n",
       "      <td>0</td>\n",
       "      <td>0</td>\n",
       "    </tr>\n",
       "    <tr>\n",
       "      <th>2</th>\n",
       "      <td>2019</td>\n",
       "      <td>17117</td>\n",
       "      <td>NaN</td>\n",
       "      <td>A0144 ** Cria de ganado porcino</td>\n",
       "      <td>CORREGIMIENTO DE QUEBRADA NUEVA</td>\n",
       "      <td>924286</td>\n",
       "      <td>Sevilla</td>\n",
       "      <td>0</td>\n",
       "      <td>0</td>\n",
       "    </tr>\n",
       "    <tr>\n",
       "      <th>3</th>\n",
       "      <td>2020</td>\n",
       "      <td>12240</td>\n",
       "      <td>ettt#:r#rb</td>\n",
       "      <td>R9200 ** Actividades de juegos de azar y apuestas</td>\n",
       "      <td>CR  16  8  51</td>\n",
       "      <td>3200000</td>\n",
       "      <td>Sevilla</td>\n",
       "      <td>0</td>\n",
       "      <td>0</td>\n",
       "    </tr>\n",
       "    <tr>\n",
       "      <th>4</th>\n",
       "      <td>2020</td>\n",
       "      <td>12239</td>\n",
       "      <td>ettt#:r#rb</td>\n",
       "      <td>R9200 ** Actividades de juegos de azar y apuestas</td>\n",
       "      <td>CL  50  48  38</td>\n",
       "      <td>3200000</td>\n",
       "      <td>Sevilla</td>\n",
       "      <td>0</td>\n",
       "      <td>0</td>\n",
       "    </tr>\n",
       "  </tbody>\n",
       "</table>\n",
       "</div>"
      ],
      "text/plain": [
       "   ULT_REN  MATRICULA         NIT  \\\n",
       "0     2020       9970         NaN   \n",
       "1     2020      16350         NaN   \n",
       "2     2019      17117         NaN   \n",
       "3     2020      12240  ettt#:r#rb   \n",
       "4     2020      12239  ettt#:r#rb   \n",
       "\n",
       "                                                                                                                                          CIIU-1  \\\n",
       "0                                                                                              R9200 ** Actividades de juegos de azar y apuestas   \n",
       "1  G4773 ** Comercio al por menor de productos farmaceuticos y medicinales  cosmeticos y articulos de tocador en establecimientos especializados   \n",
       "2                                                                                                                A0144 ** Cria de ganado porcino   \n",
       "3                                                                                              R9200 ** Actividades de juegos de azar y apuestas   \n",
       "4                                                                                              R9200 ** Actividades de juegos de azar y apuestas   \n",
       "\n",
       "                         DIRECCION  VLR-ESTABLEC. MUNICIPIO  ACTIVO-TOTAL  \\\n",
       "0                   CR  51  52  34        6000000   Sevilla             0   \n",
       "1                   CR  51  50  17       21000000   Sevilla             0   \n",
       "2  CORREGIMIENTO DE QUEBRADA NUEVA         924286   Sevilla             0   \n",
       "3                    CR  16  8  51        3200000   Sevilla             0   \n",
       "4                   CL  50  48  38        3200000   Sevilla             0   \n",
       "\n",
       "   PATRIMONIO  \n",
       "0           0  \n",
       "1           0  \n",
       "2           0  \n",
       "3           0  \n",
       "4           0  "
      ]
     },
     "execution_count": 110,
     "metadata": {},
     "output_type": "execute_result"
    }
   ],
   "source": [
    "Sevilla_pyg[['ULT_REN', 'MATRICULA', 'NIT', 'CIIU-1', 'DIRECCION', 'VLR-ESTABLEC.', 'MUNICIPIO', 'ACTIVO-TOTAL', 'PATRIMONIO']].head()"
   ]
  },
  {
   "cell_type": "markdown",
   "metadata": {},
   "source": [
    "<h2>10. Contribución al Deporte</h2>\n",
    "<h3>10.1 Distribución de Valores Faltantes</h3>"
   ]
  },
  {
   "cell_type": "markdown",
   "metadata": {},
   "source": [
    "<h2>10. Tax Disbursement to sport</h2>\n",
    "<h3>10.1 Distribution of Missing Values</h3>"
   ]
  },
  {
   "cell_type": "code",
   "execution_count": 96,
   "metadata": {},
   "outputs": [],
   "source": [
    "#data set reading\n",
    "df_contribucionAM = pd.read_excel(r\"contribucion  A M.xlsx\")\n",
    "#msno.matrix(df_contribucionAM)"
   ]
  },
  {
   "cell_type": "markdown",
   "metadata": {},
   "source": [
    "<h3>10.2 Eminación de Datos NAN</h3>"
   ]
  },
  {
   "cell_type": "markdown",
   "metadata": {},
   "source": [
    "<h3>10.2 Removal of NAN Data</h3>"
   ]
  },
  {
   "cell_type": "code",
   "execution_count": 97,
   "metadata": {},
   "outputs": [],
   "source": [
    "df_contribucion = df_contribucionAM.dropna(how=\"all\",axis=1)\n",
    "#msno.matrix(df_contribucion)"
   ]
  },
  {
   "cell_type": "markdown",
   "metadata": {},
   "source": [
    "<h3>10.3 DataFrame Columns</h3>"
   ]
  },
  {
   "cell_type": "code",
   "execution_count": 98,
   "metadata": {
    "scrolled": true
   },
   "outputs": [
    {
     "name": "stdout",
     "output_type": "stream",
     "text": [
      "Index(['NIT', 'NUMERO', 'DESCRIPCION', 'TOTAL', 'FCHA_RCDO', 'CNSCTVO_BNCO',\n",
      "       'BANCO', 'ESTADO', 'SUCURSAL', 'PRDO_GRVBLE_ANO', 'PRDO_GRVBLE_MES',\n",
      "       'CDGO_DPRTMNTO', 'DSCRPCN_DPRTMNTO', 'CDGO_MNCPO', 'DSCRPCN_MNCPO',\n",
      "       'DRCCN', 'PRMR_APLLDO_USRO', 'DSCRPCN_IMPSTO', 'ORDEN'],\n",
      "      dtype='object')\n",
      "Columnas: 19\n"
     ]
    }
   ],
   "source": [
    "print(df_contribucion.columns)\n",
    "print(\"Columnas:\",len(df_contribucion.columns))"
   ]
  },
  {
   "cell_type": "code",
   "execution_count": 99,
   "metadata": {},
   "outputs": [
    {
     "data": {
      "text/html": [
       "<div>\n",
       "<style scoped>\n",
       "    .dataframe tbody tr th:only-of-type {\n",
       "        vertical-align: middle;\n",
       "    }\n",
       "\n",
       "    .dataframe tbody tr th {\n",
       "        vertical-align: top;\n",
       "    }\n",
       "\n",
       "    .dataframe thead th {\n",
       "        text-align: right;\n",
       "    }\n",
       "</style>\n",
       "<table border=\"1\" class=\"dataframe\">\n",
       "  <thead>\n",
       "    <tr style=\"text-align: right;\">\n",
       "      <th></th>\n",
       "      <th>NIT</th>\n",
       "      <th>DESCRIPCION</th>\n",
       "      <th>DSCRPCN_MNCPO</th>\n",
       "    </tr>\n",
       "  </thead>\n",
       "  <tbody>\n",
       "    <tr>\n",
       "      <th>0</th>\n",
       "      <td>htt#etrt</td>\n",
       "      <td>DECLARACIÃ“N DE LA CONTRIBUCIÃ“N PARA EL DEPORTE, LA RECREACIÃ“N Y EL APROVECHAMIENTO DEL TIEMPO LIBRE DEPARTAMENTO DEL VALLE DEL CAUCA SECRETARIA DE HACIENDA Y CRÃ‰DITO PUBLICO RESOLUCIÃ“N # 037 ...</td>\n",
       "      <td>YOTOCO</td>\n",
       "    </tr>\n",
       "    <tr>\n",
       "      <th>1</th>\n",
       "      <td>htt#etrt</td>\n",
       "      <td>DECLARACIÃ“N DE LA CONTRIBUCIÃ“N PARA EL DEPORTE, LA RECREACIÃ“N Y EL APROVECHAMIENTO DEL TIEMPO LIBRE DEPARTAMENTO DEL VALLE DEL CAUCA SECRETARIA DE HACIENDA Y CRÃ‰DITO PUBLICO RESOLUCIÃ“N # 037 ...</td>\n",
       "      <td>YOTOCO</td>\n",
       "    </tr>\n",
       "    <tr>\n",
       "      <th>2</th>\n",
       "      <td>htt#etrt</td>\n",
       "      <td>DECLARACIÃ“N DE LA CONTRIBUCIÃ“N PARA EL DEPORTE, LA RECREACIÃ“N Y EL APROVECHAMIENTO DEL TIEMPO LIBRE DEPARTAMENTO DEL VALLE DEL CAUCA SECRETARIA DE HACIENDA Y CRÃ‰DITO PUBLICO RESOLUCIÃ“N # 037 ...</td>\n",
       "      <td>YOTOCO</td>\n",
       "    </tr>\n",
       "    <tr>\n",
       "      <th>3</th>\n",
       "      <td>htt#etrt</td>\n",
       "      <td>DECLARACIÃ“N DE LA CONTRIBUCIÃ“N PARA EL DEPORTE, LA RECREACIÃ“N Y EL APROVECHAMIENTO DEL TIEMPO LIBRE DEPARTAMENTO DEL VALLE DEL CAUCA SECRETARIA DE HACIENDA Y CRÃ‰DITO PUBLICO RESOLUCIÃ“N # 037 ...</td>\n",
       "      <td>YOTOCO</td>\n",
       "    </tr>\n",
       "    <tr>\n",
       "      <th>4</th>\n",
       "      <td>htt#etrt</td>\n",
       "      <td>DECLARACIÃ“N DE LA CONTRIBUCIÃ“N PARA EL DEPORTE, LA RECREACIÃ“N Y EL APROVECHAMIENTO DEL TIEMPO LIBRE DEPARTAMENTO DEL VALLE DEL CAUCA SECRETARIA DE HACIENDA Y CRÃ‰DITO PUBLICO RESOLUCIÃ“N # 037 ...</td>\n",
       "      <td>YOTOCO</td>\n",
       "    </tr>\n",
       "  </tbody>\n",
       "</table>\n",
       "</div>"
      ],
      "text/plain": [
       "        NIT  \\\n",
       "0  htt#etrt   \n",
       "1  htt#etrt   \n",
       "2  htt#etrt   \n",
       "3  htt#etrt   \n",
       "4  htt#etrt   \n",
       "\n",
       "                                                                                                                                                                                               DESCRIPCION  \\\n",
       "0  DECLARACIÃ“N DE LA CONTRIBUCIÃ“N PARA EL DEPORTE, LA RECREACIÃ“N Y EL APROVECHAMIENTO DEL TIEMPO LIBRE DEPARTAMENTO DEL VALLE DEL CAUCA SECRETARIA DE HACIENDA Y CRÃ‰DITO PUBLICO RESOLUCIÃ“N # 037 ...   \n",
       "1  DECLARACIÃ“N DE LA CONTRIBUCIÃ“N PARA EL DEPORTE, LA RECREACIÃ“N Y EL APROVECHAMIENTO DEL TIEMPO LIBRE DEPARTAMENTO DEL VALLE DEL CAUCA SECRETARIA DE HACIENDA Y CRÃ‰DITO PUBLICO RESOLUCIÃ“N # 037 ...   \n",
       "2  DECLARACIÃ“N DE LA CONTRIBUCIÃ“N PARA EL DEPORTE, LA RECREACIÃ“N Y EL APROVECHAMIENTO DEL TIEMPO LIBRE DEPARTAMENTO DEL VALLE DEL CAUCA SECRETARIA DE HACIENDA Y CRÃ‰DITO PUBLICO RESOLUCIÃ“N # 037 ...   \n",
       "3  DECLARACIÃ“N DE LA CONTRIBUCIÃ“N PARA EL DEPORTE, LA RECREACIÃ“N Y EL APROVECHAMIENTO DEL TIEMPO LIBRE DEPARTAMENTO DEL VALLE DEL CAUCA SECRETARIA DE HACIENDA Y CRÃ‰DITO PUBLICO RESOLUCIÃ“N # 037 ...   \n",
       "4  DECLARACIÃ“N DE LA CONTRIBUCIÃ“N PARA EL DEPORTE, LA RECREACIÃ“N Y EL APROVECHAMIENTO DEL TIEMPO LIBRE DEPARTAMENTO DEL VALLE DEL CAUCA SECRETARIA DE HACIENDA Y CRÃ‰DITO PUBLICO RESOLUCIÃ“N # 037 ...   \n",
       "\n",
       "  DSCRPCN_MNCPO  \n",
       "0        YOTOCO  \n",
       "1        YOTOCO  \n",
       "2        YOTOCO  \n",
       "3        YOTOCO  \n",
       "4        YOTOCO  "
      ]
     },
     "execution_count": 99,
     "metadata": {},
     "output_type": "execute_result"
    }
   ],
   "source": [
    "#Filter common attributes between taxes tables\n",
    "df_contribucion.head()\n",
    "df_contribucion[['NIT', 'DESCRIPCION', 'DSCRPCN_MNCPO']].head()"
   ]
  },
  {
   "cell_type": "markdown",
   "metadata": {},
   "source": [
    "<h2>11. Licores</h2>\n",
    "<h3>11.1 Distribución de Valores Faltantes</h3>"
   ]
  },
  {
   "cell_type": "markdown",
   "metadata": {},
   "source": [
    "<h2>11. Alcohol Tax</h2>\n",
    "<h3>11.1 Distribution of Missing Values</h3>"
   ]
  },
  {
   "cell_type": "code",
   "execution_count": 109,
   "metadata": {},
   "outputs": [],
   "source": [
    "#data set reading\n",
    "df_DECLARACIONNaleImportado2015al2019AM = pd.read_excel(r\"DECLARACION Nal e Importado 2015 al 2019  AM.xlsx\", skiprows=5)\n",
    "#msno.matrix(df_DECLARACIONNaleImportado2015al2019AM)"
   ]
  },
  {
   "cell_type": "markdown",
   "metadata": {},
   "source": [
    "<h3>11.2 Eminación de Datos NAN</h3>"
   ]
  },
  {
   "cell_type": "markdown",
   "metadata": {},
   "source": [
    "<h3>11.2 Removal of NAN Data</h3>"
   ]
  },
  {
   "cell_type": "code",
   "execution_count": 110,
   "metadata": {},
   "outputs": [],
   "source": [
    "df_Licores = df_DECLARACIONNaleImportado2015al2019AM.dropna(how=\"all\",axis=1)\n",
    "#msno.matrix(df_Licores)"
   ]
  },
  {
   "cell_type": "markdown",
   "metadata": {},
   "source": [
    "<h3>11.3 DataFrame Columns</h3>"
   ]
  },
  {
   "cell_type": "code",
   "execution_count": 111,
   "metadata": {
    "scrolled": false
   },
   "outputs": [
    {
     "name": "stdout",
     "output_type": "stream",
     "text": [
      "Index(['año', 'CODIGO', 'ORIGEN', 'NOMB_PRO', 'TIPO_PRODCUTO', 'NIT', 'CLASE',\n",
      "       'TIPO', 'UNIDADES', 'PRESENTACION', 'GRADOS', 'IMPUESTO_DECLARADO',\n",
      "       'IMPUESTO_PARTICIPACION', 'UNIDADES_CAPACIDAD', 'IMPUESTO_REENVIADO',\n",
      "       'UNIDADES_REENVIOS_CAPACIDAD', 'UNIDAD_CONVERTIDAS',\n",
      "       'SOBRETASA_DECLARADA', 'UNIDADES_REENVIOS_CONVERTIDAS',\n",
      "       'SOBRETASA_REENVIADA', ' CODI_DANE '],\n",
      "      dtype='object')\n",
      "Columnas: 21\n"
     ]
    }
   ],
   "source": [
    "print(df_Licores.columns)\n",
    "print(\"Columnas:\",len(df_Licores.columns))"
   ]
  },
  {
   "cell_type": "code",
   "execution_count": 116,
   "metadata": {},
   "outputs": [
    {
     "data": {
      "text/html": [
       "<div>\n",
       "<style scoped>\n",
       "    .dataframe tbody tr th:only-of-type {\n",
       "        vertical-align: middle;\n",
       "    }\n",
       "\n",
       "    .dataframe tbody tr th {\n",
       "        vertical-align: top;\n",
       "    }\n",
       "\n",
       "    .dataframe thead th {\n",
       "        text-align: right;\n",
       "    }\n",
       "</style>\n",
       "<table border=\"1\" class=\"dataframe\">\n",
       "  <thead>\n",
       "    <tr style=\"text-align: right;\">\n",
       "      <th></th>\n",
       "      <th>NIT</th>\n",
       "      <th>CLASE</th>\n",
       "      <th>IMPUESTO_DECLARADO</th>\n",
       "    </tr>\n",
       "  </thead>\n",
       "  <tbody>\n",
       "    <tr>\n",
       "      <th>0</th>\n",
       "      <td>3:ttt#t#:t</td>\n",
       "      <td>LICORES</td>\n",
       "      <td>405504.0</td>\n",
       "    </tr>\n",
       "    <tr>\n",
       "      <th>1</th>\n",
       "      <td>3:ttt#t#:t</td>\n",
       "      <td>LICORES</td>\n",
       "      <td>3181680.0</td>\n",
       "    </tr>\n",
       "    <tr>\n",
       "      <th>2</th>\n",
       "      <td>3:ttt#t#:t</td>\n",
       "      <td>LICORES</td>\n",
       "      <td>7413120.0</td>\n",
       "    </tr>\n",
       "    <tr>\n",
       "      <th>3</th>\n",
       "      <td>3:ttt#t#:t</td>\n",
       "      <td>LICORES</td>\n",
       "      <td>5082480.0</td>\n",
       "    </tr>\n",
       "    <tr>\n",
       "      <th>4</th>\n",
       "      <td>3:ttt#t#:t</td>\n",
       "      <td>LICORES</td>\n",
       "      <td>273960.0</td>\n",
       "    </tr>\n",
       "  </tbody>\n",
       "</table>\n",
       "</div>"
      ],
      "text/plain": [
       "          NIT    CLASE  IMPUESTO_DECLARADO\n",
       "0  3:ttt#t#:t  LICORES            405504.0\n",
       "1  3:ttt#t#:t  LICORES           3181680.0\n",
       "2  3:ttt#t#:t  LICORES           7413120.0\n",
       "3  3:ttt#t#:t  LICORES           5082480.0\n",
       "4  3:ttt#t#:t  LICORES            273960.0"
      ]
     },
     "execution_count": 116,
     "metadata": {},
     "output_type": "execute_result"
    }
   ],
   "source": [
    "#Filter common attributes between taxes tables\n",
    "df_Licores.head()\n",
    "df_Licores[['NIT', 'CLASE', 'IMPUESTO_DECLARADO']].head()"
   ]
  },
  {
   "cell_type": "markdown",
   "metadata": {},
   "source": [
    "<h2>12. Loterias</h2>\n",
    "<h3>12.1 Distribución de Valores Faltantes</h3>"
   ]
  },
  {
   "cell_type": "markdown",
   "metadata": {},
   "source": [
    "<h2>12. Lottery tax</h2>\n",
    "<h3>12.1 Distribution of Missing Values</h3>"
   ]
  },
  {
   "cell_type": "code",
   "execution_count": 167,
   "metadata": {},
   "outputs": [],
   "source": [
    "#data set reading\n",
    "df_loterias_A_M = pd.read_excel(r\"loterias  A M.xlsx\")\n",
    "#msno.matrix(df_loterias_A_M)"
   ]
  },
  {
   "cell_type": "markdown",
   "metadata": {},
   "source": [
    "<h3>12.2 Eminación de Datos NAN</h3>"
   ]
  },
  {
   "cell_type": "markdown",
   "metadata": {},
   "source": [
    "<h3>12.2 Removal of NAN Data</h3>"
   ]
  },
  {
   "cell_type": "code",
   "execution_count": 168,
   "metadata": {},
   "outputs": [],
   "source": [
    "df_loterias = df_loterias_A_M.dropna(how=\"all\",axis=1)\n",
    "#msno.matrix(df_loterias)"
   ]
  },
  {
   "cell_type": "markdown",
   "metadata": {},
   "source": [
    "<h3>12.3 DataFrame Columns</h3>"
   ]
  },
  {
   "cell_type": "code",
   "execution_count": 169,
   "metadata": {
    "scrolled": true
   },
   "outputs": [
    {
     "name": "stdout",
     "output_type": "stream",
     "text": [
      "Index(['NIT', 'NUMERO', 'DESCRIPCION', 'TOTAL', 'ESTADO', 'PRDO_GRVBLE_ANO',\n",
      "       'PRDO_GRVBLE_MES', 'CDGO_DPRTMNTO', 'DSCRPCN_DPRTMNTO', 'CDGO_MNCPO',\n",
      "       'DSCRPCN_MNCPO', 'DRCCN', 'PRMR_NMBR_USRO', 'DSCRPCN_IMPSTO', 'ORDEN'],\n",
      "      dtype='object')\n",
      "Columnas: 15\n"
     ]
    }
   ],
   "source": [
    "print(df_loterias.columns)\n",
    "print(\"Columnas:\",len(df_loterias.columns))"
   ]
  },
  {
   "cell_type": "markdown",
   "metadata": {},
   "source": [
    "<h2>13. Gasolina</h2>\n",
    "<h3>13.1 Distribución de Valores Faltantes</h3>"
   ]
  },
  {
   "cell_type": "markdown",
   "metadata": {},
   "source": [
    "<h2>13. Fuel tax</h2>\n",
    "<h3>13.1 Distribution of Missing Values</h3>"
   ]
  },
  {
   "cell_type": "code",
   "execution_count": 153,
   "metadata": {},
   "outputs": [],
   "source": [
    "#data set reading\n",
    "df_sobretasaalagasolinaAM= pd.read_excel(r\"sobretasa a la gasolina  A M.xlsx\")\n",
    "#msno.matrix(df_sobretasaalagasolinaAM)"
   ]
  },
  {
   "cell_type": "markdown",
   "metadata": {},
   "source": [
    "<h3>19.2 Eminación de Datos NAN</h3>"
   ]
  },
  {
   "cell_type": "markdown",
   "metadata": {},
   "source": [
    "<h3>13.2 Removal of NAN Data</h3>"
   ]
  },
  {
   "cell_type": "code",
   "execution_count": 154,
   "metadata": {},
   "outputs": [],
   "source": [
    "df_gasolina = df_sobretasaalagasolinaAM.dropna(how=\"all\",axis=1)\n",
    "#msno.matrix(df_gasolina)"
   ]
  },
  {
   "cell_type": "markdown",
   "metadata": {},
   "source": [
    "<h3>13.3 DataFrame Columns</h3>"
   ]
  },
  {
   "cell_type": "code",
   "execution_count": 155,
   "metadata": {},
   "outputs": [
    {
     "name": "stdout",
     "output_type": "stream",
     "text": [
      "Index(['NIT', 'RAZON', 'NUMERO', 'DESCRIPCION', 'TOTAL', 'FCHA_RCDO',\n",
      "       'CNSCTVO_BNCO', 'BANCO', 'ESTADO', 'SUCURSAL', 'PRDO_GRVBLE_ANO',\n",
      "       'PRDO_GRVBLE_MES', 'CDGO_DPRTMNTO', 'DSCRPCN_DPRTMNTO', 'CDGO_MNCPO',\n",
      "       'DSCRPCN_MNCPO', 'DRCCN', 'PRMR_NMBR_USRO', 'DSCRPCN_IMPSTO', 'ORDEN'],\n",
      "      dtype='object')\n",
      "Columnas: 20\n"
     ]
    }
   ],
   "source": [
    "print(df_gasolina.columns)\n",
    "print(\"Columnas:\",len(df_gasolina.columns))"
   ]
  },
  {
   "cell_type": "markdown",
   "metadata": {},
   "source": [
    "<h2>14. Deguello</h2>\n",
    "<h3>14.1 Distribución de Valores Faltantes</h3>"
   ]
  },
  {
   "cell_type": "markdown",
   "metadata": {},
   "source": [
    "<h2>14. Deguello tax</h2>\n",
    "<h3>14.1 Distribution of Missing Values</h3>"
   ]
  },
  {
   "cell_type": "code",
   "execution_count": 121,
   "metadata": {},
   "outputs": [],
   "source": [
    "#data set reading\n",
    "df_deguelloAM= pd.read_excel(r\"deguello  A M.xlsx\")\n",
    "#msno.matrix(df_deguelloAM)"
   ]
  },
  {
   "cell_type": "markdown",
   "metadata": {},
   "source": [
    "<h3>14.2 Eminación de Datos NAN</h3>"
   ]
  },
  {
   "cell_type": "markdown",
   "metadata": {},
   "source": [
    "<h3>14.2 Removal of NAN Data</h3>"
   ]
  },
  {
   "cell_type": "code",
   "execution_count": 122,
   "metadata": {},
   "outputs": [],
   "source": [
    "df_deguello = df_deguelloAM.dropna(how=\"all\",axis=1)\n",
    "#msno.matrix(df_deguello)"
   ]
  },
  {
   "cell_type": "markdown",
   "metadata": {},
   "source": [
    "<h3>14.3 DataFrame Columns</h3>"
   ]
  },
  {
   "cell_type": "code",
   "execution_count": 123,
   "metadata": {
    "scrolled": true
   },
   "outputs": [
    {
     "name": "stdout",
     "output_type": "stream",
     "text": [
      "Index(['NIT', 'NUMERO', 'DESCRIPCION', 'TOTAL', 'FCHA_RCDO', 'CNSCTVO_BNCO',\n",
      "       'BANCO', 'ESTADO', 'SUCURSAL', 'PRDO_GRVBLE_ANO', 'PRDO_GRVBLE_MES',\n",
      "       'CDGO_DPRTMNTO', 'DSCRPCN_DPRTMNTO', 'CDGO_MNCPO', 'DSCRPCN_MNCPO',\n",
      "       'DRCCN', 'PRMR_NMBR_USRO', 'DSCRPCN_IMPSTO', 'ORDEN'],\n",
      "      dtype='object')\n",
      "Columnas: 19\n"
     ]
    }
   ],
   "source": [
    "print(df_deguello.columns)\n",
    "print(\"Columnas:\",len(df_deguello.columns))"
   ]
  },
  {
   "cell_type": "code",
   "execution_count": 2,
   "metadata": {},
   "outputs": [],
   "source": [
    "#Filter common attributes between taxes tables\n",
    "df_deguello.head()\n",
    "df_deguello[['NIT', 'DESCRIPCION', 'DSCRPCN_MNCPO', 'TOTAL', 'ESTADO']].head()"
   ]
  },
  {
   "cell_type": "markdown",
   "metadata": {},
   "source": [
    "<h2>15. Relación de Ventas</h2>\n",
    "<h3>15.1 Distribución de Valores Faltantes</h3>"
   ]
  },
  {
   "cell_type": "markdown",
   "metadata": {},
   "source": [
    "\n",
    "<h2>15. sales relationship</h2>\n",
    "<h3>15.1 Distribution of Missing Values</h3>"
   ]
  },
  {
   "cell_type": "code",
   "execution_count": 146,
   "metadata": {},
   "outputs": [],
   "source": [
    "#data set reading\n",
    "df_RELACIONDEVEntasyPD2015AL2019am = pd.read_excel(r\"RELACION DE VEntas y PD 2015 AL 2019 a m.xlsx\")\n",
    "#msno.matrix(df_RELACIONDEVEntasyPD2015AL2019am)"
   ]
  },
  {
   "cell_type": "markdown",
   "metadata": {},
   "source": [
    "<h3>15.2 Eminación de Datos NAN</h3>"
   ]
  },
  {
   "cell_type": "markdown",
   "metadata": {},
   "source": [
    "<h3>15.2 Removal of NAN Data</h3>"
   ]
  },
  {
   "cell_type": "code",
   "execution_count": 147,
   "metadata": {},
   "outputs": [],
   "source": [
    "df_RELACIONDEVEntasyPD2015AL2019 = df_RELACIONDEVEntasyPD2015AL2019am.dropna(how=\"all\",axis=1)\n",
    "#msno.matrix(df_RELACIONDEVEntasyPD2015AL2019)"
   ]
  },
  {
   "cell_type": "markdown",
   "metadata": {},
   "source": [
    "<h3>15.3 DataFrame Columns</h3>"
   ]
  },
  {
   "cell_type": "code",
   "execution_count": 148,
   "metadata": {
    "scrolled": true
   },
   "outputs": [
    {
     "name": "stdout",
     "output_type": "stream",
     "text": [
      "Index(['MOVIMIENTOS POR RANGO DE FECHA', 'Unnamed: 1', 'Unnamed: 4',\n",
      "       'Unnamed: 5', 'Unnamed: 6', 'Unnamed: 7', 'Unnamed: 8', 'Unnamed: 9',\n",
      "       'Unnamed: 10', 'Unnamed: 11', 'Unnamed: 12', 'Unnamed: 13',\n",
      "       'Unnamed: 14', 'Unnamed: 15', 'Unnamed: 16', 'Unnamed: 17',\n",
      "       'Unnamed: 18', 'Unnamed: 19', 'Unnamed: 20', 'Unnamed: 21',\n",
      "       'Unnamed: 22', 'Unnamed: 23', 'Unnamed: 24', 'Unnamed: 25',\n",
      "       'Unnamed: 26'],\n",
      "      dtype='object')\n",
      "Columnas: 25\n"
     ]
    }
   ],
   "source": [
    "print(df_RELACIONDEVEntasyPD2015AL2019.columns)\n",
    "print(\"Columnas:\",len(df_RELACIONDEVEntasyPD2015AL2019.columns))"
   ]
  },
  {
   "cell_type": "markdown",
   "metadata": {},
   "source": [
    "<h2>16. Rentas 240</h2>\n",
    "<h3>16.1 Distribución de Valores Faltantes</h3>"
   ]
  },
  {
   "cell_type": "markdown",
   "metadata": {},
   "source": [
    "<h2>16. Format income 240</h2>\n",
    "<h3>16.1 Distribution of Missing Values</h3>"
   ]
  },
  {
   "cell_type": "code",
   "execution_count": 128,
   "metadata": {},
   "outputs": [],
   "source": [
    "#data set reading\n",
    "df_form240AM = pd.read_excel(r\"form 240 AM.xlsx\")\n",
    "#msno.matrix(df_form240AM)"
   ]
  },
  {
   "cell_type": "markdown",
   "metadata": {},
   "source": [
    "<h3>16.2 Eminación de Datos NAN</h3>"
   ]
  },
  {
   "cell_type": "markdown",
   "metadata": {},
   "source": [
    "<h3>16.2 Removal of NAN Data</h3>"
   ]
  },
  {
   "cell_type": "code",
   "execution_count": 129,
   "metadata": {},
   "outputs": [],
   "source": [
    "df_240 = df_form240AM.dropna(how=\"all\",axis=1)\n",
    "#msno.matrix(df_240 )"
   ]
  },
  {
   "cell_type": "markdown",
   "metadata": {},
   "source": [
    "<h3>16.3 DataFrame Columns</h3>"
   ]
  },
  {
   "cell_type": "code",
   "execution_count": 132,
   "metadata": {
    "scrolled": false
   },
   "outputs": [
    {
     "name": "stdout",
     "output_type": "stream",
     "text": [
      "Index(['Año Gravable', 'Número Nit', 'Código Departamento', 'Código Municipio',\n",
      "       'Código Actividad Económica Principal', 'Total Patrimonio Bruto (55)',\n",
      "       'RGA IMAS T-Ingresos brutos trabajador cuenta propia (743)',\n",
      "       'RGA IMAS T-Otros ingresos (744)',\n",
      "       'RGA IMAS T-Ingresos excluidos de la base (745)',\n",
      "       'RGA IMAS T-Total ingresos Renta (746)',\n",
      "       'RGA IMAS T- Devolución rebajas descuentos trabajador cuenta propia (747)',\n",
      "       'RGA IMAS T-Total ingresos netos (748)'],\n",
      "      dtype='object')\n",
      "Columnas: 12\n"
     ]
    }
   ],
   "source": [
    "print(df_240.columns)\n",
    "print(\"Columnas:\",len(df_240.columns))"
   ]
  },
  {
   "cell_type": "code",
   "execution_count": 133,
   "metadata": {},
   "outputs": [
    {
     "data": {
      "text/html": [
       "<div>\n",
       "<style scoped>\n",
       "    .dataframe tbody tr th:only-of-type {\n",
       "        vertical-align: middle;\n",
       "    }\n",
       "\n",
       "    .dataframe tbody tr th {\n",
       "        vertical-align: top;\n",
       "    }\n",
       "\n",
       "    .dataframe thead th {\n",
       "        text-align: right;\n",
       "    }\n",
       "</style>\n",
       "<table border=\"1\" class=\"dataframe\">\n",
       "  <thead>\n",
       "    <tr style=\"text-align: right;\">\n",
       "      <th></th>\n",
       "      <th>Número Nit</th>\n",
       "      <th>Código Actividad Económica Principal</th>\n",
       "      <th>RGA IMAS T-Total ingresos netos (748)</th>\n",
       "      <th>Total Patrimonio Bruto (55)</th>\n",
       "    </tr>\n",
       "  </thead>\n",
       "  <tbody>\n",
       "    <tr>\n",
       "      <th>0</th>\n",
       "      <td>b3:&amp;b3:(</td>\n",
       "      <td>8622</td>\n",
       "      <td>25450000</td>\n",
       "      <td>140250000</td>\n",
       "    </tr>\n",
       "    <tr>\n",
       "      <th>1</th>\n",
       "      <td>:rthht((</td>\n",
       "      <td>4923</td>\n",
       "      <td>38196000</td>\n",
       "      <td>257719000</td>\n",
       "    </tr>\n",
       "    <tr>\n",
       "      <th>2</th>\n",
       "      <td>bhe3re:h</td>\n",
       "      <td>124</td>\n",
       "      <td>142477000</td>\n",
       "      <td>170150000</td>\n",
       "    </tr>\n",
       "    <tr>\n",
       "      <th>3</th>\n",
       "      <td>h:rrhb(3</td>\n",
       "      <td>4290</td>\n",
       "      <td>105537000</td>\n",
       "      <td>58900000</td>\n",
       "    </tr>\n",
       "    <tr>\n",
       "      <th>4</th>\n",
       "      <td>::e::hh#</td>\n",
       "      <td>4719</td>\n",
       "      <td>18138000</td>\n",
       "      <td>15679000</td>\n",
       "    </tr>\n",
       "    <tr>\n",
       "      <th>5</th>\n",
       "      <td>h::3&amp;:3e</td>\n",
       "      <td>4923</td>\n",
       "      <td>60775000</td>\n",
       "      <td>60000000</td>\n",
       "    </tr>\n",
       "    <tr>\n",
       "      <th>6</th>\n",
       "      <td>hhbt(eh&amp;rb</td>\n",
       "      <td>722</td>\n",
       "      <td>99571000</td>\n",
       "      <td>20500000</td>\n",
       "    </tr>\n",
       "    <tr>\n",
       "      <th>7</th>\n",
       "      <td>rt3#(r:r</td>\n",
       "      <td>4711</td>\n",
       "      <td>50000000</td>\n",
       "      <td>75000000</td>\n",
       "    </tr>\n",
       "    <tr>\n",
       "      <th>8</th>\n",
       "      <td>hhbt:bbb3e</td>\n",
       "      <td>4923</td>\n",
       "      <td>153800000</td>\n",
       "      <td>124789000</td>\n",
       "    </tr>\n",
       "    <tr>\n",
       "      <th>9</th>\n",
       "      <td>b:t3:3&amp;:</td>\n",
       "      <td>4773</td>\n",
       "      <td>783424000</td>\n",
       "      <td>300462000</td>\n",
       "    </tr>\n",
       "    <tr>\n",
       "      <th>10</th>\n",
       "      <td>hhbt:h:bbr</td>\n",
       "      <td>4771</td>\n",
       "      <td>60000000</td>\n",
       "      <td>32800000</td>\n",
       "    </tr>\n",
       "    <tr>\n",
       "      <th>11</th>\n",
       "      <td>h:(3re(h</td>\n",
       "      <td>4923</td>\n",
       "      <td>121611000</td>\n",
       "      <td>273446000</td>\n",
       "    </tr>\n",
       "    <tr>\n",
       "      <th>12</th>\n",
       "      <td>hh&amp;&amp;t:(:t#</td>\n",
       "      <td>5611</td>\n",
       "      <td>97073000</td>\n",
       "      <td>102541000</td>\n",
       "    </tr>\n",
       "    <tr>\n",
       "      <th>13</th>\n",
       "      <td>h:b::&amp;&amp;&amp;</td>\n",
       "      <td>5611</td>\n",
       "      <td>102800000</td>\n",
       "      <td>106800000</td>\n",
       "    </tr>\n",
       "    <tr>\n",
       "      <th>14</th>\n",
       "      <td>::3(:r#&amp;</td>\n",
       "      <td>4921</td>\n",
       "      <td>210079000</td>\n",
       "      <td>535921000</td>\n",
       "    </tr>\n",
       "    <tr>\n",
       "      <th>15</th>\n",
       "      <td>r(tbe(hr</td>\n",
       "      <td>4721</td>\n",
       "      <td>117735000</td>\n",
       "      <td>245375000</td>\n",
       "    </tr>\n",
       "    <tr>\n",
       "      <th>16</th>\n",
       "      <td>h:rebrt&amp;</td>\n",
       "      <td>4921</td>\n",
       "      <td>228060000</td>\n",
       "      <td>287604000</td>\n",
       "    </tr>\n",
       "    <tr>\n",
       "      <th>17</th>\n",
       "      <td>h&amp;e&amp;&amp;&amp;&amp;3</td>\n",
       "      <td>4923</td>\n",
       "      <td>89791000</td>\n",
       "      <td>92000000</td>\n",
       "    </tr>\n",
       "    <tr>\n",
       "      <th>18</th>\n",
       "      <td>#e(3##h3</td>\n",
       "      <td>9521</td>\n",
       "      <td>0</td>\n",
       "      <td>147697000</td>\n",
       "    </tr>\n",
       "    <tr>\n",
       "      <th>19</th>\n",
       "      <td>h(eh((h#</td>\n",
       "      <td>121</td>\n",
       "      <td>102772000</td>\n",
       "      <td>135766000</td>\n",
       "    </tr>\n",
       "    <tr>\n",
       "      <th>20</th>\n",
       "      <td>h&amp;&amp;:rt(r</td>\n",
       "      <td>1812</td>\n",
       "      <td>183983000</td>\n",
       "      <td>7515000</td>\n",
       "    </tr>\n",
       "    <tr>\n",
       "      <th>21</th>\n",
       "      <td>e&amp;be3th(</td>\n",
       "      <td>1811</td>\n",
       "      <td>47874000</td>\n",
       "      <td>33651000</td>\n",
       "    </tr>\n",
       "    <tr>\n",
       "      <th>22</th>\n",
       "      <td>#(rh##t(</td>\n",
       "      <td>90</td>\n",
       "      <td>243578000</td>\n",
       "      <td>664505000</td>\n",
       "    </tr>\n",
       "    <tr>\n",
       "      <th>23</th>\n",
       "      <td>hh&amp;&amp;hbbthr</td>\n",
       "      <td>1410</td>\n",
       "      <td>41966000</td>\n",
       "      <td>44401000</td>\n",
       "    </tr>\n",
       "    <tr>\n",
       "      <th>24</th>\n",
       "      <td>#errhrb#</td>\n",
       "      <td>4923</td>\n",
       "      <td>56484000</td>\n",
       "      <td>86186000</td>\n",
       "    </tr>\n",
       "    <tr>\n",
       "      <th>25</th>\n",
       "      <td>hhbt:r&amp;#b#</td>\n",
       "      <td>4773</td>\n",
       "      <td>73615000</td>\n",
       "      <td>108463000</td>\n",
       "    </tr>\n",
       "    <tr>\n",
       "      <th>26</th>\n",
       "      <td>h::(br(h</td>\n",
       "      <td>4923</td>\n",
       "      <td>73277000</td>\n",
       "      <td>81355000</td>\n",
       "    </tr>\n",
       "    <tr>\n",
       "      <th>27</th>\n",
       "      <td>hhh3#ee(&amp;3</td>\n",
       "      <td>4923</td>\n",
       "      <td>217220000</td>\n",
       "      <td>510550000</td>\n",
       "    </tr>\n",
       "    <tr>\n",
       "      <th>28</th>\n",
       "      <td>e3bbe3eh</td>\n",
       "      <td>4711</td>\n",
       "      <td>37700000</td>\n",
       "      <td>73070000</td>\n",
       "    </tr>\n",
       "    <tr>\n",
       "      <th>29</th>\n",
       "      <td>#e33&amp;te:</td>\n",
       "      <td>6810</td>\n",
       "      <td>32431000</td>\n",
       "      <td>288024000</td>\n",
       "    </tr>\n",
       "    <tr>\n",
       "      <th>30</th>\n",
       "      <td>e&amp;bbhr(3</td>\n",
       "      <td>4711</td>\n",
       "      <td>117415000</td>\n",
       "      <td>181783000</td>\n",
       "    </tr>\n",
       "    <tr>\n",
       "      <th>31</th>\n",
       "      <td>h:3(:(te</td>\n",
       "      <td>113</td>\n",
       "      <td>451705000</td>\n",
       "      <td>241039000</td>\n",
       "    </tr>\n",
       "    <tr>\n",
       "      <th>32</th>\n",
       "      <td>#:rrer3</td>\n",
       "      <td>123</td>\n",
       "      <td>53623000</td>\n",
       "      <td>56769000</td>\n",
       "    </tr>\n",
       "    <tr>\n",
       "      <th>33</th>\n",
       "      <td>e&amp;b:r#h(</td>\n",
       "      <td>10</td>\n",
       "      <td>568466000</td>\n",
       "      <td>628260000</td>\n",
       "    </tr>\n",
       "    <tr>\n",
       "      <th>34</th>\n",
       "      <td>bhe3e#3:</td>\n",
       "      <td>6311</td>\n",
       "      <td>21302000</td>\n",
       "      <td>242655000</td>\n",
       "    </tr>\n",
       "    <tr>\n",
       "      <th>35</th>\n",
       "      <td>#(h3the</td>\n",
       "      <td>4759</td>\n",
       "      <td>58000000</td>\n",
       "      <td>438878000</td>\n",
       "    </tr>\n",
       "    <tr>\n",
       "      <th>36</th>\n",
       "      <td>h3:hr(e#</td>\n",
       "      <td>4754</td>\n",
       "      <td>235755000</td>\n",
       "      <td>135735000</td>\n",
       "    </tr>\n",
       "    <tr>\n",
       "      <th>37</th>\n",
       "      <td>h:r(:ht&amp;</td>\n",
       "      <td>4799</td>\n",
       "      <td>187000000</td>\n",
       "      <td>76784000</td>\n",
       "    </tr>\n",
       "    <tr>\n",
       "      <th>38</th>\n",
       "      <td>bh&amp;#3#:t</td>\n",
       "      <td>10</td>\n",
       "      <td>92368000</td>\n",
       "      <td>331675000</td>\n",
       "    </tr>\n",
       "    <tr>\n",
       "      <th>39</th>\n",
       "      <td>e&amp;(h3((3</td>\n",
       "      <td>8299</td>\n",
       "      <td>646924000</td>\n",
       "      <td>384451000</td>\n",
       "    </tr>\n",
       "    <tr>\n",
       "      <th>40</th>\n",
       "      <td>b:#r3h3&amp;</td>\n",
       "      <td>1410</td>\n",
       "      <td>185446000</td>\n",
       "      <td>94289000</td>\n",
       "    </tr>\n",
       "    <tr>\n",
       "      <th>41</th>\n",
       "      <td>(he:&amp;brr</td>\n",
       "      <td>4799</td>\n",
       "      <td>163292000</td>\n",
       "      <td>86391000</td>\n",
       "    </tr>\n",
       "    <tr>\n",
       "      <th>42</th>\n",
       "      <td>#h&amp;e#3&amp;:</td>\n",
       "      <td>5611</td>\n",
       "      <td>79801000</td>\n",
       "      <td>103789000</td>\n",
       "    </tr>\n",
       "    <tr>\n",
       "      <th>43</th>\n",
       "      <td>hhh:#b(t&amp;b</td>\n",
       "      <td>4923</td>\n",
       "      <td>95200000</td>\n",
       "      <td>108000000</td>\n",
       "    </tr>\n",
       "    <tr>\n",
       "      <th>44</th>\n",
       "      <td>:rth#3tb</td>\n",
       "      <td>7020</td>\n",
       "      <td>78524000</td>\n",
       "      <td>29698000</td>\n",
       "    </tr>\n",
       "    <tr>\n",
       "      <th>45</th>\n",
       "      <td>h(3hb(r#</td>\n",
       "      <td>1410</td>\n",
       "      <td>204243000</td>\n",
       "      <td>90387000</td>\n",
       "    </tr>\n",
       "    <tr>\n",
       "      <th>46</th>\n",
       "      <td>h::(::eh</td>\n",
       "      <td>4923</td>\n",
       "      <td>30012000</td>\n",
       "      <td>258780000</td>\n",
       "    </tr>\n",
       "    <tr>\n",
       "      <th>47</th>\n",
       "      <td>#((&amp;b&amp;e(</td>\n",
       "      <td>1410</td>\n",
       "      <td>128401000</td>\n",
       "      <td>115507000</td>\n",
       "    </tr>\n",
       "    <tr>\n",
       "      <th>48</th>\n",
       "      <td>hh&amp;be&amp;t3hh</td>\n",
       "      <td>4723</td>\n",
       "      <td>62000000</td>\n",
       "      <td>52000000</td>\n",
       "    </tr>\n",
       "    <tr>\n",
       "      <th>49</th>\n",
       "      <td>#errh:ee</td>\n",
       "      <td>4759</td>\n",
       "      <td>35448000</td>\n",
       "      <td>369966000</td>\n",
       "    </tr>\n",
       "    <tr>\n",
       "      <th>...</th>\n",
       "      <td>...</td>\n",
       "      <td>...</td>\n",
       "      <td>...</td>\n",
       "      <td>...</td>\n",
       "    </tr>\n",
       "    <tr>\n",
       "      <th>2849</th>\n",
       "      <td>#e3rr(r#</td>\n",
       "      <td>7020</td>\n",
       "      <td>164829000</td>\n",
       "      <td>547327000</td>\n",
       "    </tr>\n",
       "    <tr>\n",
       "      <th>2850</th>\n",
       "      <td>h&amp;eb((3:</td>\n",
       "      <td>4923</td>\n",
       "      <td>48622000</td>\n",
       "      <td>123500000</td>\n",
       "    </tr>\n",
       "    <tr>\n",
       "      <th>2851</th>\n",
       "      <td>#ehrrbr:</td>\n",
       "      <td>4759</td>\n",
       "      <td>113296000</td>\n",
       "      <td>30514000</td>\n",
       "    </tr>\n",
       "    <tr>\n",
       "      <th>2852</th>\n",
       "      <td>h:&amp;(bb3:</td>\n",
       "      <td>4752</td>\n",
       "      <td>38984000</td>\n",
       "      <td>10000000</td>\n",
       "    </tr>\n",
       "    <tr>\n",
       "      <th>2853</th>\n",
       "      <td>#err&amp;3(3</td>\n",
       "      <td>4771</td>\n",
       "      <td>115959000</td>\n",
       "      <td>70845000</td>\n",
       "    </tr>\n",
       "    <tr>\n",
       "      <th>2854</th>\n",
       "      <td>:ht&amp;eeb</td>\n",
       "      <td>1410</td>\n",
       "      <td>8422000</td>\n",
       "      <td>55000000</td>\n",
       "    </tr>\n",
       "    <tr>\n",
       "      <th>2855</th>\n",
       "      <td>e&amp;(h33&amp;h</td>\n",
       "      <td>4923</td>\n",
       "      <td>104117000</td>\n",
       "      <td>148242000</td>\n",
       "    </tr>\n",
       "    <tr>\n",
       "      <th>2856</th>\n",
       "      <td>bh#&amp;h#eh</td>\n",
       "      <td>4771</td>\n",
       "      <td>238485000</td>\n",
       "      <td>274172000</td>\n",
       "    </tr>\n",
       "    <tr>\n",
       "      <th>2857</th>\n",
       "      <td>&amp;b:&amp;(3&amp;&amp;</td>\n",
       "      <td>4711</td>\n",
       "      <td>93776000</td>\n",
       "      <td>7889000</td>\n",
       "    </tr>\n",
       "    <tr>\n",
       "      <th>2858</th>\n",
       "      <td>hh&amp;&amp;tbt#eb</td>\n",
       "      <td>7310</td>\n",
       "      <td>62619000</td>\n",
       "      <td>11000</td>\n",
       "    </tr>\n",
       "    <tr>\n",
       "      <th>2859</th>\n",
       "      <td>::et:re#</td>\n",
       "      <td>82</td>\n",
       "      <td>54423000</td>\n",
       "      <td>139783000</td>\n",
       "    </tr>\n",
       "    <tr>\n",
       "      <th>2860</th>\n",
       "      <td>bh3:e33r</td>\n",
       "      <td>1410</td>\n",
       "      <td>246430000</td>\n",
       "      <td>224647000</td>\n",
       "    </tr>\n",
       "    <tr>\n",
       "      <th>2861</th>\n",
       "      <td>::3:#3e&amp;</td>\n",
       "      <td>4773</td>\n",
       "      <td>150578000</td>\n",
       "      <td>198400000</td>\n",
       "    </tr>\n",
       "    <tr>\n",
       "      <th>2862</th>\n",
       "      <td>h:(b:&amp;h3</td>\n",
       "      <td>4774</td>\n",
       "      <td>198590000</td>\n",
       "      <td>195780000</td>\n",
       "    </tr>\n",
       "    <tr>\n",
       "      <th>2863</th>\n",
       "      <td>:((3&amp;:t</td>\n",
       "      <td>4921</td>\n",
       "      <td>41906000</td>\n",
       "      <td>352163000</td>\n",
       "    </tr>\n",
       "    <tr>\n",
       "      <th>2864</th>\n",
       "      <td>e3b:r:&amp;r</td>\n",
       "      <td>4923</td>\n",
       "      <td>47031000</td>\n",
       "      <td>301400000</td>\n",
       "    </tr>\n",
       "    <tr>\n",
       "      <th>2865</th>\n",
       "      <td>rt3#rh3&amp;</td>\n",
       "      <td>4719</td>\n",
       "      <td>313379000</td>\n",
       "      <td>185208000</td>\n",
       "    </tr>\n",
       "    <tr>\n",
       "      <th>2866</th>\n",
       "      <td>bherereb</td>\n",
       "      <td>8559</td>\n",
       "      <td>110571000</td>\n",
       "      <td>118500000</td>\n",
       "    </tr>\n",
       "    <tr>\n",
       "      <th>2867</th>\n",
       "      <td>#e:(:(r:</td>\n",
       "      <td>4921</td>\n",
       "      <td>180260000</td>\n",
       "      <td>342002000</td>\n",
       "    </tr>\n",
       "    <tr>\n",
       "      <th>2868</th>\n",
       "      <td>bh:(rr3b</td>\n",
       "      <td>90</td>\n",
       "      <td>128720000</td>\n",
       "      <td>694504000</td>\n",
       "    </tr>\n",
       "    <tr>\n",
       "      <th>2869</th>\n",
       "      <td>b3:&amp;tbr3</td>\n",
       "      <td>4719</td>\n",
       "      <td>152100000</td>\n",
       "      <td>505600000</td>\n",
       "    </tr>\n",
       "    <tr>\n",
       "      <th>2870</th>\n",
       "      <td>h:hhtbh#</td>\n",
       "      <td>4721</td>\n",
       "      <td>93029000</td>\n",
       "      <td>186589000</td>\n",
       "    </tr>\n",
       "    <tr>\n",
       "      <th>2871</th>\n",
       "      <td>hthrh3:&amp;bh</td>\n",
       "      <td>4751</td>\n",
       "      <td>100959000</td>\n",
       "      <td>91460000</td>\n",
       "    </tr>\n",
       "    <tr>\n",
       "      <th>2872</th>\n",
       "      <td>h:ebb3t:</td>\n",
       "      <td>4741</td>\n",
       "      <td>51606000</td>\n",
       "      <td>61173000</td>\n",
       "    </tr>\n",
       "    <tr>\n",
       "      <th>2873</th>\n",
       "      <td>bh&amp;e(#hh</td>\n",
       "      <td>124</td>\n",
       "      <td>40929000</td>\n",
       "      <td>222709000</td>\n",
       "    </tr>\n",
       "    <tr>\n",
       "      <th>2874</th>\n",
       "      <td>h:rrh(#e</td>\n",
       "      <td>6190</td>\n",
       "      <td>193320000</td>\n",
       "      <td>359000000</td>\n",
       "    </tr>\n",
       "    <tr>\n",
       "      <th>2875</th>\n",
       "      <td>h&amp;&amp;r#bb&amp;</td>\n",
       "      <td>4719</td>\n",
       "      <td>145126000</td>\n",
       "      <td>121811000</td>\n",
       "    </tr>\n",
       "    <tr>\n",
       "      <th>2876</th>\n",
       "      <td>:he3##3</td>\n",
       "      <td>4923</td>\n",
       "      <td>296913000</td>\n",
       "      <td>367000000</td>\n",
       "    </tr>\n",
       "    <tr>\n",
       "      <th>2877</th>\n",
       "      <td>::3#er33</td>\n",
       "      <td>5629</td>\n",
       "      <td>150178000</td>\n",
       "      <td>65000000</td>\n",
       "    </tr>\n",
       "    <tr>\n",
       "      <th>2878</th>\n",
       "      <td>h::#(ere</td>\n",
       "      <td>4921</td>\n",
       "      <td>47003000</td>\n",
       "      <td>105836000</td>\n",
       "    </tr>\n",
       "    <tr>\n",
       "      <th>2879</th>\n",
       "      <td>h:&amp;3&amp;3&amp;r</td>\n",
       "      <td>4921</td>\n",
       "      <td>160353000</td>\n",
       "      <td>264743000</td>\n",
       "    </tr>\n",
       "    <tr>\n",
       "      <th>2880</th>\n",
       "      <td>::e&amp;3::e</td>\n",
       "      <td>90</td>\n",
       "      <td>266700000</td>\n",
       "      <td>188986000</td>\n",
       "    </tr>\n",
       "    <tr>\n",
       "      <th>2881</th>\n",
       "      <td>h&amp;&amp;b3#th</td>\n",
       "      <td>4923</td>\n",
       "      <td>68666000</td>\n",
       "      <td>82000000</td>\n",
       "    </tr>\n",
       "    <tr>\n",
       "      <th>2882</th>\n",
       "      <td>&amp;bt3eh#(</td>\n",
       "      <td>5611</td>\n",
       "      <td>55189000</td>\n",
       "      <td>73002000</td>\n",
       "    </tr>\n",
       "    <tr>\n",
       "      <th>2883</th>\n",
       "      <td>h::h&amp;br&amp;</td>\n",
       "      <td>2511</td>\n",
       "      <td>55824000</td>\n",
       "      <td>21589000</td>\n",
       "    </tr>\n",
       "    <tr>\n",
       "      <th>2884</th>\n",
       "      <td>hhh&amp;333:e3</td>\n",
       "      <td>7410</td>\n",
       "      <td>52165000</td>\n",
       "      <td>131442000</td>\n",
       "    </tr>\n",
       "    <tr>\n",
       "      <th>2885</th>\n",
       "      <td>h:&amp;(:bt&amp;</td>\n",
       "      <td>4923</td>\n",
       "      <td>172045000</td>\n",
       "      <td>92736000</td>\n",
       "    </tr>\n",
       "    <tr>\n",
       "      <th>2886</th>\n",
       "      <td>b33:ehht</td>\n",
       "      <td>4923</td>\n",
       "      <td>236885000</td>\n",
       "      <td>155000000</td>\n",
       "    </tr>\n",
       "    <tr>\n",
       "      <th>2887</th>\n",
       "      <td>b3:&amp;hb&amp;r</td>\n",
       "      <td>4923</td>\n",
       "      <td>79799000</td>\n",
       "      <td>97669000</td>\n",
       "    </tr>\n",
       "    <tr>\n",
       "      <th>2888</th>\n",
       "      <td>h:3b:bb#</td>\n",
       "      <td>112</td>\n",
       "      <td>203320000</td>\n",
       "      <td>26337000</td>\n",
       "    </tr>\n",
       "    <tr>\n",
       "      <th>2889</th>\n",
       "      <td>h:br(3:r</td>\n",
       "      <td>4652</td>\n",
       "      <td>113000000</td>\n",
       "      <td>464786000</td>\n",
       "    </tr>\n",
       "    <tr>\n",
       "      <th>2890</th>\n",
       "      <td>#&amp;bt:#b3</td>\n",
       "      <td>124</td>\n",
       "      <td>56386000</td>\n",
       "      <td>185704000</td>\n",
       "    </tr>\n",
       "    <tr>\n",
       "      <th>2891</th>\n",
       "      <td>hhhb:rbhe&amp;</td>\n",
       "      <td>4772</td>\n",
       "      <td>58503000</td>\n",
       "      <td>53791000</td>\n",
       "    </tr>\n",
       "    <tr>\n",
       "      <th>2892</th>\n",
       "      <td>#e::t(3r</td>\n",
       "      <td>10</td>\n",
       "      <td>77789000</td>\n",
       "      <td>60000000</td>\n",
       "    </tr>\n",
       "    <tr>\n",
       "      <th>2893</th>\n",
       "      <td>bh#:e(#&amp;</td>\n",
       "      <td>5611</td>\n",
       "      <td>793526000</td>\n",
       "      <td>302498000</td>\n",
       "    </tr>\n",
       "    <tr>\n",
       "      <th>2894</th>\n",
       "      <td>e&amp;#3t3:h</td>\n",
       "      <td>2811</td>\n",
       "      <td>42762000</td>\n",
       "      <td>127051000</td>\n",
       "    </tr>\n",
       "    <tr>\n",
       "      <th>2895</th>\n",
       "      <td>:&amp;e3h#(</td>\n",
       "      <td>141</td>\n",
       "      <td>40101000</td>\n",
       "      <td>165638000</td>\n",
       "    </tr>\n",
       "    <tr>\n",
       "      <th>2896</th>\n",
       "      <td>#:bh&amp;#&amp;</td>\n",
       "      <td>141</td>\n",
       "      <td>32240000</td>\n",
       "      <td>242603000</td>\n",
       "    </tr>\n",
       "    <tr>\n",
       "      <th>2897</th>\n",
       "      <td>:bbh#&amp;he</td>\n",
       "      <td>4772</td>\n",
       "      <td>130547000</td>\n",
       "      <td>389396000</td>\n",
       "    </tr>\n",
       "    <tr>\n",
       "      <th>2898</th>\n",
       "      <td>hhh:#rh#bt</td>\n",
       "      <td>5611</td>\n",
       "      <td>162439000</td>\n",
       "      <td>67990000</td>\n",
       "    </tr>\n",
       "  </tbody>\n",
       "</table>\n",
       "<p>2899 rows × 4 columns</p>\n",
       "</div>"
      ],
      "text/plain": [
       "      Número Nit  Código Actividad Económica Principal  \\\n",
       "0       b3:&b3:(                                  8622   \n",
       "1       :rthht((                                  4923   \n",
       "2       bhe3re:h                                   124   \n",
       "3       h:rrhb(3                                  4290   \n",
       "4       ::e::hh#                                  4719   \n",
       "5       h::3&:3e                                  4923   \n",
       "6     hhbt(eh&rb                                   722   \n",
       "7       rt3#(r:r                                  4711   \n",
       "8     hhbt:bbb3e                                  4923   \n",
       "9       b:t3:3&:                                  4773   \n",
       "10    hhbt:h:bbr                                  4771   \n",
       "11      h:(3re(h                                  4923   \n",
       "12    hh&&t:(:t#                                  5611   \n",
       "13      h:b::&&&                                  5611   \n",
       "14      ::3(:r#&                                  4921   \n",
       "15      r(tbe(hr                                  4721   \n",
       "16      h:rebrt&                                  4921   \n",
       "17      h&e&&&&3                                  4923   \n",
       "18      #e(3##h3                                  9521   \n",
       "19      h(eh((h#                                   121   \n",
       "20      h&&:rt(r                                  1812   \n",
       "21      e&be3th(                                  1811   \n",
       "22      #(rh##t(                                    90   \n",
       "23    hh&&hbbthr                                  1410   \n",
       "24      #errhrb#                                  4923   \n",
       "25    hhbt:r&#b#                                  4773   \n",
       "26      h::(br(h                                  4923   \n",
       "27    hhh3#ee(&3                                  4923   \n",
       "28      e3bbe3eh                                  4711   \n",
       "29      #e33&te:                                  6810   \n",
       "30      e&bbhr(3                                  4711   \n",
       "31      h:3(:(te                                   113   \n",
       "32       #:rrer3                                   123   \n",
       "33      e&b:r#h(                                    10   \n",
       "34      bhe3e#3:                                  6311   \n",
       "35       #(h3the                                  4759   \n",
       "36      h3:hr(e#                                  4754   \n",
       "37      h:r(:ht&                                  4799   \n",
       "38      bh&#3#:t                                    10   \n",
       "39      e&(h3((3                                  8299   \n",
       "40      b:#r3h3&                                  1410   \n",
       "41      (he:&brr                                  4799   \n",
       "42      #h&e#3&:                                  5611   \n",
       "43    hhh:#b(t&b                                  4923   \n",
       "44      :rth#3tb                                  7020   \n",
       "45      h(3hb(r#                                  1410   \n",
       "46      h::(::eh                                  4923   \n",
       "47      #((&b&e(                                  1410   \n",
       "48    hh&be&t3hh                                  4723   \n",
       "49      #errh:ee                                  4759   \n",
       "...          ...                                   ...   \n",
       "2849    #e3rr(r#                                  7020   \n",
       "2850    h&eb((3:                                  4923   \n",
       "2851    #ehrrbr:                                  4759   \n",
       "2852    h:&(bb3:                                  4752   \n",
       "2853    #err&3(3                                  4771   \n",
       "2854     :ht&eeb                                  1410   \n",
       "2855    e&(h33&h                                  4923   \n",
       "2856    bh#&h#eh                                  4771   \n",
       "2857    &b:&(3&&                                  4711   \n",
       "2858  hh&&tbt#eb                                  7310   \n",
       "2859    ::et:re#                                    82   \n",
       "2860    bh3:e33r                                  1410   \n",
       "2861    ::3:#3e&                                  4773   \n",
       "2862    h:(b:&h3                                  4774   \n",
       "2863     :((3&:t                                  4921   \n",
       "2864    e3b:r:&r                                  4923   \n",
       "2865    rt3#rh3&                                  4719   \n",
       "2866    bherereb                                  8559   \n",
       "2867    #e:(:(r:                                  4921   \n",
       "2868    bh:(rr3b                                    90   \n",
       "2869    b3:&tbr3                                  4719   \n",
       "2870    h:hhtbh#                                  4721   \n",
       "2871  hthrh3:&bh                                  4751   \n",
       "2872    h:ebb3t:                                  4741   \n",
       "2873    bh&e(#hh                                   124   \n",
       "2874    h:rrh(#e                                  6190   \n",
       "2875    h&&r#bb&                                  4719   \n",
       "2876     :he3##3                                  4923   \n",
       "2877    ::3#er33                                  5629   \n",
       "2878    h::#(ere                                  4921   \n",
       "2879    h:&3&3&r                                  4921   \n",
       "2880    ::e&3::e                                    90   \n",
       "2881    h&&b3#th                                  4923   \n",
       "2882    &bt3eh#(                                  5611   \n",
       "2883    h::h&br&                                  2511   \n",
       "2884  hhh&333:e3                                  7410   \n",
       "2885    h:&(:bt&                                  4923   \n",
       "2886    b33:ehht                                  4923   \n",
       "2887    b3:&hb&r                                  4923   \n",
       "2888    h:3b:bb#                                   112   \n",
       "2889    h:br(3:r                                  4652   \n",
       "2890    #&bt:#b3                                   124   \n",
       "2891  hhhb:rbhe&                                  4772   \n",
       "2892    #e::t(3r                                    10   \n",
       "2893    bh#:e(#&                                  5611   \n",
       "2894    e&#3t3:h                                  2811   \n",
       "2895     :&e3h#(                                   141   \n",
       "2896     #:bh&#&                                   141   \n",
       "2897    :bbh#&he                                  4772   \n",
       "2898  hhh:#rh#bt                                  5611   \n",
       "\n",
       "      RGA IMAS T-Total ingresos netos (748)  Total Patrimonio Bruto (55)  \n",
       "0                                  25450000                    140250000  \n",
       "1                                  38196000                    257719000  \n",
       "2                                 142477000                    170150000  \n",
       "3                                 105537000                     58900000  \n",
       "4                                  18138000                     15679000  \n",
       "5                                  60775000                     60000000  \n",
       "6                                  99571000                     20500000  \n",
       "7                                  50000000                     75000000  \n",
       "8                                 153800000                    124789000  \n",
       "9                                 783424000                    300462000  \n",
       "10                                 60000000                     32800000  \n",
       "11                                121611000                    273446000  \n",
       "12                                 97073000                    102541000  \n",
       "13                                102800000                    106800000  \n",
       "14                                210079000                    535921000  \n",
       "15                                117735000                    245375000  \n",
       "16                                228060000                    287604000  \n",
       "17                                 89791000                     92000000  \n",
       "18                                        0                    147697000  \n",
       "19                                102772000                    135766000  \n",
       "20                                183983000                      7515000  \n",
       "21                                 47874000                     33651000  \n",
       "22                                243578000                    664505000  \n",
       "23                                 41966000                     44401000  \n",
       "24                                 56484000                     86186000  \n",
       "25                                 73615000                    108463000  \n",
       "26                                 73277000                     81355000  \n",
       "27                                217220000                    510550000  \n",
       "28                                 37700000                     73070000  \n",
       "29                                 32431000                    288024000  \n",
       "30                                117415000                    181783000  \n",
       "31                                451705000                    241039000  \n",
       "32                                 53623000                     56769000  \n",
       "33                                568466000                    628260000  \n",
       "34                                 21302000                    242655000  \n",
       "35                                 58000000                    438878000  \n",
       "36                                235755000                    135735000  \n",
       "37                                187000000                     76784000  \n",
       "38                                 92368000                    331675000  \n",
       "39                                646924000                    384451000  \n",
       "40                                185446000                     94289000  \n",
       "41                                163292000                     86391000  \n",
       "42                                 79801000                    103789000  \n",
       "43                                 95200000                    108000000  \n",
       "44                                 78524000                     29698000  \n",
       "45                                204243000                     90387000  \n",
       "46                                 30012000                    258780000  \n",
       "47                                128401000                    115507000  \n",
       "48                                 62000000                     52000000  \n",
       "49                                 35448000                    369966000  \n",
       "...                                     ...                          ...  \n",
       "2849                              164829000                    547327000  \n",
       "2850                               48622000                    123500000  \n",
       "2851                              113296000                     30514000  \n",
       "2852                               38984000                     10000000  \n",
       "2853                              115959000                     70845000  \n",
       "2854                                8422000                     55000000  \n",
       "2855                              104117000                    148242000  \n",
       "2856                              238485000                    274172000  \n",
       "2857                               93776000                      7889000  \n",
       "2858                               62619000                        11000  \n",
       "2859                               54423000                    139783000  \n",
       "2860                              246430000                    224647000  \n",
       "2861                              150578000                    198400000  \n",
       "2862                              198590000                    195780000  \n",
       "2863                               41906000                    352163000  \n",
       "2864                               47031000                    301400000  \n",
       "2865                              313379000                    185208000  \n",
       "2866                              110571000                    118500000  \n",
       "2867                              180260000                    342002000  \n",
       "2868                              128720000                    694504000  \n",
       "2869                              152100000                    505600000  \n",
       "2870                               93029000                    186589000  \n",
       "2871                              100959000                     91460000  \n",
       "2872                               51606000                     61173000  \n",
       "2873                               40929000                    222709000  \n",
       "2874                              193320000                    359000000  \n",
       "2875                              145126000                    121811000  \n",
       "2876                              296913000                    367000000  \n",
       "2877                              150178000                     65000000  \n",
       "2878                               47003000                    105836000  \n",
       "2879                              160353000                    264743000  \n",
       "2880                              266700000                    188986000  \n",
       "2881                               68666000                     82000000  \n",
       "2882                               55189000                     73002000  \n",
       "2883                               55824000                     21589000  \n",
       "2884                               52165000                    131442000  \n",
       "2885                              172045000                     92736000  \n",
       "2886                              236885000                    155000000  \n",
       "2887                               79799000                     97669000  \n",
       "2888                              203320000                     26337000  \n",
       "2889                              113000000                    464786000  \n",
       "2890                               56386000                    185704000  \n",
       "2891                               58503000                     53791000  \n",
       "2892                               77789000                     60000000  \n",
       "2893                              793526000                    302498000  \n",
       "2894                               42762000                    127051000  \n",
       "2895                               40101000                    165638000  \n",
       "2896                               32240000                    242603000  \n",
       "2897                              130547000                    389396000  \n",
       "2898                              162439000                     67990000  \n",
       "\n",
       "[2899 rows x 4 columns]"
      ]
     },
     "execution_count": 133,
     "metadata": {},
     "output_type": "execute_result"
    }
   ],
   "source": [
    "df_240[['Número Nit','Código Actividad Económica Principal', 'RGA IMAS T-Total ingresos netos (748)', 'Total Patrimonio Bruto (55)' ]]"
   ]
  },
  {
   "cell_type": "markdown",
   "metadata": {},
   "source": [
    "<h2>17. Formato 110</h2>\n",
    "<h3>17.1 Distribución de Valores Faltantes</h3>"
   ]
  },
  {
   "cell_type": "markdown",
   "metadata": {},
   "source": [
    "<h2>17. Format 110</h2>\n",
    "<h3>17.1 Distribution of Missing Values</h3>"
   ]
  },
  {
   "cell_type": "code",
   "execution_count": 134,
   "metadata": {},
   "outputs": [],
   "source": [
    "#data set reading\n",
    "df_formato110AM = pd.read_excel(r\"formato 110 AM.xlsx\")\n",
    "#msno.matrix(df_formato110AM)"
   ]
  },
  {
   "cell_type": "markdown",
   "metadata": {},
   "source": [
    "<h3>17.2 Eminación de Datos NAN</h3>"
   ]
  },
  {
   "cell_type": "markdown",
   "metadata": {},
   "source": [
    "<h3>17.2 Removal of NAN Data</h3>"
   ]
  },
  {
   "cell_type": "code",
   "execution_count": 135,
   "metadata": {},
   "outputs": [],
   "source": [
    "df_110 = df_formato110AM.dropna(how=\"all\",axis=1)\n",
    "#msno.matrix(df_110 )"
   ]
  },
  {
   "cell_type": "markdown",
   "metadata": {},
   "source": [
    "<h3>17.3 DataFrame Columns</h3>"
   ]
  },
  {
   "cell_type": "code",
   "execution_count": 53,
   "metadata": {
    "scrolled": true
   },
   "outputs": [
    {
     "name": "stdout",
     "output_type": "stream",
     "text": [
      "Index(['Año Gravable', 'Número Nit', 'Código Departamento', 'Código Municipio',\n",
      "       'Código Actividad Económica Principal',\n",
      "       'Devoluciones Rebajas y Descuentos en Ventas (120)',\n",
      "       'Ingresos Brutos no Operacionales (335)',\n",
      "       'Ingresos brutos de actividades Ordinarias (334)',\n",
      "       'Ingresos no Constitutivos de Renta (338)',\n",
      "       'Intereses y Rendimientos Financieros (96)',\n",
      "       'Total Ingresos Brutos (462)', 'Total Ingresos Netos (459)',\n",
      "       'Ingresos financieros (3911)',\n",
      "       'Dividendos y/o partic rec o capítalizados por soc extr (año 2016 y anteriores) o nac cualquier año (3912)',\n",
      "       'Dividendos y/o participaciones recibidos decla diferentes soc nacionales, años 2017 y siguientes (3913)',\n",
      "       'Dividendos y/o participaciones recibidos por Pers Nat sin residencia fiscal (2016 y anteriores) (3914)',\n",
      "       'Otros ingresos (3915)',\n",
      "       'Ingr no constitutivos renta dividendos y/o part PersNat sin residencia fiscal (2016 y anteriores) (3916)'],\n",
      "      dtype='object')\n",
      "Columnas: 18\n"
     ]
    }
   ],
   "source": [
    "print(df_110.columns)\n",
    "print(\"Columnas:\",len(df_110.columns))"
   ]
  },
  {
   "cell_type": "code",
   "execution_count": 163,
   "metadata": {},
   "outputs": [
    {
     "data": {
      "text/html": [
       "<div>\n",
       "<style scoped>\n",
       "    .dataframe tbody tr th:only-of-type {\n",
       "        vertical-align: middle;\n",
       "    }\n",
       "\n",
       "    .dataframe tbody tr th {\n",
       "        vertical-align: top;\n",
       "    }\n",
       "\n",
       "    .dataframe thead th {\n",
       "        text-align: right;\n",
       "    }\n",
       "</style>\n",
       "<table border=\"1\" class=\"dataframe\">\n",
       "  <thead>\n",
       "    <tr style=\"text-align: right;\">\n",
       "      <th></th>\n",
       "      <th>Año Gravable</th>\n",
       "      <th>Número Nit</th>\n",
       "      <th>Código Actividad Económica Principal</th>\n",
       "      <th>Total Ingresos Brutos (462)</th>\n",
       "      <th>Total Ingresos Netos (459)</th>\n",
       "    </tr>\n",
       "  </thead>\n",
       "  <tbody>\n",
       "    <tr>\n",
       "      <th>0</th>\n",
       "      <td>2016.0</td>\n",
       "      <td>ettrh:3&amp;3</td>\n",
       "      <td>4631.0</td>\n",
       "      <td>1.633336e+10</td>\n",
       "      <td>1.633336e+10</td>\n",
       "    </tr>\n",
       "    <tr>\n",
       "      <th>1</th>\n",
       "      <td>2016.0</td>\n",
       "      <td>etthb&amp;((b</td>\n",
       "      <td>4652.0</td>\n",
       "      <td>2.184020e+08</td>\n",
       "      <td>2.184020e+08</td>\n",
       "    </tr>\n",
       "    <tr>\n",
       "      <th>2</th>\n",
       "      <td>2016.0</td>\n",
       "      <td>etttrh#h(</td>\n",
       "      <td>4322.0</td>\n",
       "      <td>2.217738e+09</td>\n",
       "      <td>2.199696e+09</td>\n",
       "    </tr>\n",
       "    <tr>\n",
       "      <th>3</th>\n",
       "      <td>2016.0</td>\n",
       "      <td>3etb#r((b</td>\n",
       "      <td>4751.0</td>\n",
       "      <td>4.126950e+08</td>\n",
       "      <td>4.010000e+08</td>\n",
       "    </tr>\n",
       "    <tr>\n",
       "      <th>4</th>\n",
       "      <td>2016.0</td>\n",
       "      <td>ettt:&amp;hrh</td>\n",
       "      <td>9499.0</td>\n",
       "      <td>6.208750e+08</td>\n",
       "      <td>6.208750e+08</td>\n",
       "    </tr>\n",
       "  </tbody>\n",
       "</table>\n",
       "</div>"
      ],
      "text/plain": [
       "   Año Gravable Número Nit  Código Actividad Económica Principal  \\\n",
       "0        2016.0  ettrh:3&3                                4631.0   \n",
       "1        2016.0  etthb&((b                                4652.0   \n",
       "2        2016.0  etttrh#h(                                4322.0   \n",
       "3        2016.0  3etb#r((b                                4751.0   \n",
       "4        2016.0  ettt:&hrh                                9499.0   \n",
       "\n",
       "   Total Ingresos Brutos (462)  Total Ingresos Netos (459)  \n",
       "0                 1.633336e+10                1.633336e+10  \n",
       "1                 2.184020e+08                2.184020e+08  \n",
       "2                 2.217738e+09                2.199696e+09  \n",
       "3                 4.126950e+08                4.010000e+08  \n",
       "4                 6.208750e+08                6.208750e+08  "
      ]
     },
     "execution_count": 163,
     "metadata": {},
     "output_type": "execute_result"
    }
   ],
   "source": [
    "df_110.head()\n",
    "df_110[['Año Gravable','Número Nit', 'Código Actividad Económica Principal', 'Total Ingresos Brutos (462)', 'Total Ingresos Netos (459)']].head()"
   ]
  },
  {
   "cell_type": "markdown",
   "metadata": {},
   "source": [
    "<h2>18. Formato 210</h2>\n",
    "<h3>18.1 Distribución de Valores Faltantes</h3>"
   ]
  },
  {
   "cell_type": "markdown",
   "metadata": {},
   "source": [
    "<h2>18. Format 210</h2>\n",
    "<h3>18.1 Distribution of Missing Values</h3>"
   ]
  },
  {
   "cell_type": "code",
   "execution_count": 161,
   "metadata": {},
   "outputs": [],
   "source": [
    "#data set reading\n",
    "df_formato210AM = pd.read_excel(r\"formato 210 A M.xlsx\")\n",
    "#msno.matrix(df_formato210AM)"
   ]
  },
  {
   "cell_type": "markdown",
   "metadata": {},
   "source": [
    "<h3>18.2 Eminación de Datos NAN</h3>"
   ]
  },
  {
   "cell_type": "markdown",
   "metadata": {},
   "source": [
    "<h3>18.2 Removal of NAN Data</h3>"
   ]
  },
  {
   "cell_type": "code",
   "execution_count": 162,
   "metadata": {
    "scrolled": true
   },
   "outputs": [],
   "source": [
    "df_210  = df_formato210AM.dropna(how=\"all\",axis=1)\n",
    "#msno.matrix(df_210 )"
   ]
  },
  {
   "cell_type": "markdown",
   "metadata": {},
   "source": [
    "<h3>18.3 DataFrame Columns</h3>"
   ]
  },
  {
   "cell_type": "code",
   "execution_count": 57,
   "metadata": {
    "scrolled": true
   },
   "outputs": [
    {
     "name": "stdout",
     "output_type": "stream",
     "text": [
      "Index(['Año Gravable', 'Número Nit', 'Código Departamento', 'Código Municipio',\n",
      "       'Código Actividad Económica Principal', 'Honorarios',\n",
      "       'Ingresos no Constitutivos de Renta (338)',\n",
      "       'Intereses y Rendimientos Financieros (96)',\n",
      "       'Otros Ingresos (Arrendamientos etc.) (97)',\n",
      "       'Salarios y Demás Pagos Laborales (102)',\n",
      "       'Ingresos como Empleado (99)'],\n",
      "      dtype='object')\n",
      "Columnas: 34\n"
     ]
    }
   ],
   "source": [
    "print(df_210.columns[0:11])\n",
    "print(\"Columnas:\",len(df_210.columns))"
   ]
  },
  {
   "cell_type": "code",
   "execution_count": 164,
   "metadata": {},
   "outputs": [
    {
     "data": {
      "text/html": [
       "<div>\n",
       "<style scoped>\n",
       "    .dataframe tbody tr th:only-of-type {\n",
       "        vertical-align: middle;\n",
       "    }\n",
       "\n",
       "    .dataframe tbody tr th {\n",
       "        vertical-align: top;\n",
       "    }\n",
       "\n",
       "    .dataframe thead th {\n",
       "        text-align: right;\n",
       "    }\n",
       "</style>\n",
       "<table border=\"1\" class=\"dataframe\">\n",
       "  <thead>\n",
       "    <tr style=\"text-align: right;\">\n",
       "      <th></th>\n",
       "      <th>Año Gravable</th>\n",
       "      <th>Número Nit</th>\n",
       "      <th>Código Actividad Económica Principal</th>\n",
       "      <th>Total Ingresos Brutos (462)</th>\n",
       "      <th>Total Ingresos Netos (459)</th>\n",
       "    </tr>\n",
       "  </thead>\n",
       "  <tbody>\n",
       "    <tr>\n",
       "      <th>0</th>\n",
       "      <td>2016</td>\n",
       "      <td>#eBr&amp;&amp;Be</td>\n",
       "      <td>NaN</td>\n",
       "      <td>0.0</td>\n",
       "      <td>0.0</td>\n",
       "    </tr>\n",
       "    <tr>\n",
       "      <th>1</th>\n",
       "      <td>2018</td>\n",
       "      <td>Bh3r:(hB</td>\n",
       "      <td>10.0</td>\n",
       "      <td>NaN</td>\n",
       "      <td>NaN</td>\n",
       "    </tr>\n",
       "    <tr>\n",
       "      <th>2</th>\n",
       "      <td>2018</td>\n",
       "      <td>e&amp;&amp;e:etr</td>\n",
       "      <td>6201.0</td>\n",
       "      <td>NaN</td>\n",
       "      <td>NaN</td>\n",
       "    </tr>\n",
       "    <tr>\n",
       "      <th>3</th>\n",
       "      <td>2018</td>\n",
       "      <td>Brt3B:tr</td>\n",
       "      <td>10.0</td>\n",
       "      <td>NaN</td>\n",
       "      <td>NaN</td>\n",
       "    </tr>\n",
       "    <tr>\n",
       "      <th>4</th>\n",
       "      <td>2018</td>\n",
       "      <td>B3e&amp;#:he</td>\n",
       "      <td>1521.0</td>\n",
       "      <td>NaN</td>\n",
       "      <td>NaN</td>\n",
       "    </tr>\n",
       "  </tbody>\n",
       "</table>\n",
       "</div>"
      ],
      "text/plain": [
       "   Año Gravable Número Nit  Código Actividad Económica Principal  \\\n",
       "0          2016   #eBr&&Be                                   NaN   \n",
       "1          2018   Bh3r:(hB                                  10.0   \n",
       "2          2018   e&&e:etr                                6201.0   \n",
       "3          2018   Brt3B:tr                                  10.0   \n",
       "4          2018   B3e&#:he                                1521.0   \n",
       "\n",
       "   Total Ingresos Brutos (462)  Total Ingresos Netos (459)  \n",
       "0                          0.0                         0.0  \n",
       "1                          NaN                         NaN  \n",
       "2                          NaN                         NaN  \n",
       "3                          NaN                         NaN  \n",
       "4                          NaN                         NaN  "
      ]
     },
     "execution_count": 164,
     "metadata": {},
     "output_type": "execute_result"
    }
   ],
   "source": [
    "df_210.head()\n",
    "df_210[['Año Gravable','Número Nit', 'Código Actividad Económica Principal', 'Total Ingresos Brutos (462)', 'Total Ingresos Netos (459)']].head()"
   ]
  },
  {
   "cell_type": "markdown",
   "metadata": {},
   "source": [
    "<h2>19. Formato 230</h2>\n",
    "<h3>19.1 Distribución de Valores Faltantes</h3>"
   ]
  },
  {
   "cell_type": "markdown",
   "metadata": {},
   "source": [
    "<h2>19. Format 230</h2>\n",
    "<h3>19.1 Distribution of Missing Values</h3>"
   ]
  },
  {
   "cell_type": "code",
   "execution_count": 138,
   "metadata": {},
   "outputs": [],
   "source": [
    "#data set reading\n",
    "df_formato230AM = pd.read_excel(r\"formato 230 AM.xlsx\")\n",
    "#msno.matrix(df_formato230AM)"
   ]
  },
  {
   "cell_type": "markdown",
   "metadata": {},
   "source": [
    "<h3>19.2 Eminación de Datos NAN</h3>"
   ]
  },
  {
   "cell_type": "markdown",
   "metadata": {},
   "source": [
    "<h3>19.2 Removal of NAN Data</h3>"
   ]
  },
  {
   "cell_type": "code",
   "execution_count": 139,
   "metadata": {},
   "outputs": [],
   "source": [
    "df_230 = df_formato230AM.dropna(how=\"all\",axis=1)\n",
    "#msno.matrix(df_230 )"
   ]
  },
  {
   "cell_type": "markdown",
   "metadata": {},
   "source": [
    "<h3>19.3 DataFrame Columns</h3>"
   ]
  },
  {
   "cell_type": "code",
   "execution_count": 140,
   "metadata": {
    "scrolled": true
   },
   "outputs": [
    {
     "name": "stdout",
     "output_type": "stream",
     "text": [
      "Index(['Año Gravable', 'Número Nit', 'Código Departamento', 'Código Municipio',\n",
      "       'Código Actividad Económica Principal', 'Total Patrimonio Bruto (55)',\n",
      "       'RGA IMAS-Ingresos brutos del empleado (724)',\n",
      "       'RGA IMAS-Otros ingresos (725)',\n",
      "       'RGA IMAS-Ingresos excluidos base (726)',\n",
      "       'RGA IMAS-Total ingresos (727)'],\n",
      "      dtype='object')\n",
      "Columnas: 10\n"
     ]
    }
   ],
   "source": [
    "print(df_230.columns)\n",
    "print(\"Columnas:\",len(df_230.columns))"
   ]
  },
  {
   "cell_type": "code",
   "execution_count": 166,
   "metadata": {},
   "outputs": [
    {
     "data": {
      "text/html": [
       "<div>\n",
       "<style scoped>\n",
       "    .dataframe tbody tr th:only-of-type {\n",
       "        vertical-align: middle;\n",
       "    }\n",
       "\n",
       "    .dataframe tbody tr th {\n",
       "        vertical-align: top;\n",
       "    }\n",
       "\n",
       "    .dataframe thead th {\n",
       "        text-align: right;\n",
       "    }\n",
       "</style>\n",
       "<table border=\"1\" class=\"dataframe\">\n",
       "  <thead>\n",
       "    <tr style=\"text-align: right;\">\n",
       "      <th></th>\n",
       "      <th>Año Gravable</th>\n",
       "      <th>Número Nit</th>\n",
       "      <th>Código Actividad Económica Principal</th>\n",
       "      <th>Total Patrimonio Bruto (55)</th>\n",
       "      <th>RGA IMAS-Total ingresos (727)</th>\n",
       "    </tr>\n",
       "  </thead>\n",
       "  <tbody>\n",
       "    <tr>\n",
       "      <th>0</th>\n",
       "      <td>2016</td>\n",
       "      <td>e&amp;&amp;tt3(h</td>\n",
       "      <td>10.0</td>\n",
       "      <td>132520000</td>\n",
       "      <td>46289000</td>\n",
       "    </tr>\n",
       "    <tr>\n",
       "      <th>1</th>\n",
       "      <td>2016</td>\n",
       "      <td>b3(e((:3</td>\n",
       "      <td>10.0</td>\n",
       "      <td>101604000</td>\n",
       "      <td>53729000</td>\n",
       "    </tr>\n",
       "    <tr>\n",
       "      <th>2</th>\n",
       "      <td>2016</td>\n",
       "      <td>e&amp;&amp;&amp;rb(h</td>\n",
       "      <td>10.0</td>\n",
       "      <td>43277000</td>\n",
       "      <td>57369000</td>\n",
       "    </tr>\n",
       "    <tr>\n",
       "      <th>3</th>\n",
       "      <td>2016</td>\n",
       "      <td>h&amp;&amp;&amp;&amp;t3&amp;</td>\n",
       "      <td>10.0</td>\n",
       "      <td>5000000</td>\n",
       "      <td>55710000</td>\n",
       "    </tr>\n",
       "    <tr>\n",
       "      <th>4</th>\n",
       "      <td>2016</td>\n",
       "      <td>e&amp;&amp;t#t(r</td>\n",
       "      <td>10.0</td>\n",
       "      <td>5016000</td>\n",
       "      <td>49184000</td>\n",
       "    </tr>\n",
       "  </tbody>\n",
       "</table>\n",
       "</div>"
      ],
      "text/plain": [
       "   Año Gravable Número Nit  Código Actividad Económica Principal  \\\n",
       "0          2016   e&&tt3(h                                  10.0   \n",
       "1          2016   b3(e((:3                                  10.0   \n",
       "2          2016   e&&&rb(h                                  10.0   \n",
       "3          2016   h&&&&t3&                                  10.0   \n",
       "4          2016   e&&t#t(r                                  10.0   \n",
       "\n",
       "   Total Patrimonio Bruto (55)  RGA IMAS-Total ingresos (727)  \n",
       "0                    132520000                       46289000  \n",
       "1                    101604000                       53729000  \n",
       "2                     43277000                       57369000  \n",
       "3                      5000000                       55710000  \n",
       "4                      5016000                       49184000  "
      ]
     },
     "execution_count": 166,
     "metadata": {},
     "output_type": "execute_result"
    }
   ],
   "source": [
    "df_230.head()\n",
    "df_230[['Año Gravable','Número Nit', 'Código Actividad Económica Principal', 'Total Patrimonio Bruto (55)', 'RGA IMAS-Total ingresos (727)']].head()"
   ]
  },
  {
   "cell_type": "markdown",
   "metadata": {},
   "source": [
    "<h2>20. Ventas 300</h2>\n",
    "<h3>20.1 Distribución de Valores Faltantes</h3>"
   ]
  },
  {
   "cell_type": "markdown",
   "metadata": {},
   "source": [
    "<h2>20. Format Sales 300</h2>\n",
    "<h3>20.1 Distribution of Missing Values</h3>"
   ]
  },
  {
   "cell_type": "code",
   "execution_count": 157,
   "metadata": {},
   "outputs": [],
   "source": [
    "#data set reading\n",
    "df_ventas300AM = pd.read_excel(r\"ventas 300 A M.xlsx\")\n",
    "#msno.matrix(df_ventas300AM)"
   ]
  },
  {
   "cell_type": "markdown",
   "metadata": {},
   "source": [
    "<h3>20.2 Eminación de Datos NAN</h3>"
   ]
  },
  {
   "cell_type": "markdown",
   "metadata": {},
   "source": [
    "<h3>20.2 Removal of NAN Data</h3>"
   ]
  },
  {
   "cell_type": "code",
   "execution_count": 158,
   "metadata": {},
   "outputs": [],
   "source": [
    "df_ventas300 = df_ventas300AM.dropna(how=\"all\",axis=1)\n",
    "#msno.matrix(df_ventas300)"
   ]
  },
  {
   "cell_type": "markdown",
   "metadata": {},
   "source": [
    "<h3>20.3 DataFrame Columns</h3>"
   ]
  },
  {
   "cell_type": "code",
   "execution_count": 159,
   "metadata": {},
   "outputs": [
    {
     "name": "stdout",
     "output_type": "stream",
     "text": [
      "Index(['Año Gravable', 'Número Nit', 'Unnamed: 2', 'Código Departamento',\n",
      "       'Código Municipio', 'Código Actividad Económica Principal',\n",
      "       'Ingresos Por operaciones gravadas al 5 % (233)',\n",
      "       'Ingresos A.I.U por operaciones gravadas (234)',\n",
      "       'Ingresos Por exportación de bienes (235)',\n",
      "       'Ingresos Por exportación de servicios (236)',\n",
      "       'Ingreso Por venta a sociedad comercialización internacional (237)'],\n",
      "      dtype='object')\n",
      "Columnas: 28\n"
     ]
    }
   ],
   "source": [
    "print(df_ventas300AM.columns[0:11])\n",
    "print(\"Columnas:\",len(df_ventas300AM.columns))"
   ]
  }
 ],
 "metadata": {
  "kernelspec": {
   "display_name": "Python 3",
   "language": "python",
   "name": "python3"
  },
  "language_info": {
   "codemirror_mode": {
    "name": "ipython",
    "version": 3
   },
   "file_extension": ".py",
   "mimetype": "text/x-python",
   "name": "python",
   "nbconvert_exporter": "python",
   "pygments_lexer": "ipython3",
   "version": "3.7.3"
  }
 },
 "nbformat": 4,
 "nbformat_minor": 4
}
