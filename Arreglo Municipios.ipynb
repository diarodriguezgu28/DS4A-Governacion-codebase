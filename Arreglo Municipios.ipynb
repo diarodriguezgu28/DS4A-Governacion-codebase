{
 "cells": [
  {
   "cell_type": "markdown",
   "metadata": {},
   "source": [
    "## Arreglos dataframe de Municipios + unión con CIIU Rev. 4"
   ]
  },
  {
   "cell_type": "code",
   "execution_count": 34,
   "metadata": {},
   "outputs": [],
   "source": [
    "import pandas as pd\n",
    "import string\n",
    "from string import Formatter\n",
    "from string import Template\n",
    "import re\n",
    "import missingno as msno"
   ]
  },
  {
   "cell_type": "code",
   "execution_count": 24,
   "metadata": {},
   "outputs": [
    {
     "data": {
      "text/html": [
       "<div>\n",
       "<style scoped>\n",
       "    .dataframe tbody tr th:only-of-type {\n",
       "        vertical-align: middle;\n",
       "    }\n",
       "\n",
       "    .dataframe tbody tr th {\n",
       "        vertical-align: top;\n",
       "    }\n",
       "\n",
       "    .dataframe thead th {\n",
       "        text-align: right;\n",
       "    }\n",
       "</style>\n",
       "<table border=\"1\" class=\"dataframe\">\n",
       "  <thead>\n",
       "    <tr style=\"text-align: right;\">\n",
       "      <th></th>\n",
       "      <th>Clase</th>\n",
       "      <th>Descripción</th>\n",
       "    </tr>\n",
       "  </thead>\n",
       "  <tbody>\n",
       "    <tr>\n",
       "      <th>0</th>\n",
       "      <td>C</td>\n",
       "      <td>INDUSTRIAS MANUFACTURERAS</td>\n",
       "    </tr>\n",
       "    <tr>\n",
       "      <th>1</th>\n",
       "      <td>11</td>\n",
       "      <td>Elaboración de bebidas</td>\n",
       "    </tr>\n",
       "    <tr>\n",
       "      <th>2</th>\n",
       "      <td>1100</td>\n",
       "      <td>Elaboración de bebidas</td>\n",
       "    </tr>\n",
       "    <tr>\n",
       "      <th>3</th>\n",
       "      <td>1101</td>\n",
       "      <td>Destilación, rectificación y mezcla de bebidas...</td>\n",
       "    </tr>\n",
       "    <tr>\n",
       "      <th>4</th>\n",
       "      <td>1102</td>\n",
       "      <td>Elaboración de bebidas fermentadas no destiladas</td>\n",
       "    </tr>\n",
       "  </tbody>\n",
       "</table>\n",
       "</div>"
      ],
      "text/plain": [
       "  Clase                                        Descripción\n",
       "0     C                          INDUSTRIAS MANUFACTURERAS\n",
       "1    11                             Elaboración de bebidas\n",
       "2  1100                             Elaboración de bebidas\n",
       "3  1101  Destilación, rectificación y mezcla de bebidas...\n",
       "4  1102   Elaboración de bebidas fermentadas no destiladas"
      ]
     },
     "execution_count": 24,
     "metadata": {},
     "output_type": "execute_result"
    }
   ],
   "source": [
    "ciiuinfo=pd.read_excel(\"Estructura-detallada-CIIU-4AC-2020-.xls\")\n",
    "ciiuinfo[\"Clase\"]=ciiuinfo[\"Clase\"].astype(\"str\")\n",
    "ciiuinfo.head()"
   ]
  },
  {
   "cell_type": "code",
   "execution_count": 35,
   "metadata": {},
   "outputs": [
    {
     "data": {
      "text/plain": [
       "array([5612., 5619., 4711., 4632., 5621., 5611., 4724., 5630., 1102.,\n",
       "       5629., 5613., 1101., 4781., 1200., 4719., 5310., 4731., 5530.,\n",
       "       9200., 4773., 6910., 8230., 1011.,  162., 9329., 3511., 9511.,\n",
       "        128., 7310., 6120., 2012.,  115., 4771., 4631., 9609., 4741.,\n",
       "       1104., 4729.,   nan, 4520., 1020., 4759., 9311., 6190., 4721.,\n",
       "       1051., 1103., 1081., 4722., 1040., 1089., 4723., 9312., 1063.,\n",
       "       5320., 4541., 3530., 5514., 5221.,  144., 8299., 5519., 4530.,\n",
       "       7120., 5511., 4661., 4775., 2011., 7730., 4774.,  124., 4511.,\n",
       "       4921., 1921.,  141., 5512., 4761., 6810., 4732., 8130., 8219.,\n",
       "       6511.,  145., 9529., 1922., 4754.,  161.,  111.,  112., 6820.,\n",
       "       1090., 1012., 3512., 3513., 3514., 7710., 7912., 6499., 4664.,\n",
       "       4755., 4791., 4923., 4789., 4662., 4669., 1811., 4321., 8621.,\n",
       "        113., 7729., 4799., 1082., 4742., 4290., 3520., 7020., 4663.,\n",
       "       9521., 6110., 6619., 3290., 4620., 7010., 7830., 6621., 4762.,\n",
       "       6492., 8530., 5813., 8292., 2512., 7110., 4112., 9602., 4512.,\n",
       "       2029., 3314., 5590.,  163.,  149.,  322.,  150.,  990., 7500.,\n",
       "       6512., 4690., 5012., 5222., 2023., 4645., 4752., 4390., 4772.,\n",
       "       5229., 8692., 4220., 1084., 3312.,  122., 4641., 3600.,  142.,\n",
       "       4922., 7420., 6399., 9512., 8220., 8551., 1521., 1610., 8523.,\n",
       "       2013., 3700.,  121.,  126., 4651., 6201., 6209., 6202., 3900.,\n",
       "        164., 4542.,  130., 2100., 4312., 4659., 8211., 4665., 8129.,\n",
       "       4111., 8121., 7210., 2022., 5819., 4642., 1410., 1313., 8020.,\n",
       "       6311., 7410., 9008., 7911., 4751., 2712.,  123., 6614., 6615.,\n",
       "       8560., 6920., 7990., 5210., 4652., 2410., 2711., 6010., 9499.,\n",
       "        722., 3821., 9005., 1083., 9319., 3319., 8559., 2021., 6612.,\n",
       "       4330., 6611., 7490., 4610.,  210., 8553.,  311., 4322.,  143.,\n",
       "       5122., 6312., 2014., 3210., 9004.,  312., 6613., 8890., 3830.,\n",
       "       3311., 2660., 8699., 1702., 4769., 1812., 3811., 2511., 2920.,\n",
       "       3320., 7810., 1030.,  127.])"
      ]
     },
     "execution_count": 35,
     "metadata": {},
     "output_type": "execute_result"
    }
   ],
   "source": [
    "Municipios = pd.read_csv('Municipios.csv', low_memory=False)\n",
    "Mun=Municipios.copy()\n",
    "Mun['CODIGO_CIIU'].unique()"
   ]
  },
  {
   "cell_type": "code",
   "execution_count": 26,
   "metadata": {},
   "outputs": [],
   "source": [
    "#Mun[\"CODIGO_CIIU\"] = Mun[\"CODIGO_CIIU\"].astype(\"str\").str.replace(r'\\D', '')"
   ]
  },
  {
   "cell_type": "code",
   "execution_count": 4,
   "metadata": {},
   "outputs": [],
   "source": [
    "#bd2=pd.merge(Mun,ciiuinfo,how=\"left\",left_on=\"CODIGO_CIIU\",right_on=\"Clase\")\n"
   ]
  },
  {
   "cell_type": "code",
   "execution_count": 36,
   "metadata": {},
   "outputs": [],
   "source": [
    "bd3=Mun.dropna(subset=[\"CODIGO_CIIU\"])\n",
    "bd3=Mun.dropna(how=\"all\",axis=1)\n",
    "bd3=bd3.reset_index()\n",
    "#msno.matrix(bd3)"
   ]
  },
  {
   "cell_type": "code",
   "execution_count": 37,
   "metadata": {
    "scrolled": false
   },
   "outputs": [
    {
     "data": {
      "text/plain": [
       "array([5612., 5619., 4711., 4632., 5621., 5611., 4724., 5630., 1102.,\n",
       "       5629., 5613., 1101., 4781., 1200., 4719., 5310., 4731., 5530.,\n",
       "       9200., 4773., 6910., 8230., 1011.,  162., 9329., 3511., 9511.,\n",
       "        128., 7310., 6120., 2012.,  115., 4771., 4631., 9609., 4741.,\n",
       "       1104., 4729.,   nan, 4520., 1020., 4759., 9311., 6190., 4721.,\n",
       "       1051., 1103., 1081., 4722., 1040., 1089., 4723., 9312., 1063.,\n",
       "       5320., 4541., 3530., 5514., 5221.,  144., 8299., 5519., 4530.,\n",
       "       7120., 5511., 4661., 4775., 2011., 7730., 4774.,  124., 4511.,\n",
       "       4921., 1921.,  141., 5512., 4761., 6810., 4732., 8130., 8219.,\n",
       "       6511.,  145., 9529., 1922., 4754.,  161.,  111.,  112., 6820.,\n",
       "       1090., 1012., 3512., 3513., 3514., 7710., 7912., 6499., 4664.,\n",
       "       4755., 4791., 4923., 4789., 4662., 4669., 1811., 4321., 8621.,\n",
       "        113., 7729., 4799., 1082., 4742., 4290., 3520., 7020., 4663.,\n",
       "       9521., 6110., 6619., 3290., 4620., 7010., 7830., 6621., 4762.,\n",
       "       6492., 8530., 5813., 8292., 2512., 7110., 4112., 9602., 4512.,\n",
       "       2029., 3314., 5590.,  163.,  149.,  322.,  150.,  990., 7500.,\n",
       "       6512., 4690., 5012., 5222., 2023., 4645., 4752., 4390., 4772.,\n",
       "       5229., 8692., 4220., 1084., 3312.,  122., 4641., 3600.,  142.,\n",
       "       4922., 7420., 6399., 9512., 8220., 8551., 1521., 1610., 8523.,\n",
       "       2013., 3700.,  121.,  126., 4651., 6201., 6209., 6202., 3900.,\n",
       "        164., 4542.,  130., 2100., 4312., 4659., 8211., 4665., 8129.,\n",
       "       4111., 8121., 7210., 2022., 5819., 4642., 1410., 1313., 8020.,\n",
       "       6311., 7410., 9008., 7911., 4751., 2712.,  123., 6614., 6615.,\n",
       "       8560., 6920., 7990., 5210., 4652., 2410., 2711., 6010., 9499.,\n",
       "        722., 3821., 9005., 1083., 9319., 3319., 8559., 2021., 6612.,\n",
       "       4330., 6611., 7490., 4610.,  210., 8553.,  311., 4322.,  143.,\n",
       "       5122., 6312., 2014., 3210., 9004.,  312., 6613., 8890., 3830.,\n",
       "       3311., 2660., 8699., 1702., 4769., 1812., 3811., 2511., 2920.,\n",
       "       3320., 7810., 1030.,  127.])"
      ]
     },
     "execution_count": 37,
     "metadata": {},
     "output_type": "execute_result"
    }
   ],
   "source": [
    "#bd3[['DescripCod','Descripción']]\n",
    "\n",
    "bd3['CODIGO_CIIU'].unique()"
   ]
  },
  {
   "cell_type": "code",
   "execution_count": 38,
   "metadata": {},
   "outputs": [
    {
     "data": {
      "text/plain": [
       "array([2019., 1985., 2015., 1984., 1983., 2020., 2018., 2017., 2011.,\n",
       "       2016., 2014., 2013., 2012., 1980., 2010., 2009., 2008., 2007.,\n",
       "       1981., 2006., 2005., 2004., 2003., 2002., 2001., 1999., 1998.,\n",
       "       1997., 1995., 1974., 1994., 1993., 1992., 1973., 1991., 1972.,\n",
       "       1989., 1988., 1987., 1986.,   nan])"
      ]
     },
     "execution_count": 38,
     "metadata": {},
     "output_type": "execute_result"
    }
   ],
   "source": [
    "bd3['ULT_REN'].unique()"
   ]
  },
  {
   "cell_type": "code",
   "execution_count": 39,
   "metadata": {},
   "outputs": [],
   "source": [
    "Deporte=[5510, 5512, 5530, 5590]\n",
    "Lot=[9200]\n",
    "Licor=[1100, 1101, 1102, 1103, \n",
    "       4630, 4631, 4632, 4710, 4711, 4720, 4724, \n",
    "       1200, 5610, 5611, 5612, 5619, 5620, 5621, 5629, 5630]\n",
    "\n",
    "\n",
    "D_dep=bd3[bd3['CODIGO_CIIU'].isin(Deporte)]   # 4 registros\n",
    "D_lot=bd3[bd3['CODIGO_CIIU'].isin(Lot)]      \n",
    "D_lic=bd3[bd3['CODIGO_CIIU'].isin(Licor)]  \n"
   ]
  },
  {
   "cell_type": "code",
   "execution_count": 40,
   "metadata": {},
   "outputs": [],
   "source": [
    "bd3.loc[bd3['CODIGO_CIIU'].isin(Deporte), 'Actividad_Economica'] = 'Deporte'\n",
    "bd3.loc[bd3['CODIGO_CIIU'].isin(Licor), 'Actividad_Economica'] = 'Licor'\n",
    "bd3.loc[bd3['CODIGO_CIIU'].isin(Lot), 'Actividad_Economica'] = 'Loterias'"
   ]
  },
  {
   "cell_type": "code",
   "execution_count": 41,
   "metadata": {},
   "outputs": [
    {
     "data": {
      "text/html": [
       "<div>\n",
       "<style scoped>\n",
       "    .dataframe tbody tr th:only-of-type {\n",
       "        vertical-align: middle;\n",
       "    }\n",
       "\n",
       "    .dataframe tbody tr th {\n",
       "        vertical-align: top;\n",
       "    }\n",
       "\n",
       "    .dataframe thead th {\n",
       "        text-align: right;\n",
       "    }\n",
       "</style>\n",
       "<table border=\"1\" class=\"dataframe\">\n",
       "  <thead>\n",
       "    <tr style=\"text-align: right;\">\n",
       "      <th></th>\n",
       "      <th>index</th>\n",
       "      <th>MATRICULA</th>\n",
       "      <th>PROPONENTE</th>\n",
       "      <th>ORGANIZACION</th>\n",
       "      <th>CATEGORIA</th>\n",
       "      <th>EST-MATRICULA</th>\n",
       "      <th>EST_DATOS</th>\n",
       "      <th>FECHA-NAC</th>\n",
       "      <th>CLASE-ID</th>\n",
       "      <th>IDENTIFICACION</th>\n",
       "      <th>...</th>\n",
       "      <th>ESTBLCOMERCIALES</th>\n",
       "      <th>IND_ENVMSJCEL</th>\n",
       "      <th>IND_ENVMSJEMAIL</th>\n",
       "      <th>IND_BENEFICIO1780</th>\n",
       "      <th>IND_BENEFICIO1780MAT</th>\n",
       "      <th>IND_RENUNCIABEN1780</th>\n",
       "      <th>ESTADO_AFILIADO</th>\n",
       "      <th>FECHA_AFILIACION</th>\n",
       "      <th>FECHA_FIN_AFILIACION</th>\n",
       "      <th>Actividad_Economica</th>\n",
       "    </tr>\n",
       "  </thead>\n",
       "  <tbody>\n",
       "    <tr>\n",
       "      <th>0</th>\n",
       "      <td>0</td>\n",
       "      <td>S0000369</td>\n",
       "      <td>NaN</td>\n",
       "      <td>12.0</td>\n",
       "      <td>1.0</td>\n",
       "      <td>IA</td>\n",
       "      <td>6.0</td>\n",
       "      <td>NaN</td>\n",
       "      <td>2.0</td>\n",
       "      <td>3b(tthb&amp;(h</td>\n",
       "      <td>...</td>\n",
       "      <td>NaN</td>\n",
       "      <td>NaN</td>\n",
       "      <td>NaN</td>\n",
       "      <td>NaN</td>\n",
       "      <td>NaN</td>\n",
       "      <td>NaN</td>\n",
       "      <td>NaN</td>\n",
       "      <td>NaN</td>\n",
       "      <td>NaN</td>\n",
       "      <td>Licor</td>\n",
       "    </tr>\n",
       "    <tr>\n",
       "      <th>1</th>\n",
       "      <td>1</td>\n",
       "      <td>9428</td>\n",
       "      <td>NaN</td>\n",
       "      <td>2.0</td>\n",
       "      <td>0.0</td>\n",
       "      <td>MI</td>\n",
       "      <td>8.0</td>\n",
       "      <td>NaN</td>\n",
       "      <td>7.0</td>\n",
       "      <td>NaN</td>\n",
       "      <td>...</td>\n",
       "      <td>NaN</td>\n",
       "      <td>NaN</td>\n",
       "      <td>NaN</td>\n",
       "      <td>NaN</td>\n",
       "      <td>NaN</td>\n",
       "      <td>NaN</td>\n",
       "      <td>NaN</td>\n",
       "      <td>NaN</td>\n",
       "      <td>NaN</td>\n",
       "      <td>Licor</td>\n",
       "    </tr>\n",
       "    <tr>\n",
       "      <th>2</th>\n",
       "      <td>2</td>\n",
       "      <td>9303</td>\n",
       "      <td>NaN</td>\n",
       "      <td>1.0</td>\n",
       "      <td>0.0</td>\n",
       "      <td>MI</td>\n",
       "      <td>6.0</td>\n",
       "      <td>NaN</td>\n",
       "      <td>1.0</td>\n",
       "      <td>h:&amp;r#e3&amp;</td>\n",
       "      <td>...</td>\n",
       "      <td>NaN</td>\n",
       "      <td>NaN</td>\n",
       "      <td>NaN</td>\n",
       "      <td>NaN</td>\n",
       "      <td>NaN</td>\n",
       "      <td>NaN</td>\n",
       "      <td>NaN</td>\n",
       "      <td>NaN</td>\n",
       "      <td>NaN</td>\n",
       "      <td>Licor</td>\n",
       "    </tr>\n",
       "    <tr>\n",
       "      <th>3</th>\n",
       "      <td>3</td>\n",
       "      <td>9239</td>\n",
       "      <td>NaN</td>\n",
       "      <td>3.0</td>\n",
       "      <td>1.0</td>\n",
       "      <td>MI</td>\n",
       "      <td>8.0</td>\n",
       "      <td>NaN</td>\n",
       "      <td>2.0</td>\n",
       "      <td>t</td>\n",
       "      <td>...</td>\n",
       "      <td>NaN</td>\n",
       "      <td>NaN</td>\n",
       "      <td>NaN</td>\n",
       "      <td>NaN</td>\n",
       "      <td>NaN</td>\n",
       "      <td>NaN</td>\n",
       "      <td>NaN</td>\n",
       "      <td>NaN</td>\n",
       "      <td>NaN</td>\n",
       "      <td>Licor</td>\n",
       "    </tr>\n",
       "    <tr>\n",
       "      <th>4</th>\n",
       "      <td>4</td>\n",
       "      <td>9237</td>\n",
       "      <td>NaN</td>\n",
       "      <td>3.0</td>\n",
       "      <td>1.0</td>\n",
       "      <td>MI</td>\n",
       "      <td>8.0</td>\n",
       "      <td>NaN</td>\n",
       "      <td>2.0</td>\n",
       "      <td>t</td>\n",
       "      <td>...</td>\n",
       "      <td>NaN</td>\n",
       "      <td>NaN</td>\n",
       "      <td>NaN</td>\n",
       "      <td>NaN</td>\n",
       "      <td>NaN</td>\n",
       "      <td>NaN</td>\n",
       "      <td>NaN</td>\n",
       "      <td>NaN</td>\n",
       "      <td>NaN</td>\n",
       "      <td>Licor</td>\n",
       "    </tr>\n",
       "    <tr>\n",
       "      <th>...</th>\n",
       "      <td>...</td>\n",
       "      <td>...</td>\n",
       "      <td>...</td>\n",
       "      <td>...</td>\n",
       "      <td>...</td>\n",
       "      <td>...</td>\n",
       "      <td>...</td>\n",
       "      <td>...</td>\n",
       "      <td>...</td>\n",
       "      <td>...</td>\n",
       "      <td>...</td>\n",
       "      <td>...</td>\n",
       "      <td>...</td>\n",
       "      <td>...</td>\n",
       "      <td>...</td>\n",
       "      <td>...</td>\n",
       "      <td>...</td>\n",
       "      <td>...</td>\n",
       "      <td>...</td>\n",
       "      <td>...</td>\n",
       "      <td>...</td>\n",
       "    </tr>\n",
       "    <tr>\n",
       "      <th>11097</th>\n",
       "      <td>11097</td>\n",
       "      <td>NaN</td>\n",
       "      <td>NaN</td>\n",
       "      <td>NaN</td>\n",
       "      <td>PERSONA JURIDICA</td>\n",
       "      <td>NaN</td>\n",
       "      <td>NaN</td>\n",
       "      <td>NaN</td>\n",
       "      <td>NaN</td>\n",
       "      <td>NaN</td>\n",
       "      <td>...</td>\n",
       "      <td>0.0</td>\n",
       "      <td>N</td>\n",
       "      <td>S</td>\n",
       "      <td>N</td>\n",
       "      <td>N</td>\n",
       "      <td>N</td>\n",
       "      <td>No afiliado</td>\n",
       "      <td>NaN</td>\n",
       "      <td>NaN</td>\n",
       "      <td>NaN</td>\n",
       "    </tr>\n",
       "    <tr>\n",
       "      <th>11098</th>\n",
       "      <td>11098</td>\n",
       "      <td>NaN</td>\n",
       "      <td>NaN</td>\n",
       "      <td>NaN</td>\n",
       "      <td>PERSONA JURIDICA</td>\n",
       "      <td>NaN</td>\n",
       "      <td>NaN</td>\n",
       "      <td>NaN</td>\n",
       "      <td>NaN</td>\n",
       "      <td>NaN</td>\n",
       "      <td>...</td>\n",
       "      <td>0.0</td>\n",
       "      <td>N</td>\n",
       "      <td>S</td>\n",
       "      <td>N</td>\n",
       "      <td>N</td>\n",
       "      <td>N</td>\n",
       "      <td>No afiliado</td>\n",
       "      <td>NaN</td>\n",
       "      <td>NaN</td>\n",
       "      <td>NaN</td>\n",
       "    </tr>\n",
       "    <tr>\n",
       "      <th>11099</th>\n",
       "      <td>11099</td>\n",
       "      <td>NaN</td>\n",
       "      <td>NaN</td>\n",
       "      <td>NaN</td>\n",
       "      <td>PERSONA NATURAL</td>\n",
       "      <td>NaN</td>\n",
       "      <td>NaN</td>\n",
       "      <td>NaN</td>\n",
       "      <td>NaN</td>\n",
       "      <td>NaN</td>\n",
       "      <td>...</td>\n",
       "      <td>1.0</td>\n",
       "      <td>N</td>\n",
       "      <td>S</td>\n",
       "      <td>S</td>\n",
       "      <td>S</td>\n",
       "      <td>N</td>\n",
       "      <td>No afiliado</td>\n",
       "      <td>NaN</td>\n",
       "      <td>NaN</td>\n",
       "      <td>NaN</td>\n",
       "    </tr>\n",
       "    <tr>\n",
       "      <th>11100</th>\n",
       "      <td>11100</td>\n",
       "      <td>NaN</td>\n",
       "      <td>NaN</td>\n",
       "      <td>NaN</td>\n",
       "      <td>PERSONA NATURAL</td>\n",
       "      <td>NaN</td>\n",
       "      <td>NaN</td>\n",
       "      <td>NaN</td>\n",
       "      <td>NaN</td>\n",
       "      <td>NaN</td>\n",
       "      <td>...</td>\n",
       "      <td>1.0</td>\n",
       "      <td>N</td>\n",
       "      <td>S</td>\n",
       "      <td>S</td>\n",
       "      <td>S</td>\n",
       "      <td>N</td>\n",
       "      <td>No afiliado</td>\n",
       "      <td>NaN</td>\n",
       "      <td>NaN</td>\n",
       "      <td>NaN</td>\n",
       "    </tr>\n",
       "    <tr>\n",
       "      <th>11101</th>\n",
       "      <td>11101</td>\n",
       "      <td>NaN</td>\n",
       "      <td>NaN</td>\n",
       "      <td>NaN</td>\n",
       "      <td>PERSONA NATURAL</td>\n",
       "      <td>NaN</td>\n",
       "      <td>NaN</td>\n",
       "      <td>NaN</td>\n",
       "      <td>NaN</td>\n",
       "      <td>NaN</td>\n",
       "      <td>...</td>\n",
       "      <td>0.0</td>\n",
       "      <td>N</td>\n",
       "      <td>S</td>\n",
       "      <td>N</td>\n",
       "      <td>N</td>\n",
       "      <td>N</td>\n",
       "      <td>No afiliado</td>\n",
       "      <td>NaN</td>\n",
       "      <td>NaN</td>\n",
       "      <td>Loterias</td>\n",
       "    </tr>\n",
       "  </tbody>\n",
       "</table>\n",
       "<p>11102 rows × 212 columns</p>\n",
       "</div>"
      ],
      "text/plain": [
       "       index MATRICULA  PROPONENTE  ORGANIZACION         CATEGORIA  \\\n",
       "0          0  S0000369         NaN          12.0               1.0   \n",
       "1          1      9428         NaN           2.0               0.0   \n",
       "2          2      9303         NaN           1.0               0.0   \n",
       "3          3      9239         NaN           3.0               1.0   \n",
       "4          4      9237         NaN           3.0               1.0   \n",
       "...      ...       ...         ...           ...               ...   \n",
       "11097  11097       NaN         NaN           NaN  PERSONA JURIDICA   \n",
       "11098  11098       NaN         NaN           NaN  PERSONA JURIDICA   \n",
       "11099  11099       NaN         NaN           NaN   PERSONA NATURAL   \n",
       "11100  11100       NaN         NaN           NaN   PERSONA NATURAL   \n",
       "11101  11101       NaN         NaN           NaN   PERSONA NATURAL   \n",
       "\n",
       "      EST-MATRICULA  EST_DATOS  FECHA-NAC  CLASE-ID IDENTIFICACION  ...  \\\n",
       "0                IA        6.0        NaN       2.0     3b(tthb&(h  ...   \n",
       "1                MI        8.0        NaN       7.0            NaN  ...   \n",
       "2                MI        6.0        NaN       1.0       h:&r#e3&  ...   \n",
       "3                MI        8.0        NaN       2.0              t  ...   \n",
       "4                MI        8.0        NaN       2.0              t  ...   \n",
       "...             ...        ...        ...       ...            ...  ...   \n",
       "11097           NaN        NaN        NaN       NaN            NaN  ...   \n",
       "11098           NaN        NaN        NaN       NaN            NaN  ...   \n",
       "11099           NaN        NaN        NaN       NaN            NaN  ...   \n",
       "11100           NaN        NaN        NaN       NaN            NaN  ...   \n",
       "11101           NaN        NaN        NaN       NaN            NaN  ...   \n",
       "\n",
       "      ESTBLCOMERCIALES IND_ENVMSJCEL  IND_ENVMSJEMAIL  IND_BENEFICIO1780  \\\n",
       "0                  NaN           NaN              NaN                NaN   \n",
       "1                  NaN           NaN              NaN                NaN   \n",
       "2                  NaN           NaN              NaN                NaN   \n",
       "3                  NaN           NaN              NaN                NaN   \n",
       "4                  NaN           NaN              NaN                NaN   \n",
       "...                ...           ...              ...                ...   \n",
       "11097              0.0             N                S                  N   \n",
       "11098              0.0             N                S                  N   \n",
       "11099              1.0             N                S                  S   \n",
       "11100              1.0             N                S                  S   \n",
       "11101              0.0             N                S                  N   \n",
       "\n",
       "       IND_BENEFICIO1780MAT  IND_RENUNCIABEN1780  ESTADO_AFILIADO  \\\n",
       "0                       NaN                  NaN              NaN   \n",
       "1                       NaN                  NaN              NaN   \n",
       "2                       NaN                  NaN              NaN   \n",
       "3                       NaN                  NaN              NaN   \n",
       "4                       NaN                  NaN              NaN   \n",
       "...                     ...                  ...              ...   \n",
       "11097                     N                    N      No afiliado   \n",
       "11098                     N                    N      No afiliado   \n",
       "11099                     S                    N      No afiliado   \n",
       "11100                     S                    N      No afiliado   \n",
       "11101                     N                    N      No afiliado   \n",
       "\n",
       "       FECHA_AFILIACION  FECHA_FIN_AFILIACION  Actividad_Economica  \n",
       "0                   NaN                   NaN                Licor  \n",
       "1                   NaN                   NaN                Licor  \n",
       "2                   NaN                   NaN                Licor  \n",
       "3                   NaN                   NaN                Licor  \n",
       "4                   NaN                   NaN                Licor  \n",
       "...                 ...                   ...                  ...  \n",
       "11097               NaN                   NaN                  NaN  \n",
       "11098               NaN                   NaN                  NaN  \n",
       "11099               NaN                   NaN                  NaN  \n",
       "11100               NaN                   NaN                  NaN  \n",
       "11101               NaN                   NaN             Loterias  \n",
       "\n",
       "[11102 rows x 212 columns]"
      ]
     },
     "execution_count": 41,
     "metadata": {},
     "output_type": "execute_result"
    }
   ],
   "source": [
    "bd3"
   ]
  },
  {
   "cell_type": "code",
   "execution_count": 42,
   "metadata": {
    "scrolled": true
   },
   "outputs": [
    {
     "data": {
      "text/plain": [
       "592"
      ]
     },
     "execution_count": 42,
     "metadata": {},
     "output_type": "execute_result"
    }
   ],
   "source": [
    "len(bd3[bd3['Actividad_Economica'] == 'Loterias'])"
   ]
  },
  {
   "cell_type": "code",
   "execution_count": 43,
   "metadata": {
    "scrolled": true
   },
   "outputs": [
    {
     "data": {
      "text/plain": [
       "6410"
      ]
     },
     "execution_count": 43,
     "metadata": {},
     "output_type": "execute_result"
    }
   ],
   "source": [
    "len(bd3[bd3['Actividad_Economica'] == 'Licor'])"
   ]
  },
  {
   "cell_type": "code",
   "execution_count": 44,
   "metadata": {
    "scrolled": true
   },
   "outputs": [
    {
     "data": {
      "text/plain": [
       "520"
      ]
     },
     "execution_count": 44,
     "metadata": {},
     "output_type": "execute_result"
    }
   ],
   "source": [
    "len(bd3[bd3['Actividad_Economica'] == 'Deporte'])"
   ]
  },
  {
   "cell_type": "code",
   "execution_count": 45,
   "metadata": {
    "scrolled": false
   },
   "outputs": [
    {
     "data": {
      "text/plain": [
       "11102"
      ]
     },
     "execution_count": 45,
     "metadata": {},
     "output_type": "execute_result"
    }
   ],
   "source": [
    "len(bd3)"
   ]
  },
  {
   "cell_type": "code",
   "execution_count": 46,
   "metadata": {},
   "outputs": [
    {
     "data": {
      "text/plain": [
       "array(['Buenaventura', 'None', 'Cartago', 'El aguila', 'La union',\n",
       "       'La victoria', 'El dovio', 'Alcala', 'Ulloa', 'San jose de palmar',\n",
       "       'Ansermanuevo', 'Roldanillo', 'Versalles', 'Obando', 'El cairo',\n",
       "       'Argelia', 'Toro', 'Calima', 'Buga', 'Restrepo', 'El cerrito',\n",
       "       'Ginebra', 'Yotoco', 'San pedro', 'Guacari', 'Palmira',\n",
       "       'Candelaria', 'Florida', 'Pradera', 'Sevilla', 'Caicedonia',\n",
       "       'Zarzal', 'Tulua', 'Andalucia', 'Riofrio', 'Bugalagrande',\n",
       "       'Bolivar', 'Trujillo', 'Cali', 'Yumbo', 'Jamundi', 'Dagua',\n",
       "       'La Cumbre', 'Vijes'], dtype=object)"
      ]
     },
     "execution_count": 46,
     "metadata": {},
     "output_type": "execute_result"
    }
   ],
   "source": [
    "bd3['MUNICIPIO_Clean'].unique()"
   ]
  },
  {
   "cell_type": "code",
   "execution_count": 47,
   "metadata": {},
   "outputs": [
    {
     "data": {
      "text/plain": [
       "7522"
      ]
     },
     "execution_count": 47,
     "metadata": {},
     "output_type": "execute_result"
    }
   ],
   "source": [
    "bd4 = pd.concat([D_dep, D_lot, D_lic])\n",
    "len(bd4)"
   ]
  },
  {
   "cell_type": "code",
   "execution_count": 48,
   "metadata": {
    "scrolled": true
   },
   "outputs": [
    {
     "name": "stdout",
     "output_type": "stream",
     "text": [
      "Nulls 11102 NotNulls 11102\n"
     ]
    }
   ],
   "source": [
    "#bd3[[\"COD_MUNICIPIO\",\"MUNICIPIO_Clean\"]]=bd3[\"MUNICIPIO\"].str.split(pat=\"-\",expand=True)\n",
    "#bd3[\"MUNICIPIO\"]=bd3[\"MUNICIPIO_Clean\"].str.strip()\n",
    "print('Nulls', len(bd3['Actividad_Economica'].isna()), 'NotNulls', len(bd3['Actividad_Economica'].notna()))"
   ]
  },
  {
   "cell_type": "code",
   "execution_count": 49,
   "metadata": {},
   "outputs": [
    {
     "data": {
      "text/plain": [
       "11102"
      ]
     },
     "execution_count": 49,
     "metadata": {},
     "output_type": "execute_result"
    }
   ],
   "source": [
    "len(bd3['Actividad_Economica'].isin([\"Deporte\", \"Licor\", \"Loterias\"]))"
   ]
  },
  {
   "cell_type": "code",
   "execution_count": 50,
   "metadata": {},
   "outputs": [],
   "source": [
    "bd4.to_csv('Municipios_Consolidado.csv', index=False)"
   ]
  },
  {
   "cell_type": "code",
   "execution_count": 51,
   "metadata": {},
   "outputs": [
    {
     "data": {
      "text/plain": [
       "array(['El cairo', 'Cartago', 'Ansermanuevo', 'Roldanillo', 'El dovio',\n",
       "       'La union', 'Sevilla', 'Caicedonia', 'Cali', 'Yumbo', 'Jamundi',\n",
       "       'La Cumbre', 'Dagua', 'Toro', 'Alcala', 'La victoria', 'Tulua',\n",
       "       'Vijes', 'Buenaventura', 'None', 'El aguila', 'Ulloa',\n",
       "       'San jose de palmar', 'Versalles', 'Obando', 'Argelia', 'Calima',\n",
       "       'Buga', 'El cerrito', 'Ginebra', 'San pedro', 'Restrepo',\n",
       "       'Guacari', 'Yotoco', 'Palmira', 'Candelaria', 'Florida', 'Pradera',\n",
       "       'Zarzal', 'Andalucia', 'Riofrio', 'Bugalagrande', 'Bolivar',\n",
       "       'Trujillo'], dtype=object)"
      ]
     },
     "execution_count": 51,
     "metadata": {},
     "output_type": "execute_result"
    }
   ],
   "source": [
    "MunicipiosC = pd.read_csv('Municipios_Consolidado.csv', low_memory=False)\n",
    "MunicipiosC['MUNICIPIO_Clean'].unique()"
   ]
  },
  {
   "cell_type": "code",
   "execution_count": 52,
   "metadata": {},
   "outputs": [
    {
     "data": {
      "text/plain": [
       "array([2020., 2019.,   nan, 2018., 1985., 2015., 1984., 1983., 2017.,\n",
       "       2011., 2016., 2014., 2013., 2012., 1980., 2010., 2009., 2008.,\n",
       "       2007., 1981., 2005., 2006., 2004., 2003., 2002., 2001., 1999.,\n",
       "       1998., 1997., 1995., 1974., 1994., 1993., 1992., 1973., 1972.,\n",
       "       1989., 1988., 1987., 1986.])"
      ]
     },
     "execution_count": 52,
     "metadata": {},
     "output_type": "execute_result"
    }
   ],
   "source": [
    "MunicipiosC['ULT_REN'].unique()"
   ]
  },
  {
   "cell_type": "code",
   "execution_count": 53,
   "metadata": {},
   "outputs": [
    {
     "data": {
      "text/html": [
       "<div>\n",
       "<style scoped>\n",
       "    .dataframe tbody tr th:only-of-type {\n",
       "        vertical-align: middle;\n",
       "    }\n",
       "\n",
       "    .dataframe tbody tr th {\n",
       "        vertical-align: top;\n",
       "    }\n",
       "\n",
       "    .dataframe thead th {\n",
       "        text-align: right;\n",
       "    }\n",
       "</style>\n",
       "<table border=\"1\" class=\"dataframe\">\n",
       "  <thead>\n",
       "    <tr style=\"text-align: right;\">\n",
       "      <th></th>\n",
       "      <th>index</th>\n",
       "      <th>MATRICULA</th>\n",
       "      <th>PROPONENTE</th>\n",
       "      <th>ORGANIZACION</th>\n",
       "      <th>CATEGORIA</th>\n",
       "      <th>EST-MATRICULA</th>\n",
       "      <th>EST_DATOS</th>\n",
       "      <th>FECHA-NAC</th>\n",
       "      <th>CLASE-ID</th>\n",
       "      <th>IDENTIFICACION</th>\n",
       "      <th>...</th>\n",
       "      <th>ESTBLCOMERCIALES</th>\n",
       "      <th>IND_ENVMSJCEL</th>\n",
       "      <th>IND_ENVMSJEMAIL</th>\n",
       "      <th>IND_BENEFICIO1780</th>\n",
       "      <th>IND_BENEFICIO1780MAT</th>\n",
       "      <th>IND_RENUNCIABEN1780</th>\n",
       "      <th>ESTADO_AFILIADO</th>\n",
       "      <th>FECHA_AFILIACION</th>\n",
       "      <th>FECHA_FIN_AFILIACION</th>\n",
       "      <th>Actividad_Economica</th>\n",
       "    </tr>\n",
       "  </thead>\n",
       "  <tbody>\n",
       "    <tr>\n",
       "      <th>0</th>\n",
       "      <td>5361</td>\n",
       "      <td>98986</td>\n",
       "      <td>NaN</td>\n",
       "      <td>NaN</td>\n",
       "      <td>NaN</td>\n",
       "      <td>MA</td>\n",
       "      <td>NaN</td>\n",
       "      <td>NaN</td>\n",
       "      <td>1.0</td>\n",
       "      <td>hhh#et&amp;&amp;#&amp;</td>\n",
       "      <td>...</td>\n",
       "      <td>NaN</td>\n",
       "      <td>NaN</td>\n",
       "      <td>NaN</td>\n",
       "      <td>NaN</td>\n",
       "      <td>NaN</td>\n",
       "      <td>NaN</td>\n",
       "      <td>NaN</td>\n",
       "      <td>NaN</td>\n",
       "      <td>NaN</td>\n",
       "      <td>Deporte</td>\n",
       "    </tr>\n",
       "    <tr>\n",
       "      <th>1</th>\n",
       "      <td>5365</td>\n",
       "      <td>98421</td>\n",
       "      <td>NaN</td>\n",
       "      <td>NaN</td>\n",
       "      <td>NaN</td>\n",
       "      <td>MA</td>\n",
       "      <td>NaN</td>\n",
       "      <td>NaN</td>\n",
       "      <td>1.0</td>\n",
       "      <td>hterbe3#t(</td>\n",
       "      <td>...</td>\n",
       "      <td>NaN</td>\n",
       "      <td>NaN</td>\n",
       "      <td>NaN</td>\n",
       "      <td>NaN</td>\n",
       "      <td>NaN</td>\n",
       "      <td>NaN</td>\n",
       "      <td>NaN</td>\n",
       "      <td>NaN</td>\n",
       "      <td>NaN</td>\n",
       "      <td>Deporte</td>\n",
       "    </tr>\n",
       "    <tr>\n",
       "      <th>2</th>\n",
       "      <td>5367</td>\n",
       "      <td>98324</td>\n",
       "      <td>NaN</td>\n",
       "      <td>NaN</td>\n",
       "      <td>NaN</td>\n",
       "      <td>MA</td>\n",
       "      <td>NaN</td>\n",
       "      <td>NaN</td>\n",
       "      <td>1.0</td>\n",
       "      <td>htt&amp;:er#rh</td>\n",
       "      <td>...</td>\n",
       "      <td>NaN</td>\n",
       "      <td>NaN</td>\n",
       "      <td>NaN</td>\n",
       "      <td>NaN</td>\n",
       "      <td>NaN</td>\n",
       "      <td>NaN</td>\n",
       "      <td>NaN</td>\n",
       "      <td>NaN</td>\n",
       "      <td>NaN</td>\n",
       "      <td>Deporte</td>\n",
       "    </tr>\n",
       "    <tr>\n",
       "      <th>3</th>\n",
       "      <td>5368</td>\n",
       "      <td>98199</td>\n",
       "      <td>NaN</td>\n",
       "      <td>NaN</td>\n",
       "      <td>NaN</td>\n",
       "      <td>MA</td>\n",
       "      <td>NaN</td>\n",
       "      <td>NaN</td>\n",
       "      <td>1.0</td>\n",
       "      <td>#&amp;:33t&amp;</td>\n",
       "      <td>...</td>\n",
       "      <td>NaN</td>\n",
       "      <td>NaN</td>\n",
       "      <td>NaN</td>\n",
       "      <td>NaN</td>\n",
       "      <td>NaN</td>\n",
       "      <td>NaN</td>\n",
       "      <td>NaN</td>\n",
       "      <td>NaN</td>\n",
       "      <td>NaN</td>\n",
       "      <td>Deporte</td>\n",
       "    </tr>\n",
       "    <tr>\n",
       "      <th>4</th>\n",
       "      <td>5380</td>\n",
       "      <td>97399</td>\n",
       "      <td>NaN</td>\n",
       "      <td>NaN</td>\n",
       "      <td>NaN</td>\n",
       "      <td>MA</td>\n",
       "      <td>NaN</td>\n",
       "      <td>NaN</td>\n",
       "      <td>1.0</td>\n",
       "      <td>h:((#t:&amp;</td>\n",
       "      <td>...</td>\n",
       "      <td>NaN</td>\n",
       "      <td>NaN</td>\n",
       "      <td>NaN</td>\n",
       "      <td>NaN</td>\n",
       "      <td>NaN</td>\n",
       "      <td>NaN</td>\n",
       "      <td>NaN</td>\n",
       "      <td>NaN</td>\n",
       "      <td>NaN</td>\n",
       "      <td>Deporte</td>\n",
       "    </tr>\n",
       "    <tr>\n",
       "      <th>...</th>\n",
       "      <td>...</td>\n",
       "      <td>...</td>\n",
       "      <td>...</td>\n",
       "      <td>...</td>\n",
       "      <td>...</td>\n",
       "      <td>...</td>\n",
       "      <td>...</td>\n",
       "      <td>...</td>\n",
       "      <td>...</td>\n",
       "      <td>...</td>\n",
       "      <td>...</td>\n",
       "      <td>...</td>\n",
       "      <td>...</td>\n",
       "      <td>...</td>\n",
       "      <td>...</td>\n",
       "      <td>...</td>\n",
       "      <td>...</td>\n",
       "      <td>...</td>\n",
       "      <td>...</td>\n",
       "      <td>...</td>\n",
       "      <td>...</td>\n",
       "    </tr>\n",
       "    <tr>\n",
       "      <th>7517</th>\n",
       "      <td>11055</td>\n",
       "      <td>NaN</td>\n",
       "      <td>NaN</td>\n",
       "      <td>NaN</td>\n",
       "      <td>PERSONA JURIDICA</td>\n",
       "      <td>NaN</td>\n",
       "      <td>NaN</td>\n",
       "      <td>NaN</td>\n",
       "      <td>NaN</td>\n",
       "      <td>NaN</td>\n",
       "      <td>...</td>\n",
       "      <td>NaN</td>\n",
       "      <td>NaN</td>\n",
       "      <td>S</td>\n",
       "      <td>N</td>\n",
       "      <td>N</td>\n",
       "      <td>N</td>\n",
       "      <td>No afiliado</td>\n",
       "      <td>NaN</td>\n",
       "      <td>NaN</td>\n",
       "      <td>Licor</td>\n",
       "    </tr>\n",
       "    <tr>\n",
       "      <th>7518</th>\n",
       "      <td>11071</td>\n",
       "      <td>NaN</td>\n",
       "      <td>NaN</td>\n",
       "      <td>NaN</td>\n",
       "      <td>PERSONA NATURAL</td>\n",
       "      <td>NaN</td>\n",
       "      <td>NaN</td>\n",
       "      <td>NaN</td>\n",
       "      <td>NaN</td>\n",
       "      <td>NaN</td>\n",
       "      <td>...</td>\n",
       "      <td>1.0</td>\n",
       "      <td>N</td>\n",
       "      <td>S</td>\n",
       "      <td>N</td>\n",
       "      <td>N</td>\n",
       "      <td>N</td>\n",
       "      <td>No afiliado</td>\n",
       "      <td>NaN</td>\n",
       "      <td>NaN</td>\n",
       "      <td>Licor</td>\n",
       "    </tr>\n",
       "    <tr>\n",
       "      <th>7519</th>\n",
       "      <td>11074</td>\n",
       "      <td>NaN</td>\n",
       "      <td>NaN</td>\n",
       "      <td>NaN</td>\n",
       "      <td>PERSONA NATURAL</td>\n",
       "      <td>NaN</td>\n",
       "      <td>NaN</td>\n",
       "      <td>NaN</td>\n",
       "      <td>NaN</td>\n",
       "      <td>NaN</td>\n",
       "      <td>...</td>\n",
       "      <td>0.0</td>\n",
       "      <td>N</td>\n",
       "      <td>S</td>\n",
       "      <td>N</td>\n",
       "      <td>N</td>\n",
       "      <td>N</td>\n",
       "      <td>No afiliado</td>\n",
       "      <td>NaN</td>\n",
       "      <td>NaN</td>\n",
       "      <td>Licor</td>\n",
       "    </tr>\n",
       "    <tr>\n",
       "      <th>7520</th>\n",
       "      <td>11076</td>\n",
       "      <td>NaN</td>\n",
       "      <td>NaN</td>\n",
       "      <td>NaN</td>\n",
       "      <td>PERSONA NATURAL</td>\n",
       "      <td>NaN</td>\n",
       "      <td>NaN</td>\n",
       "      <td>NaN</td>\n",
       "      <td>NaN</td>\n",
       "      <td>NaN</td>\n",
       "      <td>...</td>\n",
       "      <td>0.0</td>\n",
       "      <td>N</td>\n",
       "      <td>S</td>\n",
       "      <td>N</td>\n",
       "      <td>N</td>\n",
       "      <td>N</td>\n",
       "      <td>No afiliado</td>\n",
       "      <td>NaN</td>\n",
       "      <td>NaN</td>\n",
       "      <td>Licor</td>\n",
       "    </tr>\n",
       "    <tr>\n",
       "      <th>7521</th>\n",
       "      <td>11095</td>\n",
       "      <td>NaN</td>\n",
       "      <td>NaN</td>\n",
       "      <td>NaN</td>\n",
       "      <td>PERSONA JURIDICA</td>\n",
       "      <td>NaN</td>\n",
       "      <td>NaN</td>\n",
       "      <td>NaN</td>\n",
       "      <td>NaN</td>\n",
       "      <td>NaN</td>\n",
       "      <td>...</td>\n",
       "      <td>0.0</td>\n",
       "      <td>N</td>\n",
       "      <td>S</td>\n",
       "      <td>N</td>\n",
       "      <td>N</td>\n",
       "      <td>N</td>\n",
       "      <td>No afiliado</td>\n",
       "      <td>NaN</td>\n",
       "      <td>NaN</td>\n",
       "      <td>Licor</td>\n",
       "    </tr>\n",
       "  </tbody>\n",
       "</table>\n",
       "<p>7522 rows × 212 columns</p>\n",
       "</div>"
      ],
      "text/plain": [
       "      index MATRICULA  PROPONENTE  ORGANIZACION         CATEGORIA  \\\n",
       "0      5361     98986         NaN           NaN               NaN   \n",
       "1      5365     98421         NaN           NaN               NaN   \n",
       "2      5367     98324         NaN           NaN               NaN   \n",
       "3      5368     98199         NaN           NaN               NaN   \n",
       "4      5380     97399         NaN           NaN               NaN   \n",
       "...     ...       ...         ...           ...               ...   \n",
       "7517  11055       NaN         NaN           NaN  PERSONA JURIDICA   \n",
       "7518  11071       NaN         NaN           NaN   PERSONA NATURAL   \n",
       "7519  11074       NaN         NaN           NaN   PERSONA NATURAL   \n",
       "7520  11076       NaN         NaN           NaN   PERSONA NATURAL   \n",
       "7521  11095       NaN         NaN           NaN  PERSONA JURIDICA   \n",
       "\n",
       "     EST-MATRICULA  EST_DATOS  FECHA-NAC  CLASE-ID IDENTIFICACION  ...  \\\n",
       "0               MA        NaN        NaN       1.0     hhh#et&&#&  ...   \n",
       "1               MA        NaN        NaN       1.0     hterbe3#t(  ...   \n",
       "2               MA        NaN        NaN       1.0     htt&:er#rh  ...   \n",
       "3               MA        NaN        NaN       1.0        #&:33t&  ...   \n",
       "4               MA        NaN        NaN       1.0       h:((#t:&  ...   \n",
       "...            ...        ...        ...       ...            ...  ...   \n",
       "7517           NaN        NaN        NaN       NaN            NaN  ...   \n",
       "7518           NaN        NaN        NaN       NaN            NaN  ...   \n",
       "7519           NaN        NaN        NaN       NaN            NaN  ...   \n",
       "7520           NaN        NaN        NaN       NaN            NaN  ...   \n",
       "7521           NaN        NaN        NaN       NaN            NaN  ...   \n",
       "\n",
       "     ESTBLCOMERCIALES IND_ENVMSJCEL  IND_ENVMSJEMAIL  IND_BENEFICIO1780  \\\n",
       "0                 NaN           NaN              NaN                NaN   \n",
       "1                 NaN           NaN              NaN                NaN   \n",
       "2                 NaN           NaN              NaN                NaN   \n",
       "3                 NaN           NaN              NaN                NaN   \n",
       "4                 NaN           NaN              NaN                NaN   \n",
       "...               ...           ...              ...                ...   \n",
       "7517              NaN           NaN                S                  N   \n",
       "7518              1.0             N                S                  N   \n",
       "7519              0.0             N                S                  N   \n",
       "7520              0.0             N                S                  N   \n",
       "7521              0.0             N                S                  N   \n",
       "\n",
       "      IND_BENEFICIO1780MAT  IND_RENUNCIABEN1780  ESTADO_AFILIADO  \\\n",
       "0                      NaN                  NaN              NaN   \n",
       "1                      NaN                  NaN              NaN   \n",
       "2                      NaN                  NaN              NaN   \n",
       "3                      NaN                  NaN              NaN   \n",
       "4                      NaN                  NaN              NaN   \n",
       "...                    ...                  ...              ...   \n",
       "7517                     N                    N      No afiliado   \n",
       "7518                     N                    N      No afiliado   \n",
       "7519                     N                    N      No afiliado   \n",
       "7520                     N                    N      No afiliado   \n",
       "7521                     N                    N      No afiliado   \n",
       "\n",
       "      FECHA_AFILIACION  FECHA_FIN_AFILIACION  Actividad_Economica  \n",
       "0                  NaN                   NaN              Deporte  \n",
       "1                  NaN                   NaN              Deporte  \n",
       "2                  NaN                   NaN              Deporte  \n",
       "3                  NaN                   NaN              Deporte  \n",
       "4                  NaN                   NaN              Deporte  \n",
       "...                ...                   ...                  ...  \n",
       "7517               NaN                   NaN                Licor  \n",
       "7518               NaN                   NaN                Licor  \n",
       "7519               NaN                   NaN                Licor  \n",
       "7520               NaN                   NaN                Licor  \n",
       "7521               NaN                   NaN                Licor  \n",
       "\n",
       "[7522 rows x 212 columns]"
      ]
     },
     "execution_count": 53,
     "metadata": {},
     "output_type": "execute_result"
    }
   ],
   "source": [
    "MunicipiosC.loc[MunicipiosC['CODIGO_CIIU'].isin(Deporte), 'Actividad_Economica'] = 'Deporte'\n",
    "MunicipiosC.loc[MunicipiosC['CODIGO_CIIU'].isin(Licor), 'Actividad_Economica'] = 'Licor'\n",
    "MunicipiosC.loc[MunicipiosC['CODIGO_CIIU'].isin(Lot), 'Actividad_Economica'] = 'Loterias'\n",
    "MunicipiosC"
   ]
  },
  {
   "cell_type": "code",
   "execution_count": 54,
   "metadata": {
    "scrolled": true
   },
   "outputs": [
    {
     "data": {
      "text/plain": [
       "array(['Buenaventura', 'None', 'Cartago', 'El aguila', 'La union',\n",
       "       'La victoria', 'El dovio', 'Alcala', 'Ulloa', 'San jose de palmar',\n",
       "       'Ansermanuevo', 'Roldanillo', 'Versalles', 'Obando', 'El cairo',\n",
       "       'Argelia', 'Toro', 'Calima', 'Buga', 'Restrepo', 'El cerrito',\n",
       "       'Ginebra', 'Yotoco', 'San pedro', 'Guacari', 'Palmira',\n",
       "       'Candelaria', 'Florida', 'Pradera', 'Sevilla', 'Caicedonia',\n",
       "       'Zarzal', 'Tulua', 'Andalucia', 'Riofrio', 'Bugalagrande',\n",
       "       'Bolivar', 'Trujillo', 'Cali', 'Yumbo', 'Jamundi', 'Dagua',\n",
       "       'La Cumbre', 'Vijes'], dtype=object)"
      ]
     },
     "execution_count": 54,
     "metadata": {},
     "output_type": "execute_result"
    }
   ],
   "source": [
    "bd3['MUNICIPIO_Clean'].unique()"
   ]
  },
  {
   "cell_type": "code",
   "execution_count": 57,
   "metadata": {},
   "outputs": [],
   "source": [
    "MunicipiosC = MunicipiosC[~MunicipiosC['ULT_REN'].isin([2011., 2016., 2014., 2013., 2012., 1980., 2010., 2009., 2008.,\n",
    "       2007., 1981., 2005., 2006., 2004., 2003., 2002., 2001., 1999.,\n",
    "       1998., 1997., 1995., 1974., 1994., 1993., 1992., 1973., 1972.,\n",
    "       1989., 1988., 1987., 1986., 1985, 1984., 1983., 2015])]"
   ]
  },
  {
   "cell_type": "code",
   "execution_count": 58,
   "metadata": {},
   "outputs": [
    {
     "data": {
      "text/plain": [
       "array([2020., 2019.,   nan, 2018., 2017.])"
      ]
     },
     "execution_count": 58,
     "metadata": {},
     "output_type": "execute_result"
    }
   ],
   "source": [
    "MunicipiosC['ULT_REN'].unique()"
   ]
  },
  {
   "cell_type": "code",
   "execution_count": 59,
   "metadata": {},
   "outputs": [],
   "source": [
    "MunicipiosC.to_csv('Municipios_Consolidado.csv', index=False)"
   ]
  },
  {
   "cell_type": "code",
   "execution_count": 60,
   "metadata": {},
   "outputs": [
    {
     "data": {
      "text/plain": [
       "array(['El cairo', 'Cartago', 'Ansermanuevo', 'Roldanillo', 'El dovio',\n",
       "       'La union', 'Sevilla', 'Caicedonia', 'Cali', 'Yumbo', 'Jamundi',\n",
       "       'La Cumbre', 'Dagua', 'Toro', 'Alcala', 'La victoria', 'Tulua',\n",
       "       'Vijes', 'Buenaventura', 'El aguila', 'Ulloa',\n",
       "       'San jose de palmar', 'Versalles', 'Obando', 'Argelia', 'Calima',\n",
       "       'Buga', 'El cerrito', 'Ginebra', 'San pedro', 'Restrepo',\n",
       "       'Guacari', 'Yotoco', 'Palmira', 'Candelaria', 'Florida', 'Pradera',\n",
       "       'Zarzal', 'Andalucia', 'Riofrio', 'Bugalagrande', 'Bolivar',\n",
       "       'Trujillo'], dtype=object)"
      ]
     },
     "execution_count": 60,
     "metadata": {},
     "output_type": "execute_result"
    }
   ],
   "source": [
    "#MunicipiosC = pd.read_csv('Municipios_Consolidado.csv', low_memory=False)\n",
    "MunicipiosC['MUNICIPIO_Clean'].unique()"
   ]
  },
  {
   "cell_type": "code",
   "execution_count": null,
   "metadata": {},
   "outputs": [],
   "source": []
  }
 ],
 "metadata": {
  "kernelspec": {
   "display_name": "Python 3",
   "language": "python",
   "name": "python3"
  },
  "language_info": {
   "codemirror_mode": {
    "name": "ipython",
    "version": 3
   },
   "file_extension": ".py",
   "mimetype": "text/x-python",
   "name": "python",
   "nbconvert_exporter": "python",
   "pygments_lexer": "ipython3",
   "version": "3.7.3"
  }
 },
 "nbformat": 4,
 "nbformat_minor": 4
}
