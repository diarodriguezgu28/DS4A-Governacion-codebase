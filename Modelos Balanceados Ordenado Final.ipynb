{
 "cells": [
  {
   "cell_type": "markdown",
   "metadata": {},
   "source": [
    "# Balanceo y modelamiento (Balance and modeling)\n",
    "\n",
    "\n",
    "## Importar las librerías (Import packages)"
   ]
  },
  {
   "cell_type": "code",
   "execution_count": 2,
   "metadata": {},
   "outputs": [],
   "source": [
    "import pandas as pd\n",
    "import numpy as np\n",
    "import matplotlib.pyplot as plt\n",
    "import seaborn as sns\n",
    "import graphviz\n",
    "import xgboost as xgb\n",
    "\n",
    "from sklearn.model_selection import StratifiedKFold,train_test_split\n",
    "from sklearn.linear_model import LogisticRegression\n",
    "from sklearn.decomposition import PCA\n",
    "from sklearn.tree import DecisionTreeClassifier\n",
    "from sklearn.ensemble import RandomForestClassifier\n",
    "from sklearn.metrics import roc_curve, auc,balanced_accuracy_score ,accuracy_score, classification_report, confusion_matrix\n",
    "\n",
    "from imblearn.under_sampling import NearMiss\n",
    "from imblearn.over_sampling import RandomOverSampler, SMOTENC\n",
    "from imblearn.combine import SMOTETomek\n",
    "from imblearn.ensemble import BalancedBaggingClassifier, BalancedRandomForestClassifier\n",
    "\n",
    "from collections import Counter\n",
    "from pylab import rcParams"
   ]
  },
  {
   "cell_type": "markdown",
   "metadata": {},
   "source": [
    "## Carga de la base de datos (Upload the database)"
   ]
  },
  {
   "cell_type": "code",
   "execution_count": 52,
   "metadata": {},
   "outputs": [
    {
     "data": {
      "text/html": [
       "<div>\n",
       "<style scoped>\n",
       "    .dataframe tbody tr th:only-of-type {\n",
       "        vertical-align: middle;\n",
       "    }\n",
       "\n",
       "    .dataframe tbody tr th {\n",
       "        vertical-align: top;\n",
       "    }\n",
       "\n",
       "    .dataframe thead th {\n",
       "        text-align: right;\n",
       "    }\n",
       "</style>\n",
       "<table border=\"1\" class=\"dataframe\">\n",
       "  <thead>\n",
       "    <tr style=\"text-align: right;\">\n",
       "      <th></th>\n",
       "      <th>Actividad_Economica</th>\n",
       "      <th>NIT</th>\n",
       "      <th>FEC-RENOVACION</th>\n",
       "      <th>ULT_REN</th>\n",
       "      <th>VLR-ESTABLEC.</th>\n",
       "      <th>DIRECCION</th>\n",
       "      <th>BARRIO</th>\n",
       "      <th>MUNICIPIO_Clean</th>\n",
       "      <th>PATRIMONIO</th>\n",
       "      <th>GASTOS_IMPUESTOS</th>\n",
       "      <th>AÑO</th>\n",
       "      <th>ESTADO</th>\n",
       "      <th>TOTAL</th>\n",
       "      <th>FCHA_RCDO</th>\n",
       "      <th>PRDO_GRVBLE_MES</th>\n",
       "      <th>NoOmiso</th>\n",
       "    </tr>\n",
       "  </thead>\n",
       "  <tbody>\n",
       "    <tr>\n",
       "      <th>0</th>\n",
       "      <td>Deporte</td>\n",
       "      <td>#et3bthe</td>\n",
       "      <td>NaN</td>\n",
       "      <td>NaN</td>\n",
       "      <td>NaN</td>\n",
       "      <td>CL. 14  NRO  2   08</td>\n",
       "      <td>San Pedro</td>\n",
       "      <td>Cali</td>\n",
       "      <td>69000000.0</td>\n",
       "      <td>17011000.0</td>\n",
       "      <td>2015.0</td>\n",
       "      <td>PAGADO</td>\n",
       "      <td>271000.0</td>\n",
       "      <td>04/06/2015 12:00:00 a.m.</td>\n",
       "      <td>5.0</td>\n",
       "      <td>1.0</td>\n",
       "    </tr>\n",
       "    <tr>\n",
       "      <th>1</th>\n",
       "      <td>Deporte</td>\n",
       "      <td>#et3bthe</td>\n",
       "      <td>NaN</td>\n",
       "      <td>NaN</td>\n",
       "      <td>NaN</td>\n",
       "      <td>CL. 14  NRO  2   08</td>\n",
       "      <td>San Pedro</td>\n",
       "      <td>Cali</td>\n",
       "      <td>69000000.0</td>\n",
       "      <td>17011000.0</td>\n",
       "      <td>2015.0</td>\n",
       "      <td>PAGADO</td>\n",
       "      <td>192000.0</td>\n",
       "      <td>04/06/2015 12:00:00 a.m.</td>\n",
       "      <td>5.0</td>\n",
       "      <td>1.0</td>\n",
       "    </tr>\n",
       "    <tr>\n",
       "      <th>2</th>\n",
       "      <td>Deporte</td>\n",
       "      <td>#et3bthe</td>\n",
       "      <td>NaN</td>\n",
       "      <td>NaN</td>\n",
       "      <td>NaN</td>\n",
       "      <td>CL. 14  NRO  2   08</td>\n",
       "      <td>San Pedro</td>\n",
       "      <td>Cali</td>\n",
       "      <td>69000000.0</td>\n",
       "      <td>17011000.0</td>\n",
       "      <td>2015.0</td>\n",
       "      <td>PAGADO</td>\n",
       "      <td>227000.0</td>\n",
       "      <td>06/07/2015 12:00:00 a.m.</td>\n",
       "      <td>6.0</td>\n",
       "      <td>1.0</td>\n",
       "    </tr>\n",
       "    <tr>\n",
       "      <th>3</th>\n",
       "      <td>Deporte</td>\n",
       "      <td>#et3bthe</td>\n",
       "      <td>NaN</td>\n",
       "      <td>NaN</td>\n",
       "      <td>NaN</td>\n",
       "      <td>CL. 14  NRO  2   08</td>\n",
       "      <td>San Pedro</td>\n",
       "      <td>Cali</td>\n",
       "      <td>69000000.0</td>\n",
       "      <td>17011000.0</td>\n",
       "      <td>2015.0</td>\n",
       "      <td>PAGADO</td>\n",
       "      <td>246000.0</td>\n",
       "      <td>06/07/2015 12:00:00 a.m.</td>\n",
       "      <td>6.0</td>\n",
       "      <td>1.0</td>\n",
       "    </tr>\n",
       "    <tr>\n",
       "      <th>4</th>\n",
       "      <td>Deporte</td>\n",
       "      <td>#et3bthe</td>\n",
       "      <td>NaN</td>\n",
       "      <td>NaN</td>\n",
       "      <td>NaN</td>\n",
       "      <td>CL. 14  NRO  2   08</td>\n",
       "      <td>San Pedro</td>\n",
       "      <td>Cali</td>\n",
       "      <td>69000000.0</td>\n",
       "      <td>17011000.0</td>\n",
       "      <td>2015.0</td>\n",
       "      <td>GENERADO</td>\n",
       "      <td>267000.0</td>\n",
       "      <td>NaN</td>\n",
       "      <td>7.0</td>\n",
       "      <td>1.0</td>\n",
       "    </tr>\n",
       "  </tbody>\n",
       "</table>\n",
       "</div>"
      ],
      "text/plain": [
       "  Actividad_Economica       NIT  FEC-RENOVACION  ULT_REN  VLR-ESTABLEC.  \\\n",
       "0             Deporte  #et3bthe             NaN      NaN            NaN   \n",
       "1             Deporte  #et3bthe             NaN      NaN            NaN   \n",
       "2             Deporte  #et3bthe             NaN      NaN            NaN   \n",
       "3             Deporte  #et3bthe             NaN      NaN            NaN   \n",
       "4             Deporte  #et3bthe             NaN      NaN            NaN   \n",
       "\n",
       "             DIRECCION     BARRIO MUNICIPIO_Clean  PATRIMONIO  \\\n",
       "0  CL. 14  NRO  2   08  San Pedro            Cali  69000000.0   \n",
       "1  CL. 14  NRO  2   08  San Pedro            Cali  69000000.0   \n",
       "2  CL. 14  NRO  2   08  San Pedro            Cali  69000000.0   \n",
       "3  CL. 14  NRO  2   08  San Pedro            Cali  69000000.0   \n",
       "4  CL. 14  NRO  2   08  San Pedro            Cali  69000000.0   \n",
       "\n",
       "   GASTOS_IMPUESTOS     AÑO    ESTADO     TOTAL                 FCHA_RCDO  \\\n",
       "0        17011000.0  2015.0    PAGADO  271000.0  04/06/2015 12:00:00 a.m.   \n",
       "1        17011000.0  2015.0    PAGADO  192000.0  04/06/2015 12:00:00 a.m.   \n",
       "2        17011000.0  2015.0    PAGADO  227000.0  06/07/2015 12:00:00 a.m.   \n",
       "3        17011000.0  2015.0    PAGADO  246000.0  06/07/2015 12:00:00 a.m.   \n",
       "4        17011000.0  2015.0  GENERADO  267000.0                       NaN   \n",
       "\n",
       "   PRDO_GRVBLE_MES  NoOmiso  \n",
       "0              5.0      1.0  \n",
       "1              5.0      1.0  \n",
       "2              6.0      1.0  \n",
       "3              6.0      1.0  \n",
       "4              7.0      1.0  "
      ]
     },
     "execution_count": 52,
     "metadata": {},
     "output_type": "execute_result"
    }
   ],
   "source": [
    "# Con el siguiente código se carga el archivo .csv donde está la base de datos de interés,especificando el tipo de variable\n",
    "# que contienen algunas columnas.\n",
    "# Tener especial cuidado con el separador utilizado, si es coma poner \"sep=','\" o si es punto y coma poner \"sep=';'\" \n",
    "\n",
    "# Load a file as a DataFrame and assign to df\n",
    "df = pd.read_csv('../PROYECTO/Municipios_ActividadesEconomicas_concat.csv',sep=\",\",low_memory=False)\n",
    "\n",
    "# Al tener NAs o valores faltantes en las siguientes columnas, se decide reemplazar estos por 0 para que al ajustar el modelo\n",
    "# no haya inconvenientes.\n",
    "\n",
    "# Change NAN to 0\n",
    "df[\"TOTAL\"]=df[\"TOTAL\"].fillna(0)\n",
    "df[\"GASTOS_IMPUESTOS\"]=df[\"GASTOS_IMPUESTOS\"].fillna(0)\n",
    "df[\"PATRIMONIO\"]=df[\"PATRIMONIO\"].fillna(0)\n",
    "\n",
    "# Este comando muestra los primeros 5 registros de la tabla \n",
    "df.head()"
   ]
  },
  {
   "cell_type": "markdown",
   "metadata": {},
   "source": [
    "Teniendo en cuenta que se tiene información de más de 40 municipios, se decide generar una variable para indicar la subregión del Valle del Cauca a la que pertenece cada registro (Centro, Sur, Norte, Oriente, Occidente). A continuación se ejecuta ese proceso.\n",
    "\n",
    "\n",
    "Taking into account that we have more than 40 municipalities, we created a *Region* variable that group all of them in 5 categories (Center, South, North, East, West)."
   ]
  },
  {
   "cell_type": "code",
   "execution_count": 53,
   "metadata": {},
   "outputs": [
    {
     "data": {
      "text/plain": [
       "array(['Sur', 'Norte', '', 'Oriente', 'Centro', 'Occidente'], dtype=object)"
      ]
     },
     "execution_count": 53,
     "metadata": {},
     "output_type": "execute_result"
    }
   ],
   "source": [
    "df['Region'] =''\n",
    "#REGION SUR/ SOUTH REGION\n",
    "df['Region'] = np.where(df['MUNICIPIO_Clean'] =='Cali', \"Sur\", df['Region'])\n",
    "df['Region'] = np.where(df['MUNICIPIO_Clean'] =='Candelaria', \"Sur\", df['Region'])\n",
    "df['Region'] = np.where(df['MUNICIPIO_Clean'] =='Dagua', \"Sur\", df['Region'])\n",
    "df['Region'] = np.where(df['MUNICIPIO_Clean'] =='Florida', \"Sur\", df['Region'])\n",
    "df['Region'] = np.where(df['MUNICIPIO_Clean'] =='Jamundi', \"Sur\", df['Region'])\n",
    "df['Region'] = np.where(df['MUNICIPIO_Clean'] =='La cumbre', \"Sur\", df['Region'])\n",
    "df['Region'] = np.where(df['MUNICIPIO_Clean'] =='Palmira', \"Sur\", df['Region'])\n",
    "df['Region'] = np.where(df['MUNICIPIO_Clean'] =='Pradera', \"Sur\", df['Region'])\n",
    "df['Region'] = np.where(df['MUNICIPIO_Clean'] =='Vijes', \"Sur\", df['Region'])\n",
    "df['Region'] = np.where(df['MUNICIPIO_Clean'] =='Yumbo', \"Sur\", df['Region'])\n",
    "#REGION NORTE / NORTH REGION\n",
    "df['Region'] = np.where(df['MUNICIPIO_Clean'] =='Alcala', \"Norte\", df['Region'])\n",
    "df['Region'] = np.where(df['MUNICIPIO_Clean'] =='Ansermanuevo', \"Norte\", df['Region'])\n",
    "df['Region'] = np.where(df['MUNICIPIO_Clean'] =='Argelia', \"Norte\", df['Region'])\n",
    "df['Region'] = np.where(df['MUNICIPIO_Clean'] =='Bolivar', \"Norte\", df['Region'])\n",
    "df['Region'] = np.where(df['MUNICIPIO_Clean'] =='cartago', \"Norte\", df['Region'])\n",
    "df['Region'] = np.where(df['MUNICIPIO_Clean'] =='El aguila', \"Norte\", df['Region'])\n",
    "df['Region'] = np.where(df['MUNICIPIO_Clean'] =='El cairo', \"Norte\", df['Region'])\n",
    "df['Region'] = np.where(df['MUNICIPIO_Clean'] =='El dovio', \"Norte\", df['Region'])\n",
    "df['Region'] = np.where(df['MUNICIPIO_Clean'] =='La union', \"Norte\", df['Region'])\n",
    "df['Region'] = np.where(df['MUNICIPIO_Clean'] =='La victoria', \"Norte\", df['Region'])\n",
    "df['Region'] = np.where(df['MUNICIPIO_Clean'] =='Obando', \"Norte\", df['Region'])\n",
    "df['Region'] = np.where(df['MUNICIPIO_Clean'] =='Roldanillo', \"Norte\", df['Region'])\n",
    "df['Region'] = np.where(df['MUNICIPIO_Clean'] =='Toro', \"Norte\", df['Region'])\n",
    "df['Region'] = np.where(df['MUNICIPIO_Clean'] =='Ulloa', \"Norte\", df['Region'])\n",
    "df['Region'] = np.where(df['MUNICIPIO_Clean'] =='Versalles', \"Norte\", df['Region'])\n",
    "df['Region'] = np.where(df['MUNICIPIO_Clean'] =='Zarzal', \"Norte\", df['Region'])\n",
    "#REGION CENTRO/ CENTER REGION\n",
    "df['Region'] = np.where(df['MUNICIPIO_Clean'] =='Andalucia', \"Centro\", df['Region'])\n",
    "df['Region'] = np.where(df['MUNICIPIO_Clean'] =='Buga', \"Centro\", df['Region'])\n",
    "df['Region'] = np.where(df['MUNICIPIO_Clean'] =='Bugalagrande', \"Centro\", df['Region'])\n",
    "df['Region'] = np.where(df['MUNICIPIO_Clean'] =='Calima', \"Centro\", df['Region'])\n",
    "df['Region'] = np.where(df['MUNICIPIO_Clean'] =='El cerrito', \"Centro\", df['Region'])\n",
    "df['Region'] = np.where(df['MUNICIPIO_Clean'] =='Ginebra', \"Centro\", df['Region'])\n",
    "df['Region'] = np.where(df['MUNICIPIO_Clean'] =='Guacari', \"Centro\", df['Region'])\n",
    "df['Region'] = np.where(df['MUNICIPIO_Clean'] =='Restrepo', \"Centro\", df['Region'])\n",
    "df['Region'] = np.where(df['MUNICIPIO_Clean'] =='Riofrio', \"Centro\", df['Region'])\n",
    "df['Region'] = np.where(df['MUNICIPIO_Clean'] =='San pedro', \"Centro\", df['Region'])\n",
    "df['Region'] = np.where(df['MUNICIPIO_Clean'] =='Trujillo', \"Centro\", df['Region'])\n",
    "df['Region'] = np.where(df['MUNICIPIO_Clean'] =='Tulua', \"Centro\", df['Region'])\n",
    "df['Region'] = np.where(df['MUNICIPIO_Clean'] =='Yotoco', \"Centro\", df['Region'])\n",
    "#REGION OCCIDENTE / WEST REGION\n",
    "df['Region'] = np.where(df['MUNICIPIO_Clean'] =='Buenaventura', \"Occidente\", df['Region'])\n",
    "#REGION ORIENTE / EAST REGION\n",
    "df['Region'] = np.where(df['MUNICIPIO_Clean'] =='Caicedonia', \"Oriente\", df['Region'])\n",
    "df['Region'] = np.where(df['MUNICIPIO_Clean'] =='Sevilla', \"Oriente\", df['Region'])"
   ]
  },
  {
   "cell_type": "code",
   "execution_count": 15,
   "metadata": {},
   "outputs": [
    {
     "name": "stdout",
     "output_type": "stream",
     "text": [
      "La base de datos que vamos a estudiar cuenta con 16107 filas y 17 columnas.\n",
      "The database has 16107 rows and 17 columns.\n"
     ]
    }
   ],
   "source": [
    "print(\"La base de datos que vamos a estudiar cuenta con\",df.shape[0],\"filas y\",df.shape[1],\"columnas.\")\n",
    "print(\"The database has\",df.shape[0],\"rows and\",df.shape[1],\"columns.\")"
   ]
  },
  {
   "cell_type": "markdown",
   "metadata": {},
   "source": [
    "La variable de interés (en adelante llamada $y$) es **\"NoOmiso\"**, que da información de si un contribuyente es *ha pagado* (1) o *no ha pagado* (0). La frecuencia de cada una de las categorías se muestra enseguida:\n",
    "\n",
    "Our variable of interest ($y$) is **\"NoOmiso\"** because is the one that shows whether or not a taxpayer is *omiso*."
   ]
  },
  {
   "cell_type": "code",
   "execution_count": 71,
   "metadata": {},
   "outputs": [
    {
     "name": "stdout",
     "output_type": "stream",
     "text": [
      "Cantidad de no omisos 5150 \n",
      "Cantidad de omisos 10957\n",
      "Number of non-taxpayers 5150 \n",
      "Number of taxpayers 10957\n"
     ]
    },
    {
     "data": {
      "image/png": "[encoded data removed]",
      "text/plain": [
       "<Figure size 432x288 with 1 Axes>"
      ]
     },
     "metadata": {
      "needs_background": "light"
     },
     "output_type": "display_data"
    }
   ],
   "source": [
    "count_classes=pd.value_counts(df['NoOmiso'],sort= True)\n",
    "count_classes.plot(kind=\"bar\",rot=0,color=\"darkblue\")\n",
    "plt.xticks(range(2))\n",
    "plt.title(\"Frecuency by observation number\")\n",
    "plt.xlabel(\"Class\")\n",
    "plt.ylabel(\"Number of Observation\")\n",
    "\n",
    "o=pd.value_counts(df['NoOmiso'], sort = True)\n",
    "\n",
    "print(\"Cantidad de no omisos\",o[0],\"\\nCantidad de omisos\",o[1])\n",
    "\n",
    "print(\"Number of non-taxpayers\",o[0],\"\\nNumber of taxpayers\",o[1])"
   ]
  },
  {
   "cell_type": "markdown",
   "metadata": {},
   "source": [
    "Como se puede notar, las categorías están extremandamente desbalanceadas así que antes de ajustar algún modelo de clasificación se debe balancear la muestra. Para ello se explorarán algunas alternativas: 1. Modificar los parámetros del modelo para que penalice la clasificación de la clase mayoritaria durante el entrenamiento y 2. Generar muestras artificiales que permitan \"equilibrar\" los conjuntos de datos, esto puede ser por submuestreo o supermuestreo. \n",
    "Cabe aclarar que se probabarán siguientes modelos de clasificación: Regresión Logística, Árboles de decisión y Random Forest (clásicos, balanceados y ponderados).\n",
    "\n",
    "\n",
    "As you can see, we have an unbalanced dataset so before trying some classification model we must balance the data. For that matter we will use 2 approaches: 1. Modifying the model parameters so that it penalizes the classification of the majority class and 2. Applying some tecniques of over and undersampling. \n",
    "We'll compare the results of different classification models such as Logistic regression, Decision trees and Random forest (classic, balanced and weighted)."
   ]
  },
  {
   "cell_type": "code",
   "execution_count": 61,
   "metadata": {},
   "outputs": [],
   "source": [
    "# Se crea una segunda base de datos utilizando solo las variables que realmente se incluirán en el modelo. \n",
    "# A las variables cuantitativas se les normaliza y a las categóricas se les transforma en dummies (donde toman el valor de 1 \n",
    "# si cumplen con la cualidad y 0 si no).\n",
    "\n",
    "# Create a new dataframe based on df using the independent variables useful for the modeling. We use one-hot encoding for the \n",
    "# categorical variables.\n",
    "\n",
    "df2=df[[\"Actividad_Economica\",\"Region\",\"NoOmiso\",\"GASTOS_IMPUESTOS\"]]#,\"TOTAL\",\"PATRIMONIO\"]]\n",
    "df2=pd.concat([#(df2['TOTAL']- df['TOTAL'].mean())/df['TOTAL'].std(),\n",
    "               (df2[\"GASTOS_IMPUESTOS\"]- df[\"GASTOS_IMPUESTOS\"].mean())/df[\"GASTOS_IMPUESTOS\"].std(),\n",
    "               #(df2[\"PATRIMONIO\"]- df[\"PATRIMONIO\"].mean())/df[\"PATRIMONIO\"].std(),\n",
    "               df2['NoOmiso'],pd.get_dummies(df2['Actividad_Economica'],prefix='ActEc', drop_first=True),\n",
    "               pd.get_dummies(df2['Region'], prefix='Reg', drop_first=True)],axis=1)\n",
    "\n",
    "# Definición de etiquetas. Y= variable dependiente  X = Variables independientes \n",
    "y=df2[\"NoOmiso\"]\n",
    "X=df2.drop(\"NoOmiso\",axis=1)\n"
   ]
  },
  {
   "cell_type": "code",
   "execution_count": 19,
   "metadata": {},
   "outputs": [],
   "source": [
    "#definimos funciona para mostrar los resultados - Sin importar el modelo\n",
    "def mostrar_resultados(y_test, pred_y):\n",
    "    conf_matrix = confusion_matrix(y_test, pred_y)\n",
    "    plt.figure(figsize=(12, 12))\n",
    "    sns.heatmap(conf_matrix, annot=True, fmt=\"d\")\n",
    "    plt.title(\"Confusion matrix\")\n",
    "    plt.ylabel('True class')\n",
    "    plt.xlabel('Predicted class')\n",
    "    plt.show()\n",
    "    print (classification_report(y_test, pred_y))"
   ]
  },
  {
   "cell_type": "markdown",
   "metadata": {},
   "source": [
    "### Regresión Logística (Logistic Regression)\n",
    "\n",
    "#### Con los datos desbalanceados originales (With original dataset)\n"
   ]
  },
  {
   "cell_type": "code",
   "execution_count": 72,
   "metadata": {},
   "outputs": [
    {
     "name": "stdout",
     "output_type": "stream",
     "text": [
      "La cantidad de registros para entrenamiento es 11274 y para test 4833\n",
      "Number of rows in the train set 11274 and in the test set 4833\n",
      "              precision    recall  f1-score   support\n",
      "\n",
      "         0.0       0.83      0.91      0.87      1514\n",
      "         1.0       0.96      0.91      0.93      3319\n",
      "\n",
      "    accuracy                           0.91      4833\n",
      "   macro avg       0.89      0.91      0.90      4833\n",
      "weighted avg       0.92      0.91      0.91      4833\n",
      "\n"
     ]
    }
   ],
   "source": [
    "#Dividimos en sets de entrenamiento (70$%) y test (30$%)\n",
    "#Selection of train (70%) and test (30$%) sets\n",
    "\n",
    "X_train,X_test,y_train,y_test=train_test_split(X,y,train_size=0.7)\n",
    "print(\"La cantidad de registros para entrenamiento es\",X_train.shape[0],\"y para test\",X_test.shape[0])\n",
    "print(\"Number of rows in the train set\",X_train.shape[0],\"and in the test set\",X_test.shape[0])\n",
    "\n",
    "clf_base = LogisticRegression(random_state=1,solver=\"newton-cg\")\n",
    "clf_base.fit(X_train, y_train)\n",
    "pred_y = clf_base.predict(X_test)\n",
    "mostrar_resultados(y_test, pred_y)\n",
    "#print (classification_report(y_test, pred_y))"
   ]
  },
  {
   "cell_type": "markdown",
   "metadata": {},
   "source": [
    "#### Usando penalizaciones (Using penaly in the model)"
   ]
  },
  {
   "cell_type": "code",
   "execution_count": 23,
   "metadata": {},
   "outputs": [
    {
     "name": "stdout",
     "output_type": "stream",
     "text": [
      "              precision    recall  f1-score   support\n",
      "\n",
      "         0.0       0.84      0.91      0.87      1566\n",
      "         1.0       0.95      0.92      0.93      3267\n",
      "\n",
      "    accuracy                           0.91      4833\n",
      "   macro avg       0.90      0.91      0.90      4833\n",
      "weighted avg       0.92      0.91      0.91      4833\n",
      "\n"
     ]
    }
   ],
   "source": [
    "lrp_base = LogisticRegression(random_state=1,solver=\"newton-cg\",penalty='l2',class_weight=\"balanced\")\n",
    "lrp_base.fit(X_train, y_train)\n",
    "predlrp_y = lrp_base.predict(X_test)\n",
    "print (classification_report(y_test, predlrp_y))"
   ]
  },
  {
   "cell_type": "markdown",
   "metadata": {},
   "source": [
    "#### Aplicando submuestreo (Applying undersampling)"
   ]
  },
  {
   "cell_type": "code",
   "execution_count": 24,
   "metadata": {},
   "outputs": [
    {
     "name": "stdout",
     "output_type": "stream",
     "text": [
      "Distribución antes de submuestreo Counter({1.0: 7690, 0.0: 3584})\n",
      "Distributión después de submuestreo Counter({0.0: 3584, 1.0: 3584})\n",
      "Distribution before resampling Counter({1.0: 7690, 0.0: 3584})\n",
      "Distribution after resampling Counter({0.0: 3584, 1.0: 3584})\n",
      "              precision    recall  f1-score   support\n",
      "\n",
      "         0.0       0.84      0.91      0.87      1566\n",
      "         1.0       0.95      0.92      0.93      3267\n",
      "\n",
      "    accuracy                           0.91      4833\n",
      "   macro avg       0.90      0.91      0.90      4833\n",
      "weighted avg       0.92      0.91      0.91      4833\n",
      "\n"
     ]
    },
    {
     "data": {
      "text/plain": [
       "0.9121"
      ]
     },
     "execution_count": 24,
     "metadata": {},
     "output_type": "execute_result"
    }
   ],
   "source": [
    "nr = NearMiss()\n",
    "X_under_train, y_under_train = nr.fit_sample(X_train, y_train)\n",
    "\n",
    "print (\"Distribución antes de submuestreo {}\".format(Counter(y_train)))\n",
    "print (\"Distributión después de submuestreo {}\".format(Counter(y_under_train)))\n",
    "\n",
    "print (\"Distribution before resampling {}\".format(Counter(y_train)))\n",
    "print (\"Distribution after resampling {}\".format(Counter(y_under_train)))\n",
    "\n",
    "lrp_under = LogisticRegression(random_state=1,solver=\"newton-cg\")\n",
    "lrp_under.fit(X_under_train, y_under_train)\n",
    "predlrp_y_under = lrp_under.predict(X_test)\n",
    "mostrar_resultados(y_test, predlrp_y_under)\n",
    "\n",
    "#print (classification_report(y_test, predlrp_y_under))\n",
    "#round(balanced_accuracy_score(y_test, predlrp_y_under),4)"
   ]
  },
  {
   "cell_type": "markdown",
   "metadata": {},
   "source": [
    "#### Aplicando supermuestreo aleatorio (Applying random oversampling)"
   ]
  },
  {
   "cell_type": "code",
   "execution_count": 25,
   "metadata": {},
   "outputs": [
    {
     "name": "stdout",
     "output_type": "stream",
     "text": [
      "Distribución antes de submuestreo Counter({1.0: 7690, 0.0: 3584})\n",
      "Distributión después de submuestreo Counter({1.0: 7690, 0.0: 7690})\n",
      "Distribution before resampling Counter({1.0: 7690, 0.0: 3584})\n",
      "Distribution after resampling Counter({1.0: 7690, 0.0: 7690})\n",
      "              precision    recall  f1-score   support\n",
      "\n",
      "         0.0       0.84      0.91      0.87      1566\n",
      "         1.0       0.95      0.92      0.93      3267\n",
      "\n",
      "    accuracy                           0.91      4833\n",
      "   macro avg       0.90      0.91      0.90      4833\n",
      "weighted avg       0.92      0.91      0.91      4833\n",
      "\n"
     ]
    }
   ],
   "source": [
    "os =  RandomOverSampler()\n",
    "X_over_train, y_over_train = os.fit_sample(X_train, y_train)\n",
    " \n",
    "print (\"Distribución antes de submuestreo {}\".format(Counter(y_train)))\n",
    "print (\"Distributión después de submuestreo {}\".format(Counter(y_over_train)))\n",
    "\n",
    "print (\"Distribution before resampling {}\".format(Counter(y_train)))\n",
    "print (\"Distribution after resampling {}\".format(Counter(y_over_train)))\n",
    "\n",
    "lrp_over = LogisticRegression(random_state=1,solver=\"newton-cg\")#,penalty='l2',class_weight=\"balanced\")\n",
    "lrp_over.fit(X_over_train, y_over_train)\n",
    "predlrp_y_over = lrp_over.predict(X_test)\n",
    "print (classification_report(y_test, predlrp_y_over))"
   ]
  },
  {
   "cell_type": "markdown",
   "metadata": {},
   "source": [
    "#### Aplicando supermuestreo SMOTENC (Applying Synthetic Minority Oversampling Technique for Nominal and Continous (SMOTENC))"
   ]
  },
  {
   "cell_type": "code",
   "execution_count": 28,
   "metadata": {},
   "outputs": [
    {
     "name": "stdout",
     "output_type": "stream",
     "text": [
      "[(0.0, 10957), (1.0, 10957)]\n",
      "Distribution before resampling Counter({1.0: 7690, 0.0: 3584})\n",
      "Distribution labels after resampling Counter({0.0: 7730, 1.0: 7609})\n",
      "              precision    recall  f1-score   support\n",
      "\n",
      "         0.0       0.90      0.91      0.90      3227\n",
      "         1.0       0.91      0.90      0.91      3348\n",
      "\n",
      "    accuracy                           0.90      6575\n",
      "   macro avg       0.90      0.90      0.90      6575\n",
      "weighted avg       0.90      0.90      0.90      6575\n",
      "\n"
     ]
    }
   ],
   "source": [
    "smote_nc = SMOTENC(categorical_features=[1,2,3,4,5,6,7], random_state=0)\n",
    "X_resampled, y_resampled = smote_nc.fit_resample(X, y)\n",
    "print(sorted(Counter(y_resampled).items()))\n",
    "\n",
    "X_train_smc,X_test_smc,y_train_smc,y_test_smc=train_test_split(X_resampled,y_resampled,train_size=0.7)\n",
    "\n",
    "print (\"Distribution before resampling {}\".format(Counter(y_train)))\n",
    "print (\"Distribution labels after resampling {}\".format(Counter(y_train_smc)))\n",
    " \n",
    "lrp_smotenc = LogisticRegression(random_state=1,solver=\"newton-cg\")\n",
    "lrp_smotenc.fit(X_train_smc, y_train_smc)\n",
    "predlrp_y_smotenc = lrp_smotenc.predict(X_test_smc)\n",
    "print (classification_report(y_test_smc, predlrp_y_smotenc))"
   ]
  },
  {
   "cell_type": "markdown",
   "metadata": {},
   "source": [
    "### Árbol de decisión (Decision Tree)\n",
    "\n",
    "#### Con los datos desbalanceados originales (With original dataset)\n"
   ]
  },
  {
   "cell_type": "code",
   "execution_count": 30,
   "metadata": {},
   "outputs": [
    {
     "name": "stdout",
     "output_type": "stream",
     "text": [
      "              precision    recall  f1-score   support\n",
      "\n",
      "         0.0       0.89      0.91      0.90      1566\n",
      "         1.0       0.96      0.94      0.95      3267\n",
      "\n",
      "    accuracy                           0.93      4833\n",
      "   macro avg       0.92      0.93      0.92      4833\n",
      "weighted avg       0.93      0.93      0.93      4833\n",
      "\n"
     ]
    }
   ],
   "source": [
    "dtc=DecisionTreeClassifier()\n",
    "dtc=dtc.fit(X_train,y_train)\n",
    "preddtc_y=dtc.predict(X_test)\n",
    "print (classification_report(y_test, preddtc_y))"
   ]
  },
  {
   "cell_type": "markdown",
   "metadata": {},
   "source": [
    "#### Aplicando submuestreo (Applying undersampling)"
   ]
  },
  {
   "cell_type": "code",
   "execution_count": 31,
   "metadata": {},
   "outputs": [
    {
     "name": "stdout",
     "output_type": "stream",
     "text": [
      "              precision    recall  f1-score   support\n",
      "\n",
      "         0.0       0.59      0.92      0.72      1566\n",
      "         1.0       0.95      0.70      0.80      3267\n",
      "\n",
      "    accuracy                           0.77      4833\n",
      "   macro avg       0.77      0.81      0.76      4833\n",
      "weighted avg       0.83      0.77      0.78      4833\n",
      "\n"
     ]
    }
   ],
   "source": [
    "dtc_under = DecisionTreeClassifier()\n",
    "dtc_under.fit(X_under_train, y_under_train)\n",
    "preddtc_y_under = dtc_under.predict(X_test)\n",
    "print (classification_report(y_test, preddtc_y_under))"
   ]
  },
  {
   "cell_type": "markdown",
   "metadata": {},
   "source": [
    "#### Aplicando supermuestreo aleatorio (Applying random oversampling)"
   ]
  },
  {
   "cell_type": "code",
   "execution_count": 32,
   "metadata": {},
   "outputs": [
    {
     "name": "stdout",
     "output_type": "stream",
     "text": [
      "              precision    recall  f1-score   support\n",
      "\n",
      "         0.0       0.89      0.91      0.90      1566\n",
      "         1.0       0.96      0.94      0.95      3267\n",
      "\n",
      "    accuracy                           0.93      4833\n",
      "   macro avg       0.92      0.93      0.92      4833\n",
      "weighted avg       0.93      0.93      0.93      4833\n",
      "\n"
     ]
    }
   ],
   "source": [
    "dtc_over = DecisionTreeClassifier()\n",
    "dtc_over.fit(X_over_train, y_over_train)\n",
    "preddtc_y_over = dtc_over.predict(X_test)\n",
    "print (classification_report(y_test, preddtc_y_over))"
   ]
  },
  {
   "cell_type": "markdown",
   "metadata": {},
   "source": [
    "#### Aplicando supermuestreo SMOTENC (Applying Synthetic Minority Oversampling Technique for Nominal and Continous (SMOTENC))"
   ]
  },
  {
   "cell_type": "code",
   "execution_count": 33,
   "metadata": {},
   "outputs": [
    {
     "name": "stdout",
     "output_type": "stream",
     "text": [
      "              precision    recall  f1-score   support\n",
      "\n",
      "         0.0       0.93      0.91      0.92      3227\n",
      "         1.0       0.91      0.93      0.92      3348\n",
      "\n",
      "    accuracy                           0.92      6575\n",
      "   macro avg       0.92      0.92      0.92      6575\n",
      "weighted avg       0.92      0.92      0.92      6575\n",
      "\n"
     ]
    },
    {
     "data": {
      "text/plain": [
       "0.9216"
      ]
     },
     "execution_count": 33,
     "metadata": {},
     "output_type": "execute_result"
    }
   ],
   "source": [
    "dtc_smotenc = DecisionTreeClassifier()\n",
    "dtc_smotenc.fit(X_train_smc, y_train_smc)\n",
    "preddtc_y_smotenc = dtc_smotenc.predict(X_test_smc)\n",
    "mostrar_resultados(y_test_smc, preddtc_y_smotenc)\n",
    "#round(balanced_accuracy_score(y_test_smc, preddtc_y_smotenc),4)\n",
    "#print (classification_report(y_test_smc, preddtc_y_smotenc))"
   ]
  },
  {
   "cell_type": "markdown",
   "metadata": {},
   "source": [
    "### Random Forest\n",
    "\n",
    "#### Con los datos desbalanceados originales (With original dataset)\n"
   ]
  },
  {
   "cell_type": "code",
   "execution_count": 34,
   "metadata": {},
   "outputs": [
    {
     "name": "stdout",
     "output_type": "stream",
     "text": [
      "              precision    recall  f1-score   support\n",
      "\n",
      "         0.0       0.89      0.90      0.89      1566\n",
      "         1.0       0.95      0.94      0.95      3267\n",
      "\n",
      "    accuracy                           0.93      4833\n",
      "   macro avg       0.92      0.92      0.92      4833\n",
      "weighted avg       0.93      0.93      0.93      4833\n",
      "\n"
     ]
    }
   ],
   "source": [
    "rfc=RandomForestClassifier(max_depth=3, random_state=0)\n",
    "rfc=rfc.fit(X_train,y_train)\n",
    "predrfc_y=rfc.predict(X_test)\n",
    "print (classification_report(y_test, predrfc_y))"
   ]
  },
  {
   "cell_type": "markdown",
   "metadata": {},
   "source": [
    "#### Aplicando submuestreo (Applying undersampling)"
   ]
  },
  {
   "cell_type": "code",
   "execution_count": 35,
   "metadata": {},
   "outputs": [
    {
     "name": "stdout",
     "output_type": "stream",
     "text": [
      "              precision    recall  f1-score   support\n",
      "\n",
      "         0.0       0.72      0.91      0.80      1566\n",
      "         1.0       0.95      0.83      0.89      3267\n",
      "\n",
      "    accuracy                           0.86      4833\n",
      "   macro avg       0.83      0.87      0.84      4833\n",
      "weighted avg       0.88      0.86      0.86      4833\n",
      "\n"
     ]
    }
   ],
   "source": [
    "rfc_under = RandomForestClassifier(n_estimators=100, max_depth=3, random_state=0)\n",
    "rfc_under.fit(X_under_train, y_under_train)\n",
    "predrfc_y_under = rfc_under.predict(X_test)\n",
    "print (classification_report(y_test, predrfc_y_under))"
   ]
  },
  {
   "cell_type": "markdown",
   "metadata": {},
   "source": [
    "#### Aplicando supermuestreo aleatorio (Applying random oversampling)"
   ]
  },
  {
   "cell_type": "code",
   "execution_count": 36,
   "metadata": {},
   "outputs": [
    {
     "name": "stdout",
     "output_type": "stream",
     "text": [
      "              precision    recall  f1-score   support\n",
      "\n",
      "         0.0       0.89      0.90      0.89      1566\n",
      "         1.0       0.95      0.94      0.95      3267\n",
      "\n",
      "    accuracy                           0.93      4833\n",
      "   macro avg       0.92      0.92      0.92      4833\n",
      "weighted avg       0.93      0.93      0.93      4833\n",
      "\n"
     ]
    }
   ],
   "source": [
    "rfc_over = RandomForestClassifier(n_estimators=100, max_depth=3, random_state=0)\n",
    "rfc_over.fit(X_over_train, y_over_train)\n",
    "predrfc_y_over = rfc_over.predict(X_test)\n",
    "print (classification_report(y_test, predrfc_y_over))"
   ]
  },
  {
   "cell_type": "markdown",
   "metadata": {},
   "source": [
    "#### Aplicando supermuestreo SMOTENC (Applying Synthetic Minority Oversampling Technique for Nominal and Continous (SMOTENC))"
   ]
  },
  {
   "cell_type": "code",
   "execution_count": 37,
   "metadata": {},
   "outputs": [
    {
     "name": "stdout",
     "output_type": "stream",
     "text": [
      "              precision    recall  f1-score   support\n",
      "\n",
      "         0.0       0.93      0.90      0.91      3227\n",
      "         1.0       0.91      0.93      0.92      3348\n",
      "\n",
      "    accuracy                           0.92      6575\n",
      "   macro avg       0.92      0.92      0.92      6575\n",
      "weighted avg       0.92      0.92      0.92      6575\n",
      "\n"
     ]
    }
   ],
   "source": [
    "rfc_smotenc = RandomForestClassifier(n_estimators=100, max_depth=3, random_state=0)\n",
    "rfc_smotenc.fit(X_train_smc, y_train_smc)\n",
    "predrfc_y_smotenc = rfc_smotenc.predict(X_test_smc)\n",
    "print (classification_report(y_test_smc, predrfc_y_smotenc))"
   ]
  },
  {
   "cell_type": "markdown",
   "metadata": {},
   "source": [
    "#### Random Forest Balanceado (Balanced Random Forest)"
   ]
  },
  {
   "cell_type": "code",
   "execution_count": 40,
   "metadata": {},
   "outputs": [
    {
     "name": "stdout",
     "output_type": "stream",
     "text": [
      "              precision    recall  f1-score   support\n",
      "\n",
      "         0.0       0.89      0.90      0.90      1566\n",
      "         1.0       0.95      0.94      0.95      3267\n",
      "\n",
      "    accuracy                           0.93      4833\n",
      "   macro avg       0.92      0.92      0.92      4833\n",
      "weighted avg       0.93      0.93      0.93      4833\n",
      "\n"
     ]
    },
    {
     "data": {
      "text/plain": [
       "0.9244"
      ]
     },
     "execution_count": 40,
     "metadata": {},
     "output_type": "execute_result"
    }
   ],
   "source": [
    "brf = BalancedRandomForestClassifier(n_estimators=100, random_state=0, max_depth=3)\n",
    "brf.fit(X_train, y_train) \n",
    "predbrf_y = brf.predict(X_test)\n",
    "print (classification_report(y_test, predbrf_y))\n",
    "round(balanced_accuracy_score(y_test, predbrf_y),4)\n",
    "#mostrar_resultados(y_test, predbrf_y)"
   ]
  },
  {
   "cell_type": "markdown",
   "metadata": {},
   "source": [
    "#### Random Forest Ponderado (Weighted Random Forest)"
   ]
  },
  {
   "cell_type": "code",
   "execution_count": 39,
   "metadata": {},
   "outputs": [
    {
     "name": "stdout",
     "output_type": "stream",
     "text": [
      "              precision    recall  f1-score   support\n",
      "\n",
      "         0.0       0.89      0.91      0.90      1566\n",
      "         1.0       0.96      0.94      0.95      3267\n",
      "\n",
      "    accuracy                           0.93      4833\n",
      "   macro avg       0.92      0.93      0.92      4833\n",
      "weighted avg       0.93      0.93      0.93      4833\n",
      "\n"
     ]
    },
    {
     "data": {
      "text/plain": [
       "0.9268"
      ]
     },
     "execution_count": 39,
     "metadata": {},
     "output_type": "execute_result"
    }
   ],
   "source": [
    "# Usando la muestra original ( Using original samples)\n",
    "rfw = RandomForestClassifier(bootstrap=True, class_weight=\"balanced_subsample\",criterion='gini')\n",
    "rfw.fit(X_train, y_train)\n",
    "predrfw_y = rfw.predict(X_test)\n",
    "print (classification_report(y_test, predrfw_y))\n",
    "#mostrar_resultados(y_test, predrfw_y)\n",
    "round(balanced_accuracy_score(y_test, predrfw_y),4)\n",
    "# Usando la muestra generada de SMOTENC ( Using SMOTENC samples)\n",
    "#rfw_smc = RandomForestClassifier(bootstrap=True, class_weight=\"balanced_subsample\",criterion='gini')\n",
    "#rfw_smc.fit(X_train_smc, y_train_smc) \n",
    "#predrfw_y_smc = rfw_smc.predict(X_test_smc)\n",
    "#print (classification_report(y_test_smc, predrfw_y_smc))\n"
   ]
  },
  {
   "cell_type": "markdown",
   "metadata": {},
   "source": [
    "Luego de hacer la prueba de los diferentes modelos y en miras a revisar el performance de \"los más adecuados\" se procede a generar curvas de ROC conjuntas, aplicando 10 interacciones para la validación cruzada.\n",
    "\n",
    "After testing different models we will check the performance of the best ones using ROC curves and a 10-fold cross validation.\n"
   ]
  },
  {
   "cell_type": "code",
   "execution_count": 66,
   "metadata": {},
   "outputs": [],
   "source": [
    "def cv_roc_tree(X, y, n_split, algo='Tree'):\n",
    "    \n",
    "    cv = StratifiedKFold(n_split)\n",
    "    \n",
    "    tprs = []\n",
    "    aucs = []\n",
    "    mean_fpr = np.linspace(0, 1, 100)\n",
    "    for train, test in cv.split(X, y):\n",
    "        if algo == 'Tree':\n",
    "            probas_ = dtc_under.predict_proba(X)  #dtc_under / smotenc\n",
    "        elif algo == 'Forest':\n",
    "            probas_ = rfw.predict_proba(X)  #rfc_under\n",
    "        else:\n",
    "            probas_ = lrp_under.predict_proba(X)\n",
    "                                 \n",
    "        # Compute ROC curve and area the curve\n",
    "        fpr, tpr, thresholds = roc_curve(y, probas_[:,1])\n",
    "        tprs.append(np.interp(mean_fpr, fpr, tpr))\n",
    "        tprs[-1][0] = 0.0\n",
    "        roc_auc = auc(fpr, tpr)\n",
    "        aucs.append(roc_auc)\n",
    "    \n",
    "    return tprs, aucs, mean_fpr"
   ]
  },
  {
   "cell_type": "code",
   "execution_count": 68,
   "metadata": {},
   "outputs": [
    {
     "data": {
      "image/png": "[encoded data removed]",
      "text/plain": [
       "<Figure size 720x648 with 1 Axes>"
      ]
     },
     "metadata": {
      "needs_background": "light"
     },
     "output_type": "display_data"
    }
   ],
   "source": [
    "tprs_t, aucs_t, mean_fpr_t = cv_roc_tree(X, y,10,algo='Tree')\n",
    "tprs_f, aucs_f, mean_fpr_f = cv_roc_tree(X, y,10,algo='Forest')\n",
    "tprs_l, aucs_l, mean_fpr_l = cv_roc_tree(X, y,10,algo='Logit')\n",
    "\n",
    "plt.figure(figsize=(10,9))\n",
    "plt.plot([0, 1], [0, 1], linestyle='--', lw=2, color='black', label='Random guess', alpha=.8)\n",
    "\n",
    "mean_tpr_t = np.mean(tprs_t, axis=0)\n",
    "mean_tpr_f = np.mean(tprs_f, axis=0)\n",
    "mean_tpr_l = np.mean(tprs_l, axis=0)\n",
    "mean_tpr_t[-1] = 1.0\n",
    "mean_tpr_f[-1] = 1.0\n",
    "mean_tpr_l[-1] = 1.0\n",
    "\n",
    "mean_auc_t = auc(mean_fpr_t, mean_tpr_t)\n",
    "mean_auc_f = auc(mean_fpr_f, mean_tpr_f)\n",
    "mean_auc_l = auc(mean_fpr_l, mean_tpr_l)\n",
    "std_auc_t = np.std(aucs_t)\n",
    "std_auc_f = np.std(aucs_f)\n",
    "std_auc_l = np.std(aucs_l)\n",
    "\n",
    "plt.plot(mean_fpr_t, mean_tpr_t, color='navy', lw=2, alpha=.7,   #linestyle='--'\n",
    "        label=f\"Decision Tree with SMOTENC: Cross-validated Mean ROC (AUC = {mean_auc_t:0.3f} $\\pm$ {std_auc_t:0.2f})\")\n",
    "plt.plot(mean_fpr_f, mean_tpr_f, color='red', lw=2, alpha=.7,\n",
    "         label=f\"Weighted Random Forest: Cross-validated Mean ROC (AUC = {mean_auc_f:0.3f} $\\pm$ {std_auc_f:0.2f})\")\n",
    "plt.plot(mean_fpr_l, mean_tpr_l, color='green', lw=2, alpha=.7,\n",
    "         label=f\"Logistic Regression: Cross-validated Mean ROC (AUC = {mean_auc_f:0.3f} $\\pm$ {std_auc_f:0.2f})\")\n",
    "\n",
    "\n",
    "plt.xlabel('False Positive Rate')\n",
    "plt.ylabel('True Positive Rate')\n",
    "plt.legend(loc='lower right')\n",
    "plt.title('Classification of Non-Taxpayers: 10-fold Cross-validation')\n",
    "plt.show()"
   ]
  },
  {
   "cell_type": "code",
   "execution_count": 51,
   "metadata": {},
   "outputs": [
    {
     "ename": "InvocationException",
     "evalue": "GraphViz's executables not found",
     "output_type": "error",
     "traceback": [
      "\u001b[1;31m---------------------------------------------------------------------------\u001b[0m",
      "\u001b[1;31mInvocationException\u001b[0m                       Traceback (most recent call last)",
      "\u001b[1;32m<ipython-input-51-25d176772254>\u001b[0m in \u001b[0;36m<module>\u001b[1;34m\u001b[0m\n\u001b[0;32m     14\u001b[0m \u001b[1;33m\u001b[0m\u001b[0m\n\u001b[0;32m     15\u001b[0m \u001b[0mgraph\u001b[0m \u001b[1;33m=\u001b[0m \u001b[0mpydotplus\u001b[0m\u001b[1;33m.\u001b[0m\u001b[0mgraph_from_dot_data\u001b[0m\u001b[1;33m(\u001b[0m\u001b[0mdot_data\u001b[0m\u001b[1;33m.\u001b[0m\u001b[0mgetvalue\u001b[0m\u001b[1;33m(\u001b[0m\u001b[1;33m)\u001b[0m\u001b[1;33m)\u001b[0m\u001b[1;33m\u001b[0m\u001b[1;33m\u001b[0m\u001b[0m\n\u001b[1;32m---> 16\u001b[1;33m \u001b[0mImage\u001b[0m\u001b[1;33m(\u001b[0m\u001b[0mgraph\u001b[0m\u001b[1;33m.\u001b[0m\u001b[0mcreate_png\u001b[0m\u001b[1;33m(\u001b[0m\u001b[1;33m)\u001b[0m\u001b[1;33m)\u001b[0m\u001b[1;33m\u001b[0m\u001b[1;33m\u001b[0m\u001b[0m\n\u001b[0m",
      "\u001b[1;32m~\\anaconda3\\lib\\site-packages\\pydotplus\\graphviz.py\u001b[0m in \u001b[0;36m<lambda>\u001b[1;34m(f, prog)\u001b[0m\n\u001b[0;32m   1795\u001b[0m             self.__setattr__(\n\u001b[0;32m   1796\u001b[0m                 \u001b[1;34m'create_'\u001b[0m \u001b[1;33m+\u001b[0m \u001b[0mfrmt\u001b[0m\u001b[1;33m,\u001b[0m\u001b[1;33m\u001b[0m\u001b[1;33m\u001b[0m\u001b[0m\n\u001b[1;32m-> 1797\u001b[1;33m                 \u001b[1;32mlambda\u001b[0m \u001b[0mf\u001b[0m\u001b[1;33m=\u001b[0m\u001b[0mfrmt\u001b[0m\u001b[1;33m,\u001b[0m \u001b[0mprog\u001b[0m\u001b[1;33m=\u001b[0m\u001b[0mself\u001b[0m\u001b[1;33m.\u001b[0m\u001b[0mprog\u001b[0m\u001b[1;33m:\u001b[0m \u001b[0mself\u001b[0m\u001b[1;33m.\u001b[0m\u001b[0mcreate\u001b[0m\u001b[1;33m(\u001b[0m\u001b[0mformat\u001b[0m\u001b[1;33m=\u001b[0m\u001b[0mf\u001b[0m\u001b[1;33m,\u001b[0m \u001b[0mprog\u001b[0m\u001b[1;33m=\u001b[0m\u001b[0mprog\u001b[0m\u001b[1;33m)\u001b[0m\u001b[1;33m\u001b[0m\u001b[1;33m\u001b[0m\u001b[0m\n\u001b[0m\u001b[0;32m   1798\u001b[0m             )\n\u001b[0;32m   1799\u001b[0m             \u001b[0mf\u001b[0m \u001b[1;33m=\u001b[0m \u001b[0mself\u001b[0m\u001b[1;33m.\u001b[0m\u001b[0m__dict__\u001b[0m\u001b[1;33m[\u001b[0m\u001b[1;34m'create_'\u001b[0m \u001b[1;33m+\u001b[0m \u001b[0mfrmt\u001b[0m\u001b[1;33m]\u001b[0m\u001b[1;33m\u001b[0m\u001b[1;33m\u001b[0m\u001b[0m\n",
      "\u001b[1;32m~\\anaconda3\\lib\\site-packages\\pydotplus\\graphviz.py\u001b[0m in \u001b[0;36mcreate\u001b[1;34m(self, prog, format)\u001b[0m\n\u001b[0;32m   1957\u001b[0m             \u001b[0mself\u001b[0m\u001b[1;33m.\u001b[0m\u001b[0mprogs\u001b[0m \u001b[1;33m=\u001b[0m \u001b[0mfind_graphviz\u001b[0m\u001b[1;33m(\u001b[0m\u001b[1;33m)\u001b[0m\u001b[1;33m\u001b[0m\u001b[1;33m\u001b[0m\u001b[0m\n\u001b[0;32m   1958\u001b[0m             \u001b[1;32mif\u001b[0m \u001b[0mself\u001b[0m\u001b[1;33m.\u001b[0m\u001b[0mprogs\u001b[0m \u001b[1;32mis\u001b[0m \u001b[1;32mNone\u001b[0m\u001b[1;33m:\u001b[0m\u001b[1;33m\u001b[0m\u001b[1;33m\u001b[0m\u001b[0m\n\u001b[1;32m-> 1959\u001b[1;33m                 raise InvocationException(\n\u001b[0m\u001b[0;32m   1960\u001b[0m                     'GraphViz\\'s executables not found')\n\u001b[0;32m   1961\u001b[0m \u001b[1;33m\u001b[0m\u001b[0m\n",
      "\u001b[1;31mInvocationException\u001b[0m: GraphViz's executables not found"
     ]
    }
   ],
   "source": [
    "from io import StringIO\n",
    "from sklearn.tree import export_graphviz\n",
    "import pydotplus\n",
    "from IPython.display import Image, SVG\n",
    "\n",
    "covariates=['GASTOS_IMPUESTOS', 'ActEc_Licor', 'ActEc_Loterias', 'Reg_Centro',\n",
    "       'Reg_Norte', 'Reg_Occidente', 'Reg_Oriente', 'Reg_Sur']\n",
    "dot_data = StringIO()\n",
    "export_graphviz(dtc_smotenc, out_file=dot_data, feature_names = covariates,\n",
    "                class_names=['Taxpayers', 'Non-Taxpayers'],  \n",
    "                filled=True, rounded=True,\n",
    "                special_characters=True, \n",
    "                impurity='gini', proportion=True)\n",
    "\n",
    "graph = pydotplus.graph_from_dot_data(dot_data.getvalue())  \n",
    "Image(graph.create_png())"
   ]
  }
 ],
 "metadata": {
  "kernelspec": {
   "display_name": "Python 3",
   "language": "python",
   "name": "python3"
  },
  "language_info": {
   "codemirror_mode": {
    "name": "ipython",
    "version": 3
   },
   "file_extension": ".py",
   "mimetype": "text/x-python",
   "name": "python",
   "nbconvert_exporter": "python",
   "pygments_lexer": "ipython3",
   "version": "3.8.3"
  }
 },
 "nbformat": 4,
 "nbformat_minor": 4
}
