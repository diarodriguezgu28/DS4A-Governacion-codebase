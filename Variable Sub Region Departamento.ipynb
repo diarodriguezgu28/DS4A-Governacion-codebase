{
 "cells": [
  {
   "cell_type": "code",
   "execution_count": 1,
   "metadata": {},
   "outputs": [],
   "source": [
    "import pandas as pd\n",
    "import numpy as np"
   ]
  },
  {
   "cell_type": "code",
   "execution_count": 4,
   "metadata": {},
   "outputs": [],
   "source": [
    "#Cargar Base de Datos\n",
    "Mapa= pd.read_csv(r\"Merge_Municipios_Dian.csv\")"
   ]
  },
  {
   "cell_type": "code",
   "execution_count": 7,
   "metadata": {},
   "outputs": [
    {
     "data": {
      "text/plain": [
       "array(['buenaventura', nan, 'candelaria', 'pradera', 'palmira', 'florida',\n",
       "       'cartago', 'el aguila', 'la union', 'la victoria', 'el dovio',\n",
       "       'alcala', 'ulloa', 'san jose de palmar', 'ansermanuevo',\n",
       "       'roldanillo', 'versalles', 'obando', 'el cairo', 'argelia', 'toro',\n",
       "       'calima', 'buga', 'el cerrito', 'ginebra', 'san pedro', 'restrepo',\n",
       "       'guacari', 'yotoco', 'yumbo', 'cali', 'jamundi', 'la cumbre',\n",
       "       'dagua', 'vijes', 'sevilla', 'caicedonia', 'zarzal', 'tulua',\n",
       "       'andalucia', 'riofrio', 'bugalagrande', 'bolivar', 'trujillo'],\n",
       "      dtype=object)"
      ]
     },
     "execution_count": 7,
     "metadata": {},
     "output_type": "execute_result"
    }
   ],
   "source": [
    "Mapa.MUNICIPIO.unique()"
   ]
  },
  {
   "cell_type": "code",
   "execution_count": 23,
   "metadata": {},
   "outputs": [],
   "source": [
    "Mapa['Region'] =''\n",
    "#REGION SUR\n",
    "Mapa['Region'] = np.where(Mapa['MUNICIPIO'] =='cali', \"Sur\", Mapa['Region'])\n",
    "Mapa['Region'] = np.where(Mapa['MUNICIPIO'] =='candelaria', \"Sur\", Mapa['Region'])\n",
    "Mapa['Region'] = np.where(Mapa['MUNICIPIO'] =='dagua', \"Sur\", Mapa['Region'])\n",
    "Mapa['Region'] = np.where(Mapa['MUNICIPIO'] =='florida', \"Sur\", Mapa['Region'])\n",
    "Mapa['Region'] = np.where(Mapa['MUNICIPIO'] =='jamundi', \"Sur\", Mapa['Region'])\n",
    "Mapa['Region'] = np.where(Mapa['MUNICIPIO'] =='la cumbre', \"Sur\", Mapa['Region'])\n",
    "Mapa['Region'] = np.where(Mapa['MUNICIPIO'] =='palmira', \"Sur\", Mapa['Region'])\n",
    "Mapa['Region'] = np.where(Mapa['MUNICIPIO'] =='pradera', \"Sur\", Mapa['Region'])\n",
    "Mapa['Region'] = np.where(Mapa['MUNICIPIO'] =='vijes', \"Sur\", Mapa['Region'])\n",
    "Mapa['Region'] = np.where(Mapa['MUNICIPIO'] =='yumbo', \"Sur\", Mapa['Region'])\n",
    "#REGION NORTE\n",
    "Mapa['Region'] = np.where(Mapa['MUNICIPIO'] =='alcala', \"Norte\", Mapa['Region'])\n",
    "Mapa['Region'] = np.where(Mapa['MUNICIPIO'] =='ansermanuevo', \"Norte\", Mapa['Region'])\n",
    "Mapa['Region'] = np.where(Mapa['MUNICIPIO'] =='argelia', \"Norte\", Mapa['Region'])\n",
    "Mapa['Region'] = np.where(Mapa['MUNICIPIO'] =='bolivar', \"Norte\", Mapa['Region'])\n",
    "Mapa['Region'] = np.where(Mapa['MUNICIPIO'] =='cartago', \"Norte\", Mapa['Region'])\n",
    "Mapa['Region'] = np.where(Mapa['MUNICIPIO'] =='el aguila', \"Norte\", Mapa['Region'])\n",
    "Mapa['Region'] = np.where(Mapa['MUNICIPIO'] =='el cairo', \"Norte\", Mapa['Region'])\n",
    "Mapa['Region'] = np.where(Mapa['MUNICIPIO'] =='el dovio', \"Norte\", Mapa['Region'])\n",
    "Mapa['Region'] = np.where(Mapa['MUNICIPIO'] =='la union', \"Norte\", Mapa['Region'])\n",
    "Mapa['Region'] = np.where(Mapa['MUNICIPIO'] =='la victoria', \"Norte\", Mapa['Region'])\n",
    "Mapa['Region'] = np.where(Mapa['MUNICIPIO'] =='obando', \"Norte\", Mapa['Region'])\n",
    "Mapa['Region'] = np.where(Mapa['MUNICIPIO'] =='roldanillo', \"Norte\", Mapa['Region'])\n",
    "Mapa['Region'] = np.where(Mapa['MUNICIPIO'] =='toro', \"Norte\", Mapa['Region'])\n",
    "Mapa['Region'] = np.where(Mapa['MUNICIPIO'] =='ulloa', \"Norte\", Mapa['Region'])\n",
    "Mapa['Region'] = np.where(Mapa['MUNICIPIO'] =='versalles', \"Norte\", Mapa['Region'])\n",
    "Mapa['Region'] = np.where(Mapa['MUNICIPIO'] =='zarzal', \"Norte\", Mapa['Region'])\n",
    "#REGION CENTRO\n",
    "Mapa['Region'] = np.where(Mapa['MUNICIPIO'] =='andalucia', \"Centro\", Mapa['Region'])\n",
    "Mapa['Region'] = np.where(Mapa['MUNICIPIO'] =='buga', \"Centro\", Mapa['Region'])\n",
    "Mapa['Region'] = np.where(Mapa['MUNICIPIO'] =='bugalagrande', \"Centro\", Mapa['Region'])\n",
    "Mapa['Region'] = np.where(Mapa['MUNICIPIO'] =='calima', \"Centro\", Mapa['Region'])\n",
    "Mapa['Region'] = np.where(Mapa['MUNICIPIO'] =='el cerrito', \"Centro\", Mapa['Region'])\n",
    "Mapa['Region'] = np.where(Mapa['MUNICIPIO'] =='ginebra', \"Centro\", Mapa['Region'])\n",
    "Mapa['Region'] = np.where(Mapa['MUNICIPIO'] =='guacari', \"Centro\", Mapa['Region'])\n",
    "Mapa['Region'] = np.where(Mapa['MUNICIPIO'] =='restrepo', \"Centro\", Mapa['Region'])\n",
    "Mapa['Region'] = np.where(Mapa['MUNICIPIO'] =='riofrio', \"Centro\", Mapa['Region'])\n",
    "Mapa['Region'] = np.where(Mapa['MUNICIPIO'] =='san pedro', \"Centro\", Mapa['Region'])\n",
    "Mapa['Region'] = np.where(Mapa['MUNICIPIO'] =='trujillo', \"Centro\", Mapa['Region'])\n",
    "Mapa['Region'] = np.where(Mapa['MUNICIPIO'] =='tulua', \"Centro\", Mapa['Region'])\n",
    "Mapa['Region'] = np.where(Mapa['MUNICIPIO'] =='yotoco', \"Centro\", Mapa['Region'])\n",
    "#REGION OCCIDENTE\n",
    "Mapa['Region'] = np.where(Mapa['MUNICIPIO'] =='buenaventura', \"Occidente\", Mapa['Region'])\n",
    "#REGION ORIENTE\n",
    "Mapa['Region'] = np.where(Mapa['MUNICIPIO'] =='caicedonia', \"Oriente\", Mapa['Region'])\n",
    "Mapa['Region'] = np.where(Mapa['MUNICIPIO'] =='sevilla', \"Oriente\", Mapa['Region'])"
   ]
  },
  {
   "cell_type": "code",
   "execution_count": 24,
   "metadata": {},
   "outputs": [
    {
     "data": {
      "text/plain": [
       "array(['Occidente', '', 'Sur', 'Norte', 'Centro', 'Oriente'], dtype=object)"
      ]
     },
     "execution_count": 24,
     "metadata": {},
     "output_type": "execute_result"
    }
   ],
   "source": [
    "# vacios igual Municipio NaN\n",
    "Mapa['Region'].unique()"
   ]
  },
  {
   "cell_type": "code",
   "execution_count": 29,
   "metadata": {},
   "outputs": [
    {
     "data": {
      "text/plain": [
       "Region\n",
       "             495566\n",
       "Centro          645\n",
       "Norte           344\n",
       "Occidente      2569\n",
       "Oriente          58\n",
       "Sur            2659\n",
       "dtype: int64"
      ]
     },
     "execution_count": 29,
     "metadata": {},
     "output_type": "execute_result"
    }
   ],
   "source": [
    "#No tiene Region 495566\n",
    "Mapa.groupby('Region').size()"
   ]
  },
  {
   "cell_type": "code",
   "execution_count": null,
   "metadata": {},
   "outputs": [],
   "source": []
  },
  {
   "cell_type": "markdown",
   "metadata": {},
   "source": [
    "# Mapa Valle "
   ]
  },
  {
   "cell_type": "code",
   "execution_count": null,
   "metadata": {},
   "outputs": [],
   "source": [
    "Mapa_Valle['COD_MUNICIPIO_2'] =''\n",
    "#COD_MUNICIPIO_2 SUR\n",
    "Mapa_Valle['COD_MUNICIPIO_2'] = np.where(Mapa_Valle['MUNICIPIO'] =='cali', \"001\", Mapa_Valle['COD_MUNICIPIO_2'])\n",
    "Mapa_Valle['COD_MUNICIPIO_2'] = np.where(Mapa_Valle['MUNICIPIO'] =='candelaria', \"130\", Mapa_Valle['COD_MUNICIPIO_2'])\n",
    "Mapa_Valle['COD_MUNICIPIO_2'] = np.where(Mapa_Valle['MUNICIPIO'] =='dagua', \"233\", Mapa_Valle['COD_MUNICIPIO_2'])\n",
    "Mapa_Valle['COD_MUNICIPIO_2'] = np.where(Mapa_Valle['MUNICIPIO'] =='florida', \"275\", Mapa_Valle['COD_MUNICIPIO_2'])\n",
    "Mapa_Valle['COD_MUNICIPIO_2'] = np.where(Mapa_Valle['MUNICIPIO'] =='jamundi', \"364\", Mapa_Valle['COD_MUNICIPIO_2'])\n",
    "Mapa_Valle['COD_MUNICIPIO_2'] = np.where(Mapa_Valle['MUNICIPIO'] =='la cumbre', \"377\", Mapa_Valle['COD_MUNICIPIO_2'])\n",
    "Mapa_Valle['COD_MUNICIPIO_2'] = np.where(Mapa_Valle['MUNICIPIO'] =='palmira', \"520\", Mapa_Valle['COD_MUNICIPIO_2'])\n",
    "Mapa_Valle['COD_MUNICIPIO_2'] = np.where(Mapa_Valle['MUNICIPIO'] =='pradera', \"563\", Mapa_Valle['COD_MUNICIPIO_2'])\n",
    "Mapa_Valle['COD_MUNICIPIO_2'] = np.where(Mapa_Valle['MUNICIPIO'] =='vijes', \"869\", Mapa_Valle['COD_MUNICIPIO_2'])\n",
    "Mapa_Valle['COD_MUNICIPIO_2'] = np.where(Mapa_Valle['MUNICIPIO'] =='yumbo', \"892\", Mapa_Valle['COD_MUNICIPIO_2'])\n",
    "#COD_MUNICIPIO_2 NORTE\n",
    "Mapa_Valle['COD_MUNICIPIO_2'] = np.where(Mapa_Valle['MUNICIPIO'] =='alcala', \"020\", Mapa_Valle['COD_MUNICIPIO_2'])\n",
    "Mapa_Valle['COD_MUNICIPIO_2'] = np.where(Mapa_Valle['MUNICIPIO'] =='ansermanuevo', \"041\", Mapa_Valle['COD_MUNICIPIO_2'])\n",
    "Mapa_Valle['COD_MUNICIPIO_2'] = np.where(Mapa_Valle['MUNICIPIO'] =='argelia', \"054\", Mapa_Valle['COD_MUNICIPIO_2'])\n",
    "Mapa_Valle['COD_MUNICIPIO_2'] = np.where(Mapa_Valle['MUNICIPIO'] =='bolivar', \"100\", Mapa_Valle['COD_MUNICIPIO_2'])\n",
    "Mapa_Valle['COD_MUNICIPIO_2'] = np.where(Mapa_Valle['MUNICIPIO'] =='cartago', \"147\", Mapa_Valle['COD_MUNICIPIO_2'])\n",
    "Mapa_Valle['COD_MUNICIPIO_2'] = np.where(Mapa_Valle['MUNICIPIO'] =='el aguila', \"243\", Mapa_Valle['COD_MUNICIPIO_2'])\n",
    "Mapa_Valle['COD_MUNICIPIO_2'] = np.where(Mapa_Valle['MUNICIPIO'] =='el cairo', \"246\", Mapa_Valle['COD_MUNICIPIO_2'])\n",
    "Mapa_Valle['COD_MUNICIPIO_2'] = np.where(Mapa_Valle['MUNICIPIO'] =='el dovio', \"250\", Mapa_Valle['COD_MUNICIPIO_2'])\n",
    "Mapa_Valle['COD_MUNICIPIO_2'] = np.where(Mapa_Valle['MUNICIPIO'] =='la union', \"400\", Mapa_Valle['COD_MUNICIPIO_2'])\n",
    "Mapa_Valle['COD_MUNICIPIO_2'] = np.where(Mapa_Valle['MUNICIPIO'] =='la victoria', \"403\", Mapa_Valle['COD_MUNICIPIO_2'])\n",
    "Mapa_Valle['COD_MUNICIPIO_2'] = np.where(Mapa_Valle['MUNICIPIO'] =='obando', \"497\", Mapa_Valle['COD_MUNICIPIO_2'])\n",
    "Mapa_Valle['COD_MUNICIPIO_2'] = np.where(Mapa_Valle['MUNICIPIO'] =='roldanillo', \"622\", Mapa_Valle['COD_MUNICIPIO_2'])\n",
    "Mapa_Valle['COD_MUNICIPIO_2'] = np.where(Mapa_Valle['MUNICIPIO'] =='toro', \"823\", Mapa_Valle['COD_MUNICIPIO_2'])\n",
    "Mapa_Valle['COD_MUNICIPIO_2'] = np.where(Mapa_Valle['MUNICIPIO'] =='ulloa', \"845\", Mapa_Valle['COD_MUNICIPIO_2'])\n",
    "Mapa_Valle['COD_MUNICIPIO_2'] = np.where(Mapa_Valle['MUNICIPIO'] =='versalles', \"863\", Mapa_Valle['COD_MUNICIPIO_2'])\n",
    "Mapa_Valle['COD_MUNICIPIO_2'] = np.where(Mapa_Valle['MUNICIPIO'] =='zarzal', \"895\", Mapa_Valle['COD_MUNICIPIO_2'])\n",
    "#COD_MUNICIPIO_2 CENTRO\n",
    "Mapa_Valle['COD_MUNICIPIO_2'] = np.where(Mapa_Valle['MUNICIPIO'] =='andalucia', \"036\", Mapa_Valle['COD_MUNICIPIO_2'])\n",
    "Mapa_Valle['COD_MUNICIPIO_2'] = np.where(Mapa_Valle['MUNICIPIO'] =='buga', \"111\", Mapa_Valle['COD_MUNICIPIO_2'])\n",
    "Mapa_Valle['COD_MUNICIPIO_2'] = np.where(Mapa_Valle['MUNICIPIO'] =='bugalagrande', \"113\", Mapa_Valle['COD_MUNICIPIO_2'])\n",
    "Mapa_Valle['COD_MUNICIPIO_2'] = np.where(Mapa_Valle['MUNICIPIO'] =='calima', \"126\", Mapa_Valle['COD_MUNICIPIO_2'])\n",
    "Mapa_Valle['COD_MUNICIPIO_2'] = np.where(Mapa_Valle['MUNICIPIO'] =='el cerrito', \"248\", Mapa_Valle['COD_MUNICIPIO_2'])\n",
    "Mapa_Valle['COD_MUNICIPIO_2'] = np.where(Mapa_Valle['MUNICIPIO'] =='ginebra', \"306\", Mapa_Valle['COD_MUNICIPIO_2'])\n",
    "Mapa_Valle['COD_MUNICIPIO_2'] = np.where(Mapa_Valle['MUNICIPIO'] =='guacari', \"318\", Mapa_Valle['COD_MUNICIPIO_2'])\n",
    "Mapa_Valle['COD_MUNICIPIO_2'] = np.where(Mapa_Valle['MUNICIPIO'] =='restrepo', \"606\", Mapa_Valle['COD_MUNICIPIO_2'])\n",
    "Mapa_Valle['COD_MUNICIPIO_2'] = np.where(Mapa_Valle['MUNICIPIO'] =='riofrio', \"616\", Mapa_Valle['COD_MUNICIPIO_2'])\n",
    "Mapa_Valle['COD_MUNICIPIO_2'] = np.where(Mapa_Valle['MUNICIPIO'] =='san pedro', \"670\", Mapa_Valle['COD_MUNICIPIO_2'])\n",
    "Mapa_Valle['COD_MUNICIPIO_2'] = np.where(Mapa_Valle['MUNICIPIO'] =='trujillo', \"828\", Mapa_Valle['COD_MUNICIPIO_2'])\n",
    "Mapa_Valle['COD_MUNICIPIO_2'] = np.where(Mapa_Valle['MUNICIPIO'] =='tulua', \"834\", Mapa_Valle['COD_MUNICIPIO_2'])\n",
    "Mapa_Valle['COD_MUNICIPIO_2'] = np.where(Mapa_Valle['MUNICIPIO'] =='yotoco', \"890\", Mapa_Valle['COD_MUNICIPIO_2'])\n",
    "#COD_MUNICIPIO_2 OCCIDENTE\n",
    "Mapa_Valle['COD_MUNICIPIO_2'] = np.where(Mapa_Valle['MUNICIPIO'] =='buenaventura', \"109\", Mapa_Valle['COD_MUNICIPIO_2'])\n",
    "#COD_MUNICIPIO_2 ORIENTE\n",
    "Mapa_Valle['COD_MUNICIPIO_2'] = np.where(Mapa_Valle['MUNICIPIO'] =='caicedonia', \"122\", Mapa_Valle['COD_MUNICIPIO_2'])\n",
    "Mapa_Valle['COD_MUNICIPIO_2'] = np.where(Mapa_Valle['MUNICIPIO'] =='sevilla', \"736\", Mapa_Valle['COD_MUNICIPIO_2'])"
   ]
  }
 ],
 "metadata": {
  "kernelspec": {
   "display_name": "Python 3",
   "language": "python",
   "name": "python3"
  },
  "language_info": {
   "codemirror_mode": {
    "name": "ipython",
    "version": 3
   },
   "file_extension": ".py",
   "mimetype": "text/x-python",
   "name": "python",
   "nbconvert_exporter": "python",
   "pygments_lexer": "ipython3",
   "version": "3.8.3"
  }
 },
 "nbformat": 4,
 "nbformat_minor": 4
}
