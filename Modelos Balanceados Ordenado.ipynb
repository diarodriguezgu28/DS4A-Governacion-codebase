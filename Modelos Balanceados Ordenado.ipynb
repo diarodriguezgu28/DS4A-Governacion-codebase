{
 "cells": [
  {
   "cell_type": "markdown",
   "metadata": {},
   "source": [
    "# Balanceo y modelamiento (Balance and modeling)\n",
    "\n",
    "\n",
    "## Importar las librerías (Import packages)"
   ]
  },
  {
   "cell_type": "code",
   "execution_count": 63,
   "metadata": {},
   "outputs": [],
   "source": [
    "import pandas as pd\n",
    "import numpy as np\n",
    "import matplotlib.pyplot as plt\n",
    "import seaborn as sns\n",
    "import graphviz as gp\n",
    "import xgboost as xgb\n",
    "\n",
    "from sklearn.model_selection import StratifiedKFold,train_test_split\n",
    "from sklearn.linear_model import LogisticRegression\n",
    "from sklearn.decomposition import PCA\n",
    "from sklearn.tree import DecisionTreeClassifier\n",
    "from sklearn.ensemble import RandomForestClassifier\n",
    "from sklearn.metrics import roc_curve, auc,balanced_accuracy_score ,accuracy_score, classification_report, confusion_matrix\n",
    "\n",
    "from imblearn.under_sampling import NearMiss\n",
    "from imblearn.over_sampling import RandomOverSampler, SMOTENC\n",
    "from imblearn.combine import SMOTETomek\n",
    "from imblearn.ensemble import BalancedBaggingClassifier\n",
    "from imblearn.ensemble import BalancedRandomForestClassifier\n",
    "\n",
    "from collections import Counter\n",
    "from pylab import rcParams\n"
   ]
  },
  {
   "cell_type": "markdown",
   "metadata": {},
   "source": [
    "## Carga de la base de datos (Upload the database)"
   ]
  },
  {
   "cell_type": "code",
   "execution_count": 3,
   "metadata": {},
   "outputs": [
    {
     "data": {
      "text/html": [
       "<div>\n",
       "<style scoped>\n",
       "    .dataframe tbody tr th:only-of-type {\n",
       "        vertical-align: middle;\n",
       "    }\n",
       "\n",
       "    .dataframe tbody tr th {\n",
       "        vertical-align: top;\n",
       "    }\n",
       "\n",
       "    .dataframe thead th {\n",
       "        text-align: right;\n",
       "    }\n",
       "</style>\n",
       "<table border=\"1\" class=\"dataframe\">\n",
       "  <thead>\n",
       "    <tr style=\"text-align: right;\">\n",
       "      <th></th>\n",
       "      <th>Actividad_Economica</th>\n",
       "      <th>FEC-RENOVACION</th>\n",
       "      <th>ULT_REN</th>\n",
       "      <th>VLR-ESTABLEC.</th>\n",
       "      <th>DIRECCION</th>\n",
       "      <th>BARRIO</th>\n",
       "      <th>MUNICIPIO</th>\n",
       "      <th>Anno Gravable</th>\n",
       "      <th>NIT</th>\n",
       "      <th>Cod Dept</th>\n",
       "      <th>Cod Mun</th>\n",
       "      <th>CIIU</th>\n",
       "      <th>NoOmiso</th>\n",
       "      <th>TOT_modelo</th>\n",
       "    </tr>\n",
       "  </thead>\n",
       "  <tbody>\n",
       "    <tr>\n",
       "      <th>0</th>\n",
       "      <td>Licor</td>\n",
       "      <td>20150331.0</td>\n",
       "      <td>2015.0</td>\n",
       "      <td>2000000.0</td>\n",
       "      <td>CRA. 66 B # 657 BARRIO BOLIVAR</td>\n",
       "      <td>00142 - BARRIO SIMON BOLIVAR</td>\n",
       "      <td>buenaventura</td>\n",
       "      <td>NaN</td>\n",
       "      <td></td>\n",
       "      <td>NaN</td>\n",
       "      <td>NaN</td>\n",
       "      <td>NaN</td>\n",
       "      <td>0</td>\n",
       "      <td>0.0</td>\n",
       "    </tr>\n",
       "    <tr>\n",
       "      <th>1</th>\n",
       "      <td>Licor</td>\n",
       "      <td>20160127.0</td>\n",
       "      <td>2016.0</td>\n",
       "      <td>1300000.0</td>\n",
       "      <td>AV. SIMON BOLIVAR ENT.CEMENTERIO</td>\n",
       "      <td>00113 - BARRIO KENNEDY</td>\n",
       "      <td>buenaventura</td>\n",
       "      <td>NaN</td>\n",
       "      <td></td>\n",
       "      <td>NaN</td>\n",
       "      <td>NaN</td>\n",
       "      <td>NaN</td>\n",
       "      <td>0</td>\n",
       "      <td>0.0</td>\n",
       "    </tr>\n",
       "    <tr>\n",
       "      <th>2</th>\n",
       "      <td>Licor</td>\n",
       "      <td>20160912.0</td>\n",
       "      <td>2016.0</td>\n",
       "      <td>2000000.0</td>\n",
       "      <td>CL 6  4A-16</td>\n",
       "      <td>00036 - CENTRO</td>\n",
       "      <td>buenaventura</td>\n",
       "      <td>NaN</td>\n",
       "      <td></td>\n",
       "      <td>NaN</td>\n",
       "      <td>NaN</td>\n",
       "      <td>NaN</td>\n",
       "      <td>0</td>\n",
       "      <td>0.0</td>\n",
       "    </tr>\n",
       "    <tr>\n",
       "      <th>3</th>\n",
       "      <td>Licor</td>\n",
       "      <td>20160808.0</td>\n",
       "      <td>2016.0</td>\n",
       "      <td>2200000.0</td>\n",
       "      <td>BRR. EUCARISTICO CALLE 3 NO. 38C - 10</td>\n",
       "      <td>00036 - CENTRO</td>\n",
       "      <td>buenaventura</td>\n",
       "      <td>NaN</td>\n",
       "      <td></td>\n",
       "      <td>NaN</td>\n",
       "      <td>NaN</td>\n",
       "      <td>NaN</td>\n",
       "      <td>0</td>\n",
       "      <td>0.0</td>\n",
       "    </tr>\n",
       "    <tr>\n",
       "      <th>4</th>\n",
       "      <td>Licor</td>\n",
       "      <td>20170303.0</td>\n",
       "      <td>2017.0</td>\n",
       "      <td>1300000.0</td>\n",
       "      <td>C 63A #1A-27</td>\n",
       "      <td>00051 - CALLE LA RELOJERA</td>\n",
       "      <td>buenaventura</td>\n",
       "      <td>NaN</td>\n",
       "      <td></td>\n",
       "      <td>NaN</td>\n",
       "      <td>NaN</td>\n",
       "      <td>NaN</td>\n",
       "      <td>0</td>\n",
       "      <td>0.0</td>\n",
       "    </tr>\n",
       "  </tbody>\n",
       "</table>\n",
       "</div>"
      ],
      "text/plain": [
       "  Actividad_Economica  FEC-RENOVACION  ULT_REN  VLR-ESTABLEC.  \\\n",
       "0               Licor      20150331.0   2015.0      2000000.0   \n",
       "1               Licor      20160127.0   2016.0      1300000.0   \n",
       "2               Licor      20160912.0   2016.0      2000000.0   \n",
       "3               Licor      20160808.0   2016.0      2200000.0   \n",
       "4               Licor      20170303.0   2017.0      1300000.0   \n",
       "\n",
       "                               DIRECCION                        BARRIO  \\\n",
       "0         CRA. 66 B # 657 BARRIO BOLIVAR  00142 - BARRIO SIMON BOLIVAR   \n",
       "1       AV. SIMON BOLIVAR ENT.CEMENTERIO        00113 - BARRIO KENNEDY   \n",
       "2                            CL 6  4A-16                00036 - CENTRO   \n",
       "3  BRR. EUCARISTICO CALLE 3 NO. 38C - 10                00036 - CENTRO   \n",
       "4                           C 63A #1A-27     00051 - CALLE LA RELOJERA   \n",
       "\n",
       "      MUNICIPIO  Anno Gravable NIT  Cod Dept  Cod Mun  CIIU NoOmiso  \\\n",
       "0  buenaventura            NaN           NaN      NaN   NaN       0   \n",
       "1  buenaventura            NaN           NaN      NaN   NaN       0   \n",
       "2  buenaventura            NaN           NaN      NaN   NaN       0   \n",
       "3  buenaventura            NaN           NaN      NaN   NaN       0   \n",
       "4  buenaventura            NaN           NaN      NaN   NaN       0   \n",
       "\n",
       "   TOT_modelo  \n",
       "0         0.0  \n",
       "1         0.0  \n",
       "2         0.0  \n",
       "3         0.0  \n",
       "4         0.0  "
      ]
     },
     "execution_count": 3,
     "metadata": {},
     "output_type": "execute_result"
    }
   ],
   "source": [
    "# Con el siguiente código se carga el archivo .csv donde está la base de datos de interés,especificando el tipo de variable\n",
    "# que contienen algunas columnas.\n",
    "# Tener especial cuidado con el separador utilizado, si es coma poner \"sep=','\" o si es punto y coma poner \"sep=';'\" \n",
    "\n",
    "# Load a file as a DataFrame and assign to df\n",
    "df = pd.read_csv('C:/Users/Paulis/Documents/DS4A/PROYECTO/Merge_PT.csv',sep=\";\", \n",
    "                 dtype = {'Actividad_Economica':'category', 'TOT_modelo':'float',\n",
    "                          'VLR-ESTABLEC.':'float','MUNICIPIO':'category', 'NoOmiso':'category'})\n",
    "\n",
    "# Al tener NAs o valores faltantes en las siguientes columnas, se decide reemplazar estos por 0 para que al ajustar el modelo\n",
    "# no haya inconvenientes.\n",
    "\n",
    "# Change NAN to 0\n",
    "df[\"TOT_modelo\"]=df[\"TOT_modelo\"].fillna(0)\n",
    "df[\"VLR-ESTABLEC.\"]=df[\"VLR-ESTABLEC.\"].fillna(0)\n",
    "\n",
    "# Este comando muestra los primeros 5 registros de la tabla \n",
    "df.head()"
   ]
  },
  {
   "cell_type": "markdown",
   "metadata": {},
   "source": [
    "Teniendo en cuenta que se tiene información de más de 40 municipios, se decide generar una variable para indicar la subregión del Valle del Cauca a la que pertenece cada registro (Centro, Sur, Norte, Oriente, Occidente). A continuación se ejecuta ese proceso.\n",
    "\n",
    "\n",
    "Taking into account that we have more than 40 municipalities, we created a *Region* variable that group all of them in 5 categories (Center, South, North, East, West)."
   ]
  },
  {
   "cell_type": "code",
   "execution_count": 4,
   "metadata": {},
   "outputs": [
    {
     "data": {
      "text/plain": [
       "array(['Occidente', 'Centro', 'Sur', 'Oriente', 'Norte', ''], dtype=object)"
      ]
     },
     "execution_count": 4,
     "metadata": {},
     "output_type": "execute_result"
    }
   ],
   "source": [
    "df['Region'] =''\n",
    "#REGION SUR/ SOUTH REGION\n",
    "df['Region'] = np.where(df['MUNICIPIO'] =='cali', \"Sur\", df['Region'])\n",
    "df['Region'] = np.where(df['MUNICIPIO'] =='candelaria', \"Sur\", df['Region'])\n",
    "df['Region'] = np.where(df['MUNICIPIO'] =='dagua', \"Sur\", df['Region'])\n",
    "df['Region'] = np.where(df['MUNICIPIO'] =='florida', \"Sur\", df['Region'])\n",
    "df['Region'] = np.where(df['MUNICIPIO'] =='jamundi', \"Sur\", df['Region'])\n",
    "df['Region'] = np.where(df['MUNICIPIO'] =='la cumbre', \"Sur\", df['Region'])\n",
    "df['Region'] = np.where(df['MUNICIPIO'] =='palmira', \"Sur\", df['Region'])\n",
    "df['Region'] = np.where(df['MUNICIPIO'] =='pradera', \"Sur\", df['Region'])\n",
    "df['Region'] = np.where(df['MUNICIPIO'] =='vijes', \"Sur\", df['Region'])\n",
    "df['Region'] = np.where(df['MUNICIPIO'] =='yumbo', \"Sur\", df['Region'])\n",
    "#REGION NORTE / NORTH REGION\n",
    "df['Region'] = np.where(df['MUNICIPIO'] =='alcala', \"Norte\", df['Region'])\n",
    "df['Region'] = np.where(df['MUNICIPIO'] =='ansermanuevo', \"Norte\", df['Region'])\n",
    "df['Region'] = np.where(df['MUNICIPIO'] =='argelia', \"Norte\", df['Region'])\n",
    "df['Region'] = np.where(df['MUNICIPIO'] =='bolivar', \"Norte\", df['Region'])\n",
    "df['Region'] = np.where(df['MUNICIPIO'] =='cartago', \"Norte\", df['Region'])\n",
    "df['Region'] = np.where(df['MUNICIPIO'] =='el aguila', \"Norte\", df['Region'])\n",
    "df['Region'] = np.where(df['MUNICIPIO'] =='el cairo', \"Norte\", df['Region'])\n",
    "df['Region'] = np.where(df['MUNICIPIO'] =='el dovio', \"Norte\", df['Region'])\n",
    "df['Region'] = np.where(df['MUNICIPIO'] =='la union', \"Norte\", df['Region'])\n",
    "df['Region'] = np.where(df['MUNICIPIO'] =='la victoria', \"Norte\", df['Region'])\n",
    "df['Region'] = np.where(df['MUNICIPIO'] =='obando', \"Norte\", df['Region'])\n",
    "df['Region'] = np.where(df['MUNICIPIO'] =='roldanillo', \"Norte\", df['Region'])\n",
    "df['Region'] = np.where(df['MUNICIPIO'] =='toro', \"Norte\", df['Region'])\n",
    "df['Region'] = np.where(df['MUNICIPIO'] =='ulloa', \"Norte\", df['Region'])\n",
    "df['Region'] = np.where(df['MUNICIPIO'] =='versalles', \"Norte\", df['Region'])\n",
    "df['Region'] = np.where(df['MUNICIPIO'] =='zarzal', \"Norte\", df['Region'])\n",
    "#REGION CENTRO/ CENTER REGION\n",
    "df['Region'] = np.where(df['MUNICIPIO'] =='andalucia', \"Centro\", df['Region'])\n",
    "df['Region'] = np.where(df['MUNICIPIO'] =='buga', \"Centro\", df['Region'])\n",
    "df['Region'] = np.where(df['MUNICIPIO'] =='bugalagrande', \"Centro\", df['Region'])\n",
    "df['Region'] = np.where(df['MUNICIPIO'] =='calima', \"Centro\", df['Region'])\n",
    "df['Region'] = np.where(df['MUNICIPIO'] =='el cerrito', \"Centro\", df['Region'])\n",
    "df['Region'] = np.where(df['MUNICIPIO'] =='ginebra', \"Centro\", df['Region'])\n",
    "df['Region'] = np.where(df['MUNICIPIO'] =='guacari', \"Centro\", df['Region'])\n",
    "df['Region'] = np.where(df['MUNICIPIO'] =='restrepo', \"Centro\", df['Region'])\n",
    "df['Region'] = np.where(df['MUNICIPIO'] =='riofrio', \"Centro\", df['Region'])\n",
    "df['Region'] = np.where(df['MUNICIPIO'] =='san pedro', \"Centro\", df['Region'])\n",
    "df['Region'] = np.where(df['MUNICIPIO'] =='trujillo', \"Centro\", df['Region'])\n",
    "df['Region'] = np.where(df['MUNICIPIO'] =='tulua', \"Centro\", df['Region'])\n",
    "df['Region'] = np.where(df['MUNICIPIO'] =='yotoco', \"Centro\", df['Region'])\n",
    "#REGION OCCIDENTE / WEST REGION\n",
    "df['Region'] = np.where(df['MUNICIPIO'] =='buenaventura', \"Occidente\", df['Region'])\n",
    "#REGION ORIENTE / EAST REGION\n",
    "df['Region'] = np.where(df['MUNICIPIO'] =='caicedonia', \"Oriente\", df['Region'])\n",
    "df['Region'] = np.where(df['MUNICIPIO'] =='sevilla', \"Oriente\", df['Region'])\n",
    "\n",
    "df['Region'].unique()     # ESTA LINEA SE QUITA AL FINAL"
   ]
  },
  {
   "cell_type": "code",
   "execution_count": 5,
   "metadata": {},
   "outputs": [
    {
     "data": {
      "text/plain": [
       "Region\n",
       "               81\n",
       "Centro        219\n",
       "Norte         138\n",
       "Occidente    1724\n",
       "Oriente        25\n",
       "Sur          1835\n",
       "dtype: int64"
      ]
     },
     "execution_count": 5,
     "metadata": {},
     "output_type": "execute_result"
    }
   ],
   "source": [
    "df.groupby('Region').size()            # ESTE CHUNCK SE QUITA AL FINAL"
   ]
  },
  {
   "cell_type": "code",
   "execution_count": 20,
   "metadata": {},
   "outputs": [
    {
     "name": "stdout",
     "output_type": "stream",
     "text": [
      "La base de datos que vamos a estudiar cuenta con 4022 filas y 15 columnas.\n",
      "The database has 4022 rows and 15 columns.\n"
     ]
    }
   ],
   "source": [
    "print(\"La base de datos que vamos a estudiar cuenta con\",df.shape[0],\"filas y\",df.shape[1],\"columnas.\")\n",
    "print(\"The database has\",df.shape[0],\"rows and\",df.shape[1],\"columns.\")"
   ]
  },
  {
   "cell_type": "markdown",
   "metadata": {},
   "source": [
    "La variable de interés (en adelante llamada $y$) es **\"NoOmiso\"**, que da información de si un contribuyente es *omiso* (0) o *no omiso* (1). La frecuencia de cada una de las categorías se muestra enseguida:\n",
    "\n",
    "Our variable of interest ($y$) is **\"NoOmiso\"** because is the one that shows whether or not a taxpayer is *omiso*."
   ]
  },
  {
   "cell_type": "code",
   "execution_count": 22,
   "metadata": {},
   "outputs": [
    {
     "name": "stdout",
     "output_type": "stream",
     "text": [
      "Cantidad de omisos 3883 \n",
      "Cantidad de no omisos 139\n",
      "Number of taxpayers 3883 \n",
      "Number of non-taxpayers 139\n"
     ]
    },
    {
     "data": {
      "image/png": "[encoded data removed]",
      "text/plain": [
       "<Figure size 432x288 with 1 Axes>"
      ]
     },
     "metadata": {
      "needs_background": "light"
     },
     "output_type": "display_data"
    }
   ],
   "source": [
    "count_classes=pd.value_counts(df['NoOmiso'],sort= True)\n",
    "count_classes.plot(kind=\"bar\",rot=0,color=\"darkblue\")\n",
    "plt.xticks(range(2))\n",
    "plt.title(\"Frecuency by observation number\")\n",
    "plt.xlabel(\"Class\")\n",
    "plt.ylabel(\"Number of Observation\")\n",
    "\n",
    "o=pd.value_counts(df['NoOmiso'], sort = True)\n",
    "\n",
    "print(\"Cantidad de omisos\",o[0],\"\\nCantidad de no omisos\",o[1])\n",
    "\n",
    "print(\"Number of taxpayers\",o[0],\"\\nNumber of non-taxpayers\",o[1]) #Ojo"
   ]
  },
  {
   "cell_type": "markdown",
   "metadata": {},
   "source": [
    "Como se puede notar, las categorías están extremandamente desbalanceadas así que antes de ajustar algún modelo de clasificación se debe balancear la muestra. Para ello se explorarán algunas alternativas: 1. Modificar los parámetros del modelo para que penalice la clasificación de la clase mayoritaria durante el entrenamiento y 2. Generar muestras artificiales que permitan \"equilibrar\" los conjuntos de datos, esto puede ser por submuestreo o supermuestreo. \n",
    "Cabe aclarar que se probabarán siguientes modelos de clasificación: Regresión Logística, Árboles de decisión y Random Forest (clásicos, balanceados y ponderados).\n",
    "\n",
    "\n",
    "As you can see, we have an unbalanced dataset so before trying some classification model we must balance the data. For that matter we will use 2 approaches: 1. Modifying the model parameters so that it penalizes the classification of the majority class and 2. Applying some tecniques of over and undersampling. \n",
    "We'll compare the results of different classification models such as Logistic regression, Decision trees and Random forest (classic, balanced and weighted)."
   ]
  },
  {
   "cell_type": "code",
   "execution_count": 24,
   "metadata": {},
   "outputs": [],
   "source": [
    "# Se crea una segunda base de datos utilizando solo las variables que realmente se incluirán en el modelo. \n",
    "# A las variables cuantitativas se les normaliza y a las categóricas se les transforma en dummies (donde toman el valor de 1 \n",
    "# si cumplen con la cualidad y 0 si no).\n",
    "\n",
    "# Create a new dataframe based on df using the independent variables useful for the modeling. We use one-hot encoding for the \n",
    "# categorical variables.\n",
    "\n",
    "df2=df[[\"Actividad_Economica\",\"Region\",\"NoOmiso\",\"TOT_modelo\",\"VLR-ESTABLEC.\"]]\n",
    "df2=pd.concat([(df2['TOT_modelo']- df['TOT_modelo'].mean())/df['TOT_modelo'].std(),\n",
    "               (df2[\"VLR-ESTABLEC.\"]- df[\"VLR-ESTABLEC.\"].mean())/df[\"VLR-ESTABLEC.\"].std(),\n",
    "               df2['NoOmiso'],pd.get_dummies(df2['Actividad_Economica'], prefix='ActEc', drop_first=True),\n",
    "               pd.get_dummies(df2['Region'], prefix='Reg', drop_first=True)],axis=1) #Cali, Jamundi, Dagua, Jumbo\n",
    "\n",
    "# Definición de etiquetas. Y= variable dependiente  X = Variables independientes \n",
    "y=df2[\"NoOmiso\"]\n",
    "X=df2.drop(\"NoOmiso\",axis=1)"
   ]
  },
  {
   "cell_type": "code",
   "execution_count": 78,
   "metadata": {},
   "outputs": [],
   "source": [
    "#definimos funciona para mostrar los resultados - Sin importar el modelo\n",
    "def mostrar_resultados(y_test, pred_y):\n",
    "    conf_matrix = confusion_matrix(y_test, pred_y)\n",
    "    plt.figure(figsize=(12, 12))\n",
    "    sns.heatmap(conf_matrix, annot=True, fmt=\"d\")\n",
    "    plt.title(\"Confusion matrix\")\n",
    "    plt.ylabel('True class')\n",
    "    plt.xlabel('Predicted class')\n",
    "    plt.show()\n",
    "    print (classification_report(y_test, pred_y))"
   ]
  },
  {
   "cell_type": "markdown",
   "metadata": {},
   "source": [
    "### Regresión Logística (Logistic Regression)\n",
    "\n",
    "#### Con los datos desbalanceados originales (With original dataset)\n"
   ]
  },
  {
   "cell_type": "code",
   "execution_count": 27,
   "metadata": {},
   "outputs": [
    {
     "name": "stdout",
     "output_type": "stream",
     "text": [
      "La cantidad de registros para entrenamiento es 2815 y para test 9\n",
      "Number of rows in the train set 2815 and in the test set 9\n",
      "              precision    recall  f1-score   support\n",
      "\n",
      "           0       0.96      1.00      0.98      1159\n",
      "           1       0.67      0.08      0.15        48\n",
      "\n",
      "    accuracy                           0.96      1207\n",
      "   macro avg       0.82      0.54      0.56      1207\n",
      "weighted avg       0.95      0.96      0.95      1207\n",
      "\n"
     ]
    }
   ],
   "source": [
    "#Dividimos en sets de entrenamiento (70$%) y test (30$%)\n",
    "#Selection of train (70%) and test (30$%) sets\n",
    "\n",
    "X_train,X_test,y_train,y_test=train_test_split(X,y,train_size=0.7)\n",
    "print(\"La cantidad de registros para entrenamiento es\",X_train.shape[0],\"y para test\",X_train.shape[1])\n",
    "print(\"Number of rows in the train set\",X_train.shape[0],\"and in the test set\",X_train.shape[1])\n",
    "\n",
    "clf_base = LogisticRegression(random_state=1,solver=\"newton-cg\")\n",
    "clf_base.fit(X_train, y_train)\n",
    "pred_y = clf_base.predict(X_test)\n",
    "print (classification_report(y_test, pred_y))"
   ]
  },
  {
   "cell_type": "markdown",
   "metadata": {},
   "source": [
    "#### Usando penalizaciones (Using penaly in the model)"
   ]
  },
  {
   "cell_type": "code",
   "execution_count": 30,
   "metadata": {},
   "outputs": [
    {
     "name": "stdout",
     "output_type": "stream",
     "text": [
      "              precision    recall  f1-score   support\n",
      "\n",
      "           0       0.98      0.96      0.97      1159\n",
      "           1       0.36      0.54      0.43        48\n",
      "\n",
      "    accuracy                           0.94      1207\n",
      "   macro avg       0.67      0.75      0.70      1207\n",
      "weighted avg       0.96      0.94      0.95      1207\n",
      "\n"
     ]
    }
   ],
   "source": [
    "lrp_base = LogisticRegression(random_state=1,solver=\"newton-cg\",penalty='l2',class_weight=\"balanced\")\n",
    "lrp_base.fit(X_train, y_train)\n",
    "predlrp_y = lrp_base.predict(X_test)\n",
    "print (classification_report(y_test, predlrp_y))"
   ]
  },
  {
   "cell_type": "markdown",
   "metadata": {},
   "source": [
    "#### Aplicando submuestreo (Applying undersampling)"
   ]
  },
  {
   "cell_type": "code",
   "execution_count": 75,
   "metadata": {},
   "outputs": [
    {
     "name": "stdout",
     "output_type": "stream",
     "text": [
      "Distribución antes de submuestreo Counter({'0': 2724, '1': 91})\n",
      "Distributión después de submuestreo Counter({'0': 91, '1': 91})\n",
      "Distribution before resampling Counter({'0': 2724, '1': 91})\n",
      "Distribution after resampling Counter({'0': 91, '1': 91})\n",
      "              precision    recall  f1-score   support\n",
      "\n",
      "           0       0.94      0.31      0.46      1159\n",
      "           1       0.03      0.54      0.06        48\n",
      "\n",
      "    accuracy                           0.31      1207\n",
      "   macro avg       0.49      0.42      0.26      1207\n",
      "weighted avg       0.91      0.31      0.45      1207\n",
      "\n"
     ]
    }
   ],
   "source": [
    "nr = NearMiss()\n",
    "X_under_train, y_under_train = nr.fit_sample(X_train, y_train)\n",
    "\n",
    "print (\"Distribución antes de submuestreo {}\".format(Counter(y_train)))\n",
    "print (\"Distributión después de submuestreo {}\".format(Counter(y_under_train)))\n",
    "\n",
    "print (\"Distribution before resampling {}\".format(Counter(y_train)))\n",
    "print (\"Distribution after resampling {}\".format(Counter(y_under_train)))\n",
    "\n",
    "lrp_under = LogisticRegression(random_state=1,solver=\"newton-cg\",penalty='l2',class_weight=\"balanced\")\n",
    "lrp_under.fit(X_under_train, y_under_train)\n",
    "predlrp_y_under = lrp_under.predict(X_test)\n",
    "print (classification_report(y_test, predlrp_y_under))"
   ]
  },
  {
   "cell_type": "markdown",
   "metadata": {},
   "source": [
    "#### Aplicando supermuestreo aleatorio (Applying random oversampling)"
   ]
  },
  {
   "cell_type": "code",
   "execution_count": 32,
   "metadata": {},
   "outputs": [
    {
     "name": "stdout",
     "output_type": "stream",
     "text": [
      "Distribución antes de submuestreo Counter({'0': 2724, '1': 91})\n",
      "Distributión después de submuestreo Counter({'0': 2724, '1': 2724})\n",
      "Distribution before resampling Counter({'0': 2724, '1': 91})\n",
      "Distribution after resampling Counter({'0': 2724, '1': 2724})\n",
      "              precision    recall  f1-score   support\n",
      "\n",
      "           0       0.98      0.96      0.97      1159\n",
      "           1       0.36      0.54      0.43        48\n",
      "\n",
      "    accuracy                           0.94      1207\n",
      "   macro avg       0.67      0.75      0.70      1207\n",
      "weighted avg       0.96      0.94      0.95      1207\n",
      "\n"
     ]
    }
   ],
   "source": [
    "os =  RandomOverSampler()\n",
    "X_over_train, y_over_train = os.fit_sample(X_train, y_train)\n",
    " \n",
    "print (\"Distribución antes de submuestreo {}\".format(Counter(y_train)))\n",
    "print (\"Distributión después de submuestreo {}\".format(Counter(y_over_train)))\n",
    "\n",
    "print (\"Distribution before resampling {}\".format(Counter(y_train)))\n",
    "print (\"Distribution after resampling {}\".format(Counter(y_over_train)))\n",
    "\n",
    "lrp_over = LogisticRegression(random_state=1,solver=\"newton-cg\",penalty='l2',class_weight=\"balanced\")\n",
    "lrp_over.fit(X_over_train, y_over_train)\n",
    "predlrp_y_over = lrp_over.predict(X_test)\n",
    "print (classification_report(y_test, predlrp_y_over))"
   ]
  },
  {
   "cell_type": "markdown",
   "metadata": {},
   "source": [
    "#### Aplicando supermuestreo SMOTENC (Applying Synthetic Minority Oversampling Technique for Nominal and Continous (SMOTENC))"
   ]
  },
  {
   "cell_type": "code",
   "execution_count": 36,
   "metadata": {},
   "outputs": [
    {
     "name": "stdout",
     "output_type": "stream",
     "text": [
      "[('0', 3883), ('1', 3883)]\n",
      "Distribution before resampling Counter({'0': 2724, '1': 91})\n",
      "Distribution labels after resampling Counter({'1': 2722, '0': 2714})\n",
      "              precision    recall  f1-score   support\n",
      "\n",
      "           0       0.95      0.63      0.76      1169\n",
      "           1       0.72      0.97      0.83      1161\n",
      "\n",
      "    accuracy                           0.80      2330\n",
      "   macro avg       0.84      0.80      0.79      2330\n",
      "weighted avg       0.84      0.80      0.79      2330\n",
      "\n"
     ]
    }
   ],
   "source": [
    "smote_nc = SMOTENC(categorical_features=[2,3,4,5,6,7,8], random_state=0)\n",
    "X_resampled, y_resampled = smote_nc.fit_resample(X, y)\n",
    "print(sorted(Counter(y_resampled).items()))\n",
    "\n",
    "X_train_smc,X_test_smc,y_train_smc,y_test_smc=train_test_split(X_resampled,y_resampled,train_size=0.7)\n",
    "\n",
    "print (\"Distribution before resampling {}\".format(Counter(y_train)))\n",
    "print (\"Distribution labels after resampling {}\".format(Counter(y_train_smc)))\n",
    " \n",
    "lrp_smotenc = LogisticRegression(random_state=1,solver=\"newton-cg\",penalty='l2',class_weight=\"balanced\")\n",
    "lrp_smotenc.fit(X_train_smc, y_train_smc)\n",
    "predlrp_y_smotenc = lrp_smotenc.predict(X_test_smc)\n",
    "print (classification_report(y_test_smc, predlrp_y_smotenc))"
   ]
  },
  {
   "cell_type": "markdown",
   "metadata": {},
   "source": [
    "### Árbol de decisión (Decision Tree)\n",
    "\n",
    "#### Con los datos desbalanceados originales (With original dataset)\n"
   ]
  },
  {
   "cell_type": "code",
   "execution_count": 38,
   "metadata": {},
   "outputs": [
    {
     "name": "stdout",
     "output_type": "stream",
     "text": [
      "              precision    recall  f1-score   support\n",
      "\n",
      "           0       0.97      0.99      0.98      1159\n",
      "           1       0.55      0.38      0.44        48\n",
      "\n",
      "    accuracy                           0.96      1207\n",
      "   macro avg       0.76      0.68      0.71      1207\n",
      "weighted avg       0.96      0.96      0.96      1207\n",
      "\n"
     ]
    }
   ],
   "source": [
    "dtc=DecisionTreeClassifier()\n",
    "dtc=dtc.fit(X_train,y_train)\n",
    "preddtc_y=dtc.predict(X_test)\n",
    "print (classification_report(y_test, preddtc_y))"
   ]
  },
  {
   "cell_type": "markdown",
   "metadata": {},
   "source": [
    "#### Aplicando submuestreo (Applying undersampling)"
   ]
  },
  {
   "cell_type": "code",
   "execution_count": 41,
   "metadata": {},
   "outputs": [
    {
     "name": "stdout",
     "output_type": "stream",
     "text": [
      "              precision    recall  f1-score   support\n",
      "\n",
      "           0       0.99      0.88      0.93      1159\n",
      "           1       0.23      0.85      0.36        48\n",
      "\n",
      "    accuracy                           0.88      1207\n",
      "   macro avg       0.61      0.87      0.65      1207\n",
      "weighted avg       0.96      0.88      0.91      1207\n",
      "\n"
     ]
    }
   ],
   "source": [
    "dtc_under = DecisionTreeClassifier()\n",
    "dtc_under.fit(X_under_train, y_under_train)\n",
    "preddtc_y_under = dtc_under.predict(X_test)\n",
    "print (classification_report(y_test, preddtc_y_under))"
   ]
  },
  {
   "cell_type": "markdown",
   "metadata": {},
   "source": [
    "#### Aplicando supermuestreo aleatorio (Applying random oversampling)"
   ]
  },
  {
   "cell_type": "code",
   "execution_count": 42,
   "metadata": {},
   "outputs": [
    {
     "name": "stdout",
     "output_type": "stream",
     "text": [
      "              precision    recall  f1-score   support\n",
      "\n",
      "           0       0.98      0.95      0.97      1159\n",
      "           1       0.31      0.50      0.38        48\n",
      "\n",
      "    accuracy                           0.94      1207\n",
      "   macro avg       0.65      0.73      0.68      1207\n",
      "weighted avg       0.95      0.94      0.94      1207\n",
      "\n"
     ]
    }
   ],
   "source": [
    "dtc_over = DecisionTreeClassifier()\n",
    "dtc_over.fit(X_over_train, y_over_train)\n",
    "preddtc_y_over = dtc_over.predict(X_test)\n",
    "print (classification_report(y_test, preddtc_y_over))"
   ]
  },
  {
   "cell_type": "markdown",
   "metadata": {},
   "source": [
    "#### Aplicando supermuestreo SMOTENC (Applying Synthetic Minority Oversampling Technique for Nominal and Continous (SMOTENC))"
   ]
  },
  {
   "cell_type": "code",
   "execution_count": 43,
   "metadata": {},
   "outputs": [
    {
     "name": "stdout",
     "output_type": "stream",
     "text": [
      "              precision    recall  f1-score   support\n",
      "\n",
      "           0       0.88      0.93      0.90      1169\n",
      "           1       0.93      0.87      0.90      1161\n",
      "\n",
      "    accuracy                           0.90      2330\n",
      "   macro avg       0.90      0.90      0.90      2330\n",
      "weighted avg       0.90      0.90      0.90      2330\n",
      "\n"
     ]
    }
   ],
   "source": [
    "dtc_smotenc = DecisionTreeClassifier()\n",
    "dtc_smotenc.fit(X_train_smc, y_train_smc)\n",
    "preddtc_y_smotenc = dtc_smotenc.predict(X_test_smc)\n",
    "print (classification_report(y_test_smc, preddtc_y_smotenc))"
   ]
  },
  {
   "cell_type": "markdown",
   "metadata": {},
   "source": [
    "#### Aplicando ensamble de modelos con balanceo (Applying Balanced Bagging Classifier) *POSIBLEMENTE NO SE CONTEMPLE"
   ]
  },
  {
   "cell_type": "code",
   "execution_count": 46,
   "metadata": {},
   "outputs": [
    {
     "name": "stdout",
     "output_type": "stream",
     "text": [
      "              precision    recall  f1-score   support\n",
      "\n",
      "           0       0.97      0.99      0.98      1159\n",
      "           1       0.55      0.35      0.43        48\n",
      "\n",
      "    accuracy                           0.96      1207\n",
      "   macro avg       0.76      0.67      0.71      1207\n",
      "weighted avg       0.96      0.96      0.96      1207\n",
      "\n"
     ]
    }
   ],
   "source": [
    "bbc = BalancedBaggingClassifier(base_estimator=DecisionTreeClassifier(),\n",
    "                                sampling_strategy='not majority',\n",
    "                                replacement=False,\n",
    "                                random_state=0)\n",
    " \n",
    "#Train the classifier.\n",
    "bbc.fit(X_train, y_train)\n",
    "predbbc_y = bbc.predict(X_test)\n",
    "#mostrar_resultados(y_test, pred_y)\n",
    "#balanced_accuracy_score(y_test, pred_y)\n",
    "print (classification_report(y_test, predbbc_y))"
   ]
  },
  {
   "cell_type": "markdown",
   "metadata": {},
   "source": [
    "### Random Forest\n",
    "\n",
    "#### Con los datos desbalanceados originales (With original dataset)\n"
   ]
  },
  {
   "cell_type": "code",
   "execution_count": 49,
   "metadata": {},
   "outputs": [
    {
     "name": "stdout",
     "output_type": "stream",
     "text": [
      "              precision    recall  f1-score   support\n",
      "\n",
      "           0       0.97      1.00      0.98      1159\n",
      "           1       1.00      0.17      0.29        48\n",
      "\n",
      "    accuracy                           0.97      1207\n",
      "   macro avg       0.98      0.58      0.63      1207\n",
      "weighted avg       0.97      0.97      0.96      1207\n",
      "\n"
     ]
    }
   ],
   "source": [
    "rfc=RandomForestClassifier(max_depth=3, random_state=0)\n",
    "rfc=rfc.fit(X_train,y_train)\n",
    "predrfc_y=rfc.predict(X_test)\n",
    "print (classification_report(y_test, predrfc_y))"
   ]
  },
  {
   "cell_type": "markdown",
   "metadata": {},
   "source": [
    "#### Aplicando submuestreo (Applying undersampling)"
   ]
  },
  {
   "cell_type": "code",
   "execution_count": 50,
   "metadata": {},
   "outputs": [
    {
     "name": "stdout",
     "output_type": "stream",
     "text": [
      "              precision    recall  f1-score   support\n",
      "\n",
      "           0       0.99      0.69      0.81      1159\n",
      "           1       0.10      0.85      0.18        48\n",
      "\n",
      "    accuracy                           0.69      1207\n",
      "   macro avg       0.55      0.77      0.50      1207\n",
      "weighted avg       0.96      0.69      0.79      1207\n",
      "\n"
     ]
    }
   ],
   "source": [
    "rfc_under = RandomForestClassifier(n_estimators=100, max_depth=3, random_state=0)\n",
    "rfc_under.fit(X_under_train, y_under_train)\n",
    "predrfc_y_under = rfc_under.predict(X_test)\n",
    "print (classification_report(y_test, predrfc_y_under))"
   ]
  },
  {
   "cell_type": "markdown",
   "metadata": {},
   "source": [
    "#### Aplicando supermuestreo aleatorio (Applying random oversampling)"
   ]
  },
  {
   "cell_type": "code",
   "execution_count": 51,
   "metadata": {},
   "outputs": [
    {
     "name": "stdout",
     "output_type": "stream",
     "text": [
      "              precision    recall  f1-score   support\n",
      "\n",
      "           0       0.99      0.91      0.95      1159\n",
      "           1       0.29      0.85      0.44        48\n",
      "\n",
      "    accuracy                           0.91      1207\n",
      "   macro avg       0.64      0.88      0.69      1207\n",
      "weighted avg       0.97      0.91      0.93      1207\n",
      "\n"
     ]
    }
   ],
   "source": [
    "rfc_over = RandomForestClassifier(n_estimators=100, max_depth=3, random_state=0)\n",
    "rfc_over.fit(X_over_train, y_over_train)\n",
    "predrfc_y_over = rfc_over.predict(X_test)\n",
    "print (classification_report(y_test, predrfc_y_over))"
   ]
  },
  {
   "cell_type": "markdown",
   "metadata": {},
   "source": [
    "#### Aplicando supermuestreo SMOTENC (Applying Synthetic Minority Oversampling Technique for Nominal and Continous (SMOTENC))"
   ]
  },
  {
   "cell_type": "code",
   "execution_count": 52,
   "metadata": {},
   "outputs": [
    {
     "name": "stdout",
     "output_type": "stream",
     "text": [
      "              precision    recall  f1-score   support\n",
      "\n",
      "           0       0.90      0.90      0.90      1169\n",
      "           1       0.90      0.90      0.90      1161\n",
      "\n",
      "    accuracy                           0.90      2330\n",
      "   macro avg       0.90      0.90      0.90      2330\n",
      "weighted avg       0.90      0.90      0.90      2330\n",
      "\n"
     ]
    }
   ],
   "source": [
    "rfc_smotenc = RandomForestClassifier(n_estimators=100, max_depth=3, random_state=0)\n",
    "rfc_smotenc.fit(X_train_smc, y_train_smc)\n",
    "predrfc_y_smotenc = rfc_smotenc.predict(X_test_smc)\n",
    "print (classification_report(y_test_smc, predrfc_y_smotenc))"
   ]
  },
  {
   "cell_type": "markdown",
   "metadata": {},
   "source": [
    "#### Random Forest Balanceado (Balanced Random Forest)"
   ]
  },
  {
   "cell_type": "code",
   "execution_count": 85,
   "metadata": {},
   "outputs": [
    {
     "name": "stdout",
     "output_type": "stream",
     "text": [
      "              precision    recall  f1-score   support\n",
      "\n",
      "           0       0.99      0.91      0.95      1159\n",
      "           1       0.28      0.85      0.42        48\n",
      "\n",
      "    accuracy                           0.90      1207\n",
      "   macro avg       0.63      0.88      0.68      1207\n",
      "weighted avg       0.96      0.90      0.93      1207\n",
      "\n"
     ]
    },
    {
     "data": {
      "image/png": "[encoded data removed]",
      "text/plain": [
       "<Figure size 864x864 with 2 Axes>"
      ]
     },
     "metadata": {
      "needs_background": "light"
     },
     "output_type": "display_data"
    },
    {
     "name": "stdout",
     "output_type": "stream",
     "text": [
      "              precision    recall  f1-score   support\n",
      "\n",
      "           0       0.99      0.91      0.95      1159\n",
      "           1       0.28      0.85      0.42        48\n",
      "\n",
      "    accuracy                           0.90      1207\n",
      "   macro avg       0.63      0.88      0.68      1207\n",
      "weighted avg       0.96      0.90      0.93      1207\n",
      "\n"
     ]
    }
   ],
   "source": [
    "brf = BalancedRandomForestClassifier(n_estimators=100, random_state=0, max_depth=3)\n",
    "brf.fit(X_train, y_train) \n",
    "predbrf_y = brf.predict(X_test)\n",
    "print (classification_report(y_test, predbrf_y))\n",
    "#round(balanced_accuracy_score(y_test, predbrf_y),4)\n",
    "mostrar_resultados(y_test, predbrf_y)"
   ]
  },
  {
   "cell_type": "markdown",
   "metadata": {},
   "source": [
    "#### Random Forest Ponderado (Weighted Random Forest)"
   ]
  },
  {
   "cell_type": "code",
   "execution_count": 86,
   "metadata": {},
   "outputs": [
    {
     "name": "stdout",
     "output_type": "stream",
     "text": [
      "              precision    recall  f1-score   support\n",
      "\n",
      "           0       0.98      0.95      0.97      1159\n",
      "           1       0.33      0.54      0.41        48\n",
      "\n",
      "    accuracy                           0.94      1207\n",
      "   macro avg       0.65      0.75      0.69      1207\n",
      "weighted avg       0.95      0.94      0.95      1207\n",
      "\n"
     ]
    }
   ],
   "source": [
    "# Usando la muestra original ( Using original samples)\n",
    "rfw = RandomForestClassifier(bootstrap=True, class_weight=\"balanced_subsample\",criterion='gini')\n",
    "rfw.fit(X_train, y_train)\n",
    "predrfw_y = rfw.predict(X_test)\n",
    "print (classification_report(y_test, predrfw_y))\n",
    "\n",
    "# Usando la muestra generada de SMOTENC ( Using SMOTENC samples)\n",
    "#rfw_smc = RandomForestClassifier(bootstrap=True, class_weight=\"balanced_subsample\",criterion='gini')\n",
    "#rfw_smc.fit(X_train_smc, y_train_smc) \n",
    "#predrfw_y_smc = rfw_smc.predict(X_test_smc)\n",
    "#print (classification_report(y_test_smc, predrfw_y_smc))\n"
   ]
  },
  {
   "cell_type": "code",
   "execution_count": 91,
   "metadata": {},
   "outputs": [],
   "source": [
    "def cv_roc_tree(X, y, n_split, algo='BRFC'):\n",
    "    \n",
    "    cv = StratifiedKFold(n_split)\n",
    "    \n",
    "    tprs = []\n",
    "    aucs = []\n",
    "    mean_fpr = np.linspace(0, 1, 100)\n",
    "    for train, test in cv.split(X, y):\n",
    "        if algo == 'Tree':\n",
    "            clf = BalancedRandomForestClassifier(n_estimators=100, random_state=0)\n",
    "        else:\n",
    "            clf = RandomForestClassifier(n_estimators=100, max_depth=3, random_state=0,bootstrap=True, class_weight=\"balanced_subsample\",criterion='gini')\n",
    "        clf = clf.fit(X.iloc[train], y.iloc[train])\n",
    "        probas_ = clf.predict_proba(X.iloc[test])\n",
    "        \n",
    "        # Compute ROC curve and area the curve\n",
    "        fpr, tpr, thresholds = roc_curve(y.iloc[test], probas_[:,1])\n",
    "        tprs.append(np.interp(mean_fpr, fpr, tpr))\n",
    "        tprs[-1][0] = 0.0\n",
    "        roc_auc = auc(fpr, tpr)\n",
    "        aucs.append(roc_auc)\n",
    "    \n",
    "    return tprs, aucs, mean_fpr"
   ]
  },
  {
   "cell_type": "code",
   "execution_count": 96,
   "metadata": {},
   "outputs": [
    {
     "data": {
      "image/png": "[encoded data removed]",
      "text/plain": [
       "<Figure size 432x288 with 1 Axes>"
      ]
     },
     "metadata": {
      "needs_background": "light"
     },
     "output_type": "display_data"
    }
   ],
   "source": [
    "tprs_t, aucs_t, mean_fpr_t = cv_roc_tree(X, y.cat.codes,10,algo='BRFC')\n",
    "tprs_f, aucs_f, mean_fpr_f = cv_roc_tree(X, y.cat.codes,10,algo='forest')\n",
    "\n",
    "plt.plot([0, 1], [0, 1], linestyle='--', lw=2, color='blue', label='Random guess', alpha=.8)\n",
    "\n",
    "mean_tpr_t = np.mean(tprs_t, axis=0)\n",
    "mean_tpr_f = np.mean(tprs_f, axis=0)\n",
    "mean_tpr_t[-1] = 1.0\n",
    "mean_tpr_f[-1] = 1.0\n",
    "\n",
    "mean_auc_t = auc(mean_fpr_t, mean_tpr_t)\n",
    "mean_auc_f = auc(mean_fpr_f, mean_tpr_f)\n",
    "std_auc_t = np.std(aucs_t)\n",
    "std_auc_f = np.std(aucs_f)\n",
    "\n",
    "plt.plot(mean_fpr_t, mean_tpr_t, color='darkorange', lw=2, alpha=.8,\n",
    "         label=f\"Balance Random Forest: Cross-validated Mean ROC (AUC = {mean_auc_t:0.4f} $\\pm$ {std_auc_t:0.2f})\")\n",
    "plt.plot(mean_fpr_f, mean_tpr_f, color='red', lw=2, alpha=.8,\n",
    "         label=f\"Random Forest: Cross-validated Mean ROC (AUC = {mean_auc_f:0.4f} $\\pm$ {std_auc_f:0.2f})\")\n",
    "\n",
    "plt.xlabel('False Positive Rate')\n",
    "plt.ylabel('True Positive Rate')\n",
    "plt.legend(loc='lower right')\n",
    "plt.title('Tree-based Classification of Non-Taxpayers: 10-fold Cross-validation')\n",
    "plt.show()"
   ]
  },
  {
   "cell_type": "markdown",
   "metadata": {},
   "source": [
    "Aquí la idea es dejar la función que compare los modelos finales elegidos, dado que no tengo los datos finales no he podido pulir al 100% esta parte. Mañana espero poder tener la base final."
   ]
  },
  {
   "cell_type": "code",
   "execution_count": 97,
   "metadata": {},
   "outputs": [],
   "source": [
    "def cv_roc_tree_log(X, y, n_split, algo='BRFC'):\n",
    "    \n",
    "    cv = StratifiedKFold(n_split)\n",
    "    \n",
    "    tprs = []\n",
    "    aucs = []\n",
    "    mean_fpr = np.linspace(0, 1, 100)\n",
    "    for train, test in cv.split(X, y):\n",
    "        if algo == 'Tree':\n",
    "            clf = BalancedRandomForestClassifier(n_estimators=100, random_state=0)\n",
    "        else:\n",
    "            clf = LogisticRegression(C=1.0,penalty='l2',random_state=1,solver=\"newton-cg\",class_weight=\"balanced\")   \n",
    "        clf = clf.fit(X.iloc[train], y.iloc[train])\n",
    "        probas_ = clf.predict_proba(X.iloc[test])\n",
    "        \n",
    "        # Compute ROC curve and area the curve\n",
    "        fpr, tpr, thresholds = roc_curve(y.iloc[test], probas_[:,1])\n",
    "        tprs.append(np.interp(mean_fpr, fpr, tpr))\n",
    "        tprs[-1][0] = 0.0\n",
    "        roc_auc = auc(fpr, tpr)\n",
    "        aucs.append(roc_auc)\n",
    "    \n",
    "    return tprs, aucs, mean_fpr"
   ]
  },
  {
   "cell_type": "code",
   "execution_count": 99,
   "metadata": {},
   "outputs": [
    {
     "data": {
      "image/png": "[encoded data removed]",
      "text/plain": [
       "<Figure size 432x288 with 1 Axes>"
      ]
     },
     "metadata": {
      "needs_background": "light"
     },
     "output_type": "display_data"
    }
   ],
   "source": [
    "tprs_t, aucs_t, mean_fpr_t = cv_roc_tree(X, y.cat.codes,10,algo='BRFC')\n",
    "tprs_f, aucs_f, mean_fpr_f = cv_roc_tree(X, y.cat.codes,10)\n",
    "\n",
    "plt.plot([0, 1], [0, 1], linestyle='--', lw=2, color='blue', label='Random guess', alpha=.8)\n",
    "\n",
    "mean_tpr_t = np.mean(tprs_t, axis=0)\n",
    "mean_tpr_f = np.mean(tprs_f, axis=0)\n",
    "mean_tpr_t[-1] = 1.0\n",
    "mean_tpr_f[-1] = 1.0\n",
    "\n",
    "mean_auc_t = auc(mean_fpr_t, mean_tpr_t)\n",
    "mean_auc_f = auc(mean_fpr_f, mean_tpr_f)\n",
    "std_auc_t = np.std(aucs_t)\n",
    "std_auc_f = np.std(aucs_f)\n",
    "\n",
    "#plt.plot(mean_fpr_t, mean_tpr_t, color='darkgreen', lw=2, alpha=.8,\n",
    "#         label=f\"Balance Random Forest: Cross-validated Mean ROC (AUC = {mean_auc_t:0.4f} $\\pm$ {std_auc_t:0.2f})\")\n",
    "plt.plot(mean_fpr_f, mean_tpr_f, color='red', lw=2, alpha=.8,\n",
    "         label=f\"Logistic Regression: Cross-validated Mean ROC (AUC = {mean_auc_f:0.4f} $\\pm$ {std_auc_f:0.2f})\")\n",
    "\n",
    "plt.xlabel('False Positive Rate')\n",
    "plt.ylabel('True Positive Rate')\n",
    "plt.legend(loc='lower right')\n",
    "plt.title('Tree-based Classification of Non-Taxpayers: 10-fold Cross-validation')\n",
    "plt.show()"
   ]
  },
  {
   "cell_type": "code",
   "execution_count": 104,
   "metadata": {},
   "outputs": [
    {
     "data": {
      "image/png": "[encoded data removed]",
      "text/plain": [
       "<Figure size 432x288 with 1 Axes>"
      ]
     },
     "metadata": {
      "needs_background": "light"
     },
     "output_type": "display_data"
    }
   ],
   "source": [
    "clf_rf = LogisticRegression(C=1.0,penalty='l2',random_state=1,solver=\"newton-cg\",class_weight=\"balanced\")\n",
    "clf_rf.fit(X, y.cat.codes)\n",
    "clf_rf_probas = clf_rf.predict_proba(X)\n",
    "\n",
    "roc_p = roc_curve(y.cat.codes, clf_rf_probas[:,1])\n",
    "auc_p = auc_p = auc( roc_p[0], roc_p[1] )\n",
    "\n",
    "plt.figure()\n",
    "line_width = 2\n",
    "plt.plot(roc_p[0], roc_p[1], color='darkorange', lw=line_width,\n",
    "         label=f\"ROC curve for Logistic Regression (AUC = {auc_p:0.2f})\")\n",
    "plt.plot([0, 1], [0, 1], color='navy', lw=line_width, linestyle='--', label='Random guess')\n",
    "plt.xlim([0.0, 1.0])\n",
    "plt.ylim([0.0, 1.05])\n",
    "plt.xlabel('False Positive Rate')\n",
    "plt.ylabel('True Positive Rate')\n",
    "plt.title('Classification of Omisos')\n",
    "plt.legend(loc='lower right')\n",
    "plt.show()"
   ]
  },
  {
   "cell_type": "code",
   "execution_count": 108,
   "metadata": {},
   "outputs": [
    {
     "data": {
      "image/png": "[encoded data removed]",
      "text/plain": [
       "<Figure size 432x288 with 1 Axes>"
      ]
     },
     "metadata": {
      "needs_background": "light"
     },
     "output_type": "display_data"
    }
   ],
   "source": [
    "clf_rf = BalancedRandomForestClassifier(n_estimators=100, random_state=0)\n",
    "clf_rf.fit(X, y.cat.codes)\n",
    "clf_rf_probas = clf_rf.predict_proba(X)\n",
    "\n",
    "roc_p = roc_curve(y.cat.codes, clf_rf_probas[:,1])\n",
    "auc_p = auc_p = auc( roc_p[0], roc_p[1] )\n",
    "\n",
    "plt.figure()\n",
    "line_width = 2\n",
    "plt.plot(roc_p[0], roc_p[1], color='darkred', lw=line_width,\n",
    "         label=f\"ROC curve for Balanced Random Forest Classifier (AUC = {auc_p:0.2f})\")\n",
    "plt.plot([0, 1], [0, 1], color='navy', lw=line_width, linestyle='--', label='Random guess')\n",
    "plt.xlim([0.0, 1.0])\n",
    "plt.ylim([0.0, 1.05])\n",
    "plt.xlabel('False Positive Rate')\n",
    "plt.ylabel('True Positive Rate')\n",
    "plt.title('Classification of Omisos')\n",
    "plt.legend(loc='lower right')\n",
    "plt.show()"
   ]
  },
  {
   "cell_type": "code",
   "execution_count": 107,
   "metadata": {},
   "outputs": [
    {
     "data": {
      "image/png": "[encoded data removed]",
      "text/plain": [
       "<Figure size 432x288 with 1 Axes>"
      ]
     },
     "metadata": {
      "needs_background": "light"
     },
     "output_type": "display_data"
    }
   ],
   "source": [
    "clf_rf = RandomForestClassifier(n_estimators=100, max_depth=3, random_state=0,bootstrap=True, class_weight=\"balanced_subsample\",criterion='gini')\n",
    "clf_rf.fit(X, y.cat.codes)\n",
    "clf_rf_probas = clf_rf.predict_proba(X)\n",
    "\n",
    "roc_p = roc_curve(y.cat.codes, clf_rf_probas[:,1])\n",
    "auc_p = auc_p = auc( roc_p[0], roc_p[1] )\n",
    "\n",
    "plt.figure()\n",
    "line_width = 2\n",
    "plt.plot(roc_p[0], roc_p[1], color='darkgreen', lw=line_width,\n",
    "         label=f\"ROC curve for Balanced Random Forest Classifier (AUC = {auc_p:0.2f})\")\n",
    "plt.plot([0, 1], [0, 1], color='navy', lw=line_width, linestyle='--', label='Random guess')\n",
    "plt.xlim([0.0, 1.0])\n",
    "plt.ylim([0.0, 1.05])\n",
    "plt.xlabel('False Positive Rate')\n",
    "plt.ylabel('True Positive Rate')\n",
    "plt.title('Classification of Omisos')\n",
    "plt.legend(loc='lower right')\n",
    "plt.show()"
   ]
  }
 ],
 "metadata": {
  "kernelspec": {
   "display_name": "Python 3",
   "language": "python",
   "name": "python3"
  },
  "language_info": {
   "codemirror_mode": {
    "name": "ipython",
    "version": 3
   },
   "file_extension": ".py",
   "mimetype": "text/x-python",
   "name": "python",
   "nbconvert_exporter": "python",
   "pygments_lexer": "ipython3",
   "version": "3.8.3"
  }
 },
 "nbformat": 4,
 "nbformat_minor": 4
}
