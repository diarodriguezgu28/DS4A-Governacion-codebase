{
 "cells": [
  {
   "cell_type": "code",
   "execution_count": 1,
   "metadata": {},
   "outputs": [],
   "source": [
    "import pandas as pd"
   ]
  },
  {
   "cell_type": "code",
   "execution_count": 2,
   "metadata": {},
   "outputs": [],
   "source": [
    "DIAN = pd.read_csv('Dian_Consolidado.csv', low_memory=False)\n",
    "MunicipiosC = pd.read_csv('Municipios_Consolidado.csv', low_memory=False)"
   ]
  },
  {
   "cell_type": "code",
   "execution_count": 3,
   "metadata": {
    "scrolled": true
   },
   "outputs": [
    {
     "data": {
      "text/html": [
       "<div>\n",
       "<style scoped>\n",
       "    .dataframe tbody tr th:only-of-type {\n",
       "        vertical-align: middle;\n",
       "    }\n",
       "\n",
       "    .dataframe tbody tr th {\n",
       "        vertical-align: top;\n",
       "    }\n",
       "\n",
       "    .dataframe thead th {\n",
       "        text-align: right;\n",
       "    }\n",
       "</style>\n",
       "<table border=\"1\" class=\"dataframe\">\n",
       "  <thead>\n",
       "    <tr style=\"text-align: right;\">\n",
       "      <th></th>\n",
       "      <th></th>\n",
       "      <th>index</th>\n",
       "      <th>MATRICULA</th>\n",
       "      <th>PROPONENTE</th>\n",
       "      <th>ORGANIZACION</th>\n",
       "      <th>CATEGORIA</th>\n",
       "      <th>EST-MATRICULA</th>\n",
       "      <th>EST_DATOS</th>\n",
       "      <th>FECHA-NAC</th>\n",
       "      <th>CLASE-ID</th>\n",
       "      <th>IDENTIFICACION</th>\n",
       "      <th>...</th>\n",
       "      <th>NUMTOTALMUJERES</th>\n",
       "      <th>ESTBLCOMERCIALES</th>\n",
       "      <th>IND_ENVMSJCEL</th>\n",
       "      <th>IND_ENVMSJEMAIL</th>\n",
       "      <th>IND_BENEFICIO1780</th>\n",
       "      <th>IND_BENEFICIO1780MAT</th>\n",
       "      <th>IND_RENUNCIABEN1780</th>\n",
       "      <th>ESTADO_AFILIADO</th>\n",
       "      <th>FECHA_AFILIACION</th>\n",
       "      <th>FECHA_FIN_AFILIACION</th>\n",
       "    </tr>\n",
       "    <tr>\n",
       "      <th>Actividad_Economica</th>\n",
       "      <th>CODIGO_CIIU</th>\n",
       "      <th></th>\n",
       "      <th></th>\n",
       "      <th></th>\n",
       "      <th></th>\n",
       "      <th></th>\n",
       "      <th></th>\n",
       "      <th></th>\n",
       "      <th></th>\n",
       "      <th></th>\n",
       "      <th></th>\n",
       "      <th></th>\n",
       "      <th></th>\n",
       "      <th></th>\n",
       "      <th></th>\n",
       "      <th></th>\n",
       "      <th></th>\n",
       "      <th></th>\n",
       "      <th></th>\n",
       "      <th></th>\n",
       "      <th></th>\n",
       "      <th></th>\n",
       "    </tr>\n",
       "  </thead>\n",
       "  <tbody>\n",
       "    <tr>\n",
       "      <th rowspan=\"14\" valign=\"top\">Licor</th>\n",
       "      <th>1101.0</th>\n",
       "      <td>60</td>\n",
       "      <td>4</td>\n",
       "      <td>0</td>\n",
       "      <td>4</td>\n",
       "      <td>60</td>\n",
       "      <td>4</td>\n",
       "      <td>4</td>\n",
       "      <td>1</td>\n",
       "      <td>2</td>\n",
       "      <td>2</td>\n",
       "      <td>...</td>\n",
       "      <td>12</td>\n",
       "      <td>40</td>\n",
       "      <td>52</td>\n",
       "      <td>56</td>\n",
       "      <td>51</td>\n",
       "      <td>51</td>\n",
       "      <td>51</td>\n",
       "      <td>56</td>\n",
       "      <td>1</td>\n",
       "      <td>1</td>\n",
       "    </tr>\n",
       "    <tr>\n",
       "      <th>1102.0</th>\n",
       "      <td>107</td>\n",
       "      <td>53</td>\n",
       "      <td>0</td>\n",
       "      <td>53</td>\n",
       "      <td>106</td>\n",
       "      <td>53</td>\n",
       "      <td>41</td>\n",
       "      <td>11</td>\n",
       "      <td>27</td>\n",
       "      <td>27</td>\n",
       "      <td>...</td>\n",
       "      <td>11</td>\n",
       "      <td>42</td>\n",
       "      <td>52</td>\n",
       "      <td>54</td>\n",
       "      <td>50</td>\n",
       "      <td>50</td>\n",
       "      <td>50</td>\n",
       "      <td>54</td>\n",
       "      <td>0</td>\n",
       "      <td>0</td>\n",
       "    </tr>\n",
       "    <tr>\n",
       "      <th>1103.0</th>\n",
       "      <td>43</td>\n",
       "      <td>1</td>\n",
       "      <td>0</td>\n",
       "      <td>1</td>\n",
       "      <td>43</td>\n",
       "      <td>1</td>\n",
       "      <td>1</td>\n",
       "      <td>1</td>\n",
       "      <td>1</td>\n",
       "      <td>1</td>\n",
       "      <td>...</td>\n",
       "      <td>12</td>\n",
       "      <td>35</td>\n",
       "      <td>41</td>\n",
       "      <td>42</td>\n",
       "      <td>42</td>\n",
       "      <td>42</td>\n",
       "      <td>42</td>\n",
       "      <td>42</td>\n",
       "      <td>3</td>\n",
       "      <td>3</td>\n",
       "    </tr>\n",
       "    <tr>\n",
       "      <th>1200.0</th>\n",
       "      <td>3</td>\n",
       "      <td>3</td>\n",
       "      <td>0</td>\n",
       "      <td>2</td>\n",
       "      <td>2</td>\n",
       "      <td>1</td>\n",
       "      <td>1</td>\n",
       "      <td>1</td>\n",
       "      <td>1</td>\n",
       "      <td>1</td>\n",
       "      <td>...</td>\n",
       "      <td>0</td>\n",
       "      <td>0</td>\n",
       "      <td>0</td>\n",
       "      <td>0</td>\n",
       "      <td>0</td>\n",
       "      <td>0</td>\n",
       "      <td>0</td>\n",
       "      <td>0</td>\n",
       "      <td>0</td>\n",
       "      <td>0</td>\n",
       "    </tr>\n",
       "    <tr>\n",
       "      <th>4631.0</th>\n",
       "      <td>65</td>\n",
       "      <td>21</td>\n",
       "      <td>0</td>\n",
       "      <td>21</td>\n",
       "      <td>65</td>\n",
       "      <td>1</td>\n",
       "      <td>1</td>\n",
       "      <td>0</td>\n",
       "      <td>1</td>\n",
       "      <td>1</td>\n",
       "      <td>...</td>\n",
       "      <td>5</td>\n",
       "      <td>31</td>\n",
       "      <td>44</td>\n",
       "      <td>44</td>\n",
       "      <td>36</td>\n",
       "      <td>36</td>\n",
       "      <td>36</td>\n",
       "      <td>44</td>\n",
       "      <td>3</td>\n",
       "      <td>3</td>\n",
       "    </tr>\n",
       "    <tr>\n",
       "      <th>4632.0</th>\n",
       "      <td>42</td>\n",
       "      <td>26</td>\n",
       "      <td>0</td>\n",
       "      <td>23</td>\n",
       "      <td>36</td>\n",
       "      <td>16</td>\n",
       "      <td>13</td>\n",
       "      <td>2</td>\n",
       "      <td>6</td>\n",
       "      <td>6</td>\n",
       "      <td>...</td>\n",
       "      <td>1</td>\n",
       "      <td>12</td>\n",
       "      <td>13</td>\n",
       "      <td>16</td>\n",
       "      <td>16</td>\n",
       "      <td>16</td>\n",
       "      <td>16</td>\n",
       "      <td>16</td>\n",
       "      <td>0</td>\n",
       "      <td>0</td>\n",
       "    </tr>\n",
       "    <tr>\n",
       "      <th>4711.0</th>\n",
       "      <td>2329</td>\n",
       "      <td>2233</td>\n",
       "      <td>3</td>\n",
       "      <td>2232</td>\n",
       "      <td>2316</td>\n",
       "      <td>1854</td>\n",
       "      <td>1844</td>\n",
       "      <td>926</td>\n",
       "      <td>1043</td>\n",
       "      <td>1012</td>\n",
       "      <td>...</td>\n",
       "      <td>23</td>\n",
       "      <td>78</td>\n",
       "      <td>93</td>\n",
       "      <td>96</td>\n",
       "      <td>88</td>\n",
       "      <td>88</td>\n",
       "      <td>88</td>\n",
       "      <td>96</td>\n",
       "      <td>3</td>\n",
       "      <td>2</td>\n",
       "    </tr>\n",
       "    <tr>\n",
       "      <th>4724.0</th>\n",
       "      <td>597</td>\n",
       "      <td>548</td>\n",
       "      <td>0</td>\n",
       "      <td>496</td>\n",
       "      <td>526</td>\n",
       "      <td>437</td>\n",
       "      <td>339</td>\n",
       "      <td>242</td>\n",
       "      <td>276</td>\n",
       "      <td>271</td>\n",
       "      <td>...</td>\n",
       "      <td>17</td>\n",
       "      <td>45</td>\n",
       "      <td>48</td>\n",
       "      <td>49</td>\n",
       "      <td>46</td>\n",
       "      <td>46</td>\n",
       "      <td>46</td>\n",
       "      <td>49</td>\n",
       "      <td>0</td>\n",
       "      <td>0</td>\n",
       "    </tr>\n",
       "    <tr>\n",
       "      <th>5611.0</th>\n",
       "      <td>775</td>\n",
       "      <td>717</td>\n",
       "      <td>3</td>\n",
       "      <td>716</td>\n",
       "      <td>773</td>\n",
       "      <td>717</td>\n",
       "      <td>715</td>\n",
       "      <td>328</td>\n",
       "      <td>405</td>\n",
       "      <td>392</td>\n",
       "      <td>...</td>\n",
       "      <td>13</td>\n",
       "      <td>42</td>\n",
       "      <td>56</td>\n",
       "      <td>58</td>\n",
       "      <td>57</td>\n",
       "      <td>57</td>\n",
       "      <td>57</td>\n",
       "      <td>58</td>\n",
       "      <td>4</td>\n",
       "      <td>3</td>\n",
       "    </tr>\n",
       "    <tr>\n",
       "      <th>5612.0</th>\n",
       "      <td>27</td>\n",
       "      <td>21</td>\n",
       "      <td>0</td>\n",
       "      <td>21</td>\n",
       "      <td>27</td>\n",
       "      <td>21</td>\n",
       "      <td>21</td>\n",
       "      <td>7</td>\n",
       "      <td>10</td>\n",
       "      <td>10</td>\n",
       "      <td>...</td>\n",
       "      <td>1</td>\n",
       "      <td>3</td>\n",
       "      <td>6</td>\n",
       "      <td>6</td>\n",
       "      <td>6</td>\n",
       "      <td>6</td>\n",
       "      <td>6</td>\n",
       "      <td>6</td>\n",
       "      <td>0</td>\n",
       "      <td>0</td>\n",
       "    </tr>\n",
       "    <tr>\n",
       "      <th>5619.0</th>\n",
       "      <td>374</td>\n",
       "      <td>347</td>\n",
       "      <td>0</td>\n",
       "      <td>347</td>\n",
       "      <td>374</td>\n",
       "      <td>347</td>\n",
       "      <td>347</td>\n",
       "      <td>187</td>\n",
       "      <td>204</td>\n",
       "      <td>193</td>\n",
       "      <td>...</td>\n",
       "      <td>6</td>\n",
       "      <td>21</td>\n",
       "      <td>27</td>\n",
       "      <td>27</td>\n",
       "      <td>23</td>\n",
       "      <td>23</td>\n",
       "      <td>23</td>\n",
       "      <td>27</td>\n",
       "      <td>0</td>\n",
       "      <td>0</td>\n",
       "    </tr>\n",
       "    <tr>\n",
       "      <th>5621.0</th>\n",
       "      <td>68</td>\n",
       "      <td>59</td>\n",
       "      <td>1</td>\n",
       "      <td>59</td>\n",
       "      <td>68</td>\n",
       "      <td>59</td>\n",
       "      <td>59</td>\n",
       "      <td>30</td>\n",
       "      <td>33</td>\n",
       "      <td>32</td>\n",
       "      <td>...</td>\n",
       "      <td>3</td>\n",
       "      <td>6</td>\n",
       "      <td>9</td>\n",
       "      <td>9</td>\n",
       "      <td>9</td>\n",
       "      <td>9</td>\n",
       "      <td>9</td>\n",
       "      <td>9</td>\n",
       "      <td>1</td>\n",
       "      <td>1</td>\n",
       "    </tr>\n",
       "    <tr>\n",
       "      <th>5629.0</th>\n",
       "      <td>28</td>\n",
       "      <td>17</td>\n",
       "      <td>0</td>\n",
       "      <td>17</td>\n",
       "      <td>28</td>\n",
       "      <td>17</td>\n",
       "      <td>17</td>\n",
       "      <td>6</td>\n",
       "      <td>12</td>\n",
       "      <td>11</td>\n",
       "      <td>...</td>\n",
       "      <td>0</td>\n",
       "      <td>11</td>\n",
       "      <td>11</td>\n",
       "      <td>11</td>\n",
       "      <td>11</td>\n",
       "      <td>11</td>\n",
       "      <td>11</td>\n",
       "      <td>11</td>\n",
       "      <td>0</td>\n",
       "      <td>0</td>\n",
       "    </tr>\n",
       "    <tr>\n",
       "      <th>5630.0</th>\n",
       "      <td>1204</td>\n",
       "      <td>1082</td>\n",
       "      <td>0</td>\n",
       "      <td>875</td>\n",
       "      <td>995</td>\n",
       "      <td>750</td>\n",
       "      <td>439</td>\n",
       "      <td>240</td>\n",
       "      <td>261</td>\n",
       "      <td>254</td>\n",
       "      <td>...</td>\n",
       "      <td>35</td>\n",
       "      <td>109</td>\n",
       "      <td>120</td>\n",
       "      <td>122</td>\n",
       "      <td>117</td>\n",
       "      <td>117</td>\n",
       "      <td>117</td>\n",
       "      <td>122</td>\n",
       "      <td>2</td>\n",
       "      <td>2</td>\n",
       "    </tr>\n",
       "  </tbody>\n",
       "</table>\n",
       "<p>14 rows × 210 columns</p>\n",
       "</div>"
      ],
      "text/plain": [
       "                                 index  MATRICULA  PROPONENTE  ORGANIZACION  \\\n",
       "Actividad_Economica CODIGO_CIIU                                               \n",
       "Licor               1101.0          60          4           0             4   \n",
       "                    1102.0         107         53           0            53   \n",
       "                    1103.0          43          1           0             1   \n",
       "                    1200.0           3          3           0             2   \n",
       "                    4631.0          65         21           0            21   \n",
       "                    4632.0          42         26           0            23   \n",
       "                    4711.0        2329       2233           3          2232   \n",
       "                    4724.0         597        548           0           496   \n",
       "                    5611.0         775        717           3           716   \n",
       "                    5612.0          27         21           0            21   \n",
       "                    5619.0         374        347           0           347   \n",
       "                    5621.0          68         59           1            59   \n",
       "                    5629.0          28         17           0            17   \n",
       "                    5630.0        1204       1082           0           875   \n",
       "\n",
       "                                 CATEGORIA  EST-MATRICULA  EST_DATOS  \\\n",
       "Actividad_Economica CODIGO_CIIU                                        \n",
       "Licor               1101.0              60              4          4   \n",
       "                    1102.0             106             53         41   \n",
       "                    1103.0              43              1          1   \n",
       "                    1200.0               2              1          1   \n",
       "                    4631.0              65              1          1   \n",
       "                    4632.0              36             16         13   \n",
       "                    4711.0            2316           1854       1844   \n",
       "                    4724.0             526            437        339   \n",
       "                    5611.0             773            717        715   \n",
       "                    5612.0              27             21         21   \n",
       "                    5619.0             374            347        347   \n",
       "                    5621.0              68             59         59   \n",
       "                    5629.0              28             17         17   \n",
       "                    5630.0             995            750        439   \n",
       "\n",
       "                                 FECHA-NAC  CLASE-ID  IDENTIFICACION  ...  \\\n",
       "Actividad_Economica CODIGO_CIIU                                       ...   \n",
       "Licor               1101.0               1         2               2  ...   \n",
       "                    1102.0              11        27              27  ...   \n",
       "                    1103.0               1         1               1  ...   \n",
       "                    1200.0               1         1               1  ...   \n",
       "                    4631.0               0         1               1  ...   \n",
       "                    4632.0               2         6               6  ...   \n",
       "                    4711.0             926      1043            1012  ...   \n",
       "                    4724.0             242       276             271  ...   \n",
       "                    5611.0             328       405             392  ...   \n",
       "                    5612.0               7        10              10  ...   \n",
       "                    5619.0             187       204             193  ...   \n",
       "                    5621.0              30        33              32  ...   \n",
       "                    5629.0               6        12              11  ...   \n",
       "                    5630.0             240       261             254  ...   \n",
       "\n",
       "                                 NUMTOTALMUJERES  ESTBLCOMERCIALES  \\\n",
       "Actividad_Economica CODIGO_CIIU                                      \n",
       "Licor               1101.0                    12                40   \n",
       "                    1102.0                    11                42   \n",
       "                    1103.0                    12                35   \n",
       "                    1200.0                     0                 0   \n",
       "                    4631.0                     5                31   \n",
       "                    4632.0                     1                12   \n",
       "                    4711.0                    23                78   \n",
       "                    4724.0                    17                45   \n",
       "                    5611.0                    13                42   \n",
       "                    5612.0                     1                 3   \n",
       "                    5619.0                     6                21   \n",
       "                    5621.0                     3                 6   \n",
       "                    5629.0                     0                11   \n",
       "                    5630.0                    35               109   \n",
       "\n",
       "                                 IND_ENVMSJCEL  IND_ENVMSJEMAIL  \\\n",
       "Actividad_Economica CODIGO_CIIU                                   \n",
       "Licor               1101.0                  52               56   \n",
       "                    1102.0                  52               54   \n",
       "                    1103.0                  41               42   \n",
       "                    1200.0                   0                0   \n",
       "                    4631.0                  44               44   \n",
       "                    4632.0                  13               16   \n",
       "                    4711.0                  93               96   \n",
       "                    4724.0                  48               49   \n",
       "                    5611.0                  56               58   \n",
       "                    5612.0                   6                6   \n",
       "                    5619.0                  27               27   \n",
       "                    5621.0                   9                9   \n",
       "                    5629.0                  11               11   \n",
       "                    5630.0                 120              122   \n",
       "\n",
       "                                 IND_BENEFICIO1780  IND_BENEFICIO1780MAT  \\\n",
       "Actividad_Economica CODIGO_CIIU                                            \n",
       "Licor               1101.0                      51                    51   \n",
       "                    1102.0                      50                    50   \n",
       "                    1103.0                      42                    42   \n",
       "                    1200.0                       0                     0   \n",
       "                    4631.0                      36                    36   \n",
       "                    4632.0                      16                    16   \n",
       "                    4711.0                      88                    88   \n",
       "                    4724.0                      46                    46   \n",
       "                    5611.0                      57                    57   \n",
       "                    5612.0                       6                     6   \n",
       "                    5619.0                      23                    23   \n",
       "                    5621.0                       9                     9   \n",
       "                    5629.0                      11                    11   \n",
       "                    5630.0                     117                   117   \n",
       "\n",
       "                                 IND_RENUNCIABEN1780  ESTADO_AFILIADO  \\\n",
       "Actividad_Economica CODIGO_CIIU                                         \n",
       "Licor               1101.0                        51               56   \n",
       "                    1102.0                        50               54   \n",
       "                    1103.0                        42               42   \n",
       "                    1200.0                         0                0   \n",
       "                    4631.0                        36               44   \n",
       "                    4632.0                        16               16   \n",
       "                    4711.0                        88               96   \n",
       "                    4724.0                        46               49   \n",
       "                    5611.0                        57               58   \n",
       "                    5612.0                         6                6   \n",
       "                    5619.0                        23               27   \n",
       "                    5621.0                         9                9   \n",
       "                    5629.0                        11               11   \n",
       "                    5630.0                       117              122   \n",
       "\n",
       "                                 FECHA_AFILIACION  FECHA_FIN_AFILIACION  \n",
       "Actividad_Economica CODIGO_CIIU                                          \n",
       "Licor               1101.0                      1                     1  \n",
       "                    1102.0                      0                     0  \n",
       "                    1103.0                      3                     3  \n",
       "                    1200.0                      0                     0  \n",
       "                    4631.0                      3                     3  \n",
       "                    4632.0                      0                     0  \n",
       "                    4711.0                      3                     2  \n",
       "                    4724.0                      0                     0  \n",
       "                    5611.0                      4                     3  \n",
       "                    5612.0                      0                     0  \n",
       "                    5619.0                      0                     0  \n",
       "                    5621.0                      1                     1  \n",
       "                    5629.0                      0                     0  \n",
       "                    5630.0                      2                     2  \n",
       "\n",
       "[14 rows x 210 columns]"
      ]
     },
     "execution_count": 3,
     "metadata": {},
     "output_type": "execute_result"
    }
   ],
   "source": [
    "MunicipiosC[MunicipiosC['Actividad_Economica']=='Licor'].groupby(['Actividad_Economica', 'CODIGO_CIIU']).count()"
   ]
  },
  {
   "cell_type": "code",
   "execution_count": 4,
   "metadata": {},
   "outputs": [
    {
     "data": {
      "text/plain": [
       "array(['El cairo', 'Cartago', 'Ansermanuevo', 'Roldanillo', 'El dovio',\n",
       "       'La union', 'Sevilla', 'Caicedonia', 'Cali', 'Yumbo', 'Jamundi',\n",
       "       'La Cumbre', 'Dagua', 'Toro', 'Alcala', 'La victoria', 'Tulua',\n",
       "       'Vijes', 'Buenaventura', 'El aguila', 'Ulloa',\n",
       "       'San jose de palmar', 'Versalles', 'Obando', 'Argelia', 'Calima',\n",
       "       'Buga', 'El cerrito', 'Ginebra', 'San pedro', 'Restrepo',\n",
       "       'Guacari', 'Yotoco', 'Palmira', 'Candelaria', 'Florida', 'Pradera',\n",
       "       'Zarzal', 'Andalucia', 'Riofrio', 'Bugalagrande', 'Bolivar',\n",
       "       'Trujillo'], dtype=object)"
      ]
     },
     "execution_count": 4,
     "metadata": {},
     "output_type": "execute_result"
    }
   ],
   "source": [
    "MunicipiosC['MUNICIPIO_Clean'].unique()"
   ]
  },
  {
   "cell_type": "code",
   "execution_count": 5,
   "metadata": {},
   "outputs": [
    {
     "data": {
      "text/plain": [
       "Index(['index', 'MATRICULA', 'PROPONENTE', 'ORGANIZACION', 'CATEGORIA',\n",
       "       'EST-MATRICULA', 'EST_DATOS', 'FECHA-NAC', 'CLASE-ID', 'IDENTIFICACION',\n",
       "       'GENERO', 'NIT', 'FEC-MATRICULA', 'FEC-RENOVACION', 'ULT_REN',\n",
       "       'FEC-CANCELACION', 'FEC-CONSTITUCION', 'FEC-DISOLUCION',\n",
       "       'FEC-LIQUIDACION', 'FEC-VIGENCIA', 'DIRECCION', 'BARRIO', 'MUNICIPIO',\n",
       "       'VIGILANCIA', 'DIR-NOTIFICACION', 'MUN-NOTIFICACION', 'TEL-NOTF-1',\n",
       "       'TEL-NOTF-2', 'EMAIL-NOTIFICACION', 'CIIU-1', 'CIIU-2', 'CIIU-3',\n",
       "       'CIIU-4', 'ACTIVIDAD', 'CANT-MUJERES', 'CANT-MUJERES-CAR-DIR',\n",
       "       '%-PART-MUJ', 'CIIU-TAM-EMPRESARIAL', 'ING-TAM-EMPRESARIAL',\n",
       "       'ANO-DATOS-TAM-EMPRESARIAL', 'FECHA-DATOS-TAM-EMPRESARIAL',\n",
       "       'LIBROS-COMERCIO', 'CTR-EMBARGO', 'IMPORTA-EXPORTA', 'TIPO-LOCAL',\n",
       "       'UBICACION', 'CLA-ESPE-ESADL', 'CLA-ECON-SOLI', 'BEN-ART-7',\n",
       "       'BEN-LEY-1780(MAT)', 'CUM-LEY-1780(REN)', 'MAN-LEY-1780(REN)',\n",
       "       'REN-LEY-1780(REN)', 'TIPO-PROPIEDAD', 'BIC-LEY-1901-2018',\n",
       "       'TAM-EMPRESA', 'PERSONAL', 'ACTIVO-CORRIENTE', 'ACTIVO-NO-CORRIENTE',\n",
       "       'ACTIVO-FIJO', 'ACTIVO-VALORIZ', 'ACTIVO-OTROS', 'ACTIVO-TOTAL',\n",
       "       'PASIVO-CORRIENTE', 'PASIVO-LRG-PLAZO', 'PASIVO-TOTAL', 'PATRIMONIO',\n",
       "       'PASIVO+PATRIM', 'ING-OPERACIONES', 'ING-NO-OPERACIONALES',\n",
       "       'GAS-OPERACIONALES', 'GAS-NO-OPERAC.', 'COS-VEN.', 'GAS-IMP.',\n",
       "       'UTIL-OPERACIONAL', 'UTIL-NETA', 'GRUPO-NIIF', 'ANIO-DATOS',\n",
       "       'FECHA-DATOS', 'CAPITAL-AUTORIZ.', 'CAPITAL-SUSCRITO', 'CAPITAL-PAGADO',\n",
       "       'CAPITAL-SOCIAL', 'APORTE-LABORAL', 'APORTE-LABORAL-ADI',\n",
       "       'APORTE-DINERO', 'APORTE-TRABAJO', 'APORTE-ACTIVOS', 'APORTE-TOTAL',\n",
       "       'VLR-ESTABLEC.', 'PATRIM-ESADL.', 'CANT-EST-BD.', 'POR-NAL-PRI',\n",
       "       'POR-NAL-PUB', 'POR-NAL-TOT', 'POR-EXT-PRI', 'POR-EXT-PUB',\n",
       "       'POR-EXT-TOT', 'CTR-AFILIACION', 'ANIO-REN-AFIL'],\n",
       "      dtype='object')"
      ]
     },
     "execution_count": 5,
     "metadata": {},
     "output_type": "execute_result"
    }
   ],
   "source": [
    "MunicipiosC.columns[0:100]"
   ]
  },
  {
   "cell_type": "code",
   "execution_count": 6,
   "metadata": {},
   "outputs": [
    {
     "data": {
      "text/plain": [
       "4471"
      ]
     },
     "execution_count": 6,
     "metadata": {},
     "output_type": "execute_result"
    }
   ],
   "source": [
    "len(MunicipiosC['NIT'].unique())"
   ]
  },
  {
   "cell_type": "code",
   "execution_count": 7,
   "metadata": {},
   "outputs": [
    {
     "data": {
      "text/plain": [
       "0       2020.0\n",
       "1       2020.0\n",
       "2       2020.0\n",
       "3       2020.0\n",
       "4       2019.0\n",
       "         ...  \n",
       "6829       NaN\n",
       "6830       NaN\n",
       "6831       NaN\n",
       "6832       NaN\n",
       "6833       NaN\n",
       "Name: ULT_REN, Length: 6834, dtype: float64"
      ]
     },
     "execution_count": 7,
     "metadata": {},
     "output_type": "execute_result"
    }
   ],
   "source": [
    "MunicipiosC['ULT_REN']#.unique()"
   ]
  },
  {
   "cell_type": "code",
   "execution_count": 8,
   "metadata": {},
   "outputs": [
    {
     "data": {
      "text/plain": [
       "6027"
      ]
     },
     "execution_count": 8,
     "metadata": {},
     "output_type": "execute_result"
    }
   ],
   "source": [
    "len(DIAN['Número Nit'].unique())"
   ]
  },
  {
   "cell_type": "code",
   "execution_count": 9,
   "metadata": {},
   "outputs": [],
   "source": [
    "#print(MunicipiosC.columns[0:100])"
   ]
  },
  {
   "cell_type": "code",
   "execution_count": 10,
   "metadata": {
    "scrolled": true
   },
   "outputs": [],
   "source": [
    "#print(MunicipiosC.columns[100:200])"
   ]
  },
  {
   "cell_type": "code",
   "execution_count": 11,
   "metadata": {},
   "outputs": [],
   "source": [
    "#print(MunicipiosC.columns[200:300])"
   ]
  },
  {
   "cell_type": "code",
   "execution_count": 12,
   "metadata": {},
   "outputs": [],
   "source": [
    "reduced_Dian = DIAN[['Actividad_Economica',  'Año Gravable', 'Número Nit', 'Código Departamento', 'Código Municipio',\n",
    "       'Código Actividad Económica Principal', 'Total Ingresos Netos (459)', 'RGA IMAS T-Total ingresos netos (748)']]\n",
    "\n",
    "reduced_Dian = reduced_Dian[reduced_Dian['Número Nit'].notnull()]"
   ]
  },
  {
   "cell_type": "code",
   "execution_count": 13,
   "metadata": {
    "scrolled": true
   },
   "outputs": [
    {
     "data": {
      "text/html": [
       "<div>\n",
       "<style scoped>\n",
       "    .dataframe tbody tr th:only-of-type {\n",
       "        vertical-align: middle;\n",
       "    }\n",
       "\n",
       "    .dataframe tbody tr th {\n",
       "        vertical-align: top;\n",
       "    }\n",
       "\n",
       "    .dataframe thead th {\n",
       "        text-align: right;\n",
       "    }\n",
       "</style>\n",
       "<table border=\"1\" class=\"dataframe\">\n",
       "  <thead>\n",
       "    <tr style=\"text-align: right;\">\n",
       "      <th></th>\n",
       "      <th></th>\n",
       "      <th>Año Gravable</th>\n",
       "      <th>Número Nit</th>\n",
       "      <th>Código Departamento</th>\n",
       "      <th>Código Municipio</th>\n",
       "      <th>Total Ingresos Netos (459)</th>\n",
       "      <th>RGA IMAS T-Total ingresos netos (748)</th>\n",
       "    </tr>\n",
       "    <tr>\n",
       "      <th>Actividad_Economica</th>\n",
       "      <th>Código Actividad Económica Principal</th>\n",
       "      <th></th>\n",
       "      <th></th>\n",
       "      <th></th>\n",
       "      <th></th>\n",
       "      <th></th>\n",
       "      <th></th>\n",
       "    </tr>\n",
       "  </thead>\n",
       "  <tbody>\n",
       "    <tr>\n",
       "      <th rowspan=\"14\" valign=\"top\">Licor</th>\n",
       "      <th>1101.0</th>\n",
       "      <td>32</td>\n",
       "      <td>32</td>\n",
       "      <td>32</td>\n",
       "      <td>32</td>\n",
       "      <td>31</td>\n",
       "      <td>0</td>\n",
       "    </tr>\n",
       "    <tr>\n",
       "      <th>1102.0</th>\n",
       "      <td>20</td>\n",
       "      <td>20</td>\n",
       "      <td>20</td>\n",
       "      <td>20</td>\n",
       "      <td>18</td>\n",
       "      <td>0</td>\n",
       "    </tr>\n",
       "    <tr>\n",
       "      <th>1103.0</th>\n",
       "      <td>12</td>\n",
       "      <td>12</td>\n",
       "      <td>12</td>\n",
       "      <td>12</td>\n",
       "      <td>12</td>\n",
       "      <td>0</td>\n",
       "    </tr>\n",
       "    <tr>\n",
       "      <th>1200.0</th>\n",
       "      <td>6</td>\n",
       "      <td>6</td>\n",
       "      <td>6</td>\n",
       "      <td>6</td>\n",
       "      <td>6</td>\n",
       "      <td>0</td>\n",
       "    </tr>\n",
       "    <tr>\n",
       "      <th>4631.0</th>\n",
       "      <td>1672</td>\n",
       "      <td>1672</td>\n",
       "      <td>1672</td>\n",
       "      <td>1672</td>\n",
       "      <td>1442</td>\n",
       "      <td>12</td>\n",
       "    </tr>\n",
       "    <tr>\n",
       "      <th>4632.0</th>\n",
       "      <td>200</td>\n",
       "      <td>200</td>\n",
       "      <td>200</td>\n",
       "      <td>200</td>\n",
       "      <td>168</td>\n",
       "      <td>1</td>\n",
       "    </tr>\n",
       "    <tr>\n",
       "      <th>4711.0</th>\n",
       "      <td>2446</td>\n",
       "      <td>2446</td>\n",
       "      <td>2446</td>\n",
       "      <td>2446</td>\n",
       "      <td>1112</td>\n",
       "      <td>63</td>\n",
       "    </tr>\n",
       "    <tr>\n",
       "      <th>4724.0</th>\n",
       "      <td>357</td>\n",
       "      <td>357</td>\n",
       "      <td>357</td>\n",
       "      <td>357</td>\n",
       "      <td>157</td>\n",
       "      <td>1</td>\n",
       "    </tr>\n",
       "    <tr>\n",
       "      <th>5611.0</th>\n",
       "      <td>3445</td>\n",
       "      <td>3445</td>\n",
       "      <td>3445</td>\n",
       "      <td>3445</td>\n",
       "      <td>1998</td>\n",
       "      <td>105</td>\n",
       "    </tr>\n",
       "    <tr>\n",
       "      <th>5612.0</th>\n",
       "      <td>300</td>\n",
       "      <td>300</td>\n",
       "      <td>300</td>\n",
       "      <td>300</td>\n",
       "      <td>220</td>\n",
       "      <td>1</td>\n",
       "    </tr>\n",
       "    <tr>\n",
       "      <th>5619.0</th>\n",
       "      <td>815</td>\n",
       "      <td>815</td>\n",
       "      <td>815</td>\n",
       "      <td>815</td>\n",
       "      <td>398</td>\n",
       "      <td>18</td>\n",
       "    </tr>\n",
       "    <tr>\n",
       "      <th>5621.0</th>\n",
       "      <td>320</td>\n",
       "      <td>320</td>\n",
       "      <td>320</td>\n",
       "      <td>320</td>\n",
       "      <td>176</td>\n",
       "      <td>7</td>\n",
       "    </tr>\n",
       "    <tr>\n",
       "      <th>5629.0</th>\n",
       "      <td>193</td>\n",
       "      <td>193</td>\n",
       "      <td>193</td>\n",
       "      <td>193</td>\n",
       "      <td>112</td>\n",
       "      <td>2</td>\n",
       "    </tr>\n",
       "    <tr>\n",
       "      <th>5630.0</th>\n",
       "      <td>642</td>\n",
       "      <td>642</td>\n",
       "      <td>642</td>\n",
       "      <td>642</td>\n",
       "      <td>292</td>\n",
       "      <td>11</td>\n",
       "    </tr>\n",
       "  </tbody>\n",
       "</table>\n",
       "</div>"
      ],
      "text/plain": [
       "                                                          Año Gravable  \\\n",
       "Actividad_Economica Código Actividad Económica Principal                 \n",
       "Licor               1101.0                                          32   \n",
       "                    1102.0                                          20   \n",
       "                    1103.0                                          12   \n",
       "                    1200.0                                           6   \n",
       "                    4631.0                                        1672   \n",
       "                    4632.0                                         200   \n",
       "                    4711.0                                        2446   \n",
       "                    4724.0                                         357   \n",
       "                    5611.0                                        3445   \n",
       "                    5612.0                                         300   \n",
       "                    5619.0                                         815   \n",
       "                    5621.0                                         320   \n",
       "                    5629.0                                         193   \n",
       "                    5630.0                                         642   \n",
       "\n",
       "                                                          Número Nit  \\\n",
       "Actividad_Economica Código Actividad Económica Principal               \n",
       "Licor               1101.0                                        32   \n",
       "                    1102.0                                        20   \n",
       "                    1103.0                                        12   \n",
       "                    1200.0                                         6   \n",
       "                    4631.0                                      1672   \n",
       "                    4632.0                                       200   \n",
       "                    4711.0                                      2446   \n",
       "                    4724.0                                       357   \n",
       "                    5611.0                                      3445   \n",
       "                    5612.0                                       300   \n",
       "                    5619.0                                       815   \n",
       "                    5621.0                                       320   \n",
       "                    5629.0                                       193   \n",
       "                    5630.0                                       642   \n",
       "\n",
       "                                                          Código Departamento  \\\n",
       "Actividad_Economica Código Actividad Económica Principal                        \n",
       "Licor               1101.0                                                 32   \n",
       "                    1102.0                                                 20   \n",
       "                    1103.0                                                 12   \n",
       "                    1200.0                                                  6   \n",
       "                    4631.0                                               1672   \n",
       "                    4632.0                                                200   \n",
       "                    4711.0                                               2446   \n",
       "                    4724.0                                                357   \n",
       "                    5611.0                                               3445   \n",
       "                    5612.0                                                300   \n",
       "                    5619.0                                                815   \n",
       "                    5621.0                                                320   \n",
       "                    5629.0                                                193   \n",
       "                    5630.0                                                642   \n",
       "\n",
       "                                                          Código Municipio  \\\n",
       "Actividad_Economica Código Actividad Económica Principal                     \n",
       "Licor               1101.0                                              32   \n",
       "                    1102.0                                              20   \n",
       "                    1103.0                                              12   \n",
       "                    1200.0                                               6   \n",
       "                    4631.0                                            1672   \n",
       "                    4632.0                                             200   \n",
       "                    4711.0                                            2446   \n",
       "                    4724.0                                             357   \n",
       "                    5611.0                                            3445   \n",
       "                    5612.0                                             300   \n",
       "                    5619.0                                             815   \n",
       "                    5621.0                                             320   \n",
       "                    5629.0                                             193   \n",
       "                    5630.0                                             642   \n",
       "\n",
       "                                                          Total Ingresos Netos (459)  \\\n",
       "Actividad_Economica Código Actividad Económica Principal                               \n",
       "Licor               1101.0                                                        31   \n",
       "                    1102.0                                                        18   \n",
       "                    1103.0                                                        12   \n",
       "                    1200.0                                                         6   \n",
       "                    4631.0                                                      1442   \n",
       "                    4632.0                                                       168   \n",
       "                    4711.0                                                      1112   \n",
       "                    4724.0                                                       157   \n",
       "                    5611.0                                                      1998   \n",
       "                    5612.0                                                       220   \n",
       "                    5619.0                                                       398   \n",
       "                    5621.0                                                       176   \n",
       "                    5629.0                                                       112   \n",
       "                    5630.0                                                       292   \n",
       "\n",
       "                                                          RGA IMAS T-Total ingresos netos (748)  \n",
       "Actividad_Economica Código Actividad Económica Principal                                         \n",
       "Licor               1101.0                                                                    0  \n",
       "                    1102.0                                                                    0  \n",
       "                    1103.0                                                                    0  \n",
       "                    1200.0                                                                    0  \n",
       "                    4631.0                                                                   12  \n",
       "                    4632.0                                                                    1  \n",
       "                    4711.0                                                                   63  \n",
       "                    4724.0                                                                    1  \n",
       "                    5611.0                                                                  105  \n",
       "                    5612.0                                                                    1  \n",
       "                    5619.0                                                                   18  \n",
       "                    5621.0                                                                    7  \n",
       "                    5629.0                                                                    2  \n",
       "                    5630.0                                                                   11  "
      ]
     },
     "execution_count": 13,
     "metadata": {},
     "output_type": "execute_result"
    }
   ],
   "source": [
    "reduced_Dian[reduced_Dian['Actividad_Economica']=='Licor'].groupby(['Actividad_Economica', 'Código Actividad Económica Principal']).count()"
   ]
  },
  {
   "cell_type": "code",
   "execution_count": 14,
   "metadata": {},
   "outputs": [
    {
     "data": {
      "text/plain": [
       "6027"
      ]
     },
     "execution_count": 14,
     "metadata": {},
     "output_type": "execute_result"
    }
   ],
   "source": [
    "len(reduced_Dian[\"Número Nit\"].unique())"
   ]
  },
  {
   "cell_type": "code",
   "execution_count": 15,
   "metadata": {},
   "outputs": [],
   "source": [
    "reduced_Municipios = MunicipiosC[['Actividad_Economica', 'NIT', 'FEC-RENOVACION', 'ULT_REN', \n",
    "                                  'VLR-ESTABLEC.', 'DIRECCION', 'BARRIO', 'MUNICIPIO_Clean', 'COD_MUNICIPIO']]\n",
    "reduced_Municipios = reduced_Municipios[ reduced_Municipios['NIT'].notnull()]"
   ]
  },
  {
   "cell_type": "code",
   "execution_count": 16,
   "metadata": {},
   "outputs": [],
   "source": [
    "#reduced_Dian = reduced_Dian.\\\n",
    "#    rename(columns={'Número Nit': 'NIT',  'Código Municipio': 'COD_MUNICIPIO'})"
   ]
  },
  {
   "cell_type": "code",
   "execution_count": 17,
   "metadata": {},
   "outputs": [
    {
     "data": {
      "text/html": [
       "<div>\n",
       "<style scoped>\n",
       "    .dataframe tbody tr th:only-of-type {\n",
       "        vertical-align: middle;\n",
       "    }\n",
       "\n",
       "    .dataframe tbody tr th {\n",
       "        vertical-align: top;\n",
       "    }\n",
       "\n",
       "    .dataframe thead th {\n",
       "        text-align: right;\n",
       "    }\n",
       "</style>\n",
       "<table border=\"1\" class=\"dataframe\">\n",
       "  <thead>\n",
       "    <tr style=\"text-align: right;\">\n",
       "      <th></th>\n",
       "      <th>Actividad_Economica</th>\n",
       "      <th>NIT</th>\n",
       "      <th>FEC-RENOVACION</th>\n",
       "      <th>ULT_REN</th>\n",
       "      <th>VLR-ESTABLEC.</th>\n",
       "      <th>DIRECCION</th>\n",
       "      <th>BARRIO</th>\n",
       "      <th>MUNICIPIO_Clean</th>\n",
       "      <th>COD_MUNICIPIO</th>\n",
       "    </tr>\n",
       "  </thead>\n",
       "  <tbody>\n",
       "    <tr>\n",
       "      <th>0</th>\n",
       "      <td>Deporte</td>\n",
       "      <td>hhh#et&amp;&amp;#&amp;r</td>\n",
       "      <td>20200313.0</td>\n",
       "      <td>2020.0</td>\n",
       "      <td>NaN</td>\n",
       "      <td>CR 2 NRO 7-50</td>\n",
       "      <td>NaN</td>\n",
       "      <td>El cairo</td>\n",
       "      <td>76246.0</td>\n",
       "    </tr>\n",
       "    <tr>\n",
       "      <th>1</th>\n",
       "      <td>Deporte</td>\n",
       "      <td>hterbe3#t((</td>\n",
       "      <td>20200206.0</td>\n",
       "      <td>2020.0</td>\n",
       "      <td>NaN</td>\n",
       "      <td>CR 22 NRO 8-71</td>\n",
       "      <td>00051 - BARRIO  EL CIPRES\\t\\t\\t</td>\n",
       "      <td>Cartago</td>\n",
       "      <td>76147.0</td>\n",
       "    </tr>\n",
       "    <tr>\n",
       "      <th>2</th>\n",
       "      <td>Deporte</td>\n",
       "      <td>htt&amp;:er#rh:</td>\n",
       "      <td>20200130.0</td>\n",
       "      <td>2020.0</td>\n",
       "      <td>NaN</td>\n",
       "      <td>CL 12 NRO 5-67</td>\n",
       "      <td>00050 - BARRIO  EL CENTRO\\t\\t\\t</td>\n",
       "      <td>Cartago</td>\n",
       "      <td>76147.0</td>\n",
       "    </tr>\n",
       "    <tr>\n",
       "      <th>4</th>\n",
       "      <td>Deporte</td>\n",
       "      <td>h:((#t:&amp;3</td>\n",
       "      <td>20191004.0</td>\n",
       "      <td>2019.0</td>\n",
       "      <td>NaN</td>\n",
       "      <td>KM 4 ROLDANILLO VIA LA UNION</td>\n",
       "      <td>00025 - BARRIO  EL REY</td>\n",
       "      <td>Roldanillo</td>\n",
       "      <td>76622.0</td>\n",
       "    </tr>\n",
       "    <tr>\n",
       "      <th>5</th>\n",
       "      <td>Deporte</td>\n",
       "      <td>&amp;hht3bhr&amp;</td>\n",
       "      <td>20200205.0</td>\n",
       "      <td>2020.0</td>\n",
       "      <td>NaN</td>\n",
       "      <td>CR 6 NRO. 11-52</td>\n",
       "      <td>00050 - BARRIO  EL CENTRO\\t\\t\\t</td>\n",
       "      <td>Cartago</td>\n",
       "      <td>76147.0</td>\n",
       "    </tr>\n",
       "    <tr>\n",
       "      <th>...</th>\n",
       "      <td>...</td>\n",
       "      <td>...</td>\n",
       "      <td>...</td>\n",
       "      <td>...</td>\n",
       "      <td>...</td>\n",
       "      <td>...</td>\n",
       "      <td>...</td>\n",
       "      <td>...</td>\n",
       "      <td>...</td>\n",
       "    </tr>\n",
       "    <tr>\n",
       "      <th>6829</th>\n",
       "      <td>Licor</td>\n",
       "      <td>ett&amp;&amp;b:bb</td>\n",
       "      <td>NaN</td>\n",
       "      <td>NaN</td>\n",
       "      <td>NaN</td>\n",
       "      <td>FINCA LA CASITA KM 18 VIAL AL MAR CORREGIMIENT...</td>\n",
       "      <td>NaN</td>\n",
       "      <td>Cali</td>\n",
       "      <td>NaN</td>\n",
       "    </tr>\n",
       "    <tr>\n",
       "      <th>6830</th>\n",
       "      <td>Licor</td>\n",
       "      <td>bh#(hetb</td>\n",
       "      <td>NaN</td>\n",
       "      <td>NaN</td>\n",
       "      <td>NaN</td>\n",
       "      <td>CL 23 AN # 5 AN  - 37</td>\n",
       "      <td>Versalles</td>\n",
       "      <td>Cali</td>\n",
       "      <td>NaN</td>\n",
       "    </tr>\n",
       "    <tr>\n",
       "      <th>6831</th>\n",
       "      <td>Licor</td>\n",
       "      <td>b33r#th(</td>\n",
       "      <td>NaN</td>\n",
       "      <td>NaN</td>\n",
       "      <td>NaN</td>\n",
       "      <td>KR 2 A # 7 OESTE  - 30</td>\n",
       "      <td>Arboledas</td>\n",
       "      <td>Cali</td>\n",
       "      <td>NaN</td>\n",
       "    </tr>\n",
       "    <tr>\n",
       "      <th>6832</th>\n",
       "      <td>Licor</td>\n",
       "      <td>b33r#th(</td>\n",
       "      <td>NaN</td>\n",
       "      <td>NaN</td>\n",
       "      <td>NaN</td>\n",
       "      <td>KR 2 A # 7 OESTE  - 30</td>\n",
       "      <td>Arboledas</td>\n",
       "      <td>Cali</td>\n",
       "      <td>NaN</td>\n",
       "    </tr>\n",
       "    <tr>\n",
       "      <th>6833</th>\n",
       "      <td>Licor</td>\n",
       "      <td>ethb3&amp;ete</td>\n",
       "      <td>NaN</td>\n",
       "      <td>NaN</td>\n",
       "      <td>NaN</td>\n",
       "      <td>CR 101   13    15 OF 701 A</td>\n",
       "      <td>Urbanizacion Ciudad Jadin</td>\n",
       "      <td>Cali</td>\n",
       "      <td>NaN</td>\n",
       "    </tr>\n",
       "  </tbody>\n",
       "</table>\n",
       "<p>5150 rows × 9 columns</p>\n",
       "</div>"
      ],
      "text/plain": [
       "     Actividad_Economica          NIT  FEC-RENOVACION  ULT_REN  VLR-ESTABLEC.  \\\n",
       "0                Deporte  hhh#et&&#&r      20200313.0   2020.0            NaN   \n",
       "1                Deporte  hterbe3#t((      20200206.0   2020.0            NaN   \n",
       "2                Deporte  htt&:er#rh:      20200130.0   2020.0            NaN   \n",
       "4                Deporte    h:((#t:&3      20191004.0   2019.0            NaN   \n",
       "5                Deporte    &hht3bhr&      20200205.0   2020.0            NaN   \n",
       "...                  ...          ...             ...      ...            ...   \n",
       "6829               Licor    ett&&b:bb             NaN      NaN            NaN   \n",
       "6830               Licor     bh#(hetb             NaN      NaN            NaN   \n",
       "6831               Licor     b33r#th(             NaN      NaN            NaN   \n",
       "6832               Licor     b33r#th(             NaN      NaN            NaN   \n",
       "6833               Licor    ethb3&ete             NaN      NaN            NaN   \n",
       "\n",
       "                                              DIRECCION  \\\n",
       "0                                         CR 2 NRO 7-50   \n",
       "1                                        CR 22 NRO 8-71   \n",
       "2                                        CL 12 NRO 5-67   \n",
       "4                          KM 4 ROLDANILLO VIA LA UNION   \n",
       "5                                       CR 6 NRO. 11-52   \n",
       "...                                                 ...   \n",
       "6829  FINCA LA CASITA KM 18 VIAL AL MAR CORREGIMIENT...   \n",
       "6830                              CL 23 AN # 5 AN  - 37   \n",
       "6831                             KR 2 A # 7 OESTE  - 30   \n",
       "6832                             KR 2 A # 7 OESTE  - 30   \n",
       "6833                         CR 101   13    15 OF 701 A   \n",
       "\n",
       "                               BARRIO MUNICIPIO_Clean  COD_MUNICIPIO  \n",
       "0                                 NaN        El cairo        76246.0  \n",
       "1     00051 - BARRIO  EL CIPRES\\t\\t\\t         Cartago        76147.0  \n",
       "2     00050 - BARRIO  EL CENTRO\\t\\t\\t         Cartago        76147.0  \n",
       "4              00025 - BARRIO  EL REY      Roldanillo        76622.0  \n",
       "5     00050 - BARRIO  EL CENTRO\\t\\t\\t         Cartago        76147.0  \n",
       "...                               ...             ...            ...  \n",
       "6829                              NaN            Cali            NaN  \n",
       "6830                        Versalles            Cali            NaN  \n",
       "6831                        Arboledas            Cali            NaN  \n",
       "6832                        Arboledas            Cali            NaN  \n",
       "6833        Urbanizacion Ciudad Jadin            Cali            NaN  \n",
       "\n",
       "[5150 rows x 9 columns]"
      ]
     },
     "execution_count": 17,
     "metadata": {},
     "output_type": "execute_result"
    }
   ],
   "source": [
    "reduced_Municipios['NIT'] = reduced_Municipios['NIT'].astype(str).str.strip()\n",
    "reduced_Municipios = reduced_Municipios[ reduced_Municipios['NIT'].notnull()]\n",
    "reduced_Municipios"
   ]
  },
  {
   "cell_type": "code",
   "execution_count": 18,
   "metadata": {},
   "outputs": [
    {
     "data": {
      "text/plain": [
       "4470"
      ]
     },
     "execution_count": 18,
     "metadata": {},
     "output_type": "execute_result"
    }
   ],
   "source": [
    "reduced_Municipios2=reduced_Municipios.copy()\n",
    "#reduced_Municipios2[[\"COD_MUNICIPIO\",\"MUNICIPIO_CLEAN\"]]=reduced_Municipios2[\"MUNICIPIO\"].str.split(pat=\"-\",expand=True)\n",
    "#reduced_Municipios2[\"MUNICIPIO_CLEAN\"]=reduced_Municipios2[\"MUNICIPIO_CLEAN\"].str.strip()\n",
    "\n",
    "reduced_Municipios2.head()\n",
    "len(reduced_Municipios2[\"NIT\"].unique())"
   ]
  },
  {
   "cell_type": "code",
   "execution_count": 19,
   "metadata": {},
   "outputs": [],
   "source": [
    "#Mun_Dian = pd.concat([reduced_Municipios2, reduced_Dian], sort=False)\n",
    "Mun_Dian = pd.merge(reduced_Municipios2, reduced_Dian, how = 'outer', left_on =['NIT', 'Actividad_Economica'], right_on = ['Número Nit', 'Actividad_Economica'] )"
   ]
  },
  {
   "cell_type": "code",
   "execution_count": 20,
   "metadata": {},
   "outputs": [
    {
     "data": {
      "text/html": [
       "<div>\n",
       "<style scoped>\n",
       "    .dataframe tbody tr th:only-of-type {\n",
       "        vertical-align: middle;\n",
       "    }\n",
       "\n",
       "    .dataframe tbody tr th {\n",
       "        vertical-align: top;\n",
       "    }\n",
       "\n",
       "    .dataframe thead th {\n",
       "        text-align: right;\n",
       "    }\n",
       "</style>\n",
       "<table border=\"1\" class=\"dataframe\">\n",
       "  <thead>\n",
       "    <tr style=\"text-align: right;\">\n",
       "      <th></th>\n",
       "      <th>Actividad_Economica</th>\n",
       "      <th>NIT</th>\n",
       "      <th>FEC-RENOVACION</th>\n",
       "      <th>ULT_REN</th>\n",
       "      <th>VLR-ESTABLEC.</th>\n",
       "      <th>DIRECCION</th>\n",
       "      <th>BARRIO</th>\n",
       "      <th>MUNICIPIO_Clean</th>\n",
       "      <th>COD_MUNICIPIO</th>\n",
       "      <th>Año Gravable</th>\n",
       "      <th>Número Nit</th>\n",
       "      <th>Código Departamento</th>\n",
       "      <th>Código Municipio</th>\n",
       "      <th>Código Actividad Económica Principal</th>\n",
       "      <th>Total Ingresos Netos (459)</th>\n",
       "      <th>RGA IMAS T-Total ingresos netos (748)</th>\n",
       "    </tr>\n",
       "  </thead>\n",
       "  <tbody>\n",
       "    <tr>\n",
       "      <th>0</th>\n",
       "      <td>Deporte</td>\n",
       "      <td>hhh#et&amp;&amp;#&amp;r</td>\n",
       "      <td>20200313.0</td>\n",
       "      <td>2020.0</td>\n",
       "      <td>NaN</td>\n",
       "      <td>CR 2 NRO 7-50</td>\n",
       "      <td>NaN</td>\n",
       "      <td>El cairo</td>\n",
       "      <td>76246.0</td>\n",
       "      <td>NaN</td>\n",
       "      <td>NaN</td>\n",
       "      <td>NaN</td>\n",
       "      <td>NaN</td>\n",
       "      <td>NaN</td>\n",
       "      <td>NaN</td>\n",
       "      <td>NaN</td>\n",
       "    </tr>\n",
       "    <tr>\n",
       "      <th>1</th>\n",
       "      <td>Deporte</td>\n",
       "      <td>hterbe3#t((</td>\n",
       "      <td>20200206.0</td>\n",
       "      <td>2020.0</td>\n",
       "      <td>NaN</td>\n",
       "      <td>CR 22 NRO 8-71</td>\n",
       "      <td>00051 - BARRIO  EL CIPRES\\t\\t\\t</td>\n",
       "      <td>Cartago</td>\n",
       "      <td>76147.0</td>\n",
       "      <td>NaN</td>\n",
       "      <td>NaN</td>\n",
       "      <td>NaN</td>\n",
       "      <td>NaN</td>\n",
       "      <td>NaN</td>\n",
       "      <td>NaN</td>\n",
       "      <td>NaN</td>\n",
       "    </tr>\n",
       "    <tr>\n",
       "      <th>2</th>\n",
       "      <td>Deporte</td>\n",
       "      <td>htt&amp;:er#rh:</td>\n",
       "      <td>20200130.0</td>\n",
       "      <td>2020.0</td>\n",
       "      <td>NaN</td>\n",
       "      <td>CL 12 NRO 5-67</td>\n",
       "      <td>00050 - BARRIO  EL CENTRO\\t\\t\\t</td>\n",
       "      <td>Cartago</td>\n",
       "      <td>76147.0</td>\n",
       "      <td>NaN</td>\n",
       "      <td>NaN</td>\n",
       "      <td>NaN</td>\n",
       "      <td>NaN</td>\n",
       "      <td>NaN</td>\n",
       "      <td>NaN</td>\n",
       "      <td>NaN</td>\n",
       "    </tr>\n",
       "    <tr>\n",
       "      <th>3</th>\n",
       "      <td>Deporte</td>\n",
       "      <td>h:((#t:&amp;3</td>\n",
       "      <td>20191004.0</td>\n",
       "      <td>2019.0</td>\n",
       "      <td>NaN</td>\n",
       "      <td>KM 4 ROLDANILLO VIA LA UNION</td>\n",
       "      <td>00025 - BARRIO  EL REY</td>\n",
       "      <td>Roldanillo</td>\n",
       "      <td>76622.0</td>\n",
       "      <td>NaN</td>\n",
       "      <td>NaN</td>\n",
       "      <td>NaN</td>\n",
       "      <td>NaN</td>\n",
       "      <td>NaN</td>\n",
       "      <td>NaN</td>\n",
       "      <td>NaN</td>\n",
       "    </tr>\n",
       "    <tr>\n",
       "      <th>4</th>\n",
       "      <td>Deporte</td>\n",
       "      <td>&amp;hht3bhr&amp;</td>\n",
       "      <td>20200205.0</td>\n",
       "      <td>2020.0</td>\n",
       "      <td>NaN</td>\n",
       "      <td>CR 6 NRO. 11-52</td>\n",
       "      <td>00050 - BARRIO  EL CENTRO\\t\\t\\t</td>\n",
       "      <td>Cartago</td>\n",
       "      <td>76147.0</td>\n",
       "      <td>NaN</td>\n",
       "      <td>NaN</td>\n",
       "      <td>NaN</td>\n",
       "      <td>NaN</td>\n",
       "      <td>NaN</td>\n",
       "      <td>NaN</td>\n",
       "      <td>NaN</td>\n",
       "    </tr>\n",
       "    <tr>\n",
       "      <th>...</th>\n",
       "      <td>...</td>\n",
       "      <td>...</td>\n",
       "      <td>...</td>\n",
       "      <td>...</td>\n",
       "      <td>...</td>\n",
       "      <td>...</td>\n",
       "      <td>...</td>\n",
       "      <td>...</td>\n",
       "      <td>...</td>\n",
       "      <td>...</td>\n",
       "      <td>...</td>\n",
       "      <td>...</td>\n",
       "      <td>...</td>\n",
       "      <td>...</td>\n",
       "      <td>...</td>\n",
       "      <td>...</td>\n",
       "    </tr>\n",
       "    <tr>\n",
       "      <th>16275</th>\n",
       "      <td>Licor</td>\n",
       "      <td>NaN</td>\n",
       "      <td>NaN</td>\n",
       "      <td>NaN</td>\n",
       "      <td>NaN</td>\n",
       "      <td>NaN</td>\n",
       "      <td>NaN</td>\n",
       "      <td>NaN</td>\n",
       "      <td>NaN</td>\n",
       "      <td>2018.0</td>\n",
       "      <td>BhBr33:t</td>\n",
       "      <td>76.0</td>\n",
       "      <td>76001.0</td>\n",
       "      <td>5621.0</td>\n",
       "      <td>NaN</td>\n",
       "      <td>NaN</td>\n",
       "    </tr>\n",
       "    <tr>\n",
       "      <th>16276</th>\n",
       "      <td>Licor</td>\n",
       "      <td>NaN</td>\n",
       "      <td>NaN</td>\n",
       "      <td>NaN</td>\n",
       "      <td>NaN</td>\n",
       "      <td>NaN</td>\n",
       "      <td>NaN</td>\n",
       "      <td>NaN</td>\n",
       "      <td>NaN</td>\n",
       "      <td>2018.0</td>\n",
       "      <td>hh#h3#BBr&amp;</td>\n",
       "      <td>76.0</td>\n",
       "      <td>76001.0</td>\n",
       "      <td>4711.0</td>\n",
       "      <td>NaN</td>\n",
       "      <td>NaN</td>\n",
       "    </tr>\n",
       "    <tr>\n",
       "      <th>16277</th>\n",
       "      <td>Licor</td>\n",
       "      <td>NaN</td>\n",
       "      <td>NaN</td>\n",
       "      <td>NaN</td>\n",
       "      <td>NaN</td>\n",
       "      <td>NaN</td>\n",
       "      <td>NaN</td>\n",
       "      <td>NaN</td>\n",
       "      <td>NaN</td>\n",
       "      <td>2018.0</td>\n",
       "      <td>B3e3&amp;&amp;&amp;h</td>\n",
       "      <td>76.0</td>\n",
       "      <td>76001.0</td>\n",
       "      <td>5611.0</td>\n",
       "      <td>NaN</td>\n",
       "      <td>NaN</td>\n",
       "    </tr>\n",
       "    <tr>\n",
       "      <th>16278</th>\n",
       "      <td>Licor</td>\n",
       "      <td>NaN</td>\n",
       "      <td>NaN</td>\n",
       "      <td>NaN</td>\n",
       "      <td>NaN</td>\n",
       "      <td>NaN</td>\n",
       "      <td>NaN</td>\n",
       "      <td>NaN</td>\n",
       "      <td>NaN</td>\n",
       "      <td>2018.0</td>\n",
       "      <td>&amp;#h#Bt(B</td>\n",
       "      <td>76.0</td>\n",
       "      <td>76001.0</td>\n",
       "      <td>5611.0</td>\n",
       "      <td>NaN</td>\n",
       "      <td>NaN</td>\n",
       "    </tr>\n",
       "    <tr>\n",
       "      <th>16279</th>\n",
       "      <td>Licor</td>\n",
       "      <td>NaN</td>\n",
       "      <td>NaN</td>\n",
       "      <td>NaN</td>\n",
       "      <td>NaN</td>\n",
       "      <td>NaN</td>\n",
       "      <td>NaN</td>\n",
       "      <td>NaN</td>\n",
       "      <td>NaN</td>\n",
       "      <td>2018.0</td>\n",
       "      <td>:#h(t(#</td>\n",
       "      <td>76.0</td>\n",
       "      <td>76001.0</td>\n",
       "      <td>4711.0</td>\n",
       "      <td>NaN</td>\n",
       "      <td>NaN</td>\n",
       "    </tr>\n",
       "  </tbody>\n",
       "</table>\n",
       "<p>16280 rows × 16 columns</p>\n",
       "</div>"
      ],
      "text/plain": [
       "      Actividad_Economica          NIT  FEC-RENOVACION  ULT_REN  \\\n",
       "0                 Deporte  hhh#et&&#&r      20200313.0   2020.0   \n",
       "1                 Deporte  hterbe3#t((      20200206.0   2020.0   \n",
       "2                 Deporte  htt&:er#rh:      20200130.0   2020.0   \n",
       "3                 Deporte    h:((#t:&3      20191004.0   2019.0   \n",
       "4                 Deporte    &hht3bhr&      20200205.0   2020.0   \n",
       "...                   ...          ...             ...      ...   \n",
       "16275               Licor          NaN             NaN      NaN   \n",
       "16276               Licor          NaN             NaN      NaN   \n",
       "16277               Licor          NaN             NaN      NaN   \n",
       "16278               Licor          NaN             NaN      NaN   \n",
       "16279               Licor          NaN             NaN      NaN   \n",
       "\n",
       "       VLR-ESTABLEC.                     DIRECCION  \\\n",
       "0                NaN                 CR 2 NRO 7-50   \n",
       "1                NaN                CR 22 NRO 8-71   \n",
       "2                NaN                CL 12 NRO 5-67   \n",
       "3                NaN  KM 4 ROLDANILLO VIA LA UNION   \n",
       "4                NaN               CR 6 NRO. 11-52   \n",
       "...              ...                           ...   \n",
       "16275            NaN                           NaN   \n",
       "16276            NaN                           NaN   \n",
       "16277            NaN                           NaN   \n",
       "16278            NaN                           NaN   \n",
       "16279            NaN                           NaN   \n",
       "\n",
       "                                BARRIO MUNICIPIO_Clean  COD_MUNICIPIO  \\\n",
       "0                                  NaN        El cairo        76246.0   \n",
       "1      00051 - BARRIO  EL CIPRES\\t\\t\\t         Cartago        76147.0   \n",
       "2      00050 - BARRIO  EL CENTRO\\t\\t\\t         Cartago        76147.0   \n",
       "3               00025 - BARRIO  EL REY      Roldanillo        76622.0   \n",
       "4      00050 - BARRIO  EL CENTRO\\t\\t\\t         Cartago        76147.0   \n",
       "...                                ...             ...            ...   \n",
       "16275                              NaN             NaN            NaN   \n",
       "16276                              NaN             NaN            NaN   \n",
       "16277                              NaN             NaN            NaN   \n",
       "16278                              NaN             NaN            NaN   \n",
       "16279                              NaN             NaN            NaN   \n",
       "\n",
       "       Año Gravable  Número Nit  Código Departamento  Código Municipio  \\\n",
       "0               NaN         NaN                  NaN               NaN   \n",
       "1               NaN         NaN                  NaN               NaN   \n",
       "2               NaN         NaN                  NaN               NaN   \n",
       "3               NaN         NaN                  NaN               NaN   \n",
       "4               NaN         NaN                  NaN               NaN   \n",
       "...             ...         ...                  ...               ...   \n",
       "16275        2018.0    BhBr33:t                 76.0           76001.0   \n",
       "16276        2018.0  hh#h3#BBr&                 76.0           76001.0   \n",
       "16277        2018.0    B3e3&&&h                 76.0           76001.0   \n",
       "16278        2018.0    &#h#Bt(B                 76.0           76001.0   \n",
       "16279        2018.0     :#h(t(#                 76.0           76001.0   \n",
       "\n",
       "       Código Actividad Económica Principal  Total Ingresos Netos (459)  \\\n",
       "0                                       NaN                         NaN   \n",
       "1                                       NaN                         NaN   \n",
       "2                                       NaN                         NaN   \n",
       "3                                       NaN                         NaN   \n",
       "4                                       NaN                         NaN   \n",
       "...                                     ...                         ...   \n",
       "16275                                5621.0                         NaN   \n",
       "16276                                4711.0                         NaN   \n",
       "16277                                5611.0                         NaN   \n",
       "16278                                5611.0                         NaN   \n",
       "16279                                4711.0                         NaN   \n",
       "\n",
       "       RGA IMAS T-Total ingresos netos (748)  \n",
       "0                                        NaN  \n",
       "1                                        NaN  \n",
       "2                                        NaN  \n",
       "3                                        NaN  \n",
       "4                                        NaN  \n",
       "...                                      ...  \n",
       "16275                                    NaN  \n",
       "16276                                    NaN  \n",
       "16277                                    NaN  \n",
       "16278                                    NaN  \n",
       "16279                                    NaN  \n",
       "\n",
       "[16280 rows x 16 columns]"
      ]
     },
     "execution_count": 20,
     "metadata": {},
     "output_type": "execute_result"
    }
   ],
   "source": [
    "Mun_Dian"
   ]
  },
  {
   "cell_type": "code",
   "execution_count": 21,
   "metadata": {},
   "outputs": [
    {
     "data": {
      "text/plain": [
       "(16280, 16)"
      ]
     },
     "execution_count": 21,
     "metadata": {},
     "output_type": "execute_result"
    }
   ],
   "source": [
    "Mun_Dian.shape"
   ]
  },
  {
   "cell_type": "code",
   "execution_count": 22,
   "metadata": {},
   "outputs": [
    {
     "data": {
      "text/html": [
       "<div>\n",
       "<style scoped>\n",
       "    .dataframe tbody tr th:only-of-type {\n",
       "        vertical-align: middle;\n",
       "    }\n",
       "\n",
       "    .dataframe tbody tr th {\n",
       "        vertical-align: top;\n",
       "    }\n",
       "\n",
       "    .dataframe thead th {\n",
       "        text-align: right;\n",
       "    }\n",
       "</style>\n",
       "<table border=\"1\" class=\"dataframe\">\n",
       "  <thead>\n",
       "    <tr style=\"text-align: right;\">\n",
       "      <th></th>\n",
       "      <th></th>\n",
       "      <th>NIT</th>\n",
       "    </tr>\n",
       "    <tr>\n",
       "      <th>Actividad_Economica</th>\n",
       "      <th>Año Gravable</th>\n",
       "      <th></th>\n",
       "    </tr>\n",
       "  </thead>\n",
       "  <tbody>\n",
       "    <tr>\n",
       "      <th rowspan=\"4\" valign=\"top\">Deporte</th>\n",
       "      <th>2016.0</th>\n",
       "      <td>84</td>\n",
       "    </tr>\n",
       "    <tr>\n",
       "      <th>2017.0</th>\n",
       "      <td>69</td>\n",
       "    </tr>\n",
       "    <tr>\n",
       "      <th>2018.0</th>\n",
       "      <td>68</td>\n",
       "    </tr>\n",
       "    <tr>\n",
       "      <th>2019.0</th>\n",
       "      <td>55</td>\n",
       "    </tr>\n",
       "    <tr>\n",
       "      <th rowspan=\"5\" valign=\"top\">Licor</th>\n",
       "      <th>2016.0</th>\n",
       "      <td>34</td>\n",
       "    </tr>\n",
       "    <tr>\n",
       "      <th>2017.0</th>\n",
       "      <td>35</td>\n",
       "    </tr>\n",
       "    <tr>\n",
       "      <th>2018.0</th>\n",
       "      <td>57</td>\n",
       "    </tr>\n",
       "    <tr>\n",
       "      <th>2019.0</th>\n",
       "      <td>46</td>\n",
       "    </tr>\n",
       "    <tr>\n",
       "      <th>2020.0</th>\n",
       "      <td>0</td>\n",
       "    </tr>\n",
       "    <tr>\n",
       "      <th rowspan=\"4\" valign=\"top\">Loterias</th>\n",
       "      <th>2016.0</th>\n",
       "      <td>43</td>\n",
       "    </tr>\n",
       "    <tr>\n",
       "      <th>2017.0</th>\n",
       "      <td>42</td>\n",
       "    </tr>\n",
       "    <tr>\n",
       "      <th>2018.0</th>\n",
       "      <td>47</td>\n",
       "    </tr>\n",
       "    <tr>\n",
       "      <th>2019.0</th>\n",
       "      <td>39</td>\n",
       "    </tr>\n",
       "  </tbody>\n",
       "</table>\n",
       "</div>"
      ],
      "text/plain": [
       "                                  NIT\n",
       "Actividad_Economica Año Gravable     \n",
       "Deporte             2016.0         84\n",
       "                    2017.0         69\n",
       "                    2018.0         68\n",
       "                    2019.0         55\n",
       "Licor               2016.0         34\n",
       "                    2017.0         35\n",
       "                    2018.0         57\n",
       "                    2019.0         46\n",
       "                    2020.0          0\n",
       "Loterias            2016.0         43\n",
       "                    2017.0         42\n",
       "                    2018.0         47\n",
       "                    2019.0         39"
      ]
     },
     "execution_count": 22,
     "metadata": {},
     "output_type": "execute_result"
    }
   ],
   "source": [
    "Mun_Dian[['Actividad_Economica', 'Año Gravable', 'NIT']].groupby(['Actividad_Economica', 'Año Gravable']).count()"
   ]
  },
  {
   "cell_type": "code",
   "execution_count": 23,
   "metadata": {
    "scrolled": true
   },
   "outputs": [
    {
     "data": {
      "text/plain": [
       "Actividad_Economica                      619\n",
       "NIT                                      619\n",
       "FEC-RENOVACION                             0\n",
       "ULT_REN                                    0\n",
       "VLR-ESTABLEC.                             31\n",
       "DIRECCION                                619\n",
       "BARRIO                                   575\n",
       "MUNICIPIO_Clean                          619\n",
       "COD_MUNICIPIO                              0\n",
       "Año Gravable                             619\n",
       "Número Nit                               619\n",
       "Código Departamento                      619\n",
       "Código Municipio                         619\n",
       "Código Actividad Económica Principal     619\n",
       "Total Ingresos Netos (459)               563\n",
       "RGA IMAS T-Total ingresos netos (748)      6\n",
       "NoOmiso                                  619\n",
       "dtype: int64"
      ]
     },
     "execution_count": 23,
     "metadata": {},
     "output_type": "execute_result"
    }
   ],
   "source": [
    "Mun_Dian.loc[Mun_Dian['NIT'] == (Mun_Dian['Número Nit']), 'NoOmiso'] = 1\n",
    "Mun_Dian[Mun_Dian['NoOmiso'] == 1].count()"
   ]
  },
  {
   "cell_type": "code",
   "execution_count": 24,
   "metadata": {
    "scrolled": true
   },
   "outputs": [
    {
     "data": {
      "text/plain": [
       "167"
      ]
     },
     "execution_count": 24,
     "metadata": {},
     "output_type": "execute_result"
    }
   ],
   "source": [
    "Mun_Dian['NoOmiso'] = Mun_Dian['NoOmiso'].fillna(0)\n",
    "len(Mun_Dian[Mun_Dian['NoOmiso'] == 1]['NIT'].unique())"
   ]
  },
  {
   "cell_type": "code",
   "execution_count": 25,
   "metadata": {},
   "outputs": [
    {
     "data": {
      "text/plain": [
       "5861"
      ]
     },
     "execution_count": 25,
     "metadata": {},
     "output_type": "execute_result"
    }
   ],
   "source": [
    "len(Mun_Dian[Mun_Dian['NoOmiso'] == 0]['Número Nit'].unique())"
   ]
  },
  {
   "cell_type": "code",
   "execution_count": 26,
   "metadata": {},
   "outputs": [
    {
     "data": {
      "text/plain": [
       "4330"
      ]
     },
     "execution_count": 26,
     "metadata": {},
     "output_type": "execute_result"
    }
   ],
   "source": [
    "len(Mun_Dian[Mun_Dian['NoOmiso'] == 0]['NIT'].unique())"
   ]
  },
  {
   "cell_type": "code",
   "execution_count": 27,
   "metadata": {
    "scrolled": true
   },
   "outputs": [
    {
     "data": {
      "text/html": [
       "<div>\n",
       "<style scoped>\n",
       "    .dataframe tbody tr th:only-of-type {\n",
       "        vertical-align: middle;\n",
       "    }\n",
       "\n",
       "    .dataframe tbody tr th {\n",
       "        vertical-align: top;\n",
       "    }\n",
       "\n",
       "    .dataframe thead th {\n",
       "        text-align: right;\n",
       "    }\n",
       "</style>\n",
       "<table border=\"1\" class=\"dataframe\">\n",
       "  <thead>\n",
       "    <tr style=\"text-align: right;\">\n",
       "      <th></th>\n",
       "      <th>Actividad_Economica</th>\n",
       "      <th>Año Gravable</th>\n",
       "      <th>NIT</th>\n",
       "    </tr>\n",
       "  </thead>\n",
       "  <tbody>\n",
       "    <tr>\n",
       "      <th>9</th>\n",
       "      <td>Loterias</td>\n",
       "      <td>2016.0</td>\n",
       "      <td>43</td>\n",
       "    </tr>\n",
       "    <tr>\n",
       "      <th>10</th>\n",
       "      <td>Loterias</td>\n",
       "      <td>2017.0</td>\n",
       "      <td>42</td>\n",
       "    </tr>\n",
       "    <tr>\n",
       "      <th>11</th>\n",
       "      <td>Loterias</td>\n",
       "      <td>2018.0</td>\n",
       "      <td>47</td>\n",
       "    </tr>\n",
       "    <tr>\n",
       "      <th>12</th>\n",
       "      <td>Loterias</td>\n",
       "      <td>2019.0</td>\n",
       "      <td>39</td>\n",
       "    </tr>\n",
       "    <tr>\n",
       "      <th>4</th>\n",
       "      <td>Licor</td>\n",
       "      <td>2016.0</td>\n",
       "      <td>34</td>\n",
       "    </tr>\n",
       "    <tr>\n",
       "      <th>5</th>\n",
       "      <td>Licor</td>\n",
       "      <td>2017.0</td>\n",
       "      <td>35</td>\n",
       "    </tr>\n",
       "    <tr>\n",
       "      <th>6</th>\n",
       "      <td>Licor</td>\n",
       "      <td>2018.0</td>\n",
       "      <td>57</td>\n",
       "    </tr>\n",
       "    <tr>\n",
       "      <th>7</th>\n",
       "      <td>Licor</td>\n",
       "      <td>2019.0</td>\n",
       "      <td>46</td>\n",
       "    </tr>\n",
       "    <tr>\n",
       "      <th>8</th>\n",
       "      <td>Licor</td>\n",
       "      <td>2020.0</td>\n",
       "      <td>0</td>\n",
       "    </tr>\n",
       "    <tr>\n",
       "      <th>0</th>\n",
       "      <td>Deporte</td>\n",
       "      <td>2016.0</td>\n",
       "      <td>84</td>\n",
       "    </tr>\n",
       "    <tr>\n",
       "      <th>1</th>\n",
       "      <td>Deporte</td>\n",
       "      <td>2017.0</td>\n",
       "      <td>69</td>\n",
       "    </tr>\n",
       "    <tr>\n",
       "      <th>2</th>\n",
       "      <td>Deporte</td>\n",
       "      <td>2018.0</td>\n",
       "      <td>68</td>\n",
       "    </tr>\n",
       "    <tr>\n",
       "      <th>3</th>\n",
       "      <td>Deporte</td>\n",
       "      <td>2019.0</td>\n",
       "      <td>55</td>\n",
       "    </tr>\n",
       "  </tbody>\n",
       "</table>\n",
       "</div>"
      ],
      "text/plain": [
       "   Actividad_Economica  Año Gravable  NIT\n",
       "9             Loterias        2016.0   43\n",
       "10            Loterias        2017.0   42\n",
       "11            Loterias        2018.0   47\n",
       "12            Loterias        2019.0   39\n",
       "4                Licor        2016.0   34\n",
       "5                Licor        2017.0   35\n",
       "6                Licor        2018.0   57\n",
       "7                Licor        2019.0   46\n",
       "8                Licor        2020.0    0\n",
       "0              Deporte        2016.0   84\n",
       "1              Deporte        2017.0   69\n",
       "2              Deporte        2018.0   68\n",
       "3              Deporte        2019.0   55"
      ]
     },
     "execution_count": 27,
     "metadata": {},
     "output_type": "execute_result"
    }
   ],
   "source": [
    "Mun_Dian[['Actividad_Economica', 'NIT', 'Año Gravable']].groupby(['Actividad_Economica', 'Año Gravable']).count().reset_index().sort_values('Actividad_Economica', ascending =False)"
   ]
  },
  {
   "cell_type": "code",
   "execution_count": 28,
   "metadata": {},
   "outputs": [
    {
     "data": {
      "text/html": [
       "<div>\n",
       "<style scoped>\n",
       "    .dataframe tbody tr th:only-of-type {\n",
       "        vertical-align: middle;\n",
       "    }\n",
       "\n",
       "    .dataframe tbody tr th {\n",
       "        vertical-align: top;\n",
       "    }\n",
       "\n",
       "    .dataframe thead th {\n",
       "        text-align: right;\n",
       "    }\n",
       "</style>\n",
       "<table border=\"1\" class=\"dataframe\">\n",
       "  <thead>\n",
       "    <tr style=\"text-align: right;\">\n",
       "      <th></th>\n",
       "      <th>Número Nit</th>\n",
       "    </tr>\n",
       "    <tr>\n",
       "      <th>Actividad_Economica</th>\n",
       "      <th></th>\n",
       "    </tr>\n",
       "  </thead>\n",
       "  <tbody>\n",
       "    <tr>\n",
       "      <th>Deporte</th>\n",
       "      <td>276</td>\n",
       "    </tr>\n",
       "    <tr>\n",
       "      <th>Licor</th>\n",
       "      <td>172</td>\n",
       "    </tr>\n",
       "    <tr>\n",
       "      <th>Loterias</th>\n",
       "      <td>171</td>\n",
       "    </tr>\n",
       "  </tbody>\n",
       "</table>\n",
       "</div>"
      ],
      "text/plain": [
       "                     Número Nit\n",
       "Actividad_Economica            \n",
       "Deporte                     276\n",
       "Licor                       172\n",
       "Loterias                    171"
      ]
     },
     "execution_count": 28,
     "metadata": {},
     "output_type": "execute_result"
    }
   ],
   "source": [
    "#No Omisos por actividad Economica\n",
    "Mun_Dian[Mun_Dian['NoOmiso'] == 1][['Actividad_Economica', 'Número Nit']].groupby(['Actividad_Economica']).count()"
   ]
  },
  {
   "cell_type": "code",
   "execution_count": 29,
   "metadata": {},
   "outputs": [],
   "source": [
    "Mun_Dian.to_csv('Merge_Municipios_Dian.csv', index=False)"
   ]
  },
  {
   "cell_type": "code",
   "execution_count": 30,
   "metadata": {},
   "outputs": [],
   "source": [
    "#Mun_Dian[['Actividad_Economica', 'NIT', 'Año Gravable']].groupby(['Actividad_Economica', 'Año Gravable']).count().reset_index().sort_values('Actividad_Economica', ascending =False)"
   ]
  },
  {
   "cell_type": "code",
   "execution_count": 31,
   "metadata": {},
   "outputs": [],
   "source": [
    "df_DECLARACIONNaleImportado2015al2019AM = pd.read_excel(r\"DECLARACION Nal e Importado 2015 al 2019  AM.xlsx\", skiprows=5)\n",
    "df_Licores = df_DECLARACIONNaleImportado2015al2019AM.dropna(how=\"all\",axis=1)"
   ]
  },
  {
   "cell_type": "code",
   "execution_count": 32,
   "metadata": {
    "scrolled": true
   },
   "outputs": [
    {
     "data": {
      "text/plain": [
       "Index(['año', 'CODIGO', 'ORIGEN', 'NOMB_PRO', 'TIPO_PRODCUTO', 'NIT', 'CLASE',\n",
       "       'TIPO', 'UNIDADES', 'PRESENTACION', 'GRADOS', 'IMPUESTO_DECLARADO',\n",
       "       'IMPUESTO_PARTICIPACION', 'UNIDADES_CAPACIDAD', 'IMPUESTO_REENVIADO',\n",
       "       'UNIDADES_REENVIOS_CAPACIDAD', 'UNIDAD_CONVERTIDAS',\n",
       "       'SOBRETASA_DECLARADA', 'UNIDADES_REENVIOS_CONVERTIDAS',\n",
       "       'SOBRETASA_REENVIADA', ' CODI_DANE '],\n",
       "      dtype='object')"
      ]
     },
     "execution_count": 32,
     "metadata": {},
     "output_type": "execute_result"
    }
   ],
   "source": [
    "df_Licores.columns"
   ]
  },
  {
   "cell_type": "code",
   "execution_count": 33,
   "metadata": {},
   "outputs": [
    {
     "data": {
      "text/plain": [
       "309"
      ]
     },
     "execution_count": 33,
     "metadata": {},
     "output_type": "execute_result"
    }
   ],
   "source": [
    "len(df_Licores['NIT'].unique())"
   ]
  },
  {
   "cell_type": "code",
   "execution_count": 34,
   "metadata": {},
   "outputs": [],
   "source": [
    "reduced_Dian_Lic = reduced_Dian[reduced_Dian['Actividad_Economica'] == 'Licor']"
   ]
  },
  {
   "cell_type": "code",
   "execution_count": 35,
   "metadata": {},
   "outputs": [],
   "source": [
    "Dian_Lic = pd.merge(df_Licores, reduced_Dian_Lic, how = 'outer', left_on ='NIT', right_on = 'Número Nit' )\n"
   ]
  },
  {
   "cell_type": "code",
   "execution_count": 36,
   "metadata": {
    "scrolled": true
   },
   "outputs": [
    {
     "data": {
      "text/plain": [
       "Index(['año', 'CODIGO', 'ORIGEN', 'NOMB_PRO', 'TIPO_PRODCUTO', 'NIT', 'CLASE',\n",
       "       'TIPO', 'UNIDADES', 'PRESENTACION', 'GRADOS', 'IMPUESTO_DECLARADO',\n",
       "       'IMPUESTO_PARTICIPACION', 'UNIDADES_CAPACIDAD', 'IMPUESTO_REENVIADO',\n",
       "       'UNIDADES_REENVIOS_CAPACIDAD', 'UNIDAD_CONVERTIDAS',\n",
       "       'SOBRETASA_DECLARADA', 'UNIDADES_REENVIOS_CONVERTIDAS',\n",
       "       'SOBRETASA_REENVIADA', ' CODI_DANE ', 'Actividad_Economica',\n",
       "       'Año Gravable', 'Número Nit', 'Código Departamento', 'Código Municipio',\n",
       "       'Código Actividad Económica Principal', 'Total Ingresos Netos (459)',\n",
       "       'RGA IMAS T-Total ingresos netos (748)'],\n",
       "      dtype='object')"
      ]
     },
     "execution_count": 36,
     "metadata": {},
     "output_type": "execute_result"
    }
   ],
   "source": [
    "#Dian3 = Dian_Lic2.loc[Dian_Lic2['Actividad_Economica'].isin(['Loterias', 'Licores', 'Deporte'])]\n",
    "#Dian_Lic2[Dian_Lic2['Actividad_Economica'] == 'Licores']]]\n",
    "\n",
    "Dian_Lic.columns"
   ]
  },
  {
   "cell_type": "code",
   "execution_count": 37,
   "metadata": {
    "scrolled": true
   },
   "outputs": [
    {
     "data": {
      "text/html": [
       "<div>\n",
       "<style scoped>\n",
       "    .dataframe tbody tr th:only-of-type {\n",
       "        vertical-align: middle;\n",
       "    }\n",
       "\n",
       "    .dataframe tbody tr th {\n",
       "        vertical-align: top;\n",
       "    }\n",
       "\n",
       "    .dataframe thead th {\n",
       "        text-align: right;\n",
       "    }\n",
       "</style>\n",
       "<table border=\"1\" class=\"dataframe\">\n",
       "  <thead>\n",
       "    <tr style=\"text-align: right;\">\n",
       "      <th></th>\n",
       "      <th></th>\n",
       "      <th>Número Nit</th>\n",
       "    </tr>\n",
       "    <tr>\n",
       "      <th>Actividad_Economica</th>\n",
       "      <th>Código Actividad Económica Principal</th>\n",
       "      <th></th>\n",
       "    </tr>\n",
       "  </thead>\n",
       "  <tbody>\n",
       "    <tr>\n",
       "      <th rowspan=\"14\" valign=\"top\">Licor</th>\n",
       "      <th>1101.0</th>\n",
       "      <td>32</td>\n",
       "    </tr>\n",
       "    <tr>\n",
       "      <th>1102.0</th>\n",
       "      <td>20</td>\n",
       "    </tr>\n",
       "    <tr>\n",
       "      <th>1103.0</th>\n",
       "      <td>12</td>\n",
       "    </tr>\n",
       "    <tr>\n",
       "      <th>1200.0</th>\n",
       "      <td>6</td>\n",
       "    </tr>\n",
       "    <tr>\n",
       "      <th>4631.0</th>\n",
       "      <td>1672</td>\n",
       "    </tr>\n",
       "    <tr>\n",
       "      <th>4632.0</th>\n",
       "      <td>200</td>\n",
       "    </tr>\n",
       "    <tr>\n",
       "      <th>4711.0</th>\n",
       "      <td>2446</td>\n",
       "    </tr>\n",
       "    <tr>\n",
       "      <th>4724.0</th>\n",
       "      <td>369</td>\n",
       "    </tr>\n",
       "    <tr>\n",
       "      <th>5611.0</th>\n",
       "      <td>3445</td>\n",
       "    </tr>\n",
       "    <tr>\n",
       "      <th>5612.0</th>\n",
       "      <td>300</td>\n",
       "    </tr>\n",
       "    <tr>\n",
       "      <th>5619.0</th>\n",
       "      <td>815</td>\n",
       "    </tr>\n",
       "    <tr>\n",
       "      <th>5621.0</th>\n",
       "      <td>320</td>\n",
       "    </tr>\n",
       "    <tr>\n",
       "      <th>5629.0</th>\n",
       "      <td>193</td>\n",
       "    </tr>\n",
       "    <tr>\n",
       "      <th>5630.0</th>\n",
       "      <td>642</td>\n",
       "    </tr>\n",
       "  </tbody>\n",
       "</table>\n",
       "</div>"
      ],
      "text/plain": [
       "                                                          Número Nit\n",
       "Actividad_Economica Código Actividad Económica Principal            \n",
       "Licor               1101.0                                        32\n",
       "                    1102.0                                        20\n",
       "                    1103.0                                        12\n",
       "                    1200.0                                         6\n",
       "                    4631.0                                      1672\n",
       "                    4632.0                                       200\n",
       "                    4711.0                                      2446\n",
       "                    4724.0                                       369\n",
       "                    5611.0                                      3445\n",
       "                    5612.0                                       300\n",
       "                    5619.0                                       815\n",
       "                    5621.0                                       320\n",
       "                    5629.0                                       193\n",
       "                    5630.0                                       642"
      ]
     },
     "execution_count": 37,
     "metadata": {},
     "output_type": "execute_result"
    }
   ],
   "source": [
    "Dian_Lic[['Actividad_Economica', 'Código Actividad Económica Principal', 'Número Nit']].groupby(['Actividad_Economica', 'Código Actividad Económica Principal']).count()"
   ]
  },
  {
   "cell_type": "code",
   "execution_count": 38,
   "metadata": {},
   "outputs": [
    {
     "data": {
      "text/html": [
       "<div>\n",
       "<style scoped>\n",
       "    .dataframe tbody tr th:only-of-type {\n",
       "        vertical-align: middle;\n",
       "    }\n",
       "\n",
       "    .dataframe tbody tr th {\n",
       "        vertical-align: top;\n",
       "    }\n",
       "\n",
       "    .dataframe thead th {\n",
       "        text-align: right;\n",
       "    }\n",
       "</style>\n",
       "<table border=\"1\" class=\"dataframe\">\n",
       "  <thead>\n",
       "    <tr style=\"text-align: right;\">\n",
       "      <th></th>\n",
       "      <th>año</th>\n",
       "      <th>Número Nit</th>\n",
       "    </tr>\n",
       "  </thead>\n",
       "  <tbody>\n",
       "    <tr>\n",
       "      <th>0</th>\n",
       "      <td>2015.0</td>\n",
       "      <td>0</td>\n",
       "    </tr>\n",
       "    <tr>\n",
       "      <th>1</th>\n",
       "      <td>2016.0</td>\n",
       "      <td>0</td>\n",
       "    </tr>\n",
       "    <tr>\n",
       "      <th>2</th>\n",
       "      <td>2017.0</td>\n",
       "      <td>0</td>\n",
       "    </tr>\n",
       "    <tr>\n",
       "      <th>3</th>\n",
       "      <td>2018.0</td>\n",
       "      <td>0</td>\n",
       "    </tr>\n",
       "    <tr>\n",
       "      <th>4</th>\n",
       "      <td>2019.0</td>\n",
       "      <td>16</td>\n",
       "    </tr>\n",
       "  </tbody>\n",
       "</table>\n",
       "</div>"
      ],
      "text/plain": [
       "      año  Número Nit\n",
       "0  2015.0           0\n",
       "1  2016.0           0\n",
       "2  2017.0           0\n",
       "3  2018.0           0\n",
       "4  2019.0          16"
      ]
     },
     "execution_count": 38,
     "metadata": {},
     "output_type": "execute_result"
    }
   ],
   "source": [
    "pd.set_option(\"display.max_rows\", 999)\n",
    "#Dian_Lic[['Actividad_Economica', 'Código Actividad Económica Principal', 'Número Nit']].groupby(['Actividad_Economica', 'Código Actividad Económica Principal']).count()\n",
    "Dian_Lic[['año', 'Número Nit']].groupby(['año']).count().reset_index()"
   ]
  },
  {
   "cell_type": "code",
   "execution_count": 39,
   "metadata": {},
   "outputs": [
    {
     "data": {
      "text/plain": [
       "1"
      ]
     },
     "execution_count": 39,
     "metadata": {},
     "output_type": "execute_result"
    }
   ],
   "source": [
    "Dian_Lic.loc[Dian_Lic['NIT'] == Dian_Lic['Número Nit'], 'NoOmiso'] = 1\n",
    "len(Dian_Lic[Dian_Lic['NoOmiso'] == 1]['Número Nit'].unique())"
   ]
  },
  {
   "cell_type": "code",
   "execution_count": 40,
   "metadata": {
    "scrolled": false
   },
   "outputs": [
    {
     "data": {
      "text/plain": [
       "16"
      ]
     },
     "execution_count": 40,
     "metadata": {},
     "output_type": "execute_result"
    }
   ],
   "source": [
    "len(Dian_Lic[Dian_Lic['NoOmiso'] ==1])"
   ]
  },
  {
   "cell_type": "code",
   "execution_count": 41,
   "metadata": {},
   "outputs": [],
   "source": [
    "Dian_Lic['NoOmiso'] = Dian_Lic['NoOmiso'].fillna(0)"
   ]
  },
  {
   "cell_type": "code",
   "execution_count": 42,
   "metadata": {},
   "outputs": [
    {
     "data": {
      "text/plain": [
       "5694"
      ]
     },
     "execution_count": 42,
     "metadata": {},
     "output_type": "execute_result"
    }
   ],
   "source": [
    "len(Dian_Lic[Dian_Lic['NoOmiso'] == 0]['Número Nit'].unique())"
   ]
  },
  {
   "cell_type": "code",
   "execution_count": 43,
   "metadata": {},
   "outputs": [],
   "source": [
    "Dian_Licores = Dian_Lic"
   ]
  },
  {
   "cell_type": "code",
   "execution_count": 44,
   "metadata": {},
   "outputs": [
    {
     "name": "stdout",
     "output_type": "stream",
     "text": [
      "Numero de No Omisos:  167\n",
      "Numero de Omisos:  4330\n",
      "Porcentaje de No Omisos:  0.03735182285842094\n"
     ]
    }
   ],
   "source": [
    "#Unificado Municipios y Dian todas las actividades Economicas\n",
    "print('Numero de No Omisos: ', len(Mun_Dian[Mun_Dian['NoOmiso'] == 1]['NIT'].unique()))\n",
    "print('Numero de Omisos: ', len(Mun_Dian[Mun_Dian['NoOmiso']==0]['NIT'].unique()))\n",
    "print('Porcentaje de No Omisos: ', len(Mun_Dian[Mun_Dian['NoOmiso'] == 1]['NIT'].unique())/len(Mun_Dian['NIT'].unique()))"
   ]
  },
  {
   "cell_type": "code",
   "execution_count": 45,
   "metadata": {},
   "outputs": [
    {
     "name": "stdout",
     "output_type": "stream",
     "text": [
      "Numero de No Omisos:  1\n",
      "Numero de Omisos:  5694\n",
      "Porcentaje de No Omisos:  0.0\n"
     ]
    }
   ],
   "source": [
    "#Licores y Dian todas las actividades Economicas\n",
    "print('Numero de No Omisos: ',len(Dian_Licores[Dian_Licores['NoOmiso'] == 1]['Número Nit'].unique()))\n",
    "print('Numero de Omisos: ', len(Dian_Licores[Dian_Licores['NoOmiso']==0]['Número Nit'].unique()))\n",
    "print('Porcentaje de No Omisos: ', len(Dian_Licores[Dian_Licores['Número Nit'] == 1]['Número Nit'].unique())/len(Dian_Licores['Número Nit'].unique()))"
   ]
  },
  {
   "cell_type": "code",
   "execution_count": 46,
   "metadata": {
    "scrolled": true
   },
   "outputs": [
    {
     "data": {
      "text/html": [
       "<div>\n",
       "<style scoped>\n",
       "    .dataframe tbody tr th:only-of-type {\n",
       "        vertical-align: middle;\n",
       "    }\n",
       "\n",
       "    .dataframe tbody tr th {\n",
       "        vertical-align: top;\n",
       "    }\n",
       "\n",
       "    .dataframe thead th {\n",
       "        text-align: right;\n",
       "    }\n",
       "</style>\n",
       "<table border=\"1\" class=\"dataframe\">\n",
       "  <thead>\n",
       "    <tr style=\"text-align: right;\">\n",
       "      <th></th>\n",
       "      <th>Número Nit</th>\n",
       "    </tr>\n",
       "    <tr>\n",
       "      <th>Actividad_Economica</th>\n",
       "      <th></th>\n",
       "    </tr>\n",
       "  </thead>\n",
       "  <tbody>\n",
       "    <tr>\n",
       "      <th>Licor</th>\n",
       "      <td>16</td>\n",
       "    </tr>\n",
       "  </tbody>\n",
       "</table>\n",
       "</div>"
      ],
      "text/plain": [
       "                     Número Nit\n",
       "Actividad_Economica            \n",
       "Licor                        16"
      ]
     },
     "execution_count": 46,
     "metadata": {},
     "output_type": "execute_result"
    }
   ],
   "source": [
    "#No Omisos por actividad \n",
    "Dian_Licores[Dian_Licores['NoOmiso'] == 1][['Actividad_Economica', 'Número Nit']].groupby(['Actividad_Economica']).count()"
   ]
  },
  {
   "cell_type": "code",
   "execution_count": null,
   "metadata": {},
   "outputs": [],
   "source": []
  },
  {
   "cell_type": "code",
   "execution_count": 47,
   "metadata": {},
   "outputs": [],
   "source": [
    "Dian_Licores.to_csv('Merge_Dian_Licores.csv', index=False)"
   ]
  },
  {
   "cell_type": "code",
   "execution_count": 48,
   "metadata": {},
   "outputs": [],
   "source": [
    "#Contribucion al deporte\n",
    "df_contribucionAM = pd.read_excel(r\"contribucion  A M.xlsx\")\n",
    "df_Contrib_deporte = df_contribucionAM.dropna(how=\"all\",axis=1)\n",
    "#lOTERIAS\n",
    "df_loterias_A_M = pd.read_excel(r\"loterias  A M.xlsx\")\n",
    "df_Loterias = df_loterias_A_M.dropna(how=\"all\",axis=1)"
   ]
  },
  {
   "cell_type": "code",
   "execution_count": 49,
   "metadata": {
    "scrolled": true
   },
   "outputs": [
    {
     "data": {
      "text/plain": [
       "Index(['NIT', 'NUMERO', 'DESCRIPCION', 'TOTAL', 'FCHA_RCDO', 'CNSCTVO_BNCO',\n",
       "       'BANCO', 'ESTADO', 'SUCURSAL', 'PRDO_GRVBLE_ANO', 'PRDO_GRVBLE_MES',\n",
       "       'CDGO_DPRTMNTO', 'DSCRPCN_DPRTMNTO', 'CDGO_MNCPO', 'DSCRPCN_MNCPO',\n",
       "       'DRCCN', 'PRMR_APLLDO_USRO', 'DSCRPCN_IMPSTO', 'ORDEN'],\n",
       "      dtype='object')"
      ]
     },
     "execution_count": 49,
     "metadata": {},
     "output_type": "execute_result"
    }
   ],
   "source": [
    "df_Contrib_deporte.columns"
   ]
  },
  {
   "cell_type": "code",
   "execution_count": 50,
   "metadata": {
    "scrolled": true
   },
   "outputs": [
    {
     "data": {
      "text/plain": [
       "407"
      ]
     },
     "execution_count": 50,
     "metadata": {},
     "output_type": "execute_result"
    }
   ],
   "source": [
    "len(df_Contrib_deporte['NIT'].unique())"
   ]
  },
  {
   "cell_type": "code",
   "execution_count": 51,
   "metadata": {},
   "outputs": [],
   "source": [
    "reduced_Dian_Dep = reduced_Dian[reduced_Dian['Actividad_Economica'] == 'Deporte']"
   ]
  },
  {
   "cell_type": "code",
   "execution_count": 52,
   "metadata": {},
   "outputs": [
    {
     "data": {
      "text/html": [
       "<div>\n",
       "<style scoped>\n",
       "    .dataframe tbody tr th:only-of-type {\n",
       "        vertical-align: middle;\n",
       "    }\n",
       "\n",
       "    .dataframe tbody tr th {\n",
       "        vertical-align: top;\n",
       "    }\n",
       "\n",
       "    .dataframe thead th {\n",
       "        text-align: right;\n",
       "    }\n",
       "</style>\n",
       "<table border=\"1\" class=\"dataframe\">\n",
       "  <thead>\n",
       "    <tr style=\"text-align: right;\">\n",
       "      <th></th>\n",
       "      <th>Actividad_Economica</th>\n",
       "      <th>Año Gravable</th>\n",
       "      <th>NIT</th>\n",
       "    </tr>\n",
       "  </thead>\n",
       "  <tbody>\n",
       "    <tr>\n",
       "      <th>0</th>\n",
       "      <td>Deporte</td>\n",
       "      <td>2016.0</td>\n",
       "      <td>4174</td>\n",
       "    </tr>\n",
       "    <tr>\n",
       "      <th>1</th>\n",
       "      <td>Deporte</td>\n",
       "      <td>2017.0</td>\n",
       "      <td>2687</td>\n",
       "    </tr>\n",
       "    <tr>\n",
       "      <th>2</th>\n",
       "      <td>Deporte</td>\n",
       "      <td>2018.0</td>\n",
       "      <td>2541</td>\n",
       "    </tr>\n",
       "    <tr>\n",
       "      <th>3</th>\n",
       "      <td>Deporte</td>\n",
       "      <td>2019.0</td>\n",
       "      <td>1781</td>\n",
       "    </tr>\n",
       "  </tbody>\n",
       "</table>\n",
       "</div>"
      ],
      "text/plain": [
       "  Actividad_Economica  Año Gravable   NIT\n",
       "0             Deporte        2016.0  4174\n",
       "1             Deporte        2017.0  2687\n",
       "2             Deporte        2018.0  2541\n",
       "3             Deporte        2019.0  1781"
      ]
     },
     "execution_count": 52,
     "metadata": {},
     "output_type": "execute_result"
    }
   ],
   "source": [
    "Dian_Deportes = pd.merge(df_Contrib_deporte, reduced_Dian_Dep, how = 'outer', left_on ='NIT', right_on = 'Número Nit' )\n",
    "Dian_Deportes[['Año Gravable', 'Actividad_Economica', 'NIT']].groupby(['Actividad_Economica', 'Año Gravable']).count().reset_index()"
   ]
  },
  {
   "cell_type": "code",
   "execution_count": 53,
   "metadata": {},
   "outputs": [
    {
     "data": {
      "text/plain": [
       "65"
      ]
     },
     "execution_count": 53,
     "metadata": {},
     "output_type": "execute_result"
    }
   ],
   "source": [
    "Dian_Deportes.loc[Dian_Deportes['NIT'] == Dian_Deportes['Número Nit'], 'NoOmiso'] = 1\n",
    "len(Dian_Deportes[Dian_Deportes['NoOmiso'] == 1]['Número Nit'].unique())"
   ]
  },
  {
   "cell_type": "code",
   "execution_count": 54,
   "metadata": {},
   "outputs": [],
   "source": [
    "Dian_Deportes['NoOmiso'] = Dian_Deportes['NoOmiso'].fillna(0)"
   ]
  },
  {
   "cell_type": "code",
   "execution_count": 55,
   "metadata": {},
   "outputs": [
    {
     "data": {
      "text/plain": [
       "150"
      ]
     },
     "execution_count": 55,
     "metadata": {},
     "output_type": "execute_result"
    }
   ],
   "source": [
    "len(Dian_Deportes[Dian_Deportes['NoOmiso'] == 0]['Número Nit'].unique())"
   ]
  },
  {
   "cell_type": "code",
   "execution_count": 56,
   "metadata": {},
   "outputs": [
    {
     "name": "stdout",
     "output_type": "stream",
     "text": [
      "Numero de No Omisos:  65\n",
      "Numero de Omisos:  150\n",
      "Porcentaje de No Omisos:  0.3023255813953488\n"
     ]
    }
   ],
   "source": [
    "#Licores y Dian todas las actividades Economicas\n",
    "print('Numero de No Omisos: ',len(Dian_Deportes[Dian_Deportes['NoOmiso'] == 1]['Número Nit'].unique()))\n",
    "print('Numero de Omisos: ', len(Dian_Deportes[Dian_Deportes['NoOmiso']==0]['Número Nit'].unique()))\n",
    "print('Porcentaje de No Omisos: ', len(Dian_Deportes[Dian_Deportes['NoOmiso'] == 1]['Número Nit'].unique())/len(Dian_Deportes['Número Nit'].unique()))"
   ]
  },
  {
   "cell_type": "code",
   "execution_count": 57,
   "metadata": {},
   "outputs": [],
   "source": [
    "Dian_Deportes.to_csv('Merge_Dian_Deportes.csv', index=False)"
   ]
  },
  {
   "cell_type": "code",
   "execution_count": 58,
   "metadata": {
    "scrolled": true
   },
   "outputs": [
    {
     "data": {
      "text/plain": [
       "Index(['NIT', 'NUMERO', 'DESCRIPCION', 'TOTAL', 'ESTADO', 'PRDO_GRVBLE_ANO',\n",
       "       'PRDO_GRVBLE_MES', 'CDGO_DPRTMNTO', 'DSCRPCN_DPRTMNTO', 'CDGO_MNCPO',\n",
       "       'DSCRPCN_MNCPO', 'DRCCN', 'PRMR_NMBR_USRO', 'DSCRPCN_IMPSTO', 'ORDEN'],\n",
       "      dtype='object')"
      ]
     },
     "execution_count": 58,
     "metadata": {},
     "output_type": "execute_result"
    }
   ],
   "source": [
    "df_Loterias.columns"
   ]
  },
  {
   "cell_type": "code",
   "execution_count": 59,
   "metadata": {},
   "outputs": [
    {
     "data": {
      "text/plain": [
       "5"
      ]
     },
     "execution_count": 59,
     "metadata": {},
     "output_type": "execute_result"
    }
   ],
   "source": [
    "len(df_Loterias['NIT'].unique())"
   ]
  },
  {
   "cell_type": "code",
   "execution_count": 60,
   "metadata": {
    "scrolled": true
   },
   "outputs": [
    {
     "data": {
      "text/html": [
       "<div>\n",
       "<style scoped>\n",
       "    .dataframe tbody tr th:only-of-type {\n",
       "        vertical-align: middle;\n",
       "    }\n",
       "\n",
       "    .dataframe tbody tr th {\n",
       "        vertical-align: top;\n",
       "    }\n",
       "\n",
       "    .dataframe thead th {\n",
       "        text-align: right;\n",
       "    }\n",
       "</style>\n",
       "<table border=\"1\" class=\"dataframe\">\n",
       "  <thead>\n",
       "    <tr style=\"text-align: right;\">\n",
       "      <th></th>\n",
       "      <th>Actividad_Economica</th>\n",
       "      <th>Año Gravable</th>\n",
       "      <th>NIT</th>\n",
       "    </tr>\n",
       "  </thead>\n",
       "  <tbody>\n",
       "    <tr>\n",
       "      <th>0</th>\n",
       "      <td>Deporte</td>\n",
       "      <td>2016.0</td>\n",
       "      <td>0</td>\n",
       "    </tr>\n",
       "    <tr>\n",
       "      <th>1</th>\n",
       "      <td>Deporte</td>\n",
       "      <td>2017.0</td>\n",
       "      <td>0</td>\n",
       "    </tr>\n",
       "    <tr>\n",
       "      <th>2</th>\n",
       "      <td>Deporte</td>\n",
       "      <td>2018.0</td>\n",
       "      <td>0</td>\n",
       "    </tr>\n",
       "    <tr>\n",
       "      <th>3</th>\n",
       "      <td>Deporte</td>\n",
       "      <td>2019.0</td>\n",
       "      <td>0</td>\n",
       "    </tr>\n",
       "    <tr>\n",
       "      <th>4</th>\n",
       "      <td>Licor</td>\n",
       "      <td>2016.0</td>\n",
       "      <td>0</td>\n",
       "    </tr>\n",
       "    <tr>\n",
       "      <th>5</th>\n",
       "      <td>Licor</td>\n",
       "      <td>2017.0</td>\n",
       "      <td>0</td>\n",
       "    </tr>\n",
       "    <tr>\n",
       "      <th>6</th>\n",
       "      <td>Licor</td>\n",
       "      <td>2018.0</td>\n",
       "      <td>0</td>\n",
       "    </tr>\n",
       "    <tr>\n",
       "      <th>7</th>\n",
       "      <td>Licor</td>\n",
       "      <td>2019.0</td>\n",
       "      <td>0</td>\n",
       "    </tr>\n",
       "    <tr>\n",
       "      <th>8</th>\n",
       "      <td>Licor</td>\n",
       "      <td>2020.0</td>\n",
       "      <td>0</td>\n",
       "    </tr>\n",
       "    <tr>\n",
       "      <th>9</th>\n",
       "      <td>Loterias</td>\n",
       "      <td>2016.0</td>\n",
       "      <td>0</td>\n",
       "    </tr>\n",
       "    <tr>\n",
       "      <th>10</th>\n",
       "      <td>Loterias</td>\n",
       "      <td>2017.0</td>\n",
       "      <td>0</td>\n",
       "    </tr>\n",
       "    <tr>\n",
       "      <th>11</th>\n",
       "      <td>Loterias</td>\n",
       "      <td>2018.0</td>\n",
       "      <td>0</td>\n",
       "    </tr>\n",
       "    <tr>\n",
       "      <th>12</th>\n",
       "      <td>Loterias</td>\n",
       "      <td>2019.0</td>\n",
       "      <td>0</td>\n",
       "    </tr>\n",
       "  </tbody>\n",
       "</table>\n",
       "</div>"
      ],
      "text/plain": [
       "   Actividad_Economica  Año Gravable  NIT\n",
       "0              Deporte        2016.0    0\n",
       "1              Deporte        2017.0    0\n",
       "2              Deporte        2018.0    0\n",
       "3              Deporte        2019.0    0\n",
       "4                Licor        2016.0    0\n",
       "5                Licor        2017.0    0\n",
       "6                Licor        2018.0    0\n",
       "7                Licor        2019.0    0\n",
       "8                Licor        2020.0    0\n",
       "9             Loterias        2016.0    0\n",
       "10            Loterias        2017.0    0\n",
       "11            Loterias        2018.0    0\n",
       "12            Loterias        2019.0    0"
      ]
     },
     "execution_count": 60,
     "metadata": {},
     "output_type": "execute_result"
    }
   ],
   "source": [
    "Dian_Loterias = pd.merge(df_Loterias, reduced_Dian, how = 'outer', left_on ='NIT', right_on = 'Número Nit' )\n",
    "Dian_Loterias[['Año Gravable', 'Actividad_Economica', 'NIT']].groupby(['Actividad_Economica', 'Año Gravable']).count().reset_index()"
   ]
  },
  {
   "cell_type": "code",
   "execution_count": 61,
   "metadata": {},
   "outputs": [],
   "source": [
    "Dian_Loterias.loc[Dian_Loterias['NIT'] == Dian_Loterias['Número Nit'], 'NoOmiso'] = 1"
   ]
  },
  {
   "cell_type": "code",
   "execution_count": 62,
   "metadata": {
    "scrolled": true
   },
   "outputs": [
    {
     "data": {
      "text/plain": [
       "0"
      ]
     },
     "execution_count": 62,
     "metadata": {},
     "output_type": "execute_result"
    }
   ],
   "source": [
    "len(Dian_Loterias[Dian_Loterias['NoOmiso'] == 1]['Número Nit'].unique())"
   ]
  },
  {
   "cell_type": "code",
   "execution_count": null,
   "metadata": {},
   "outputs": [],
   "source": []
  },
  {
   "cell_type": "code",
   "execution_count": null,
   "metadata": {},
   "outputs": [],
   "source": []
  },
  {
   "cell_type": "code",
   "execution_count": 63,
   "metadata": {},
   "outputs": [],
   "source": [
    "Municipios_Deportes = pd.merge(df_Contrib_deporte,reduced_Municipios, how = 'inner', left_on ='NIT', right_on = 'NIT' )"
   ]
  },
  {
   "cell_type": "code",
   "execution_count": 64,
   "metadata": {},
   "outputs": [
    {
     "data": {
      "text/plain": [
       "array(['Deporte', 'Licor'], dtype=object)"
      ]
     },
     "execution_count": 64,
     "metadata": {},
     "output_type": "execute_result"
    }
   ],
   "source": [
    "Municipios_Deportes['Actividad_Economica'].unique()"
   ]
  },
  {
   "cell_type": "code",
   "execution_count": 65,
   "metadata": {},
   "outputs": [
    {
     "data": {
      "text/plain": [
       "407"
      ]
     },
     "execution_count": 65,
     "metadata": {},
     "output_type": "execute_result"
    }
   ],
   "source": [
    "len(df_Contrib_deporte['NIT'].unique())"
   ]
  },
  {
   "cell_type": "code",
   "execution_count": 66,
   "metadata": {},
   "outputs": [
    {
     "data": {
      "text/plain": [
       "139"
      ]
     },
     "execution_count": 66,
     "metadata": {},
     "output_type": "execute_result"
    }
   ],
   "source": [
    "len(Municipios_Deportes['NIT'].unique())"
   ]
  },
  {
   "cell_type": "code",
   "execution_count": 67,
   "metadata": {},
   "outputs": [
    {
     "data": {
      "text/plain": [
       "309"
      ]
     },
     "execution_count": 67,
     "metadata": {},
     "output_type": "execute_result"
    }
   ],
   "source": [
    "len(df_Licores['NIT'].unique())"
   ]
  },
  {
   "cell_type": "code",
   "execution_count": 68,
   "metadata": {},
   "outputs": [],
   "source": [
    "Municipios_Licores = pd.merge(df_Licores, reduced_Municipios, how = 'inner', left_on ='NIT', right_on = 'NIT' )"
   ]
  },
  {
   "cell_type": "code",
   "execution_count": 69,
   "metadata": {
    "scrolled": true
   },
   "outputs": [
    {
     "data": {
      "text/plain": [
       "7"
      ]
     },
     "execution_count": 69,
     "metadata": {},
     "output_type": "execute_result"
    }
   ],
   "source": [
    "len(Municipios_Licores['NIT'].unique())"
   ]
  },
  {
   "cell_type": "code",
   "execution_count": 70,
   "metadata": {},
   "outputs": [
    {
     "data": {
      "text/plain": [
       "5"
      ]
     },
     "execution_count": 70,
     "metadata": {},
     "output_type": "execute_result"
    }
   ],
   "source": [
    "len(df_Loterias['NIT'].unique())"
   ]
  },
  {
   "cell_type": "code",
   "execution_count": 71,
   "metadata": {},
   "outputs": [],
   "source": [
    "Municipios_Loterias= pd.merge(df_Loterias, reduced_Municipios, how = 'inner', left_on ='NIT', right_on = 'NIT' )"
   ]
  },
  {
   "cell_type": "code",
   "execution_count": 72,
   "metadata": {},
   "outputs": [
    {
     "data": {
      "text/plain": [
       "0"
      ]
     },
     "execution_count": 72,
     "metadata": {},
     "output_type": "execute_result"
    }
   ],
   "source": [
    "len(Municipios_Loterias['NIT'].unique())"
   ]
  },
  {
   "cell_type": "code",
   "execution_count": null,
   "metadata": {},
   "outputs": [],
   "source": []
  }
 ],
 "metadata": {
  "kernelspec": {
   "display_name": "Python 3",
   "language": "python",
   "name": "python3"
  },
  "language_info": {
   "codemirror_mode": {
    "name": "ipython",
    "version": 3
   },
   "file_extension": ".py",
   "mimetype": "text/x-python",
   "name": "python",
   "nbconvert_exporter": "python",
   "pygments_lexer": "ipython3",
   "version": "3.7.3"
  }
 },
 "nbformat": 4,
 "nbformat_minor": 4
}
